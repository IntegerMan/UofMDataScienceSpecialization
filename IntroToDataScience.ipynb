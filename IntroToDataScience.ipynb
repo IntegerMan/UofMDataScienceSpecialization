{
 "cells": [
  {
   "cell_type": "code",
   "execution_count": null,
   "outputs": [],
   "source": [
    "!pip install pandas"
   ],
   "metadata": {
    "collapsed": false,
    "pycharm": {
     "name": "#%%\n"
    }
   }
  },
  {
   "cell_type": "markdown",
   "source": [
    "# Intro to Data Science"
   ],
   "metadata": {
    "collapsed": false
   }
  },
  {
   "cell_type": "markdown",
   "source": [
    "## Series Data"
   ],
   "metadata": {
    "collapsed": false,
    "pycharm": {
     "name": "#%% md\n"
    }
   }
  },
  {
   "cell_type": "code",
   "execution_count": 2,
   "metadata": {
    "collapsed": true
   },
   "outputs": [
    {
     "name": "stdout",
     "output_type": "stream",
     "text": [
      "Collecting pandas\n",
      "  Downloading pandas-1.3.0-cp39-cp39-win_amd64.whl (10.2 MB)\n",
      "Requirement already satisfied: python-dateutil>=2.7.3 in m:\\dev\\envs\\experiments\\lib\\site-packages (from pandas) (2.8.1)\n",
      "Collecting pytz>=2017.3\n",
      "  Downloading pytz-2021.1-py2.py3-none-any.whl (510 kB)\n",
      "Requirement already satisfied: numpy>=1.17.3 in m:\\dev\\envs\\experiments\\lib\\site-packages (from pandas) (1.21.0)\n",
      "Requirement already satisfied: six>=1.5 in m:\\dev\\envs\\experiments\\lib\\site-packages (from python-dateutil>=2.7.3->pandas) (1.16.0)\n",
      "Installing collected packages: pytz, pandas\n",
      "Successfully installed pandas-1.3.0 pytz-2021.1\n"
     ]
    },
    {
     "data": {
      "text/plain": "0    Alice\n1     Jack\n2    Molly\ndtype: object"
     },
     "execution_count": 2,
     "metadata": {},
     "output_type": "execute_result"
    }
   ],
   "source": [
    "import pandas as pd\n",
    "\n",
    "students = ['Alice', 'Jack', 'Molly']\n",
    "\n",
    "pd.Series(students) #dtype: object"
   ]
  },
  {
   "cell_type": "code",
   "execution_count": 3,
   "outputs": [
    {
     "data": {
      "text/plain": "0    1\n1    2\n2    3\ndtype: int64"
     },
     "execution_count": 3,
     "metadata": {},
     "output_type": "execute_result"
    }
   ],
   "source": [
    "numbers = [1,2,3]\n",
    "pd.Series(numbers) #dtype: int64"
   ],
   "metadata": {
    "collapsed": false,
    "pycharm": {
     "name": "#%%\n"
    }
   }
  },
  {
   "cell_type": "code",
   "execution_count": 4,
   "outputs": [
    {
     "data": {
      "text/plain": "0    Alice\n1     Jack\n2     None\ndtype: object"
     },
     "execution_count": 4,
     "metadata": {},
     "output_type": "execute_result"
    }
   ],
   "source": [
    "students = ['Alice', 'Jack', None]\n",
    "\n",
    "pd.Series(students) #dtype: object"
   ],
   "metadata": {
    "collapsed": false,
    "pycharm": {
     "name": "#%%\n"
    }
   }
  },
  {
   "cell_type": "code",
   "execution_count": 5,
   "outputs": [
    {
     "data": {
      "text/plain": "0    1.0\n1    2.0\n2    NaN\ndtype: float64"
     },
     "execution_count": 5,
     "metadata": {},
     "output_type": "execute_result"
    }
   ],
   "source": [
    "numbers = [1, 2, None]\n",
    "\n",
    "pd.Series(numbers) #dtype: float64, 2 is a NaN not a None"
   ],
   "metadata": {
    "collapsed": false,
    "pycharm": {
     "name": "#%%\n"
    }
   }
  },
  {
   "cell_type": "code",
   "execution_count": 6,
   "outputs": [
    {
     "data": {
      "text/plain": "False"
     },
     "execution_count": 6,
     "metadata": {},
     "output_type": "execute_result"
    }
   ],
   "source": [
    "import numpy as np\n",
    "\n",
    "np.nan == None"
   ],
   "metadata": {
    "collapsed": false,
    "pycharm": {
     "name": "#%%\n"
    }
   }
  },
  {
   "cell_type": "code",
   "execution_count": 7,
   "outputs": [
    {
     "data": {
      "text/plain": "False"
     },
     "execution_count": 7,
     "metadata": {},
     "output_type": "execute_result"
    }
   ],
   "source": [
    "np.nan == np.nan"
   ],
   "metadata": {
    "collapsed": false,
    "pycharm": {
     "name": "#%%\n"
    }
   }
  },
  {
   "cell_type": "code",
   "execution_count": 8,
   "outputs": [
    {
     "data": {
      "text/plain": "True"
     },
     "execution_count": 8,
     "metadata": {},
     "output_type": "execute_result"
    }
   ],
   "source": [
    "np.isnan(np.nan)"
   ],
   "metadata": {
    "collapsed": false,
    "pycharm": {
     "name": "#%%\n"
    }
   }
  },
  {
   "cell_type": "code",
   "execution_count": 12,
   "outputs": [
    {
     "data": {
      "text/plain": "Alice    4.0\nJack     3.7\nMolly    2.5\ndtype: float64"
     },
     "execution_count": 12,
     "metadata": {},
     "output_type": "execute_result"
    }
   ],
   "source": [
    "gpas = {'Alice': 4.0,\n",
    "          'Jack': 3.7,\n",
    "          'Molly': 2.5}\n",
    "\n",
    "# Note that instead of 0, 1, 2 indexes we keep the keys\n",
    "gpaSeries = pd.Series(gpas)\n",
    "gpaSeries"
   ],
   "metadata": {
    "collapsed": false,
    "pycharm": {
     "name": "#%%\n"
    }
   }
  },
  {
   "cell_type": "code",
   "execution_count": 13,
   "outputs": [
    {
     "data": {
      "text/plain": "Index(['Alice', 'Jack', 'Molly'], dtype='object')"
     },
     "execution_count": 13,
     "metadata": {},
     "output_type": "execute_result"
    }
   ],
   "source": [
    "gpaSeries.index"
   ],
   "metadata": {
    "collapsed": false,
    "pycharm": {
     "name": "#%%\n"
    }
   }
  },
  {
   "cell_type": "code",
   "execution_count": 15,
   "outputs": [
    {
     "data": {
      "text/plain": "0    (Alice, Brown)\n1     (Jack, White)\n2    (Molly, Green)\ndtype: object"
     },
     "execution_count": 15,
     "metadata": {},
     "output_type": "execute_result"
    }
   ],
   "source": [
    "students = [(\"Alice\", \"Brown\"), (\"Jack\", \"White\"), (\"Molly\", \"Green\")]\n",
    "pd.Series(students)"
   ],
   "metadata": {
    "collapsed": false,
    "pycharm": {
     "name": "#%%\n"
    }
   }
  },
  {
   "cell_type": "code",
   "execution_count": 16,
   "outputs": [
    {
     "data": {
      "text/plain": "Alice      Physics\nJack     Chemistry\nMolly      English\ndtype: object"
     },
     "execution_count": 16,
     "metadata": {},
     "output_type": "execute_result"
    }
   ],
   "source": [
    "pd.Series(['Physics', 'Chemistry', 'English'], index=['Alice', 'Jack', 'Molly'])"
   ],
   "metadata": {
    "collapsed": false,
    "pycharm": {
     "name": "#%%\n"
    }
   }
  },
  {
   "cell_type": "code",
   "execution_count": 17,
   "outputs": [
    {
     "data": {
      "text/plain": "Alice    Physics\nMolly    English\nSam          NaN\ndtype: object"
     },
     "execution_count": 17,
     "metadata": {},
     "output_type": "execute_result"
    }
   ],
   "source": [
    "student_scores = {'Alice': 'Physics',\n",
    "                  'Jack': 'Chemistry',\n",
    "                  'Molly': 'English'}\n",
    "\n",
    "s = pd.Series(student_scores, index=['Alice', 'Molly', 'Sam'])\n",
    "s # Note, Jack is not present, but Sam is with NaN"
   ],
   "metadata": {
    "collapsed": false,
    "pycharm": {
     "name": "#%%\n"
    }
   }
  },
  {
   "cell_type": "code",
   "execution_count": 18,
   "outputs": [
    {
     "data": {
      "text/plain": "Alice      Physics\nJack     Chemistry\nMolly      English\nSam        History\ndtype: object"
     },
     "execution_count": 18,
     "metadata": {},
     "output_type": "execute_result"
    }
   ],
   "source": [
    "student_classes = {'Alice': 'Physics',\n",
    "                   'Jack': 'Chemistry',\n",
    "                   'Molly': 'English',\n",
    "                   'Sam': 'History'}\n",
    "\n",
    "s = pd.Series(student_classes)\n",
    "s"
   ],
   "metadata": {
    "collapsed": false,
    "pycharm": {
     "name": "#%%\n"
    }
   }
  },
  {
   "cell_type": "code",
   "execution_count": 24,
   "outputs": [
    {
     "data": {
      "text/plain": "'History'"
     },
     "execution_count": 24,
     "metadata": {},
     "output_type": "execute_result"
    }
   ],
   "source": [
    "s.iloc[3] # returns History, basically the value at index 3"
   ],
   "metadata": {
    "collapsed": false,
    "pycharm": {
     "name": "#%%\n"
    }
   }
  },
  {
   "cell_type": "code",
   "execution_count": 22,
   "outputs": [
    {
     "data": {
      "text/plain": "'English'"
     },
     "execution_count": 22,
     "metadata": {},
     "output_type": "execute_result"
    }
   ],
   "source": [
    "s.loc['Molly'] # returns the current value for Molly (English)"
   ],
   "metadata": {
    "collapsed": false,
    "pycharm": {
     "name": "#%%\n"
    }
   }
  },
  {
   "cell_type": "code",
   "execution_count": 25,
   "outputs": [
    {
     "data": {
      "text/plain": "'History'"
     },
     "execution_count": 25,
     "metadata": {},
     "output_type": "execute_result"
    }
   ],
   "source": [
    "s[3] # implicitly using index"
   ],
   "metadata": {
    "collapsed": false,
    "pycharm": {
     "name": "#%%\n"
    }
   }
  },
  {
   "cell_type": "code",
   "execution_count": 26,
   "outputs": [
    {
     "data": {
      "text/plain": "'English'"
     },
     "execution_count": 26,
     "metadata": {},
     "output_type": "execute_result"
    }
   ],
   "source": [
    "s['Molly'] # implicitly using label"
   ],
   "metadata": {
    "collapsed": false,
    "pycharm": {
     "name": "#%%\n"
    }
   }
  },
  {
   "cell_type": "code",
   "execution_count": 28,
   "outputs": [
    {
     "data": {
      "text/plain": "'Chemistry'"
     },
     "execution_count": 28,
     "metadata": {},
     "output_type": "execute_result"
    }
   ],
   "source": [
    "codes = {99: 'Physics',\n",
    "         100: 'Chemistry',\n",
    "         101: 'English',\n",
    "         102: 'History'}\n",
    "\n",
    "s = pd.Series(codes)\n",
    "s[100] # Since our keys are ints, this is doing an implicit loc\n"
   ],
   "metadata": {
    "collapsed": false,
    "pycharm": {
     "name": "#%%\n"
    }
   }
  },
  {
   "cell_type": "code",
   "execution_count": null,
   "outputs": [],
   "source": [
    "grades = pd.Series(np.random.randint(0,1000,10000)) # Generate 10k items between 0 and 1000\n",
    "grades.head() # get First 5 numbers"
   ],
   "metadata": {
    "collapsed": false,
    "pycharm": {
     "name": "#%%\n"
    }
   }
  },
  {
   "cell_type": "code",
   "execution_count": 38,
   "outputs": [
    {
     "name": "stdout",
     "output_type": "stream",
     "text": [
      "2.65 µs ± 811 ns per loop (mean ± std. dev. of 7 runs, 100 loops each)\n"
     ]
    }
   ],
   "source": [
    "%%timeit -n 100\n",
    "total = 0\n",
    "for grade in grades:\n",
    "    total += grade\n",
    "\n",
    "total / len(grades)"
   ],
   "metadata": {
    "collapsed": false,
    "pycharm": {
     "name": "#%%\n"
    }
   }
  },
  {
   "cell_type": "code",
   "execution_count": 39,
   "outputs": [
    {
     "name": "stdout",
     "output_type": "stream",
     "text": [
      "47.5 µs ± 14.8 µs per loop (mean ± std. dev. of 7 runs, 100 loops each)\n"
     ]
    }
   ],
   "source": [
    "%%timeit -n 100\n",
    "total = np.sum(grades)\n",
    "total / len(grades)"
   ],
   "metadata": {
    "collapsed": false,
    "pycharm": {
     "name": "#%%\n"
    }
   }
  },
  {
   "cell_type": "code",
   "execution_count": 40,
   "outputs": [
    {
     "data": {
      "text/plain": "0    2674\n1    2788\n2    2123\n3    2485\n4    2945\ndtype: int32"
     },
     "execution_count": 40,
     "metadata": {},
     "output_type": "execute_result"
    }
   ],
   "source": [
    "# Broadcasting - uses vectorization\n",
    "numbers += 2000 # updates all values\n",
    "numbers.head()"
   ],
   "metadata": {
    "collapsed": false,
    "pycharm": {
     "name": "#%%\n"
    }
   }
  },
  {
   "cell_type": "code",
   "execution_count": 44,
   "outputs": [
    {
     "data": {
      "text/plain": "0       5674\n1       5788\n2       5123\n3       5485\n4       5945\n        ... \n9995    5691\n9996    5288\n9997    5353\n9998    5489\n9999    5632\nLength: 10000, dtype: int32"
     },
     "execution_count": 44,
     "metadata": {},
     "output_type": "execute_result"
    }
   ],
   "source": [
    "# SIGNIFICANTLY slower than using broadcasting\n",
    "for label, value in numbers.iteritems():\n",
    "    # OLD Way: numbers.set_value(label, value + 3000)\n",
    "    numbers.at[label] = value + 3000\n",
    "    # iat also available\n",
    "\n",
    "numbers"
   ],
   "metadata": {
    "collapsed": false,
    "pycharm": {
     "name": "#%%\n"
    }
   }
  },
  {
   "cell_type": "code",
   "execution_count": 46,
   "outputs": [
    {
     "data": {
      "text/plain": "0            1\n1            2\n2            3\nHistory    102\ndtype: int64"
     },
     "execution_count": 46,
     "metadata": {},
     "output_type": "execute_result"
    }
   ],
   "source": [
    "s = pd.Series([1,2,3])\n",
    "s.loc['History'] = 102 # Add a new label and value\n",
    "s"
   ],
   "metadata": {
    "collapsed": false,
    "pycharm": {
     "name": "#%%\n"
    }
   }
  },
  {
   "cell_type": "code",
   "execution_count": 47,
   "outputs": [
    {
     "data": {
      "text/plain": "Alice      Physics\nJack     Chemistry\nMolly      English\nSam        History\ndtype: object"
     },
     "execution_count": 47,
     "metadata": {},
     "output_type": "execute_result"
    }
   ],
   "source": [
    "student_classes = pd.Series({'Alice': 'Physics',\n",
    "                   'Jack': 'Chemistry',\n",
    "                   'Molly': 'English',\n",
    "                   'Sam': 'History'})\n",
    "student_classes"
   ],
   "metadata": {
    "collapsed": false,
    "pycharm": {
     "name": "#%%\n"
    }
   }
  },
  {
   "cell_type": "code",
   "execution_count": 49,
   "outputs": [
    {
     "data": {
      "text/plain": "Kelly    Philosophy\nKelly          Arts\nKelly          Math\ndtype: object"
     },
     "execution_count": 49,
     "metadata": {},
     "output_type": "execute_result"
    }
   ],
   "source": [
    "kelly_classes = pd.Series(['Philosophy', 'Arts', 'Math'],\n",
    "                          index=['Kelly', 'Kelly', 'Kelly'])\n",
    "kelly_classes # 3 labels named Kelly"
   ],
   "metadata": {
    "collapsed": false,
    "pycharm": {
     "name": "#%%\n"
    }
   }
  },
  {
   "cell_type": "code",
   "execution_count": 51,
   "outputs": [
    {
     "data": {
      "text/plain": "Alice       Physics\nJack      Chemistry\nMolly       English\nSam         History\nKelly    Philosophy\nKelly          Arts\nKelly          Math\ndtype: object"
     },
     "execution_count": 51,
     "metadata": {},
     "output_type": "execute_result"
    }
   ],
   "source": [
    "# Merge the two series together into a new series\n",
    "all_student_classes = student_classes.append(kelly_classes)\n",
    "all_student_classes"
   ],
   "metadata": {
    "collapsed": false,
    "pycharm": {
     "name": "#%%\n"
    }
   }
  },
  {
   "cell_type": "code",
   "execution_count": 52,
   "outputs": [
    {
     "data": {
      "text/plain": "Kelly    Philosophy\nKelly          Arts\nKelly          Math\ndtype: object"
     },
     "execution_count": 52,
     "metadata": {},
     "output_type": "execute_result"
    }
   ],
   "source": [
    "all_student_classes.loc['Kelly'] # returns a series instead of a value"
   ],
   "metadata": {
    "collapsed": false,
    "pycharm": {
     "name": "#%%\n"
    }
   }
  },
  {
   "cell_type": "markdown",
   "source": [
    "## Data Frames"
   ],
   "metadata": {
    "collapsed": false,
    "pycharm": {
     "name": "#%% md\n"
    }
   }
  },
  {
   "cell_type": "code",
   "execution_count": 56,
   "outputs": [
    {
     "data": {
      "text/plain": "          Name      Class  Score\nschool1  Alice    Physics     85\nschool2   Jack  Chemistry     82\nschool1  Helen    Biology     90",
      "text/html": "<div>\n<style scoped>\n    .dataframe tbody tr th:only-of-type {\n        vertical-align: middle;\n    }\n\n    .dataframe tbody tr th {\n        vertical-align: top;\n    }\n\n    .dataframe thead th {\n        text-align: right;\n    }\n</style>\n<table border=\"1\" class=\"dataframe\">\n  <thead>\n    <tr style=\"text-align: right;\">\n      <th></th>\n      <th>Name</th>\n      <th>Class</th>\n      <th>Score</th>\n    </tr>\n  </thead>\n  <tbody>\n    <tr>\n      <th>school1</th>\n      <td>Alice</td>\n      <td>Physics</td>\n      <td>85</td>\n    </tr>\n    <tr>\n      <th>school2</th>\n      <td>Jack</td>\n      <td>Chemistry</td>\n      <td>82</td>\n    </tr>\n    <tr>\n      <th>school1</th>\n      <td>Helen</td>\n      <td>Biology</td>\n      <td>90</td>\n    </tr>\n  </tbody>\n</table>\n</div>"
     },
     "execution_count": 56,
     "metadata": {},
     "output_type": "execute_result"
    }
   ],
   "source": [
    "grade1 = pd.Series({'Name': 'Alice', 'Class': 'Physics', 'Score': 85});\n",
    "grade2 = pd.Series({'Name': 'Jack', 'Class': 'Chemistry', 'Score': 82});\n",
    "grade3 = pd.Series({'Name': 'Helen', 'Class': 'Biology', 'Score': 90});\n",
    "\n",
    "df = pd.DataFrame([grade1, grade2, grade3],\n",
    "                  index=['school1', 'school2', 'school1'])\n",
    "df"
   ],
   "metadata": {
    "collapsed": false,
    "pycharm": {
     "name": "#%%\n"
    }
   }
  },
  {
   "cell_type": "code",
   "execution_count": 76,
   "outputs": [
    {
     "data": {
      "text/plain": "          Name      Class  Score\nschool1  Alice    Physics     85\nschool2   Jack  Chemistry     82\nschool1  Helen    Biology     90",
      "text/html": "<div>\n<style scoped>\n    .dataframe tbody tr th:only-of-type {\n        vertical-align: middle;\n    }\n\n    .dataframe tbody tr th {\n        vertical-align: top;\n    }\n\n    .dataframe thead th {\n        text-align: right;\n    }\n</style>\n<table border=\"1\" class=\"dataframe\">\n  <thead>\n    <tr style=\"text-align: right;\">\n      <th></th>\n      <th>Name</th>\n      <th>Class</th>\n      <th>Score</th>\n    </tr>\n  </thead>\n  <tbody>\n    <tr>\n      <th>school1</th>\n      <td>Alice</td>\n      <td>Physics</td>\n      <td>85</td>\n    </tr>\n    <tr>\n      <th>school2</th>\n      <td>Jack</td>\n      <td>Chemistry</td>\n      <td>82</td>\n    </tr>\n    <tr>\n      <th>school1</th>\n      <td>Helen</td>\n      <td>Biology</td>\n      <td>90</td>\n    </tr>\n  </tbody>\n</table>\n</div>"
     },
     "execution_count": 76,
     "metadata": {},
     "output_type": "execute_result"
    }
   ],
   "source": [
    "students = [{'Name': 'Alice', 'Class': 'Physics', 'Score': 85},\n",
    "            {'Name': 'Jack', 'Class': 'Chemistry', 'Score': 82},\n",
    "            {'Name': 'Helen', 'Class': 'Biology', 'Score': 90}]\n",
    "df = pd.DataFrame(students, index=['school1', 'school2', 'school1'])\n",
    "df"
   ],
   "metadata": {
    "collapsed": false,
    "pycharm": {
     "name": "#%%\n"
    }
   }
  },
  {
   "cell_type": "code",
   "execution_count": 60,
   "outputs": [
    {
     "data": {
      "text/plain": "          Name    Class  Score\nschool1  Alice  Physics     85\nschool1  Helen  Biology     90",
      "text/html": "<div>\n<style scoped>\n    .dataframe tbody tr th:only-of-type {\n        vertical-align: middle;\n    }\n\n    .dataframe tbody tr th {\n        vertical-align: top;\n    }\n\n    .dataframe thead th {\n        text-align: right;\n    }\n</style>\n<table border=\"1\" class=\"dataframe\">\n  <thead>\n    <tr style=\"text-align: right;\">\n      <th></th>\n      <th>Name</th>\n      <th>Class</th>\n      <th>Score</th>\n    </tr>\n  </thead>\n  <tbody>\n    <tr>\n      <th>school1</th>\n      <td>Alice</td>\n      <td>Physics</td>\n      <td>85</td>\n    </tr>\n    <tr>\n      <th>school1</th>\n      <td>Helen</td>\n      <td>Biology</td>\n      <td>90</td>\n    </tr>\n  </tbody>\n</table>\n</div>"
     },
     "execution_count": 60,
     "metadata": {},
     "output_type": "execute_result"
    }
   ],
   "source": [
    "df.loc['school1']"
   ],
   "metadata": {
    "collapsed": false,
    "pycharm": {
     "name": "#%%\n"
    }
   }
  },
  {
   "cell_type": "code",
   "execution_count": 62,
   "outputs": [
    {
     "data": {
      "text/plain": "Name          Jack\nClass    Chemistry\nScore           82\nName: school2, dtype: object"
     },
     "execution_count": 62,
     "metadata": {},
     "output_type": "execute_result"
    }
   ],
   "source": [
    "df.loc['school2']"
   ],
   "metadata": {
    "collapsed": false,
    "pycharm": {
     "name": "#%%\n"
    }
   }
  },
  {
   "cell_type": "code",
   "execution_count": 66,
   "outputs": [
    {
     "data": {
      "text/plain": "82"
     },
     "execution_count": 66,
     "metadata": {},
     "output_type": "execute_result"
    }
   ],
   "source": [
    "df.loc['school2', 'Score']"
   ],
   "metadata": {
    "collapsed": false,
    "pycharm": {
     "name": "#%%\n"
    }
   }
  },
  {
   "cell_type": "code",
   "execution_count": 68,
   "outputs": [
    {
     "data": {
      "text/plain": "       school1    school2  school1\nName     Alice       Jack    Helen\nClass  Physics  Chemistry  Biology\nScore       85         82       90",
      "text/html": "<div>\n<style scoped>\n    .dataframe tbody tr th:only-of-type {\n        vertical-align: middle;\n    }\n\n    .dataframe tbody tr th {\n        vertical-align: top;\n    }\n\n    .dataframe thead th {\n        text-align: right;\n    }\n</style>\n<table border=\"1\" class=\"dataframe\">\n  <thead>\n    <tr style=\"text-align: right;\">\n      <th></th>\n      <th>school1</th>\n      <th>school2</th>\n      <th>school1</th>\n    </tr>\n  </thead>\n  <tbody>\n    <tr>\n      <th>Name</th>\n      <td>Alice</td>\n      <td>Jack</td>\n      <td>Helen</td>\n    </tr>\n    <tr>\n      <th>Class</th>\n      <td>Physics</td>\n      <td>Chemistry</td>\n      <td>Biology</td>\n    </tr>\n    <tr>\n      <th>Score</th>\n      <td>85</td>\n      <td>82</td>\n      <td>90</td>\n    </tr>\n  </tbody>\n</table>\n</div>"
     },
     "execution_count": 68,
     "metadata": {},
     "output_type": "execute_result"
    }
   ],
   "source": [
    "df.T # switches the rows / columns. Creates a new DF"
   ],
   "metadata": {
    "collapsed": false,
    "pycharm": {
     "name": "#%%\n"
    }
   }
  },
  {
   "cell_type": "code",
   "execution_count": 74,
   "outputs": [
    {
     "data": {
      "text/plain": "school1      Physics\nschool2    Chemistry\nschool1      Biology\nName: Class, dtype: object"
     },
     "execution_count": 74,
     "metadata": {},
     "output_type": "execute_result"
    }
   ],
   "source": [
    "df.T.loc['Class']"
   ],
   "metadata": {
    "collapsed": false,
    "pycharm": {
     "name": "#%%\n"
    }
   }
  },
  {
   "cell_type": "code",
   "execution_count": 78,
   "outputs": [
    {
     "data": {
      "text/plain": "school1      Physics\nschool2    Chemistry\nschool1      Biology\nName: Class, dtype: object"
     },
     "execution_count": 78,
     "metadata": {},
     "output_type": "execute_result"
    }
   ],
   "source": [
    "df['Class'] # Indexes work on column labels"
   ],
   "metadata": {
    "collapsed": false,
    "pycharm": {
     "name": "#%%\n"
    }
   }
  },
  {
   "cell_type": "code",
   "execution_count": 80,
   "outputs": [
    {
     "data": {
      "text/plain": "          Name    Class  Score\nschool1  Alice  Physics     85\nschool1  Helen  Biology     90",
      "text/html": "<div>\n<style scoped>\n    .dataframe tbody tr th:only-of-type {\n        vertical-align: middle;\n    }\n\n    .dataframe tbody tr th {\n        vertical-align: top;\n    }\n\n    .dataframe thead th {\n        text-align: right;\n    }\n</style>\n<table border=\"1\" class=\"dataframe\">\n  <thead>\n    <tr style=\"text-align: right;\">\n      <th></th>\n      <th>Name</th>\n      <th>Class</th>\n      <th>Score</th>\n    </tr>\n  </thead>\n  <tbody>\n    <tr>\n      <th>school1</th>\n      <td>Alice</td>\n      <td>Physics</td>\n      <td>85</td>\n    </tr>\n    <tr>\n      <th>school1</th>\n      <td>Helen</td>\n      <td>Biology</td>\n      <td>90</td>\n    </tr>\n  </tbody>\n</table>\n</div>"
     },
     "execution_count": 80,
     "metadata": {},
     "output_type": "execute_result"
    }
   ],
   "source": [
    "df.loc['school1'] # Loc works on row labels or column labels"
   ],
   "metadata": {
    "collapsed": false,
    "pycharm": {
     "name": "#%%\n"
    }
   }
  },
  {
   "cell_type": "code",
   "execution_count": 82,
   "outputs": [
    {
     "data": {
      "text/plain": "Name          Jack\nClass    Chemistry\nScore           82\nName: school2, dtype: object"
     },
     "execution_count": 82,
     "metadata": {},
     "output_type": "execute_result"
    }
   ],
   "source": [
    "df.loc['school2']"
   ],
   "metadata": {
    "collapsed": false,
    "pycharm": {
     "name": "#%%\n"
    }
   }
  },
  {
   "cell_type": "code",
   "execution_count": 85,
   "outputs": [
    {
     "data": {
      "text/plain": "school1    Alice\nschool1    Helen\nName: Name, dtype: object"
     },
     "execution_count": 85,
     "metadata": {},
     "output_type": "execute_result"
    }
   ],
   "source": [
    "#chaining can be too expensive in speed\n",
    "df.loc['school1']['Name']"
   ],
   "metadata": {
    "collapsed": false,
    "pycharm": {
     "name": "#%%\n"
    }
   }
  },
  {
   "cell_type": "code",
   "execution_count": 87,
   "outputs": [
    {
     "data": {
      "text/plain": "          Name  Score\nschool1  Alice     85\nschool2   Jack     82\nschool1  Helen     90",
      "text/html": "<div>\n<style scoped>\n    .dataframe tbody tr th:only-of-type {\n        vertical-align: middle;\n    }\n\n    .dataframe tbody tr th {\n        vertical-align: top;\n    }\n\n    .dataframe thead th {\n        text-align: right;\n    }\n</style>\n<table border=\"1\" class=\"dataframe\">\n  <thead>\n    <tr style=\"text-align: right;\">\n      <th></th>\n      <th>Name</th>\n      <th>Score</th>\n    </tr>\n  </thead>\n  <tbody>\n    <tr>\n      <th>school1</th>\n      <td>Alice</td>\n      <td>85</td>\n    </tr>\n    <tr>\n      <th>school2</th>\n      <td>Jack</td>\n      <td>82</td>\n    </tr>\n    <tr>\n      <th>school1</th>\n      <td>Helen</td>\n      <td>90</td>\n    </tr>\n  </tbody>\n</table>\n</div>"
     },
     "execution_count": 87,
     "metadata": {},
     "output_type": "execute_result"
    }
   ],
   "source": [
    "# :  - get all rows\n",
    "# [] - columns to return\n",
    "df.loc[:, ['Name', 'Score']]"
   ],
   "metadata": {
    "collapsed": false,
    "pycharm": {
     "name": "#%%\n"
    }
   }
  },
  {
   "cell_type": "code",
   "execution_count": 88,
   "outputs": [
    {
     "data": {
      "text/plain": "         Name      Class  Score\nschool2  Jack  Chemistry     82",
      "text/html": "<div>\n<style scoped>\n    .dataframe tbody tr th:only-of-type {\n        vertical-align: middle;\n    }\n\n    .dataframe tbody tr th {\n        vertical-align: top;\n    }\n\n    .dataframe thead th {\n        text-align: right;\n    }\n</style>\n<table border=\"1\" class=\"dataframe\">\n  <thead>\n    <tr style=\"text-align: right;\">\n      <th></th>\n      <th>Name</th>\n      <th>Class</th>\n      <th>Score</th>\n    </tr>\n  </thead>\n  <tbody>\n    <tr>\n      <th>school2</th>\n      <td>Jack</td>\n      <td>Chemistry</td>\n      <td>82</td>\n    </tr>\n  </tbody>\n</table>\n</div>"
     },
     "execution_count": 88,
     "metadata": {},
     "output_type": "execute_result"
    }
   ],
   "source": [
    "# Removes all rows with that label and returns that new DF\n",
    "df.drop('school1')"
   ],
   "metadata": {
    "collapsed": false,
    "pycharm": {
     "name": "#%%\n"
    }
   }
  },
  {
   "cell_type": "code",
   "execution_count": 91,
   "outputs": [
    {
     "data": {
      "text/plain": "             Class  Score\nschool1    Physics     85\nschool2  Chemistry     82\nschool1    Biology     90",
      "text/html": "<div>\n<style scoped>\n    .dataframe tbody tr th:only-of-type {\n        vertical-align: middle;\n    }\n\n    .dataframe tbody tr th {\n        vertical-align: top;\n    }\n\n    .dataframe thead th {\n        text-align: right;\n    }\n</style>\n<table border=\"1\" class=\"dataframe\">\n  <thead>\n    <tr style=\"text-align: right;\">\n      <th></th>\n      <th>Class</th>\n      <th>Score</th>\n    </tr>\n  </thead>\n  <tbody>\n    <tr>\n      <th>school1</th>\n      <td>Physics</td>\n      <td>85</td>\n    </tr>\n    <tr>\n      <th>school2</th>\n      <td>Chemistry</td>\n      <td>82</td>\n    </tr>\n    <tr>\n      <th>school1</th>\n      <td>Biology</td>\n      <td>90</td>\n    </tr>\n  </tbody>\n</table>\n</div>"
     },
     "execution_count": 91,
     "metadata": {},
     "output_type": "execute_result"
    }
   ],
   "source": [
    "copy_df = df.copy()\n",
    "\n",
    "# inplace will modify the dataframe instead of creating a new one\n",
    "# axis 1 works on columns instead of rows\n",
    "copy_df.drop('Name', inplace=True, axis=1)\n",
    "copy_df"
   ],
   "metadata": {
    "collapsed": false,
    "pycharm": {
     "name": "#%%\n"
    }
   }
  },
  {
   "cell_type": "code",
   "execution_count": 94,
   "outputs": [
    {
     "data": {
      "text/plain": "          Name      Class  Score ClassRanking\nschool1  Alice    Physics     85         None\nschool2   Jack  Chemistry     82         None\nschool1  Helen    Biology     90         None",
      "text/html": "<div>\n<style scoped>\n    .dataframe tbody tr th:only-of-type {\n        vertical-align: middle;\n    }\n\n    .dataframe tbody tr th {\n        vertical-align: top;\n    }\n\n    .dataframe thead th {\n        text-align: right;\n    }\n</style>\n<table border=\"1\" class=\"dataframe\">\n  <thead>\n    <tr style=\"text-align: right;\">\n      <th></th>\n      <th>Name</th>\n      <th>Class</th>\n      <th>Score</th>\n      <th>ClassRanking</th>\n    </tr>\n  </thead>\n  <tbody>\n    <tr>\n      <th>school1</th>\n      <td>Alice</td>\n      <td>Physics</td>\n      <td>85</td>\n      <td>None</td>\n    </tr>\n    <tr>\n      <th>school2</th>\n      <td>Jack</td>\n      <td>Chemistry</td>\n      <td>82</td>\n      <td>None</td>\n    </tr>\n    <tr>\n      <th>school1</th>\n      <td>Helen</td>\n      <td>Biology</td>\n      <td>90</td>\n      <td>None</td>\n    </tr>\n  </tbody>\n</table>\n</div>"
     },
     "execution_count": 94,
     "metadata": {},
     "output_type": "execute_result"
    }
   ],
   "source": [
    "# Add a column by defining it\n",
    "df['ClassRanking'] = None\n",
    "df"
   ],
   "metadata": {
    "collapsed": false,
    "pycharm": {
     "name": "#%%\n"
    }
   }
  },
  {
   "cell_type": "markdown",
   "source": [
    "### Indexing and Loading"
   ],
   "metadata": {
    "collapsed": false,
    "pycharm": {
     "name": "#%% md\n"
    }
   }
  },
  {
   "cell_type": "code",
   "execution_count": 96,
   "outputs": [
    {
     "data": {
      "text/plain": "   gender race/ethnicity parental level of education         lunch  \\\n0  female        group B           bachelor's degree      standard   \n1  female        group C                some college      standard   \n2  female        group B             master's degree      standard   \n3    male        group A          associate's degree  free/reduced   \n4    male        group C                some college      standard   \n\n  test preparation course  math score  reading score  writing score  \n0                    none          72             72             74  \n1               completed          69             90             88  \n2                    none          90             95             93  \n3                    none          47             57             44  \n4                    none          76             78             75  ",
      "text/html": "<div>\n<style scoped>\n    .dataframe tbody tr th:only-of-type {\n        vertical-align: middle;\n    }\n\n    .dataframe tbody tr th {\n        vertical-align: top;\n    }\n\n    .dataframe thead th {\n        text-align: right;\n    }\n</style>\n<table border=\"1\" class=\"dataframe\">\n  <thead>\n    <tr style=\"text-align: right;\">\n      <th></th>\n      <th>gender</th>\n      <th>race/ethnicity</th>\n      <th>parental level of education</th>\n      <th>lunch</th>\n      <th>test preparation course</th>\n      <th>math score</th>\n      <th>reading score</th>\n      <th>writing score</th>\n    </tr>\n  </thead>\n  <tbody>\n    <tr>\n      <th>0</th>\n      <td>female</td>\n      <td>group B</td>\n      <td>bachelor's degree</td>\n      <td>standard</td>\n      <td>none</td>\n      <td>72</td>\n      <td>72</td>\n      <td>74</td>\n    </tr>\n    <tr>\n      <th>1</th>\n      <td>female</td>\n      <td>group C</td>\n      <td>some college</td>\n      <td>standard</td>\n      <td>completed</td>\n      <td>69</td>\n      <td>90</td>\n      <td>88</td>\n    </tr>\n    <tr>\n      <th>2</th>\n      <td>female</td>\n      <td>group B</td>\n      <td>master's degree</td>\n      <td>standard</td>\n      <td>none</td>\n      <td>90</td>\n      <td>95</td>\n      <td>93</td>\n    </tr>\n    <tr>\n      <th>3</th>\n      <td>male</td>\n      <td>group A</td>\n      <td>associate's degree</td>\n      <td>free/reduced</td>\n      <td>none</td>\n      <td>47</td>\n      <td>57</td>\n      <td>44</td>\n    </tr>\n    <tr>\n      <th>4</th>\n      <td>male</td>\n      <td>group C</td>\n      <td>some college</td>\n      <td>standard</td>\n      <td>none</td>\n      <td>76</td>\n      <td>78</td>\n      <td>75</td>\n    </tr>\n  </tbody>\n</table>\n</div>"
     },
     "execution_count": 96,
     "metadata": {},
     "output_type": "execute_result"
    }
   ],
   "source": [
    "df = pd.read_csv('StudentsPerformance.csv')\n",
    "df.head()"
   ],
   "metadata": {
    "collapsed": false,
    "pycharm": {
     "name": "#%%\n"
    }
   }
  },
  {
   "cell_type": "code",
   "execution_count": 103,
   "outputs": [
    {
     "ename": "TypeError",
     "evalue": "Cannot specify both 'mapper' and any of 'index' or 'columns'",
     "output_type": "error",
     "traceback": [
      "\u001B[1;31m---------------------------------------------------------------------------\u001B[0m",
      "\u001B[1;31mTypeError\u001B[0m                                 Traceback (most recent call last)",
      "\u001B[1;32m<ipython-input-103-b9a9433edb3d>\u001B[0m in \u001B[0;36m<module>\u001B[1;34m\u001B[0m\n\u001B[1;32m----> 1\u001B[1;33m newDf = df.rename(columns = {'race/ethnicity': 'group', 'reading score': 'reading', 'writing score': 'writing', 'math score': 'math', 'test preparation course': 'course', 'parental level of education': 'parents edu'},\n\u001B[0m\u001B[0;32m      2\u001B[0m                   mapper = str.strip)\n\u001B[0;32m      3\u001B[0m \u001B[0mnewDf\u001B[0m\u001B[1;33m\u001B[0m\u001B[1;33m\u001B[0m\u001B[0m\n",
      "\u001B[1;32mM:\\dev\\envs\\experiments\\lib\\site-packages\\pandas\\util\\_decorators.py\u001B[0m in \u001B[0;36mwrapper\u001B[1;34m(*args, **kwargs)\u001B[0m\n\u001B[0;32m    322\u001B[0m         \u001B[1;33m@\u001B[0m\u001B[0mwraps\u001B[0m\u001B[1;33m(\u001B[0m\u001B[0mfunc\u001B[0m\u001B[1;33m)\u001B[0m\u001B[1;33m\u001B[0m\u001B[1;33m\u001B[0m\u001B[0m\n\u001B[0;32m    323\u001B[0m         \u001B[1;32mdef\u001B[0m \u001B[0mwrapper\u001B[0m\u001B[1;33m(\u001B[0m\u001B[1;33m*\u001B[0m\u001B[0margs\u001B[0m\u001B[1;33m,\u001B[0m \u001B[1;33m**\u001B[0m\u001B[0mkwargs\u001B[0m\u001B[1;33m)\u001B[0m \u001B[1;33m->\u001B[0m \u001B[0mCallable\u001B[0m\u001B[1;33m[\u001B[0m\u001B[1;33m...\u001B[0m\u001B[1;33m,\u001B[0m \u001B[0mAny\u001B[0m\u001B[1;33m]\u001B[0m\u001B[1;33m:\u001B[0m\u001B[1;33m\u001B[0m\u001B[1;33m\u001B[0m\u001B[0m\n\u001B[1;32m--> 324\u001B[1;33m             \u001B[1;32mreturn\u001B[0m \u001B[0mfunc\u001B[0m\u001B[1;33m(\u001B[0m\u001B[1;33m*\u001B[0m\u001B[0margs\u001B[0m\u001B[1;33m,\u001B[0m \u001B[1;33m**\u001B[0m\u001B[0mkwargs\u001B[0m\u001B[1;33m)\u001B[0m\u001B[1;33m\u001B[0m\u001B[1;33m\u001B[0m\u001B[0m\n\u001B[0m\u001B[0;32m    325\u001B[0m \u001B[1;33m\u001B[0m\u001B[0m\n\u001B[0;32m    326\u001B[0m         \u001B[0mkind\u001B[0m \u001B[1;33m=\u001B[0m \u001B[0minspect\u001B[0m\u001B[1;33m.\u001B[0m\u001B[0mParameter\u001B[0m\u001B[1;33m.\u001B[0m\u001B[0mPOSITIONAL_OR_KEYWORD\u001B[0m\u001B[1;33m\u001B[0m\u001B[1;33m\u001B[0m\u001B[0m\n",
      "\u001B[1;32mM:\\dev\\envs\\experiments\\lib\\site-packages\\pandas\\core\\frame.py\u001B[0m in \u001B[0;36mrename\u001B[1;34m(self, mapper, index, columns, axis, copy, inplace, level, errors)\u001B[0m\n\u001B[0;32m   5032\u001B[0m         \u001B[1;36m4\u001B[0m  \u001B[1;36m3\u001B[0m  \u001B[1;36m6\u001B[0m\u001B[1;33m\u001B[0m\u001B[1;33m\u001B[0m\u001B[0m\n\u001B[0;32m   5033\u001B[0m         \"\"\"\n\u001B[1;32m-> 5034\u001B[1;33m         return super().rename(\n\u001B[0m\u001B[0;32m   5035\u001B[0m             \u001B[0mmapper\u001B[0m\u001B[1;33m=\u001B[0m\u001B[0mmapper\u001B[0m\u001B[1;33m,\u001B[0m\u001B[1;33m\u001B[0m\u001B[1;33m\u001B[0m\u001B[0m\n\u001B[0;32m   5036\u001B[0m             \u001B[0mindex\u001B[0m\u001B[1;33m=\u001B[0m\u001B[0mindex\u001B[0m\u001B[1;33m,\u001B[0m\u001B[1;33m\u001B[0m\u001B[1;33m\u001B[0m\u001B[0m\n",
      "\u001B[1;32mM:\\dev\\envs\\experiments\\lib\\site-packages\\pandas\\core\\generic.py\u001B[0m in \u001B[0;36mrename\u001B[1;34m(self, mapper, index, columns, axis, copy, inplace, level, errors)\u001B[0m\n\u001B[0;32m   1117\u001B[0m                 )\n\u001B[0;32m   1118\u001B[0m             \u001B[1;32melif\u001B[0m \u001B[0mmapper\u001B[0m \u001B[1;32mis\u001B[0m \u001B[1;32mnot\u001B[0m \u001B[1;32mNone\u001B[0m\u001B[1;33m:\u001B[0m\u001B[1;33m\u001B[0m\u001B[1;33m\u001B[0m\u001B[0m\n\u001B[1;32m-> 1119\u001B[1;33m                 raise TypeError(\n\u001B[0m\u001B[0;32m   1120\u001B[0m                     \u001B[1;34m\"Cannot specify both 'mapper' and any of 'index' or 'columns'\"\u001B[0m\u001B[1;33m\u001B[0m\u001B[1;33m\u001B[0m\u001B[0m\n\u001B[0;32m   1121\u001B[0m                 )\n",
      "\u001B[1;31mTypeError\u001B[0m: Cannot specify both 'mapper' and any of 'index' or 'columns'"
     ]
    }
   ],
   "source": [
    "newDf = df.rename(columns = {'race/ethnicity': 'group', 'reading score': 'reading', 'writing score': 'writing', 'math score': 'math', 'test preparation course': 'course', 'parental level of education': 'parents edu'})\n",
    "newDf"
   ],
   "metadata": {
    "collapsed": false,
    "pycharm": {
     "name": "#%%\n"
    }
   }
  },
  {
   "cell_type": "code",
   "execution_count": 104,
   "outputs": [
    {
     "data": {
      "text/plain": "Index(['gender', 'group', 'parents edu', 'lunch', 'course', 'math', 'reading',\n       'writing'],\n      dtype='object')"
     },
     "execution_count": 104,
     "metadata": {},
     "output_type": "execute_result"
    }
   ],
   "source": [
    "newDf.columns"
   ],
   "metadata": {
    "collapsed": false,
    "pycharm": {
     "name": "#%%\n"
    }
   }
  },
  {
   "cell_type": "code",
   "execution_count": 107,
   "outputs": [
    {
     "data": {
      "text/plain": "     gender    group         parents edu         lunch     course  math  \\\n0    female  group B   bachelor's degree      standard       none    72   \n1    female  group C        some college      standard  completed    69   \n2    female  group B     master's degree      standard       none    90   \n3      male  group A  associate's degree  free/reduced       none    47   \n4      male  group C        some college      standard       none    76   \n..      ...      ...                 ...           ...        ...   ...   \n995  female  group E     master's degree      standard  completed    88   \n996    male  group C         high school  free/reduced       none    62   \n997  female  group C         high school  free/reduced  completed    59   \n998  female  group D        some college      standard  completed    68   \n999  female  group D        some college  free/reduced       none    77   \n\n     reading  writing  \n0         72       74  \n1         90       88  \n2         95       93  \n3         57       44  \n4         78       75  \n..       ...      ...  \n995       99       95  \n996       55       55  \n997       71       65  \n998       78       77  \n999       86       86  \n\n[1000 rows x 8 columns]",
      "text/html": "<div>\n<style scoped>\n    .dataframe tbody tr th:only-of-type {\n        vertical-align: middle;\n    }\n\n    .dataframe tbody tr th {\n        vertical-align: top;\n    }\n\n    .dataframe thead th {\n        text-align: right;\n    }\n</style>\n<table border=\"1\" class=\"dataframe\">\n  <thead>\n    <tr style=\"text-align: right;\">\n      <th></th>\n      <th>gender</th>\n      <th>group</th>\n      <th>parents edu</th>\n      <th>lunch</th>\n      <th>course</th>\n      <th>math</th>\n      <th>reading</th>\n      <th>writing</th>\n    </tr>\n  </thead>\n  <tbody>\n    <tr>\n      <th>0</th>\n      <td>female</td>\n      <td>group B</td>\n      <td>bachelor's degree</td>\n      <td>standard</td>\n      <td>none</td>\n      <td>72</td>\n      <td>72</td>\n      <td>74</td>\n    </tr>\n    <tr>\n      <th>1</th>\n      <td>female</td>\n      <td>group C</td>\n      <td>some college</td>\n      <td>standard</td>\n      <td>completed</td>\n      <td>69</td>\n      <td>90</td>\n      <td>88</td>\n    </tr>\n    <tr>\n      <th>2</th>\n      <td>female</td>\n      <td>group B</td>\n      <td>master's degree</td>\n      <td>standard</td>\n      <td>none</td>\n      <td>90</td>\n      <td>95</td>\n      <td>93</td>\n    </tr>\n    <tr>\n      <th>3</th>\n      <td>male</td>\n      <td>group A</td>\n      <td>associate's degree</td>\n      <td>free/reduced</td>\n      <td>none</td>\n      <td>47</td>\n      <td>57</td>\n      <td>44</td>\n    </tr>\n    <tr>\n      <th>4</th>\n      <td>male</td>\n      <td>group C</td>\n      <td>some college</td>\n      <td>standard</td>\n      <td>none</td>\n      <td>76</td>\n      <td>78</td>\n      <td>75</td>\n    </tr>\n    <tr>\n      <th>...</th>\n      <td>...</td>\n      <td>...</td>\n      <td>...</td>\n      <td>...</td>\n      <td>...</td>\n      <td>...</td>\n      <td>...</td>\n      <td>...</td>\n    </tr>\n    <tr>\n      <th>995</th>\n      <td>female</td>\n      <td>group E</td>\n      <td>master's degree</td>\n      <td>standard</td>\n      <td>completed</td>\n      <td>88</td>\n      <td>99</td>\n      <td>95</td>\n    </tr>\n    <tr>\n      <th>996</th>\n      <td>male</td>\n      <td>group C</td>\n      <td>high school</td>\n      <td>free/reduced</td>\n      <td>none</td>\n      <td>62</td>\n      <td>55</td>\n      <td>55</td>\n    </tr>\n    <tr>\n      <th>997</th>\n      <td>female</td>\n      <td>group C</td>\n      <td>high school</td>\n      <td>free/reduced</td>\n      <td>completed</td>\n      <td>59</td>\n      <td>71</td>\n      <td>65</td>\n    </tr>\n    <tr>\n      <th>998</th>\n      <td>female</td>\n      <td>group D</td>\n      <td>some college</td>\n      <td>standard</td>\n      <td>completed</td>\n      <td>68</td>\n      <td>78</td>\n      <td>77</td>\n    </tr>\n    <tr>\n      <th>999</th>\n      <td>female</td>\n      <td>group D</td>\n      <td>some college</td>\n      <td>free/reduced</td>\n      <td>none</td>\n      <td>77</td>\n      <td>86</td>\n      <td>86</td>\n    </tr>\n  </tbody>\n</table>\n<p>1000 rows × 8 columns</p>\n</div>"
     },
     "execution_count": 107,
     "metadata": {},
     "output_type": "execute_result"
    }
   ],
   "source": [
    "newDf = newDf.rename(mapper=str.strip, axis='columns')\n",
    "newDf"
   ],
   "metadata": {
    "collapsed": false,
    "pycharm": {
     "name": "#%%\n"
    }
   }
  },
  {
   "cell_type": "code",
   "execution_count": 142,
   "outputs": [
    {
     "data": {
      "text/plain": "     Gender    Group          Parent EDU         Lunch     Course  Math  \\\n0    female  group B   bachelor's degree      standard       none    72   \n1    female  group C        some college      standard  completed    69   \n2    female  group B     master's degree      standard       none    90   \n3      male  group A  associate's degree  free/reduced       none    47   \n4      male  group C        some college      standard       none    76   \n..      ...      ...                 ...           ...        ...   ...   \n995  female  group E     master's degree      standard  completed    88   \n996    male  group C         high school  free/reduced       none    62   \n997  female  group C         high school  free/reduced  completed    59   \n998  female  group D        some college      standard  completed    68   \n999  female  group D        some college  free/reduced       none    77   \n\n     Reading  Writing  \n0         72       74  \n1         90       88  \n2         95       93  \n3         57       44  \n4         78       75  \n..       ...      ...  \n995       99       95  \n996       55       55  \n997       71       65  \n998       78       77  \n999       86       86  \n\n[1000 rows x 8 columns]",
      "text/html": "<div>\n<style scoped>\n    .dataframe tbody tr th:only-of-type {\n        vertical-align: middle;\n    }\n\n    .dataframe tbody tr th {\n        vertical-align: top;\n    }\n\n    .dataframe thead th {\n        text-align: right;\n    }\n</style>\n<table border=\"1\" class=\"dataframe\">\n  <thead>\n    <tr style=\"text-align: right;\">\n      <th></th>\n      <th>Gender</th>\n      <th>Group</th>\n      <th>Parent EDU</th>\n      <th>Lunch</th>\n      <th>Course</th>\n      <th>Math</th>\n      <th>Reading</th>\n      <th>Writing</th>\n    </tr>\n  </thead>\n  <tbody>\n    <tr>\n      <th>0</th>\n      <td>female</td>\n      <td>group B</td>\n      <td>bachelor's degree</td>\n      <td>standard</td>\n      <td>none</td>\n      <td>72</td>\n      <td>72</td>\n      <td>74</td>\n    </tr>\n    <tr>\n      <th>1</th>\n      <td>female</td>\n      <td>group C</td>\n      <td>some college</td>\n      <td>standard</td>\n      <td>completed</td>\n      <td>69</td>\n      <td>90</td>\n      <td>88</td>\n    </tr>\n    <tr>\n      <th>2</th>\n      <td>female</td>\n      <td>group B</td>\n      <td>master's degree</td>\n      <td>standard</td>\n      <td>none</td>\n      <td>90</td>\n      <td>95</td>\n      <td>93</td>\n    </tr>\n    <tr>\n      <th>3</th>\n      <td>male</td>\n      <td>group A</td>\n      <td>associate's degree</td>\n      <td>free/reduced</td>\n      <td>none</td>\n      <td>47</td>\n      <td>57</td>\n      <td>44</td>\n    </tr>\n    <tr>\n      <th>4</th>\n      <td>male</td>\n      <td>group C</td>\n      <td>some college</td>\n      <td>standard</td>\n      <td>none</td>\n      <td>76</td>\n      <td>78</td>\n      <td>75</td>\n    </tr>\n    <tr>\n      <th>...</th>\n      <td>...</td>\n      <td>...</td>\n      <td>...</td>\n      <td>...</td>\n      <td>...</td>\n      <td>...</td>\n      <td>...</td>\n      <td>...</td>\n    </tr>\n    <tr>\n      <th>995</th>\n      <td>female</td>\n      <td>group E</td>\n      <td>master's degree</td>\n      <td>standard</td>\n      <td>completed</td>\n      <td>88</td>\n      <td>99</td>\n      <td>95</td>\n    </tr>\n    <tr>\n      <th>996</th>\n      <td>male</td>\n      <td>group C</td>\n      <td>high school</td>\n      <td>free/reduced</td>\n      <td>none</td>\n      <td>62</td>\n      <td>55</td>\n      <td>55</td>\n    </tr>\n    <tr>\n      <th>997</th>\n      <td>female</td>\n      <td>group C</td>\n      <td>high school</td>\n      <td>free/reduced</td>\n      <td>completed</td>\n      <td>59</td>\n      <td>71</td>\n      <td>65</td>\n    </tr>\n    <tr>\n      <th>998</th>\n      <td>female</td>\n      <td>group D</td>\n      <td>some college</td>\n      <td>standard</td>\n      <td>completed</td>\n      <td>68</td>\n      <td>78</td>\n      <td>77</td>\n    </tr>\n    <tr>\n      <th>999</th>\n      <td>female</td>\n      <td>group D</td>\n      <td>some college</td>\n      <td>free/reduced</td>\n      <td>none</td>\n      <td>77</td>\n      <td>86</td>\n      <td>86</td>\n    </tr>\n  </tbody>\n</table>\n<p>1000 rows × 8 columns</p>\n</div>"
     },
     "execution_count": 142,
     "metadata": {},
     "output_type": "execute_result"
    }
   ],
   "source": [
    "newDf.columns = ['Gender', 'Group', 'Parent EDU', 'Lunch', 'Course', 'Math', 'Reading', 'Writing']\n",
    "newDf"
   ],
   "metadata": {
    "collapsed": false,
    "pycharm": {
     "name": "#%%\n"
    }
   }
  },
  {
   "cell_type": "markdown",
   "source": [
    "## Masks"
   ],
   "metadata": {
    "collapsed": false,
    "pycharm": {
     "name": "#%% md\n"
    }
   }
  },
  {
   "cell_type": "code",
   "execution_count": 141,
   "outputs": [
    {
     "data": {
      "text/plain": "   gender race/ethnicity parental level of education         lunch  \\\n0  female        group B           bachelor's degree      standard   \n1  female        group C                some college      standard   \n2  female        group B             master's degree      standard   \n3    male        group A          associate's degree  free/reduced   \n4    male        group C                some college      standard   \n\n  test preparation course  math score  reading score  writing score  \n0                    none          72             72             74  \n1               completed          69             90             88  \n2                    none          90             95             93  \n3                    none          47             57             44  \n4                    none          76             78             75  ",
      "text/html": "<div>\n<style scoped>\n    .dataframe tbody tr th:only-of-type {\n        vertical-align: middle;\n    }\n\n    .dataframe tbody tr th {\n        vertical-align: top;\n    }\n\n    .dataframe thead th {\n        text-align: right;\n    }\n</style>\n<table border=\"1\" class=\"dataframe\">\n  <thead>\n    <tr style=\"text-align: right;\">\n      <th></th>\n      <th>gender</th>\n      <th>race/ethnicity</th>\n      <th>parental level of education</th>\n      <th>lunch</th>\n      <th>test preparation course</th>\n      <th>math score</th>\n      <th>reading score</th>\n      <th>writing score</th>\n    </tr>\n  </thead>\n  <tbody>\n    <tr>\n      <th>0</th>\n      <td>female</td>\n      <td>group B</td>\n      <td>bachelor's degree</td>\n      <td>standard</td>\n      <td>none</td>\n      <td>72</td>\n      <td>72</td>\n      <td>74</td>\n    </tr>\n    <tr>\n      <th>1</th>\n      <td>female</td>\n      <td>group C</td>\n      <td>some college</td>\n      <td>standard</td>\n      <td>completed</td>\n      <td>69</td>\n      <td>90</td>\n      <td>88</td>\n    </tr>\n    <tr>\n      <th>2</th>\n      <td>female</td>\n      <td>group B</td>\n      <td>master's degree</td>\n      <td>standard</td>\n      <td>none</td>\n      <td>90</td>\n      <td>95</td>\n      <td>93</td>\n    </tr>\n    <tr>\n      <th>3</th>\n      <td>male</td>\n      <td>group A</td>\n      <td>associate's degree</td>\n      <td>free/reduced</td>\n      <td>none</td>\n      <td>47</td>\n      <td>57</td>\n      <td>44</td>\n    </tr>\n    <tr>\n      <th>4</th>\n      <td>male</td>\n      <td>group C</td>\n      <td>some college</td>\n      <td>standard</td>\n      <td>none</td>\n      <td>76</td>\n      <td>78</td>\n      <td>75</td>\n    </tr>\n  </tbody>\n</table>\n</div>"
     },
     "execution_count": 141,
     "metadata": {},
     "output_type": "execute_result"
    }
   ],
   "source": [
    "df = pd.read_csv('StudentsPerformance.csv')\n",
    "df.columns = [x.lower().strip() for x in df.columns]\n",
    "df.head()"
   ],
   "metadata": {
    "collapsed": false,
    "pycharm": {
     "name": "#%%\n"
    }
   }
  },
  {
   "cell_type": "code",
   "execution_count": 136,
   "outputs": [
    {
     "data": {
      "text/plain": "0       True\n1       True\n2       True\n3      False\n4       True\n       ...  \n995     True\n996    False\n997    False\n998     True\n999     True\nName: writing score, Length: 1000, dtype: bool"
     },
     "execution_count": 136,
     "metadata": {},
     "output_type": "execute_result"
    }
   ],
   "source": [
    "passingMask = df['writing score'] >= 70\n",
    "passingMask"
   ],
   "metadata": {
    "collapsed": false,
    "pycharm": {
     "name": "#%%\n"
    }
   }
  },
  {
   "cell_type": "code",
   "execution_count": 130,
   "outputs": [
    {
     "data": {
      "text/plain": "     gender race/ethnicity parental level of education         lunch  \\\n0    female        group B           bachelor's degree      standard   \n1    female        group C                some college      standard   \n2    female        group B             master's degree      standard   \n4      male        group C                some college      standard   \n5    female        group B          associate's degree      standard   \n..      ...            ...                         ...           ...   \n992  female        group D          associate's degree  free/reduced   \n993  female        group D           bachelor's degree  free/reduced   \n995  female        group E             master's degree      standard   \n998  female        group D                some college      standard   \n999  female        group D                some college  free/reduced   \n\n    test preparation course  math score  reading score  writing score  \n0                      none        72.0           72.0           74.0  \n1                 completed        69.0           90.0           88.0  \n2                      none        90.0           95.0           93.0  \n4                      none        76.0           78.0           75.0  \n5                      none        71.0           83.0           78.0  \n..                      ...         ...            ...            ...  \n992                    none        55.0           76.0           76.0  \n993                    none        62.0           72.0           74.0  \n995               completed        88.0           99.0           95.0  \n998               completed        68.0           78.0           77.0  \n999                    none        77.0           86.0           86.0  \n\n[489 rows x 8 columns]",
      "text/html": "<div>\n<style scoped>\n    .dataframe tbody tr th:only-of-type {\n        vertical-align: middle;\n    }\n\n    .dataframe tbody tr th {\n        vertical-align: top;\n    }\n\n    .dataframe thead th {\n        text-align: right;\n    }\n</style>\n<table border=\"1\" class=\"dataframe\">\n  <thead>\n    <tr style=\"text-align: right;\">\n      <th></th>\n      <th>gender</th>\n      <th>race/ethnicity</th>\n      <th>parental level of education</th>\n      <th>lunch</th>\n      <th>test preparation course</th>\n      <th>math score</th>\n      <th>reading score</th>\n      <th>writing score</th>\n    </tr>\n  </thead>\n  <tbody>\n    <tr>\n      <th>0</th>\n      <td>female</td>\n      <td>group B</td>\n      <td>bachelor's degree</td>\n      <td>standard</td>\n      <td>none</td>\n      <td>72.0</td>\n      <td>72.0</td>\n      <td>74.0</td>\n    </tr>\n    <tr>\n      <th>1</th>\n      <td>female</td>\n      <td>group C</td>\n      <td>some college</td>\n      <td>standard</td>\n      <td>completed</td>\n      <td>69.0</td>\n      <td>90.0</td>\n      <td>88.0</td>\n    </tr>\n    <tr>\n      <th>2</th>\n      <td>female</td>\n      <td>group B</td>\n      <td>master's degree</td>\n      <td>standard</td>\n      <td>none</td>\n      <td>90.0</td>\n      <td>95.0</td>\n      <td>93.0</td>\n    </tr>\n    <tr>\n      <th>4</th>\n      <td>male</td>\n      <td>group C</td>\n      <td>some college</td>\n      <td>standard</td>\n      <td>none</td>\n      <td>76.0</td>\n      <td>78.0</td>\n      <td>75.0</td>\n    </tr>\n    <tr>\n      <th>5</th>\n      <td>female</td>\n      <td>group B</td>\n      <td>associate's degree</td>\n      <td>standard</td>\n      <td>none</td>\n      <td>71.0</td>\n      <td>83.0</td>\n      <td>78.0</td>\n    </tr>\n    <tr>\n      <th>...</th>\n      <td>...</td>\n      <td>...</td>\n      <td>...</td>\n      <td>...</td>\n      <td>...</td>\n      <td>...</td>\n      <td>...</td>\n      <td>...</td>\n    </tr>\n    <tr>\n      <th>992</th>\n      <td>female</td>\n      <td>group D</td>\n      <td>associate's degree</td>\n      <td>free/reduced</td>\n      <td>none</td>\n      <td>55.0</td>\n      <td>76.0</td>\n      <td>76.0</td>\n    </tr>\n    <tr>\n      <th>993</th>\n      <td>female</td>\n      <td>group D</td>\n      <td>bachelor's degree</td>\n      <td>free/reduced</td>\n      <td>none</td>\n      <td>62.0</td>\n      <td>72.0</td>\n      <td>74.0</td>\n    </tr>\n    <tr>\n      <th>995</th>\n      <td>female</td>\n      <td>group E</td>\n      <td>master's degree</td>\n      <td>standard</td>\n      <td>completed</td>\n      <td>88.0</td>\n      <td>99.0</td>\n      <td>95.0</td>\n    </tr>\n    <tr>\n      <th>998</th>\n      <td>female</td>\n      <td>group D</td>\n      <td>some college</td>\n      <td>standard</td>\n      <td>completed</td>\n      <td>68.0</td>\n      <td>78.0</td>\n      <td>77.0</td>\n    </tr>\n    <tr>\n      <th>999</th>\n      <td>female</td>\n      <td>group D</td>\n      <td>some college</td>\n      <td>free/reduced</td>\n      <td>none</td>\n      <td>77.0</td>\n      <td>86.0</td>\n      <td>86.0</td>\n    </tr>\n  </tbody>\n</table>\n<p>489 rows × 8 columns</p>\n</div>"
     },
     "execution_count": 130,
     "metadata": {},
     "output_type": "execute_result"
    }
   ],
   "source": [
    "df.where(passingMask) # Replaces data with NaN, doesn't remove data"
   ],
   "metadata": {
    "collapsed": false,
    "pycharm": {
     "name": "#%%\n"
    }
   }
  },
  {
   "cell_type": "code",
   "execution_count": 132,
   "outputs": [
    {
     "data": {
      "text/plain": "     gender race/ethnicity parental level of education         lunch  \\\n0    female        group B           bachelor's degree      standard   \n1    female        group C                some college      standard   \n2    female        group B             master's degree      standard   \n4      male        group C                some college      standard   \n5    female        group B          associate's degree      standard   \n..      ...            ...                         ...           ...   \n992  female        group D          associate's degree  free/reduced   \n993  female        group D           bachelor's degree  free/reduced   \n995  female        group E             master's degree      standard   \n998  female        group D                some college      standard   \n999  female        group D                some college  free/reduced   \n\n    test preparation course  math score  reading score  writing score  \n0                      none        72.0           72.0           74.0  \n1                 completed        69.0           90.0           88.0  \n2                      none        90.0           95.0           93.0  \n4                      none        76.0           78.0           75.0  \n5                      none        71.0           83.0           78.0  \n..                      ...         ...            ...            ...  \n992                    none        55.0           76.0           76.0  \n993                    none        62.0           72.0           74.0  \n995               completed        88.0           99.0           95.0  \n998               completed        68.0           78.0           77.0  \n999                    none        77.0           86.0           86.0  \n\n[489 rows x 8 columns]",
      "text/html": "<div>\n<style scoped>\n    .dataframe tbody tr th:only-of-type {\n        vertical-align: middle;\n    }\n\n    .dataframe tbody tr th {\n        vertical-align: top;\n    }\n\n    .dataframe thead th {\n        text-align: right;\n    }\n</style>\n<table border=\"1\" class=\"dataframe\">\n  <thead>\n    <tr style=\"text-align: right;\">\n      <th></th>\n      <th>gender</th>\n      <th>race/ethnicity</th>\n      <th>parental level of education</th>\n      <th>lunch</th>\n      <th>test preparation course</th>\n      <th>math score</th>\n      <th>reading score</th>\n      <th>writing score</th>\n    </tr>\n  </thead>\n  <tbody>\n    <tr>\n      <th>0</th>\n      <td>female</td>\n      <td>group B</td>\n      <td>bachelor's degree</td>\n      <td>standard</td>\n      <td>none</td>\n      <td>72.0</td>\n      <td>72.0</td>\n      <td>74.0</td>\n    </tr>\n    <tr>\n      <th>1</th>\n      <td>female</td>\n      <td>group C</td>\n      <td>some college</td>\n      <td>standard</td>\n      <td>completed</td>\n      <td>69.0</td>\n      <td>90.0</td>\n      <td>88.0</td>\n    </tr>\n    <tr>\n      <th>2</th>\n      <td>female</td>\n      <td>group B</td>\n      <td>master's degree</td>\n      <td>standard</td>\n      <td>none</td>\n      <td>90.0</td>\n      <td>95.0</td>\n      <td>93.0</td>\n    </tr>\n    <tr>\n      <th>4</th>\n      <td>male</td>\n      <td>group C</td>\n      <td>some college</td>\n      <td>standard</td>\n      <td>none</td>\n      <td>76.0</td>\n      <td>78.0</td>\n      <td>75.0</td>\n    </tr>\n    <tr>\n      <th>5</th>\n      <td>female</td>\n      <td>group B</td>\n      <td>associate's degree</td>\n      <td>standard</td>\n      <td>none</td>\n      <td>71.0</td>\n      <td>83.0</td>\n      <td>78.0</td>\n    </tr>\n    <tr>\n      <th>...</th>\n      <td>...</td>\n      <td>...</td>\n      <td>...</td>\n      <td>...</td>\n      <td>...</td>\n      <td>...</td>\n      <td>...</td>\n      <td>...</td>\n    </tr>\n    <tr>\n      <th>992</th>\n      <td>female</td>\n      <td>group D</td>\n      <td>associate's degree</td>\n      <td>free/reduced</td>\n      <td>none</td>\n      <td>55.0</td>\n      <td>76.0</td>\n      <td>76.0</td>\n    </tr>\n    <tr>\n      <th>993</th>\n      <td>female</td>\n      <td>group D</td>\n      <td>bachelor's degree</td>\n      <td>free/reduced</td>\n      <td>none</td>\n      <td>62.0</td>\n      <td>72.0</td>\n      <td>74.0</td>\n    </tr>\n    <tr>\n      <th>995</th>\n      <td>female</td>\n      <td>group E</td>\n      <td>master's degree</td>\n      <td>standard</td>\n      <td>completed</td>\n      <td>88.0</td>\n      <td>99.0</td>\n      <td>95.0</td>\n    </tr>\n    <tr>\n      <th>998</th>\n      <td>female</td>\n      <td>group D</td>\n      <td>some college</td>\n      <td>standard</td>\n      <td>completed</td>\n      <td>68.0</td>\n      <td>78.0</td>\n      <td>77.0</td>\n    </tr>\n    <tr>\n      <th>999</th>\n      <td>female</td>\n      <td>group D</td>\n      <td>some college</td>\n      <td>free/reduced</td>\n      <td>none</td>\n      <td>77.0</td>\n      <td>86.0</td>\n      <td>86.0</td>\n    </tr>\n  </tbody>\n</table>\n<p>489 rows × 8 columns</p>\n</div>"
     },
     "execution_count": 132,
     "metadata": {},
     "output_type": "execute_result"
    }
   ],
   "source": [
    "df.where(passingMask).dropna() # Actually drops things"
   ],
   "metadata": {
    "collapsed": false,
    "pycharm": {
     "name": "#%%\n"
    }
   }
  },
  {
   "cell_type": "code",
   "execution_count": 137,
   "outputs": [
    {
     "data": {
      "text/plain": "     gender race/ethnicity parental level of education         lunch  \\\n0    female        group B           bachelor's degree      standard   \n1    female        group C                some college      standard   \n2    female        group B             master's degree      standard   \n4      male        group C                some college      standard   \n5    female        group B          associate's degree      standard   \n..      ...            ...                         ...           ...   \n992  female        group D          associate's degree  free/reduced   \n993  female        group D           bachelor's degree  free/reduced   \n995  female        group E             master's degree      standard   \n998  female        group D                some college      standard   \n999  female        group D                some college  free/reduced   \n\n    test preparation course  math score  reading score  writing score  \n0                      none          72             72             74  \n1                 completed          69             90             88  \n2                      none          90             95             93  \n4                      none          76             78             75  \n5                      none          71             83             78  \n..                      ...         ...            ...            ...  \n992                    none          55             76             76  \n993                    none          62             72             74  \n995               completed          88             99             95  \n998               completed          68             78             77  \n999                    none          77             86             86  \n\n[489 rows x 8 columns]",
      "text/html": "<div>\n<style scoped>\n    .dataframe tbody tr th:only-of-type {\n        vertical-align: middle;\n    }\n\n    .dataframe tbody tr th {\n        vertical-align: top;\n    }\n\n    .dataframe thead th {\n        text-align: right;\n    }\n</style>\n<table border=\"1\" class=\"dataframe\">\n  <thead>\n    <tr style=\"text-align: right;\">\n      <th></th>\n      <th>gender</th>\n      <th>race/ethnicity</th>\n      <th>parental level of education</th>\n      <th>lunch</th>\n      <th>test preparation course</th>\n      <th>math score</th>\n      <th>reading score</th>\n      <th>writing score</th>\n    </tr>\n  </thead>\n  <tbody>\n    <tr>\n      <th>0</th>\n      <td>female</td>\n      <td>group B</td>\n      <td>bachelor's degree</td>\n      <td>standard</td>\n      <td>none</td>\n      <td>72</td>\n      <td>72</td>\n      <td>74</td>\n    </tr>\n    <tr>\n      <th>1</th>\n      <td>female</td>\n      <td>group C</td>\n      <td>some college</td>\n      <td>standard</td>\n      <td>completed</td>\n      <td>69</td>\n      <td>90</td>\n      <td>88</td>\n    </tr>\n    <tr>\n      <th>2</th>\n      <td>female</td>\n      <td>group B</td>\n      <td>master's degree</td>\n      <td>standard</td>\n      <td>none</td>\n      <td>90</td>\n      <td>95</td>\n      <td>93</td>\n    </tr>\n    <tr>\n      <th>4</th>\n      <td>male</td>\n      <td>group C</td>\n      <td>some college</td>\n      <td>standard</td>\n      <td>none</td>\n      <td>76</td>\n      <td>78</td>\n      <td>75</td>\n    </tr>\n    <tr>\n      <th>5</th>\n      <td>female</td>\n      <td>group B</td>\n      <td>associate's degree</td>\n      <td>standard</td>\n      <td>none</td>\n      <td>71</td>\n      <td>83</td>\n      <td>78</td>\n    </tr>\n    <tr>\n      <th>...</th>\n      <td>...</td>\n      <td>...</td>\n      <td>...</td>\n      <td>...</td>\n      <td>...</td>\n      <td>...</td>\n      <td>...</td>\n      <td>...</td>\n    </tr>\n    <tr>\n      <th>992</th>\n      <td>female</td>\n      <td>group D</td>\n      <td>associate's degree</td>\n      <td>free/reduced</td>\n      <td>none</td>\n      <td>55</td>\n      <td>76</td>\n      <td>76</td>\n    </tr>\n    <tr>\n      <th>993</th>\n      <td>female</td>\n      <td>group D</td>\n      <td>bachelor's degree</td>\n      <td>free/reduced</td>\n      <td>none</td>\n      <td>62</td>\n      <td>72</td>\n      <td>74</td>\n    </tr>\n    <tr>\n      <th>995</th>\n      <td>female</td>\n      <td>group E</td>\n      <td>master's degree</td>\n      <td>standard</td>\n      <td>completed</td>\n      <td>88</td>\n      <td>99</td>\n      <td>95</td>\n    </tr>\n    <tr>\n      <th>998</th>\n      <td>female</td>\n      <td>group D</td>\n      <td>some college</td>\n      <td>standard</td>\n      <td>completed</td>\n      <td>68</td>\n      <td>78</td>\n      <td>77</td>\n    </tr>\n    <tr>\n      <th>999</th>\n      <td>female</td>\n      <td>group D</td>\n      <td>some college</td>\n      <td>free/reduced</td>\n      <td>none</td>\n      <td>77</td>\n      <td>86</td>\n      <td>86</td>\n    </tr>\n  </tbody>\n</table>\n<p>489 rows × 8 columns</p>\n</div>"
     },
     "execution_count": 137,
     "metadata": {},
     "output_type": "execute_result"
    }
   ],
   "source": [
    "df[df['writing score'] >= 70] # Same as where / dropna"
   ],
   "metadata": {
    "collapsed": false,
    "pycharm": {
     "name": "#%%\n"
    }
   }
  },
  {
   "cell_type": "code",
   "execution_count": 138,
   "outputs": [
    {
     "data": {
      "text/plain": "     gender race/ethnicity parental level of education         lunch  \\\n0    female        group B           bachelor's degree      standard   \n1    female        group C                some college      standard   \n2    female        group B             master's degree      standard   \n4      male        group C                some college      standard   \n5    female        group B          associate's degree      standard   \n..      ...            ...                         ...           ...   \n992  female        group D          associate's degree  free/reduced   \n993  female        group D           bachelor's degree  free/reduced   \n995  female        group E             master's degree      standard   \n998  female        group D                some college      standard   \n999  female        group D                some college  free/reduced   \n\n    test preparation course  math score  reading score  writing score  \n0                      none          72             72             74  \n1                 completed          69             90             88  \n2                      none          90             95             93  \n4                      none          76             78             75  \n5                      none          71             83             78  \n..                      ...         ...            ...            ...  \n992                    none          55             76             76  \n993                    none          62             72             74  \n995               completed          88             99             95  \n998               completed          68             78             77  \n999                    none          77             86             86  \n\n[489 rows x 8 columns]",
      "text/html": "<div>\n<style scoped>\n    .dataframe tbody tr th:only-of-type {\n        vertical-align: middle;\n    }\n\n    .dataframe tbody tr th {\n        vertical-align: top;\n    }\n\n    .dataframe thead th {\n        text-align: right;\n    }\n</style>\n<table border=\"1\" class=\"dataframe\">\n  <thead>\n    <tr style=\"text-align: right;\">\n      <th></th>\n      <th>gender</th>\n      <th>race/ethnicity</th>\n      <th>parental level of education</th>\n      <th>lunch</th>\n      <th>test preparation course</th>\n      <th>math score</th>\n      <th>reading score</th>\n      <th>writing score</th>\n    </tr>\n  </thead>\n  <tbody>\n    <tr>\n      <th>0</th>\n      <td>female</td>\n      <td>group B</td>\n      <td>bachelor's degree</td>\n      <td>standard</td>\n      <td>none</td>\n      <td>72</td>\n      <td>72</td>\n      <td>74</td>\n    </tr>\n    <tr>\n      <th>1</th>\n      <td>female</td>\n      <td>group C</td>\n      <td>some college</td>\n      <td>standard</td>\n      <td>completed</td>\n      <td>69</td>\n      <td>90</td>\n      <td>88</td>\n    </tr>\n    <tr>\n      <th>2</th>\n      <td>female</td>\n      <td>group B</td>\n      <td>master's degree</td>\n      <td>standard</td>\n      <td>none</td>\n      <td>90</td>\n      <td>95</td>\n      <td>93</td>\n    </tr>\n    <tr>\n      <th>4</th>\n      <td>male</td>\n      <td>group C</td>\n      <td>some college</td>\n      <td>standard</td>\n      <td>none</td>\n      <td>76</td>\n      <td>78</td>\n      <td>75</td>\n    </tr>\n    <tr>\n      <th>5</th>\n      <td>female</td>\n      <td>group B</td>\n      <td>associate's degree</td>\n      <td>standard</td>\n      <td>none</td>\n      <td>71</td>\n      <td>83</td>\n      <td>78</td>\n    </tr>\n    <tr>\n      <th>...</th>\n      <td>...</td>\n      <td>...</td>\n      <td>...</td>\n      <td>...</td>\n      <td>...</td>\n      <td>...</td>\n      <td>...</td>\n      <td>...</td>\n    </tr>\n    <tr>\n      <th>992</th>\n      <td>female</td>\n      <td>group D</td>\n      <td>associate's degree</td>\n      <td>free/reduced</td>\n      <td>none</td>\n      <td>55</td>\n      <td>76</td>\n      <td>76</td>\n    </tr>\n    <tr>\n      <th>993</th>\n      <td>female</td>\n      <td>group D</td>\n      <td>bachelor's degree</td>\n      <td>free/reduced</td>\n      <td>none</td>\n      <td>62</td>\n      <td>72</td>\n      <td>74</td>\n    </tr>\n    <tr>\n      <th>995</th>\n      <td>female</td>\n      <td>group E</td>\n      <td>master's degree</td>\n      <td>standard</td>\n      <td>completed</td>\n      <td>88</td>\n      <td>99</td>\n      <td>95</td>\n    </tr>\n    <tr>\n      <th>998</th>\n      <td>female</td>\n      <td>group D</td>\n      <td>some college</td>\n      <td>standard</td>\n      <td>completed</td>\n      <td>68</td>\n      <td>78</td>\n      <td>77</td>\n    </tr>\n    <tr>\n      <th>999</th>\n      <td>female</td>\n      <td>group D</td>\n      <td>some college</td>\n      <td>free/reduced</td>\n      <td>none</td>\n      <td>77</td>\n      <td>86</td>\n      <td>86</td>\n    </tr>\n  </tbody>\n</table>\n<p>489 rows × 8 columns</p>\n</div>"
     },
     "execution_count": 138,
     "metadata": {},
     "output_type": "execute_result"
    }
   ],
   "source": [
    "df[passingMask]"
   ],
   "metadata": {
    "collapsed": false,
    "pycharm": {
     "name": "#%%\n"
    }
   }
  },
  {
   "cell_type": "code",
   "execution_count": 140,
   "outputs": [
    {
     "data": {
      "text/plain": "     writing score  reading score\n0               74             72\n1               88             90\n2               93             95\n3               44             57\n4               75             78\n..             ...            ...\n995             95             99\n996             55             55\n997             65             71\n998             77             78\n999             86             86\n\n[1000 rows x 2 columns]",
      "text/html": "<div>\n<style scoped>\n    .dataframe tbody tr th:only-of-type {\n        vertical-align: middle;\n    }\n\n    .dataframe tbody tr th {\n        vertical-align: top;\n    }\n\n    .dataframe thead th {\n        text-align: right;\n    }\n</style>\n<table border=\"1\" class=\"dataframe\">\n  <thead>\n    <tr style=\"text-align: right;\">\n      <th></th>\n      <th>writing score</th>\n      <th>reading score</th>\n    </tr>\n  </thead>\n  <tbody>\n    <tr>\n      <th>0</th>\n      <td>74</td>\n      <td>72</td>\n    </tr>\n    <tr>\n      <th>1</th>\n      <td>88</td>\n      <td>90</td>\n    </tr>\n    <tr>\n      <th>2</th>\n      <td>93</td>\n      <td>95</td>\n    </tr>\n    <tr>\n      <th>3</th>\n      <td>44</td>\n      <td>57</td>\n    </tr>\n    <tr>\n      <th>4</th>\n      <td>75</td>\n      <td>78</td>\n    </tr>\n    <tr>\n      <th>...</th>\n      <td>...</td>\n      <td>...</td>\n    </tr>\n    <tr>\n      <th>995</th>\n      <td>95</td>\n      <td>99</td>\n    </tr>\n    <tr>\n      <th>996</th>\n      <td>55</td>\n      <td>55</td>\n    </tr>\n    <tr>\n      <th>997</th>\n      <td>65</td>\n      <td>71</td>\n    </tr>\n    <tr>\n      <th>998</th>\n      <td>77</td>\n      <td>78</td>\n    </tr>\n    <tr>\n      <th>999</th>\n      <td>86</td>\n      <td>86</td>\n    </tr>\n  </tbody>\n</table>\n<p>1000 rows × 2 columns</p>\n</div>"
     },
     "execution_count": 140,
     "metadata": {},
     "output_type": "execute_result"
    }
   ],
   "source": [
    "df[['writing score', 'reading score']]"
   ],
   "metadata": {
    "collapsed": false,
    "pycharm": {
     "name": "#%%\n"
    }
   }
  },
  {
   "cell_type": "markdown",
   "source": [
    "## Combining Masks"
   ],
   "metadata": {
    "collapsed": false,
    "pycharm": {
     "name": "#%% md\n"
    }
   }
  },
  {
   "cell_type": "code",
   "execution_count": 149,
   "outputs": [
    {
     "data": {
      "text/plain": "     gender race/ethnicity parental level of education         lunch  \\\n0    female        group B           bachelor's degree      standard   \n2    female        group B             master's degree      standard   \n4      male        group C                some college      standard   \n5    female        group B          associate's degree      standard   \n6    female        group B                some college      standard   \n..      ...            ...                         ...           ...   \n984  female        group C            some high school      standard   \n987    male        group E            some high school      standard   \n990    male        group E                 high school  free/reduced   \n995  female        group E             master's degree      standard   \n999  female        group D                some college  free/reduced   \n\n    test preparation course  math score  reading score  writing score  \n0                      none          72             72             74  \n2                      none          90             95             93  \n4                      none          76             78             75  \n5                      none          71             83             78  \n6                 completed          88             95             92  \n..                      ...         ...            ...            ...  \n984                    none          74             75             82  \n987               completed          81             75             76  \n990               completed          86             81             75  \n995               completed          88             99             95  \n999                    none          77             86             86  \n\n[324 rows x 8 columns]",
      "text/html": "<div>\n<style scoped>\n    .dataframe tbody tr th:only-of-type {\n        vertical-align: middle;\n    }\n\n    .dataframe tbody tr th {\n        vertical-align: top;\n    }\n\n    .dataframe thead th {\n        text-align: right;\n    }\n</style>\n<table border=\"1\" class=\"dataframe\">\n  <thead>\n    <tr style=\"text-align: right;\">\n      <th></th>\n      <th>gender</th>\n      <th>race/ethnicity</th>\n      <th>parental level of education</th>\n      <th>lunch</th>\n      <th>test preparation course</th>\n      <th>math score</th>\n      <th>reading score</th>\n      <th>writing score</th>\n    </tr>\n  </thead>\n  <tbody>\n    <tr>\n      <th>0</th>\n      <td>female</td>\n      <td>group B</td>\n      <td>bachelor's degree</td>\n      <td>standard</td>\n      <td>none</td>\n      <td>72</td>\n      <td>72</td>\n      <td>74</td>\n    </tr>\n    <tr>\n      <th>2</th>\n      <td>female</td>\n      <td>group B</td>\n      <td>master's degree</td>\n      <td>standard</td>\n      <td>none</td>\n      <td>90</td>\n      <td>95</td>\n      <td>93</td>\n    </tr>\n    <tr>\n      <th>4</th>\n      <td>male</td>\n      <td>group C</td>\n      <td>some college</td>\n      <td>standard</td>\n      <td>none</td>\n      <td>76</td>\n      <td>78</td>\n      <td>75</td>\n    </tr>\n    <tr>\n      <th>5</th>\n      <td>female</td>\n      <td>group B</td>\n      <td>associate's degree</td>\n      <td>standard</td>\n      <td>none</td>\n      <td>71</td>\n      <td>83</td>\n      <td>78</td>\n    </tr>\n    <tr>\n      <th>6</th>\n      <td>female</td>\n      <td>group B</td>\n      <td>some college</td>\n      <td>standard</td>\n      <td>completed</td>\n      <td>88</td>\n      <td>95</td>\n      <td>92</td>\n    </tr>\n    <tr>\n      <th>...</th>\n      <td>...</td>\n      <td>...</td>\n      <td>...</td>\n      <td>...</td>\n      <td>...</td>\n      <td>...</td>\n      <td>...</td>\n      <td>...</td>\n    </tr>\n    <tr>\n      <th>984</th>\n      <td>female</td>\n      <td>group C</td>\n      <td>some high school</td>\n      <td>standard</td>\n      <td>none</td>\n      <td>74</td>\n      <td>75</td>\n      <td>82</td>\n    </tr>\n    <tr>\n      <th>987</th>\n      <td>male</td>\n      <td>group E</td>\n      <td>some high school</td>\n      <td>standard</td>\n      <td>completed</td>\n      <td>81</td>\n      <td>75</td>\n      <td>76</td>\n    </tr>\n    <tr>\n      <th>990</th>\n      <td>male</td>\n      <td>group E</td>\n      <td>high school</td>\n      <td>free/reduced</td>\n      <td>completed</td>\n      <td>86</td>\n      <td>81</td>\n      <td>75</td>\n    </tr>\n    <tr>\n      <th>995</th>\n      <td>female</td>\n      <td>group E</td>\n      <td>master's degree</td>\n      <td>standard</td>\n      <td>completed</td>\n      <td>88</td>\n      <td>99</td>\n      <td>95</td>\n    </tr>\n    <tr>\n      <th>999</th>\n      <td>female</td>\n      <td>group D</td>\n      <td>some college</td>\n      <td>free/reduced</td>\n      <td>none</td>\n      <td>77</td>\n      <td>86</td>\n      <td>86</td>\n    </tr>\n  </tbody>\n</table>\n<p>324 rows × 8 columns</p>\n</div>"
     },
     "execution_count": 149,
     "metadata": {},
     "output_type": "execute_result"
    }
   ],
   "source": [
    "passingMask = (df['writing score'] >= 70) & (df['reading score'] >= 70) & (df['math score'] >= 70)\n",
    "df[passingMask]"
   ],
   "metadata": {
    "collapsed": false,
    "pycharm": {
     "name": "#%%\n"
    }
   }
  },
  {
   "cell_type": "code",
   "execution_count": 152,
   "outputs": [
    {
     "data": {
      "text/plain": "     gender race/ethnicity parental level of education         lunch  \\\n0    female        group B           bachelor's degree      standard   \n2    female        group B             master's degree      standard   \n4      male        group C                some college      standard   \n5    female        group B          associate's degree      standard   \n6    female        group B                some college      standard   \n..      ...            ...                         ...           ...   \n984  female        group C            some high school      standard   \n987    male        group E            some high school      standard   \n990    male        group E                 high school  free/reduced   \n995  female        group E             master's degree      standard   \n999  female        group D                some college  free/reduced   \n\n    test preparation course  math score  reading score  writing score  \n0                      none          72             72             74  \n2                      none          90             95             93  \n4                      none          76             78             75  \n5                      none          71             83             78  \n6                 completed          88             95             92  \n..                      ...         ...            ...            ...  \n984                    none          74             75             82  \n987               completed          81             75             76  \n990               completed          86             81             75  \n995               completed          88             99             95  \n999                    none          77             86             86  \n\n[324 rows x 8 columns]",
      "text/html": "<div>\n<style scoped>\n    .dataframe tbody tr th:only-of-type {\n        vertical-align: middle;\n    }\n\n    .dataframe tbody tr th {\n        vertical-align: top;\n    }\n\n    .dataframe thead th {\n        text-align: right;\n    }\n</style>\n<table border=\"1\" class=\"dataframe\">\n  <thead>\n    <tr style=\"text-align: right;\">\n      <th></th>\n      <th>gender</th>\n      <th>race/ethnicity</th>\n      <th>parental level of education</th>\n      <th>lunch</th>\n      <th>test preparation course</th>\n      <th>math score</th>\n      <th>reading score</th>\n      <th>writing score</th>\n    </tr>\n  </thead>\n  <tbody>\n    <tr>\n      <th>0</th>\n      <td>female</td>\n      <td>group B</td>\n      <td>bachelor's degree</td>\n      <td>standard</td>\n      <td>none</td>\n      <td>72</td>\n      <td>72</td>\n      <td>74</td>\n    </tr>\n    <tr>\n      <th>2</th>\n      <td>female</td>\n      <td>group B</td>\n      <td>master's degree</td>\n      <td>standard</td>\n      <td>none</td>\n      <td>90</td>\n      <td>95</td>\n      <td>93</td>\n    </tr>\n    <tr>\n      <th>4</th>\n      <td>male</td>\n      <td>group C</td>\n      <td>some college</td>\n      <td>standard</td>\n      <td>none</td>\n      <td>76</td>\n      <td>78</td>\n      <td>75</td>\n    </tr>\n    <tr>\n      <th>5</th>\n      <td>female</td>\n      <td>group B</td>\n      <td>associate's degree</td>\n      <td>standard</td>\n      <td>none</td>\n      <td>71</td>\n      <td>83</td>\n      <td>78</td>\n    </tr>\n    <tr>\n      <th>6</th>\n      <td>female</td>\n      <td>group B</td>\n      <td>some college</td>\n      <td>standard</td>\n      <td>completed</td>\n      <td>88</td>\n      <td>95</td>\n      <td>92</td>\n    </tr>\n    <tr>\n      <th>...</th>\n      <td>...</td>\n      <td>...</td>\n      <td>...</td>\n      <td>...</td>\n      <td>...</td>\n      <td>...</td>\n      <td>...</td>\n      <td>...</td>\n    </tr>\n    <tr>\n      <th>984</th>\n      <td>female</td>\n      <td>group C</td>\n      <td>some high school</td>\n      <td>standard</td>\n      <td>none</td>\n      <td>74</td>\n      <td>75</td>\n      <td>82</td>\n    </tr>\n    <tr>\n      <th>987</th>\n      <td>male</td>\n      <td>group E</td>\n      <td>some high school</td>\n      <td>standard</td>\n      <td>completed</td>\n      <td>81</td>\n      <td>75</td>\n      <td>76</td>\n    </tr>\n    <tr>\n      <th>990</th>\n      <td>male</td>\n      <td>group E</td>\n      <td>high school</td>\n      <td>free/reduced</td>\n      <td>completed</td>\n      <td>86</td>\n      <td>81</td>\n      <td>75</td>\n    </tr>\n    <tr>\n      <th>995</th>\n      <td>female</td>\n      <td>group E</td>\n      <td>master's degree</td>\n      <td>standard</td>\n      <td>completed</td>\n      <td>88</td>\n      <td>99</td>\n      <td>95</td>\n    </tr>\n    <tr>\n      <th>999</th>\n      <td>female</td>\n      <td>group D</td>\n      <td>some college</td>\n      <td>free/reduced</td>\n      <td>none</td>\n      <td>77</td>\n      <td>86</td>\n      <td>86</td>\n    </tr>\n  </tbody>\n</table>\n<p>324 rows × 8 columns</p>\n</div>"
     },
     "execution_count": 152,
     "metadata": {},
     "output_type": "execute_result"
    }
   ],
   "source": [
    "passingMask = df['writing score'].ge(70) & df['reading score'].ge(70) & df['math score'].ge(70)\n",
    "df[passingMask]\n",
    "# df['writing score'].ge(70)['reading score'].ge(70)['math score'].ge(70)"
   ],
   "metadata": {
    "collapsed": false,
    "pycharm": {
     "name": "#%%\n"
    }
   }
  },
  {
   "cell_type": "markdown",
   "source": [
    "## Indexing Data Frames"
   ],
   "metadata": {
    "collapsed": false,
    "pycharm": {
     "name": "#%% md\n"
    }
   }
  },
  {
   "cell_type": "code",
   "execution_count": 203,
   "outputs": [
    {
     "data": {
      "text/plain": "   gender race/ethnicity parental level of education         lunch  \\\n0  female        group B           bachelor's degree      standard   \n1  female        group C                some college      standard   \n2  female        group B             master's degree      standard   \n3    male        group A          associate's degree  free/reduced   \n4    male        group C                some college      standard   \n\n  test preparation course  math score  reading score  writing score  \n0                    none          72             72             74  \n1               completed          69             90             88  \n2                    none          90             95             93  \n3                    none          47             57             44  \n4                    none          76             78             75  ",
      "text/html": "<div>\n<style scoped>\n    .dataframe tbody tr th:only-of-type {\n        vertical-align: middle;\n    }\n\n    .dataframe tbody tr th {\n        vertical-align: top;\n    }\n\n    .dataframe thead th {\n        text-align: right;\n    }\n</style>\n<table border=\"1\" class=\"dataframe\">\n  <thead>\n    <tr style=\"text-align: right;\">\n      <th></th>\n      <th>gender</th>\n      <th>race/ethnicity</th>\n      <th>parental level of education</th>\n      <th>lunch</th>\n      <th>test preparation course</th>\n      <th>math score</th>\n      <th>reading score</th>\n      <th>writing score</th>\n    </tr>\n  </thead>\n  <tbody>\n    <tr>\n      <th>0</th>\n      <td>female</td>\n      <td>group B</td>\n      <td>bachelor's degree</td>\n      <td>standard</td>\n      <td>none</td>\n      <td>72</td>\n      <td>72</td>\n      <td>74</td>\n    </tr>\n    <tr>\n      <th>1</th>\n      <td>female</td>\n      <td>group C</td>\n      <td>some college</td>\n      <td>standard</td>\n      <td>completed</td>\n      <td>69</td>\n      <td>90</td>\n      <td>88</td>\n    </tr>\n    <tr>\n      <th>2</th>\n      <td>female</td>\n      <td>group B</td>\n      <td>master's degree</td>\n      <td>standard</td>\n      <td>none</td>\n      <td>90</td>\n      <td>95</td>\n      <td>93</td>\n    </tr>\n    <tr>\n      <th>3</th>\n      <td>male</td>\n      <td>group A</td>\n      <td>associate's degree</td>\n      <td>free/reduced</td>\n      <td>none</td>\n      <td>47</td>\n      <td>57</td>\n      <td>44</td>\n    </tr>\n    <tr>\n      <th>4</th>\n      <td>male</td>\n      <td>group C</td>\n      <td>some college</td>\n      <td>standard</td>\n      <td>none</td>\n      <td>76</td>\n      <td>78</td>\n      <td>75</td>\n    </tr>\n  </tbody>\n</table>\n</div>"
     },
     "execution_count": 203,
     "metadata": {},
     "output_type": "execute_result"
    }
   ],
   "source": [
    "df = pd.read_csv('StudentsPerformance.csv')\n",
    "df.columns = [x.lower().strip() for x in df.columns]\n",
    "df.head()"
   ],
   "metadata": {
    "collapsed": false,
    "pycharm": {
     "name": "#%%\n"
    }
   }
  },
  {
   "cell_type": "code",
   "execution_count": 185,
   "outputs": [
    {
     "data": {
      "text/plain": "   gender race/ethnicity parental level of education         lunch  \\\n0  female        group B           bachelor's degree      standard   \n1  female        group C                some college      standard   \n2  female        group B             master's degree      standard   \n3    male        group A          associate's degree  free/reduced   \n4    male        group C                some college      standard   \n\n  test preparation course  math score  reading score  writing score  id  \n0                    none          72             72             74   0  \n1               completed          69             90             88   1  \n2                    none          90             95             93   2  \n3                    none          47             57             44   3  \n4                    none          76             78             75   4  ",
      "text/html": "<div>\n<style scoped>\n    .dataframe tbody tr th:only-of-type {\n        vertical-align: middle;\n    }\n\n    .dataframe tbody tr th {\n        vertical-align: top;\n    }\n\n    .dataframe thead th {\n        text-align: right;\n    }\n</style>\n<table border=\"1\" class=\"dataframe\">\n  <thead>\n    <tr style=\"text-align: right;\">\n      <th></th>\n      <th>gender</th>\n      <th>race/ethnicity</th>\n      <th>parental level of education</th>\n      <th>lunch</th>\n      <th>test preparation course</th>\n      <th>math score</th>\n      <th>reading score</th>\n      <th>writing score</th>\n      <th>id</th>\n    </tr>\n  </thead>\n  <tbody>\n    <tr>\n      <th>0</th>\n      <td>female</td>\n      <td>group B</td>\n      <td>bachelor's degree</td>\n      <td>standard</td>\n      <td>none</td>\n      <td>72</td>\n      <td>72</td>\n      <td>74</td>\n      <td>0</td>\n    </tr>\n    <tr>\n      <th>1</th>\n      <td>female</td>\n      <td>group C</td>\n      <td>some college</td>\n      <td>standard</td>\n      <td>completed</td>\n      <td>69</td>\n      <td>90</td>\n      <td>88</td>\n      <td>1</td>\n    </tr>\n    <tr>\n      <th>2</th>\n      <td>female</td>\n      <td>group B</td>\n      <td>master's degree</td>\n      <td>standard</td>\n      <td>none</td>\n      <td>90</td>\n      <td>95</td>\n      <td>93</td>\n      <td>2</td>\n    </tr>\n    <tr>\n      <th>3</th>\n      <td>male</td>\n      <td>group A</td>\n      <td>associate's degree</td>\n      <td>free/reduced</td>\n      <td>none</td>\n      <td>47</td>\n      <td>57</td>\n      <td>44</td>\n      <td>3</td>\n    </tr>\n    <tr>\n      <th>4</th>\n      <td>male</td>\n      <td>group C</td>\n      <td>some college</td>\n      <td>standard</td>\n      <td>none</td>\n      <td>76</td>\n      <td>78</td>\n      <td>75</td>\n      <td>4</td>\n    </tr>\n  </tbody>\n</table>\n</div>"
     },
     "execution_count": 185,
     "metadata": {},
     "output_type": "execute_result"
    }
   ],
   "source": [
    "df['id'] = df.index\n",
    "df.head()"
   ],
   "metadata": {
    "collapsed": false,
    "pycharm": {
     "name": "#%%\n"
    }
   }
  },
  {
   "cell_type": "code",
   "execution_count": 186,
   "outputs": [
    {
     "data": {
      "text/plain": "                gender parental level of education         lunch  \\\nrace/ethnicity                                                     \ngroup B         female           bachelor's degree      standard   \ngroup C         female                some college      standard   \ngroup B         female             master's degree      standard   \ngroup A           male          associate's degree  free/reduced   \ngroup C           male                some college      standard   \n...                ...                         ...           ...   \ngroup E         female             master's degree      standard   \ngroup C           male                 high school  free/reduced   \ngroup C         female                 high school  free/reduced   \ngroup D         female                some college      standard   \ngroup D         female                some college  free/reduced   \n\n               test preparation course  math score  reading score  \\\nrace/ethnicity                                                      \ngroup B                           none          72             72   \ngroup C                      completed          69             90   \ngroup B                           none          90             95   \ngroup A                           none          47             57   \ngroup C                           none          76             78   \n...                                ...         ...            ...   \ngroup E                      completed          88             99   \ngroup C                           none          62             55   \ngroup C                      completed          59             71   \ngroup D                      completed          68             78   \ngroup D                           none          77             86   \n\n                writing score   id  \nrace/ethnicity                      \ngroup B                    74    0  \ngroup C                    88    1  \ngroup B                    93    2  \ngroup A                    44    3  \ngroup C                    75    4  \n...                       ...  ...  \ngroup E                    95  995  \ngroup C                    55  996  \ngroup C                    65  997  \ngroup D                    77  998  \ngroup D                    86  999  \n\n[1000 rows x 8 columns]",
      "text/html": "<div>\n<style scoped>\n    .dataframe tbody tr th:only-of-type {\n        vertical-align: middle;\n    }\n\n    .dataframe tbody tr th {\n        vertical-align: top;\n    }\n\n    .dataframe thead th {\n        text-align: right;\n    }\n</style>\n<table border=\"1\" class=\"dataframe\">\n  <thead>\n    <tr style=\"text-align: right;\">\n      <th></th>\n      <th>gender</th>\n      <th>parental level of education</th>\n      <th>lunch</th>\n      <th>test preparation course</th>\n      <th>math score</th>\n      <th>reading score</th>\n      <th>writing score</th>\n      <th>id</th>\n    </tr>\n    <tr>\n      <th>race/ethnicity</th>\n      <th></th>\n      <th></th>\n      <th></th>\n      <th></th>\n      <th></th>\n      <th></th>\n      <th></th>\n      <th></th>\n    </tr>\n  </thead>\n  <tbody>\n    <tr>\n      <th>group B</th>\n      <td>female</td>\n      <td>bachelor's degree</td>\n      <td>standard</td>\n      <td>none</td>\n      <td>72</td>\n      <td>72</td>\n      <td>74</td>\n      <td>0</td>\n    </tr>\n    <tr>\n      <th>group C</th>\n      <td>female</td>\n      <td>some college</td>\n      <td>standard</td>\n      <td>completed</td>\n      <td>69</td>\n      <td>90</td>\n      <td>88</td>\n      <td>1</td>\n    </tr>\n    <tr>\n      <th>group B</th>\n      <td>female</td>\n      <td>master's degree</td>\n      <td>standard</td>\n      <td>none</td>\n      <td>90</td>\n      <td>95</td>\n      <td>93</td>\n      <td>2</td>\n    </tr>\n    <tr>\n      <th>group A</th>\n      <td>male</td>\n      <td>associate's degree</td>\n      <td>free/reduced</td>\n      <td>none</td>\n      <td>47</td>\n      <td>57</td>\n      <td>44</td>\n      <td>3</td>\n    </tr>\n    <tr>\n      <th>group C</th>\n      <td>male</td>\n      <td>some college</td>\n      <td>standard</td>\n      <td>none</td>\n      <td>76</td>\n      <td>78</td>\n      <td>75</td>\n      <td>4</td>\n    </tr>\n    <tr>\n      <th>...</th>\n      <td>...</td>\n      <td>...</td>\n      <td>...</td>\n      <td>...</td>\n      <td>...</td>\n      <td>...</td>\n      <td>...</td>\n      <td>...</td>\n    </tr>\n    <tr>\n      <th>group E</th>\n      <td>female</td>\n      <td>master's degree</td>\n      <td>standard</td>\n      <td>completed</td>\n      <td>88</td>\n      <td>99</td>\n      <td>95</td>\n      <td>995</td>\n    </tr>\n    <tr>\n      <th>group C</th>\n      <td>male</td>\n      <td>high school</td>\n      <td>free/reduced</td>\n      <td>none</td>\n      <td>62</td>\n      <td>55</td>\n      <td>55</td>\n      <td>996</td>\n    </tr>\n    <tr>\n      <th>group C</th>\n      <td>female</td>\n      <td>high school</td>\n      <td>free/reduced</td>\n      <td>completed</td>\n      <td>59</td>\n      <td>71</td>\n      <td>65</td>\n      <td>997</td>\n    </tr>\n    <tr>\n      <th>group D</th>\n      <td>female</td>\n      <td>some college</td>\n      <td>standard</td>\n      <td>completed</td>\n      <td>68</td>\n      <td>78</td>\n      <td>77</td>\n      <td>998</td>\n    </tr>\n    <tr>\n      <th>group D</th>\n      <td>female</td>\n      <td>some college</td>\n      <td>free/reduced</td>\n      <td>none</td>\n      <td>77</td>\n      <td>86</td>\n      <td>86</td>\n      <td>999</td>\n    </tr>\n  </tbody>\n</table>\n<p>1000 rows × 8 columns</p>\n</div>"
     },
     "execution_count": 186,
     "metadata": {},
     "output_type": "execute_result"
    }
   ],
   "source": [
    "df = df.set_index('race/ethnicity')\n",
    "df"
   ],
   "metadata": {
    "collapsed": false,
    "pycharm": {
     "name": "#%%\n"
    }
   }
  },
  {
   "cell_type": "code",
   "execution_count": 187,
   "outputs": [
    {
     "data": {
      "text/plain": "  race/ethnicity  gender parental level of education         lunch  \\\n0        group B  female           bachelor's degree      standard   \n1        group C  female                some college      standard   \n2        group B  female             master's degree      standard   \n3        group A    male          associate's degree  free/reduced   \n4        group C    male                some college      standard   \n\n  test preparation course  math score  reading score  writing score  id  \n0                    none          72             72             74   0  \n1               completed          69             90             88   1  \n2                    none          90             95             93   2  \n3                    none          47             57             44   3  \n4                    none          76             78             75   4  ",
      "text/html": "<div>\n<style scoped>\n    .dataframe tbody tr th:only-of-type {\n        vertical-align: middle;\n    }\n\n    .dataframe tbody tr th {\n        vertical-align: top;\n    }\n\n    .dataframe thead th {\n        text-align: right;\n    }\n</style>\n<table border=\"1\" class=\"dataframe\">\n  <thead>\n    <tr style=\"text-align: right;\">\n      <th></th>\n      <th>race/ethnicity</th>\n      <th>gender</th>\n      <th>parental level of education</th>\n      <th>lunch</th>\n      <th>test preparation course</th>\n      <th>math score</th>\n      <th>reading score</th>\n      <th>writing score</th>\n      <th>id</th>\n    </tr>\n  </thead>\n  <tbody>\n    <tr>\n      <th>0</th>\n      <td>group B</td>\n      <td>female</td>\n      <td>bachelor's degree</td>\n      <td>standard</td>\n      <td>none</td>\n      <td>72</td>\n      <td>72</td>\n      <td>74</td>\n      <td>0</td>\n    </tr>\n    <tr>\n      <th>1</th>\n      <td>group C</td>\n      <td>female</td>\n      <td>some college</td>\n      <td>standard</td>\n      <td>completed</td>\n      <td>69</td>\n      <td>90</td>\n      <td>88</td>\n      <td>1</td>\n    </tr>\n    <tr>\n      <th>2</th>\n      <td>group B</td>\n      <td>female</td>\n      <td>master's degree</td>\n      <td>standard</td>\n      <td>none</td>\n      <td>90</td>\n      <td>95</td>\n      <td>93</td>\n      <td>2</td>\n    </tr>\n    <tr>\n      <th>3</th>\n      <td>group A</td>\n      <td>male</td>\n      <td>associate's degree</td>\n      <td>free/reduced</td>\n      <td>none</td>\n      <td>47</td>\n      <td>57</td>\n      <td>44</td>\n      <td>3</td>\n    </tr>\n    <tr>\n      <th>4</th>\n      <td>group C</td>\n      <td>male</td>\n      <td>some college</td>\n      <td>standard</td>\n      <td>none</td>\n      <td>76</td>\n      <td>78</td>\n      <td>75</td>\n      <td>4</td>\n    </tr>\n  </tbody>\n</table>\n</div>"
     },
     "execution_count": 187,
     "metadata": {},
     "output_type": "execute_result"
    }
   ],
   "source": [
    "df = df.reset_index()\n",
    "df.head()"
   ],
   "metadata": {
    "collapsed": false,
    "pycharm": {
     "name": "#%%\n"
    }
   }
  },
  {
   "cell_type": "code",
   "execution_count": 194,
   "outputs": [
    {
     "data": {
      "text/plain": "                                            gender     lunch  \\\nrace/ethnicity parental level of education                     \ngroup B        bachelor's degree            female  standard   \ngroup C        some college                 female  standard   \ngroup B        master's degree              female  standard   \ngroup C        some college                   male  standard   \ngroup B        associate's degree           female  standard   \n\n                                           test preparation course  \\\nrace/ethnicity parental level of education                           \ngroup B        bachelor's degree                              none   \ngroup C        some college                              completed   \ngroup B        master's degree                                none   \ngroup C        some college                                   none   \ngroup B        associate's degree                             none   \n\n                                            math score  reading score  \\\nrace/ethnicity parental level of education                              \ngroup B        bachelor's degree                    72             72   \ngroup C        some college                         69             90   \ngroup B        master's degree                      90             95   \ngroup C        some college                         76             78   \ngroup B        associate's degree                   71             83   \n\n                                            writing score  \nrace/ethnicity parental level of education                 \ngroup B        bachelor's degree                       74  \ngroup C        some college                            88  \ngroup B        master's degree                         93  \ngroup C        some college                            75  \ngroup B        associate's degree                      78  ",
      "text/html": "<div>\n<style scoped>\n    .dataframe tbody tr th:only-of-type {\n        vertical-align: middle;\n    }\n\n    .dataframe tbody tr th {\n        vertical-align: top;\n    }\n\n    .dataframe thead th {\n        text-align: right;\n    }\n</style>\n<table border=\"1\" class=\"dataframe\">\n  <thead>\n    <tr style=\"text-align: right;\">\n      <th></th>\n      <th></th>\n      <th>gender</th>\n      <th>lunch</th>\n      <th>test preparation course</th>\n      <th>math score</th>\n      <th>reading score</th>\n      <th>writing score</th>\n    </tr>\n    <tr>\n      <th>race/ethnicity</th>\n      <th>parental level of education</th>\n      <th></th>\n      <th></th>\n      <th></th>\n      <th></th>\n      <th></th>\n      <th></th>\n    </tr>\n  </thead>\n  <tbody>\n    <tr>\n      <th>group B</th>\n      <th>bachelor's degree</th>\n      <td>female</td>\n      <td>standard</td>\n      <td>none</td>\n      <td>72</td>\n      <td>72</td>\n      <td>74</td>\n    </tr>\n    <tr>\n      <th>group C</th>\n      <th>some college</th>\n      <td>female</td>\n      <td>standard</td>\n      <td>completed</td>\n      <td>69</td>\n      <td>90</td>\n      <td>88</td>\n    </tr>\n    <tr>\n      <th>group B</th>\n      <th>master's degree</th>\n      <td>female</td>\n      <td>standard</td>\n      <td>none</td>\n      <td>90</td>\n      <td>95</td>\n      <td>93</td>\n    </tr>\n    <tr>\n      <th>group C</th>\n      <th>some college</th>\n      <td>male</td>\n      <td>standard</td>\n      <td>none</td>\n      <td>76</td>\n      <td>78</td>\n      <td>75</td>\n    </tr>\n    <tr>\n      <th>group B</th>\n      <th>associate's degree</th>\n      <td>female</td>\n      <td>standard</td>\n      <td>none</td>\n      <td>71</td>\n      <td>83</td>\n      <td>78</td>\n    </tr>\n  </tbody>\n</table>\n</div>"
     },
     "execution_count": 194,
     "metadata": {},
     "output_type": "execute_result"
    }
   ],
   "source": [
    "df = df.set_index(['race/ethnicity', 'parental level of education'])\n",
    "df.head()"
   ],
   "metadata": {
    "collapsed": false,
    "pycharm": {
     "name": "#%%\n"
    }
   }
  },
  {
   "cell_type": "code",
   "execution_count": 189,
   "outputs": [
    {
     "data": {
      "text/plain": "array(['female', 'male'], dtype=object)"
     },
     "execution_count": 189,
     "metadata": {},
     "output_type": "execute_result"
    }
   ],
   "source": [
    "df['gender'].unique()"
   ],
   "metadata": {
    "collapsed": false,
    "pycharm": {
     "name": "#%%\n"
    }
   }
  },
  {
   "cell_type": "code",
   "execution_count": 198,
   "outputs": [
    {
     "data": {
      "text/plain": "                                            gender     lunch  \\\nrace/ethnicity parental level of education                     \ngroup B        bachelor's degree            female  standard   \ngroup C        some college                 female  standard   \ngroup B        master's degree              female  standard   \ngroup C        some college                   male  standard   \ngroup B        associate's degree           female  standard   \n...                                            ...       ...   \ngroup E        some high school               male  standard   \ngroup B        some high school             female  standard   \ngroup A        high school                    male  standard   \ngroup E        master's degree              female  standard   \ngroup D        some college                 female  standard   \n\n                                           test preparation course  \\\nrace/ethnicity parental level of education                           \ngroup B        bachelor's degree                              none   \ngroup C        some college                              completed   \ngroup B        master's degree                                none   \ngroup C        some college                                   none   \ngroup B        associate's degree                             none   \n...                                                            ...   \ngroup E        some high school                          completed   \ngroup B        some high school                          completed   \ngroup A        high school                                    none   \ngroup E        master's degree                           completed   \ngroup D        some college                              completed   \n\n                                            math score  reading score  \\\nrace/ethnicity parental level of education                              \ngroup B        bachelor's degree                    72             72   \ngroup C        some college                         69             90   \ngroup B        master's degree                      90             95   \ngroup C        some college                         76             78   \ngroup B        associate's degree                   71             83   \n...                                                ...            ...   \ngroup E        some high school                     81             75   \ngroup B        some high school                     65             82   \ngroup A        high school                          63             63   \ngroup E        master's degree                      88             99   \ngroup D        some college                         68             78   \n\n                                            writing score  \nrace/ethnicity parental level of education                 \ngroup B        bachelor's degree                       74  \ngroup C        some college                            88  \ngroup B        master's degree                         93  \ngroup C        some college                            75  \ngroup B        associate's degree                      78  \n...                                                   ...  \ngroup E        some high school                        76  \ngroup B        some high school                        78  \ngroup A        high school                             62  \ngroup E        master's degree                         95  \ngroup D        some college                            77  \n\n[645 rows x 6 columns]",
      "text/html": "<div>\n<style scoped>\n    .dataframe tbody tr th:only-of-type {\n        vertical-align: middle;\n    }\n\n    .dataframe tbody tr th {\n        vertical-align: top;\n    }\n\n    .dataframe thead th {\n        text-align: right;\n    }\n</style>\n<table border=\"1\" class=\"dataframe\">\n  <thead>\n    <tr style=\"text-align: right;\">\n      <th></th>\n      <th></th>\n      <th>gender</th>\n      <th>lunch</th>\n      <th>test preparation course</th>\n      <th>math score</th>\n      <th>reading score</th>\n      <th>writing score</th>\n    </tr>\n    <tr>\n      <th>race/ethnicity</th>\n      <th>parental level of education</th>\n      <th></th>\n      <th></th>\n      <th></th>\n      <th></th>\n      <th></th>\n      <th></th>\n    </tr>\n  </thead>\n  <tbody>\n    <tr>\n      <th>group B</th>\n      <th>bachelor's degree</th>\n      <td>female</td>\n      <td>standard</td>\n      <td>none</td>\n      <td>72</td>\n      <td>72</td>\n      <td>74</td>\n    </tr>\n    <tr>\n      <th>group C</th>\n      <th>some college</th>\n      <td>female</td>\n      <td>standard</td>\n      <td>completed</td>\n      <td>69</td>\n      <td>90</td>\n      <td>88</td>\n    </tr>\n    <tr>\n      <th>group B</th>\n      <th>master's degree</th>\n      <td>female</td>\n      <td>standard</td>\n      <td>none</td>\n      <td>90</td>\n      <td>95</td>\n      <td>93</td>\n    </tr>\n    <tr>\n      <th>group C</th>\n      <th>some college</th>\n      <td>male</td>\n      <td>standard</td>\n      <td>none</td>\n      <td>76</td>\n      <td>78</td>\n      <td>75</td>\n    </tr>\n    <tr>\n      <th>group B</th>\n      <th>associate's degree</th>\n      <td>female</td>\n      <td>standard</td>\n      <td>none</td>\n      <td>71</td>\n      <td>83</td>\n      <td>78</td>\n    </tr>\n    <tr>\n      <th>...</th>\n      <th>...</th>\n      <td>...</td>\n      <td>...</td>\n      <td>...</td>\n      <td>...</td>\n      <td>...</td>\n      <td>...</td>\n    </tr>\n    <tr>\n      <th>group E</th>\n      <th>some high school</th>\n      <td>male</td>\n      <td>standard</td>\n      <td>completed</td>\n      <td>81</td>\n      <td>75</td>\n      <td>76</td>\n    </tr>\n    <tr>\n      <th>group B</th>\n      <th>some high school</th>\n      <td>female</td>\n      <td>standard</td>\n      <td>completed</td>\n      <td>65</td>\n      <td>82</td>\n      <td>78</td>\n    </tr>\n    <tr>\n      <th>group A</th>\n      <th>high school</th>\n      <td>male</td>\n      <td>standard</td>\n      <td>none</td>\n      <td>63</td>\n      <td>63</td>\n      <td>62</td>\n    </tr>\n    <tr>\n      <th>group E</th>\n      <th>master's degree</th>\n      <td>female</td>\n      <td>standard</td>\n      <td>completed</td>\n      <td>88</td>\n      <td>99</td>\n      <td>95</td>\n    </tr>\n    <tr>\n      <th>group D</th>\n      <th>some college</th>\n      <td>female</td>\n      <td>standard</td>\n      <td>completed</td>\n      <td>68</td>\n      <td>78</td>\n      <td>77</td>\n    </tr>\n  </tbody>\n</table>\n<p>645 rows × 6 columns</p>\n</div>"
     },
     "execution_count": 198,
     "metadata": {},
     "output_type": "execute_result"
    }
   ],
   "source": [
    "df = df[df['lunch'] == 'standard']\n",
    "df"
   ],
   "metadata": {
    "collapsed": false,
    "pycharm": {
     "name": "#%%\n"
    }
   }
  },
  {
   "cell_type": "code",
   "execution_count": 204,
   "outputs": [
    {
     "data": {
      "text/plain": "     gender test preparation course  math score  reading score  writing score\n0    female                    none          72             72             74\n1    female               completed          69             90             88\n2    female                    none          90             95             93\n3      male                    none          47             57             44\n4      male                    none          76             78             75\n..      ...                     ...         ...            ...            ...\n995  female               completed          88             99             95\n996    male                    none          62             55             55\n997  female               completed          59             71             65\n998  female               completed          68             78             77\n999  female                    none          77             86             86\n\n[1000 rows x 5 columns]",
      "text/html": "<div>\n<style scoped>\n    .dataframe tbody tr th:only-of-type {\n        vertical-align: middle;\n    }\n\n    .dataframe tbody tr th {\n        vertical-align: top;\n    }\n\n    .dataframe thead th {\n        text-align: right;\n    }\n</style>\n<table border=\"1\" class=\"dataframe\">\n  <thead>\n    <tr style=\"text-align: right;\">\n      <th></th>\n      <th>gender</th>\n      <th>test preparation course</th>\n      <th>math score</th>\n      <th>reading score</th>\n      <th>writing score</th>\n    </tr>\n  </thead>\n  <tbody>\n    <tr>\n      <th>0</th>\n      <td>female</td>\n      <td>none</td>\n      <td>72</td>\n      <td>72</td>\n      <td>74</td>\n    </tr>\n    <tr>\n      <th>1</th>\n      <td>female</td>\n      <td>completed</td>\n      <td>69</td>\n      <td>90</td>\n      <td>88</td>\n    </tr>\n    <tr>\n      <th>2</th>\n      <td>female</td>\n      <td>none</td>\n      <td>90</td>\n      <td>95</td>\n      <td>93</td>\n    </tr>\n    <tr>\n      <th>3</th>\n      <td>male</td>\n      <td>none</td>\n      <td>47</td>\n      <td>57</td>\n      <td>44</td>\n    </tr>\n    <tr>\n      <th>4</th>\n      <td>male</td>\n      <td>none</td>\n      <td>76</td>\n      <td>78</td>\n      <td>75</td>\n    </tr>\n    <tr>\n      <th>...</th>\n      <td>...</td>\n      <td>...</td>\n      <td>...</td>\n      <td>...</td>\n      <td>...</td>\n    </tr>\n    <tr>\n      <th>995</th>\n      <td>female</td>\n      <td>completed</td>\n      <td>88</td>\n      <td>99</td>\n      <td>95</td>\n    </tr>\n    <tr>\n      <th>996</th>\n      <td>male</td>\n      <td>none</td>\n      <td>62</td>\n      <td>55</td>\n      <td>55</td>\n    </tr>\n    <tr>\n      <th>997</th>\n      <td>female</td>\n      <td>completed</td>\n      <td>59</td>\n      <td>71</td>\n      <td>65</td>\n    </tr>\n    <tr>\n      <th>998</th>\n      <td>female</td>\n      <td>completed</td>\n      <td>68</td>\n      <td>78</td>\n      <td>77</td>\n    </tr>\n    <tr>\n      <th>999</th>\n      <td>female</td>\n      <td>none</td>\n      <td>77</td>\n      <td>86</td>\n      <td>86</td>\n    </tr>\n  </tbody>\n</table>\n<p>1000 rows × 5 columns</p>\n</div>"
     },
     "execution_count": 204,
     "metadata": {},
     "output_type": "execute_result"
    }
   ],
   "source": [
    "columns_to_keep = ['gender', 'test preparation course', 'math score', 'reading score', 'writing score']\n",
    "df = df[columns_to_keep]\n",
    "df"
   ],
   "metadata": {
    "collapsed": false,
    "pycharm": {
     "name": "#%%\n"
    }
   }
  },
  {
   "cell_type": "code",
   "execution_count": 206,
   "outputs": [
    {
     "ename": "KeyError",
     "evalue": "\"None of ['test preparation course', 'gender'] are in the columns\"",
     "output_type": "error",
     "traceback": [
      "\u001B[1;31m---------------------------------------------------------------------------\u001B[0m",
      "\u001B[1;31mKeyError\u001B[0m                                  Traceback (most recent call last)",
      "\u001B[1;32m<ipython-input-206-215ff682801f>\u001B[0m in \u001B[0;36m<module>\u001B[1;34m\u001B[0m\n\u001B[1;32m----> 1\u001B[1;33m \u001B[0mdf\u001B[0m \u001B[1;33m=\u001B[0m \u001B[0mdf\u001B[0m\u001B[1;33m.\u001B[0m\u001B[0mset_index\u001B[0m\u001B[1;33m(\u001B[0m\u001B[1;33m[\u001B[0m\u001B[1;34m'test preparation course'\u001B[0m\u001B[1;33m,\u001B[0m \u001B[1;34m'gender'\u001B[0m\u001B[1;33m]\u001B[0m\u001B[1;33m)\u001B[0m\u001B[1;33m\u001B[0m\u001B[1;33m\u001B[0m\u001B[0m\n\u001B[0m\u001B[0;32m      2\u001B[0m \u001B[0mdf\u001B[0m\u001B[1;33m\u001B[0m\u001B[1;33m\u001B[0m\u001B[0m\n",
      "\u001B[1;32mM:\\dev\\envs\\experiments\\lib\\site-packages\\pandas\\util\\_decorators.py\u001B[0m in \u001B[0;36mwrapper\u001B[1;34m(*args, **kwargs)\u001B[0m\n\u001B[0;32m    309\u001B[0m                     \u001B[0mstacklevel\u001B[0m\u001B[1;33m=\u001B[0m\u001B[0mstacklevel\u001B[0m\u001B[1;33m,\u001B[0m\u001B[1;33m\u001B[0m\u001B[1;33m\u001B[0m\u001B[0m\n\u001B[0;32m    310\u001B[0m                 )\n\u001B[1;32m--> 311\u001B[1;33m             \u001B[1;32mreturn\u001B[0m \u001B[0mfunc\u001B[0m\u001B[1;33m(\u001B[0m\u001B[1;33m*\u001B[0m\u001B[0margs\u001B[0m\u001B[1;33m,\u001B[0m \u001B[1;33m**\u001B[0m\u001B[0mkwargs\u001B[0m\u001B[1;33m)\u001B[0m\u001B[1;33m\u001B[0m\u001B[1;33m\u001B[0m\u001B[0m\n\u001B[0m\u001B[0;32m    312\u001B[0m \u001B[1;33m\u001B[0m\u001B[0m\n\u001B[0;32m    313\u001B[0m         \u001B[1;32mreturn\u001B[0m \u001B[0mwrapper\u001B[0m\u001B[1;33m\u001B[0m\u001B[1;33m\u001B[0m\u001B[0m\n",
      "\u001B[1;32mM:\\dev\\envs\\experiments\\lib\\site-packages\\pandas\\core\\frame.py\u001B[0m in \u001B[0;36mset_index\u001B[1;34m(self, keys, drop, append, inplace, verify_integrity)\u001B[0m\n\u001B[0;32m   5444\u001B[0m \u001B[1;33m\u001B[0m\u001B[0m\n\u001B[0;32m   5445\u001B[0m         \u001B[1;32mif\u001B[0m \u001B[0mmissing\u001B[0m\u001B[1;33m:\u001B[0m\u001B[1;33m\u001B[0m\u001B[1;33m\u001B[0m\u001B[0m\n\u001B[1;32m-> 5446\u001B[1;33m             \u001B[1;32mraise\u001B[0m \u001B[0mKeyError\u001B[0m\u001B[1;33m(\u001B[0m\u001B[1;34mf\"None of {missing} are in the columns\"\u001B[0m\u001B[1;33m)\u001B[0m\u001B[1;33m\u001B[0m\u001B[1;33m\u001B[0m\u001B[0m\n\u001B[0m\u001B[0;32m   5447\u001B[0m \u001B[1;33m\u001B[0m\u001B[0m\n\u001B[0;32m   5448\u001B[0m         \u001B[1;32mif\u001B[0m \u001B[0minplace\u001B[0m\u001B[1;33m:\u001B[0m\u001B[1;33m\u001B[0m\u001B[1;33m\u001B[0m\u001B[0m\n",
      "\u001B[1;31mKeyError\u001B[0m: \"None of ['test preparation course', 'gender'] are in the columns\""
     ]
    }
   ],
   "source": [
    "df = df.set_index(['test preparation course', 'gender'])\n",
    "df"
   ],
   "metadata": {
    "collapsed": false,
    "pycharm": {
     "name": "#%%\n"
    }
   }
  },
  {
   "cell_type": "code",
   "execution_count": 207,
   "outputs": [
    {
     "name": "stderr",
     "output_type": "stream",
     "text": [
      "<ipython-input-207-a82578ced6f7>:1: PerformanceWarning: indexing past lexsort depth may impact performance.\n",
      "  df.loc['completed', 'female']\n"
     ]
    },
    {
     "data": {
      "text/plain": "                                math score  reading score  writing score\ntest preparation course gender                                          \ncompleted               female          69             90             88\n                        female          88             95             92\n                        female          65             75             70\n                        female          75             90             88\n                        female          55             65             62\n...                                    ...            ...            ...\n                        female          67             86             83\n                        female          65             82             78\n                        female          88             99             95\n                        female          59             71             65\n                        female          68             78             77\n\n[184 rows x 3 columns]",
      "text/html": "<div>\n<style scoped>\n    .dataframe tbody tr th:only-of-type {\n        vertical-align: middle;\n    }\n\n    .dataframe tbody tr th {\n        vertical-align: top;\n    }\n\n    .dataframe thead th {\n        text-align: right;\n    }\n</style>\n<table border=\"1\" class=\"dataframe\">\n  <thead>\n    <tr style=\"text-align: right;\">\n      <th></th>\n      <th></th>\n      <th>math score</th>\n      <th>reading score</th>\n      <th>writing score</th>\n    </tr>\n    <tr>\n      <th>test preparation course</th>\n      <th>gender</th>\n      <th></th>\n      <th></th>\n      <th></th>\n    </tr>\n  </thead>\n  <tbody>\n    <tr>\n      <th rowspan=\"11\" valign=\"top\">completed</th>\n      <th>female</th>\n      <td>69</td>\n      <td>90</td>\n      <td>88</td>\n    </tr>\n    <tr>\n      <th>female</th>\n      <td>88</td>\n      <td>95</td>\n      <td>92</td>\n    </tr>\n    <tr>\n      <th>female</th>\n      <td>65</td>\n      <td>75</td>\n      <td>70</td>\n    </tr>\n    <tr>\n      <th>female</th>\n      <td>75</td>\n      <td>90</td>\n      <td>88</td>\n    </tr>\n    <tr>\n      <th>female</th>\n      <td>55</td>\n      <td>65</td>\n      <td>62</td>\n    </tr>\n    <tr>\n      <th>...</th>\n      <td>...</td>\n      <td>...</td>\n      <td>...</td>\n    </tr>\n    <tr>\n      <th>female</th>\n      <td>67</td>\n      <td>86</td>\n      <td>83</td>\n    </tr>\n    <tr>\n      <th>female</th>\n      <td>65</td>\n      <td>82</td>\n      <td>78</td>\n    </tr>\n    <tr>\n      <th>female</th>\n      <td>88</td>\n      <td>99</td>\n      <td>95</td>\n    </tr>\n    <tr>\n      <th>female</th>\n      <td>59</td>\n      <td>71</td>\n      <td>65</td>\n    </tr>\n    <tr>\n      <th>female</th>\n      <td>68</td>\n      <td>78</td>\n      <td>77</td>\n    </tr>\n  </tbody>\n</table>\n<p>184 rows × 3 columns</p>\n</div>"
     },
     "execution_count": 207,
     "metadata": {},
     "output_type": "execute_result"
    }
   ],
   "source": [
    "df.loc['completed', 'female']"
   ],
   "metadata": {
    "collapsed": false,
    "pycharm": {
     "name": "#%%\n"
    }
   }
  },
  {
   "cell_type": "code",
   "execution_count": 209,
   "outputs": [
    {
     "data": {
      "text/plain": "                                math score  reading score  writing score\ntest preparation course gender                                          \ncompleted               female          69             90             88\n                        female          88             95             92\n                        female          65             75             70\n                        female          75             90             88\n                        female          55             65             62\n...                                    ...            ...            ...\n                        male            60             62             60\n                        male            55             41             48\n                        male            79             85             86\n                        male            81             75             76\n                        male            86             81             75\n\n[358 rows x 3 columns]",
      "text/html": "<div>\n<style scoped>\n    .dataframe tbody tr th:only-of-type {\n        vertical-align: middle;\n    }\n\n    .dataframe tbody tr th {\n        vertical-align: top;\n    }\n\n    .dataframe thead th {\n        text-align: right;\n    }\n</style>\n<table border=\"1\" class=\"dataframe\">\n  <thead>\n    <tr style=\"text-align: right;\">\n      <th></th>\n      <th></th>\n      <th>math score</th>\n      <th>reading score</th>\n      <th>writing score</th>\n    </tr>\n    <tr>\n      <th>test preparation course</th>\n      <th>gender</th>\n      <th></th>\n      <th></th>\n      <th></th>\n    </tr>\n  </thead>\n  <tbody>\n    <tr>\n      <th rowspan=\"11\" valign=\"top\">completed</th>\n      <th>female</th>\n      <td>69</td>\n      <td>90</td>\n      <td>88</td>\n    </tr>\n    <tr>\n      <th>female</th>\n      <td>88</td>\n      <td>95</td>\n      <td>92</td>\n    </tr>\n    <tr>\n      <th>female</th>\n      <td>65</td>\n      <td>75</td>\n      <td>70</td>\n    </tr>\n    <tr>\n      <th>female</th>\n      <td>75</td>\n      <td>90</td>\n      <td>88</td>\n    </tr>\n    <tr>\n      <th>female</th>\n      <td>55</td>\n      <td>65</td>\n      <td>62</td>\n    </tr>\n    <tr>\n      <th>...</th>\n      <td>...</td>\n      <td>...</td>\n      <td>...</td>\n    </tr>\n    <tr>\n      <th>male</th>\n      <td>60</td>\n      <td>62</td>\n      <td>60</td>\n    </tr>\n    <tr>\n      <th>male</th>\n      <td>55</td>\n      <td>41</td>\n      <td>48</td>\n    </tr>\n    <tr>\n      <th>male</th>\n      <td>79</td>\n      <td>85</td>\n      <td>86</td>\n    </tr>\n    <tr>\n      <th>male</th>\n      <td>81</td>\n      <td>75</td>\n      <td>76</td>\n    </tr>\n    <tr>\n      <th>male</th>\n      <td>86</td>\n      <td>81</td>\n      <td>75</td>\n    </tr>\n  </tbody>\n</table>\n<p>358 rows × 3 columns</p>\n</div>"
     },
     "execution_count": 209,
     "metadata": {},
     "output_type": "execute_result"
    }
   ],
   "source": [
    "df.loc[[('completed', 'female'), ('completed', 'male')]]"
   ],
   "metadata": {
    "collapsed": false,
    "pycharm": {
     "name": "#%%\n"
    }
   }
  },
  {
   "cell_type": "markdown",
   "source": [
    "Missing Values\n",
    "\n",
    "*missing at random* - random things were not answered in a survey.\n",
    "\n",
    "If no relation to other data, referred to as *missing completely at random (MCAR)*"
   ],
   "metadata": {
    "collapsed": false,
    "pycharm": {
     "name": "#%% md\n"
    }
   }
  },
  {
   "cell_type": "code",
   "execution_count": 219,
   "outputs": [
    {
     "data": {
      "text/plain": "   Prefix  Assignment  Tutorial  Midterm  TakeHome  Final\n0       5       57.14     34.09    64.38     51.48  52.50\n1       8       95.05    105.49    67.50     99.07  68.33\n2       8       83.70     83.17      NaN     63.15  48.89\n3       7         NaN       NaN    49.38    105.93  80.56\n4       8       91.32     93.64    95.00    107.41  73.89\n5       7       95.00     92.58    93.12     97.78  68.06\n6       8       95.05    102.99    56.25     99.07  50.00\n7       7       72.85     86.85    60.00       NaN  56.11\n8       8       84.26     93.10    47.50     18.52  50.83\n9       7       90.10     97.55    51.25     88.89  63.61",
      "text/html": "<div>\n<style scoped>\n    .dataframe tbody tr th:only-of-type {\n        vertical-align: middle;\n    }\n\n    .dataframe tbody tr th {\n        vertical-align: top;\n    }\n\n    .dataframe thead th {\n        text-align: right;\n    }\n</style>\n<table border=\"1\" class=\"dataframe\">\n  <thead>\n    <tr style=\"text-align: right;\">\n      <th></th>\n      <th>Prefix</th>\n      <th>Assignment</th>\n      <th>Tutorial</th>\n      <th>Midterm</th>\n      <th>TakeHome</th>\n      <th>Final</th>\n    </tr>\n  </thead>\n  <tbody>\n    <tr>\n      <th>0</th>\n      <td>5</td>\n      <td>57.14</td>\n      <td>34.09</td>\n      <td>64.38</td>\n      <td>51.48</td>\n      <td>52.50</td>\n    </tr>\n    <tr>\n      <th>1</th>\n      <td>8</td>\n      <td>95.05</td>\n      <td>105.49</td>\n      <td>67.50</td>\n      <td>99.07</td>\n      <td>68.33</td>\n    </tr>\n    <tr>\n      <th>2</th>\n      <td>8</td>\n      <td>83.70</td>\n      <td>83.17</td>\n      <td>NaN</td>\n      <td>63.15</td>\n      <td>48.89</td>\n    </tr>\n    <tr>\n      <th>3</th>\n      <td>7</td>\n      <td>NaN</td>\n      <td>NaN</td>\n      <td>49.38</td>\n      <td>105.93</td>\n      <td>80.56</td>\n    </tr>\n    <tr>\n      <th>4</th>\n      <td>8</td>\n      <td>91.32</td>\n      <td>93.64</td>\n      <td>95.00</td>\n      <td>107.41</td>\n      <td>73.89</td>\n    </tr>\n    <tr>\n      <th>5</th>\n      <td>7</td>\n      <td>95.00</td>\n      <td>92.58</td>\n      <td>93.12</td>\n      <td>97.78</td>\n      <td>68.06</td>\n    </tr>\n    <tr>\n      <th>6</th>\n      <td>8</td>\n      <td>95.05</td>\n      <td>102.99</td>\n      <td>56.25</td>\n      <td>99.07</td>\n      <td>50.00</td>\n    </tr>\n    <tr>\n      <th>7</th>\n      <td>7</td>\n      <td>72.85</td>\n      <td>86.85</td>\n      <td>60.00</td>\n      <td>NaN</td>\n      <td>56.11</td>\n    </tr>\n    <tr>\n      <th>8</th>\n      <td>8</td>\n      <td>84.26</td>\n      <td>93.10</td>\n      <td>47.50</td>\n      <td>18.52</td>\n      <td>50.83</td>\n    </tr>\n    <tr>\n      <th>9</th>\n      <td>7</td>\n      <td>90.10</td>\n      <td>97.55</td>\n      <td>51.25</td>\n      <td>88.89</td>\n      <td>63.61</td>\n    </tr>\n  </tbody>\n</table>\n</div>"
     },
     "execution_count": 219,
     "metadata": {},
     "output_type": "execute_result"
    }
   ],
   "source": [
    "df = pd.read_csv('class_grades.csv')\n",
    "df.head(10)"
   ],
   "metadata": {
    "collapsed": false,
    "pycharm": {
     "name": "#%%\n"
    }
   }
  },
  {
   "cell_type": "code",
   "execution_count": 214,
   "outputs": [
    {
     "data": {
      "text/plain": "   Prefix  Assignment  Tutorial  Midterm  TakeHome  Final\n0       5       57.14     34.09    64.38     51.48  52.50\n1       8       95.05    105.49    67.50     99.07  68.33\n4       8       91.32     93.64    95.00    107.41  73.89\n5       7       95.00     92.58    93.12     97.78  68.06\n6       8       95.05    102.99    56.25     99.07  50.00",
      "text/html": "<div>\n<style scoped>\n    .dataframe tbody tr th:only-of-type {\n        vertical-align: middle;\n    }\n\n    .dataframe tbody tr th {\n        vertical-align: top;\n    }\n\n    .dataframe thead th {\n        text-align: right;\n    }\n</style>\n<table border=\"1\" class=\"dataframe\">\n  <thead>\n    <tr style=\"text-align: right;\">\n      <th></th>\n      <th>Prefix</th>\n      <th>Assignment</th>\n      <th>Tutorial</th>\n      <th>Midterm</th>\n      <th>TakeHome</th>\n      <th>Final</th>\n    </tr>\n  </thead>\n  <tbody>\n    <tr>\n      <th>0</th>\n      <td>5</td>\n      <td>57.14</td>\n      <td>34.09</td>\n      <td>64.38</td>\n      <td>51.48</td>\n      <td>52.50</td>\n    </tr>\n    <tr>\n      <th>1</th>\n      <td>8</td>\n      <td>95.05</td>\n      <td>105.49</td>\n      <td>67.50</td>\n      <td>99.07</td>\n      <td>68.33</td>\n    </tr>\n    <tr>\n      <th>4</th>\n      <td>8</td>\n      <td>91.32</td>\n      <td>93.64</td>\n      <td>95.00</td>\n      <td>107.41</td>\n      <td>73.89</td>\n    </tr>\n    <tr>\n      <th>5</th>\n      <td>7</td>\n      <td>95.00</td>\n      <td>92.58</td>\n      <td>93.12</td>\n      <td>97.78</td>\n      <td>68.06</td>\n    </tr>\n    <tr>\n      <th>6</th>\n      <td>8</td>\n      <td>95.05</td>\n      <td>102.99</td>\n      <td>56.25</td>\n      <td>99.07</td>\n      <td>50.00</td>\n    </tr>\n  </tbody>\n</table>\n</div>"
     },
     "execution_count": 214,
     "metadata": {},
     "output_type": "execute_result"
    }
   ],
   "source": [
    "df.dropna().head() # drops any row that contains missing data"
   ],
   "metadata": {
    "collapsed": false,
    "pycharm": {
     "name": "#%%\n"
    }
   }
  },
  {
   "cell_type": "code",
   "execution_count": 222,
   "outputs": [
    {
     "data": {
      "text/plain": "    Prefix  Assignment  Tutorial  Midterm  TakeHome  Final\n0        5       57.14     34.09    64.38     51.48  52.50\n1        8       95.05    105.49    67.50     99.07  68.33\n2        8       83.70     83.17     0.00     63.15  48.89\n3        7        0.00      0.00    49.38    105.93  80.56\n4        8       91.32     93.64    95.00    107.41  73.89\n..     ...         ...       ...      ...       ...    ...\n94       8        0.00    103.71    45.00     93.52  61.94\n95       7        0.00     80.54    41.25     93.70  39.72\n96       8       89.94    102.77    87.50     90.74  87.78\n97       7       95.60     76.13    66.25     99.81  85.56\n98       8       63.40     97.37    73.12     72.78  77.22\n\n[99 rows x 6 columns]",
      "text/html": "<div>\n<style scoped>\n    .dataframe tbody tr th:only-of-type {\n        vertical-align: middle;\n    }\n\n    .dataframe tbody tr th {\n        vertical-align: top;\n    }\n\n    .dataframe thead th {\n        text-align: right;\n    }\n</style>\n<table border=\"1\" class=\"dataframe\">\n  <thead>\n    <tr style=\"text-align: right;\">\n      <th></th>\n      <th>Prefix</th>\n      <th>Assignment</th>\n      <th>Tutorial</th>\n      <th>Midterm</th>\n      <th>TakeHome</th>\n      <th>Final</th>\n    </tr>\n  </thead>\n  <tbody>\n    <tr>\n      <th>0</th>\n      <td>5</td>\n      <td>57.14</td>\n      <td>34.09</td>\n      <td>64.38</td>\n      <td>51.48</td>\n      <td>52.50</td>\n    </tr>\n    <tr>\n      <th>1</th>\n      <td>8</td>\n      <td>95.05</td>\n      <td>105.49</td>\n      <td>67.50</td>\n      <td>99.07</td>\n      <td>68.33</td>\n    </tr>\n    <tr>\n      <th>2</th>\n      <td>8</td>\n      <td>83.70</td>\n      <td>83.17</td>\n      <td>0.00</td>\n      <td>63.15</td>\n      <td>48.89</td>\n    </tr>\n    <tr>\n      <th>3</th>\n      <td>7</td>\n      <td>0.00</td>\n      <td>0.00</td>\n      <td>49.38</td>\n      <td>105.93</td>\n      <td>80.56</td>\n    </tr>\n    <tr>\n      <th>4</th>\n      <td>8</td>\n      <td>91.32</td>\n      <td>93.64</td>\n      <td>95.00</td>\n      <td>107.41</td>\n      <td>73.89</td>\n    </tr>\n    <tr>\n      <th>...</th>\n      <td>...</td>\n      <td>...</td>\n      <td>...</td>\n      <td>...</td>\n      <td>...</td>\n      <td>...</td>\n    </tr>\n    <tr>\n      <th>94</th>\n      <td>8</td>\n      <td>0.00</td>\n      <td>103.71</td>\n      <td>45.00</td>\n      <td>93.52</td>\n      <td>61.94</td>\n    </tr>\n    <tr>\n      <th>95</th>\n      <td>7</td>\n      <td>0.00</td>\n      <td>80.54</td>\n      <td>41.25</td>\n      <td>93.70</td>\n      <td>39.72</td>\n    </tr>\n    <tr>\n      <th>96</th>\n      <td>8</td>\n      <td>89.94</td>\n      <td>102.77</td>\n      <td>87.50</td>\n      <td>90.74</td>\n      <td>87.78</td>\n    </tr>\n    <tr>\n      <th>97</th>\n      <td>7</td>\n      <td>95.60</td>\n      <td>76.13</td>\n      <td>66.25</td>\n      <td>99.81</td>\n      <td>85.56</td>\n    </tr>\n    <tr>\n      <th>98</th>\n      <td>8</td>\n      <td>63.40</td>\n      <td>97.37</td>\n      <td>73.12</td>\n      <td>72.78</td>\n      <td>77.22</td>\n    </tr>\n  </tbody>\n</table>\n<p>99 rows × 6 columns</p>\n</div>"
     },
     "execution_count": 222,
     "metadata": {},
     "output_type": "execute_result"
    }
   ],
   "source": [
    "df.fillna(0, inplace=True) # modifies the DF with 0 for NaN values\n",
    "df"
   ],
   "metadata": {
    "collapsed": false,
    "pycharm": {
     "name": "#%%\n"
    }
   }
  },
  {
   "cell_type": "code",
   "execution_count": 224,
   "outputs": [
    {
     "data": {
      "text/plain": "          time    user          video  playback position paused  volume\n0   1469974424  cheryl     intro.html                  5  False    10.0\n1   1469974454  cheryl     intro.html                  6    NaN     NaN\n2   1469974544  cheryl     intro.html                  9    NaN     NaN\n3   1469974574  cheryl     intro.html                 10    NaN     NaN\n4   1469977514     bob     intro.html                  1    NaN     NaN\n5   1469977544     bob     intro.html                  1    NaN     NaN\n6   1469977574     bob     intro.html                  1    NaN     NaN\n7   1469977604     bob     intro.html                  1    NaN     NaN\n8   1469974604  cheryl     intro.html                 11    NaN     NaN\n9   1469974694  cheryl     intro.html                 14    NaN     NaN\n10  1469974724  cheryl     intro.html                 15    NaN     NaN\n11  1469974454     sue  advanced.html                 24    NaN     NaN\n12  1469974524     sue  advanced.html                 25    NaN     NaN\n13  1469974424     sue  advanced.html                 23  False    10.0\n14  1469974554     sue  advanced.html                 26    NaN     NaN\n15  1469974624     sue  advanced.html                 27    NaN     NaN\n16  1469974654     sue  advanced.html                 28    NaN     5.0\n17  1469974724     sue  advanced.html                 29    NaN     NaN\n18  1469974484  cheryl     intro.html                  7    NaN     NaN\n19  1469974514  cheryl     intro.html                  8    NaN     NaN\n20  1469974754     sue  advanced.html                 30    NaN     NaN\n21  1469974824     sue  advanced.html                 31    NaN     NaN\n22  1469974854     sue  advanced.html                 32    NaN     NaN\n23  1469974924     sue  advanced.html                 33    NaN     NaN\n24  1469977424     bob     intro.html                  1   True    10.0\n25  1469977454     bob     intro.html                  1    NaN     NaN\n26  1469977484     bob     intro.html                  1    NaN     NaN\n27  1469977634     bob     intro.html                  1    NaN     NaN\n28  1469977664     bob     intro.html                  1    NaN     NaN\n29  1469974634  cheryl     intro.html                 12    NaN     NaN\n30  1469974664  cheryl     intro.html                 13    NaN     NaN\n31  1469977694     bob     intro.html                  1    NaN     NaN\n32  1469977724     bob     intro.html                  1    NaN     NaN",
      "text/html": "<div>\n<style scoped>\n    .dataframe tbody tr th:only-of-type {\n        vertical-align: middle;\n    }\n\n    .dataframe tbody tr th {\n        vertical-align: top;\n    }\n\n    .dataframe thead th {\n        text-align: right;\n    }\n</style>\n<table border=\"1\" class=\"dataframe\">\n  <thead>\n    <tr style=\"text-align: right;\">\n      <th></th>\n      <th>time</th>\n      <th>user</th>\n      <th>video</th>\n      <th>playback position</th>\n      <th>paused</th>\n      <th>volume</th>\n    </tr>\n  </thead>\n  <tbody>\n    <tr>\n      <th>0</th>\n      <td>1469974424</td>\n      <td>cheryl</td>\n      <td>intro.html</td>\n      <td>5</td>\n      <td>False</td>\n      <td>10.0</td>\n    </tr>\n    <tr>\n      <th>1</th>\n      <td>1469974454</td>\n      <td>cheryl</td>\n      <td>intro.html</td>\n      <td>6</td>\n      <td>NaN</td>\n      <td>NaN</td>\n    </tr>\n    <tr>\n      <th>2</th>\n      <td>1469974544</td>\n      <td>cheryl</td>\n      <td>intro.html</td>\n      <td>9</td>\n      <td>NaN</td>\n      <td>NaN</td>\n    </tr>\n    <tr>\n      <th>3</th>\n      <td>1469974574</td>\n      <td>cheryl</td>\n      <td>intro.html</td>\n      <td>10</td>\n      <td>NaN</td>\n      <td>NaN</td>\n    </tr>\n    <tr>\n      <th>4</th>\n      <td>1469977514</td>\n      <td>bob</td>\n      <td>intro.html</td>\n      <td>1</td>\n      <td>NaN</td>\n      <td>NaN</td>\n    </tr>\n    <tr>\n      <th>5</th>\n      <td>1469977544</td>\n      <td>bob</td>\n      <td>intro.html</td>\n      <td>1</td>\n      <td>NaN</td>\n      <td>NaN</td>\n    </tr>\n    <tr>\n      <th>6</th>\n      <td>1469977574</td>\n      <td>bob</td>\n      <td>intro.html</td>\n      <td>1</td>\n      <td>NaN</td>\n      <td>NaN</td>\n    </tr>\n    <tr>\n      <th>7</th>\n      <td>1469977604</td>\n      <td>bob</td>\n      <td>intro.html</td>\n      <td>1</td>\n      <td>NaN</td>\n      <td>NaN</td>\n    </tr>\n    <tr>\n      <th>8</th>\n      <td>1469974604</td>\n      <td>cheryl</td>\n      <td>intro.html</td>\n      <td>11</td>\n      <td>NaN</td>\n      <td>NaN</td>\n    </tr>\n    <tr>\n      <th>9</th>\n      <td>1469974694</td>\n      <td>cheryl</td>\n      <td>intro.html</td>\n      <td>14</td>\n      <td>NaN</td>\n      <td>NaN</td>\n    </tr>\n    <tr>\n      <th>10</th>\n      <td>1469974724</td>\n      <td>cheryl</td>\n      <td>intro.html</td>\n      <td>15</td>\n      <td>NaN</td>\n      <td>NaN</td>\n    </tr>\n    <tr>\n      <th>11</th>\n      <td>1469974454</td>\n      <td>sue</td>\n      <td>advanced.html</td>\n      <td>24</td>\n      <td>NaN</td>\n      <td>NaN</td>\n    </tr>\n    <tr>\n      <th>12</th>\n      <td>1469974524</td>\n      <td>sue</td>\n      <td>advanced.html</td>\n      <td>25</td>\n      <td>NaN</td>\n      <td>NaN</td>\n    </tr>\n    <tr>\n      <th>13</th>\n      <td>1469974424</td>\n      <td>sue</td>\n      <td>advanced.html</td>\n      <td>23</td>\n      <td>False</td>\n      <td>10.0</td>\n    </tr>\n    <tr>\n      <th>14</th>\n      <td>1469974554</td>\n      <td>sue</td>\n      <td>advanced.html</td>\n      <td>26</td>\n      <td>NaN</td>\n      <td>NaN</td>\n    </tr>\n    <tr>\n      <th>15</th>\n      <td>1469974624</td>\n      <td>sue</td>\n      <td>advanced.html</td>\n      <td>27</td>\n      <td>NaN</td>\n      <td>NaN</td>\n    </tr>\n    <tr>\n      <th>16</th>\n      <td>1469974654</td>\n      <td>sue</td>\n      <td>advanced.html</td>\n      <td>28</td>\n      <td>NaN</td>\n      <td>5.0</td>\n    </tr>\n    <tr>\n      <th>17</th>\n      <td>1469974724</td>\n      <td>sue</td>\n      <td>advanced.html</td>\n      <td>29</td>\n      <td>NaN</td>\n      <td>NaN</td>\n    </tr>\n    <tr>\n      <th>18</th>\n      <td>1469974484</td>\n      <td>cheryl</td>\n      <td>intro.html</td>\n      <td>7</td>\n      <td>NaN</td>\n      <td>NaN</td>\n    </tr>\n    <tr>\n      <th>19</th>\n      <td>1469974514</td>\n      <td>cheryl</td>\n      <td>intro.html</td>\n      <td>8</td>\n      <td>NaN</td>\n      <td>NaN</td>\n    </tr>\n    <tr>\n      <th>20</th>\n      <td>1469974754</td>\n      <td>sue</td>\n      <td>advanced.html</td>\n      <td>30</td>\n      <td>NaN</td>\n      <td>NaN</td>\n    </tr>\n    <tr>\n      <th>21</th>\n      <td>1469974824</td>\n      <td>sue</td>\n      <td>advanced.html</td>\n      <td>31</td>\n      <td>NaN</td>\n      <td>NaN</td>\n    </tr>\n    <tr>\n      <th>22</th>\n      <td>1469974854</td>\n      <td>sue</td>\n      <td>advanced.html</td>\n      <td>32</td>\n      <td>NaN</td>\n      <td>NaN</td>\n    </tr>\n    <tr>\n      <th>23</th>\n      <td>1469974924</td>\n      <td>sue</td>\n      <td>advanced.html</td>\n      <td>33</td>\n      <td>NaN</td>\n      <td>NaN</td>\n    </tr>\n    <tr>\n      <th>24</th>\n      <td>1469977424</td>\n      <td>bob</td>\n      <td>intro.html</td>\n      <td>1</td>\n      <td>True</td>\n      <td>10.0</td>\n    </tr>\n    <tr>\n      <th>25</th>\n      <td>1469977454</td>\n      <td>bob</td>\n      <td>intro.html</td>\n      <td>1</td>\n      <td>NaN</td>\n      <td>NaN</td>\n    </tr>\n    <tr>\n      <th>26</th>\n      <td>1469977484</td>\n      <td>bob</td>\n      <td>intro.html</td>\n      <td>1</td>\n      <td>NaN</td>\n      <td>NaN</td>\n    </tr>\n    <tr>\n      <th>27</th>\n      <td>1469977634</td>\n      <td>bob</td>\n      <td>intro.html</td>\n      <td>1</td>\n      <td>NaN</td>\n      <td>NaN</td>\n    </tr>\n    <tr>\n      <th>28</th>\n      <td>1469977664</td>\n      <td>bob</td>\n      <td>intro.html</td>\n      <td>1</td>\n      <td>NaN</td>\n      <td>NaN</td>\n    </tr>\n    <tr>\n      <th>29</th>\n      <td>1469974634</td>\n      <td>cheryl</td>\n      <td>intro.html</td>\n      <td>12</td>\n      <td>NaN</td>\n      <td>NaN</td>\n    </tr>\n    <tr>\n      <th>30</th>\n      <td>1469974664</td>\n      <td>cheryl</td>\n      <td>intro.html</td>\n      <td>13</td>\n      <td>NaN</td>\n      <td>NaN</td>\n    </tr>\n    <tr>\n      <th>31</th>\n      <td>1469977694</td>\n      <td>bob</td>\n      <td>intro.html</td>\n      <td>1</td>\n      <td>NaN</td>\n      <td>NaN</td>\n    </tr>\n    <tr>\n      <th>32</th>\n      <td>1469977724</td>\n      <td>bob</td>\n      <td>intro.html</td>\n      <td>1</td>\n      <td>NaN</td>\n      <td>NaN</td>\n    </tr>\n  </tbody>\n</table>\n</div>"
     },
     "execution_count": 224,
     "metadata": {},
     "output_type": "execute_result"
    }
   ],
   "source": [
    "df = pd.read_csv('log.csv')\n",
    "df"
   ],
   "metadata": {
    "collapsed": false,
    "pycharm": {
     "name": "#%%\n"
    }
   }
  },
  {
   "cell_type": "code",
   "execution_count": 226,
   "outputs": [
    {
     "name": "stdout",
     "output_type": "stream",
     "text": [
      "Help on method fillna in module pandas.core.frame:\n",
      "\n",
      "fillna(value: 'object | ArrayLike | None' = None, method: 'FillnaOptions | None' = None, axis: 'Axis | None' = None, inplace: 'bool' = False, limit=None, downcast=None) -> 'DataFrame | None' method of pandas.core.frame.DataFrame instance\n",
      "    Fill NA/NaN values using the specified method.\n",
      "    \n",
      "    Parameters\n",
      "    ----------\n",
      "    value : scalar, dict, Series, or DataFrame\n",
      "        Value to use to fill holes (e.g. 0), alternately a\n",
      "        dict/Series/DataFrame of values specifying which value to use for\n",
      "        each index (for a Series) or column (for a DataFrame).  Values not\n",
      "        in the dict/Series/DataFrame will not be filled. This value cannot\n",
      "        be a list.\n",
      "    method : {'backfill', 'bfill', 'pad', 'ffill', None}, default None\n",
      "        Method to use for filling holes in reindexed Series\n",
      "        pad / ffill: propagate last valid observation forward to next valid\n",
      "        backfill / bfill: use next valid observation to fill gap.\n",
      "    axis : {0 or 'index', 1 or 'columns'}\n",
      "        Axis along which to fill missing values.\n",
      "    inplace : bool, default False\n",
      "        If True, fill in-place. Note: this will modify any\n",
      "        other views on this object (e.g., a no-copy slice for a column in a\n",
      "        DataFrame).\n",
      "    limit : int, default None\n",
      "        If method is specified, this is the maximum number of consecutive\n",
      "        NaN values to forward/backward fill. In other words, if there is\n",
      "        a gap with more than this number of consecutive NaNs, it will only\n",
      "        be partially filled. If method is not specified, this is the\n",
      "        maximum number of entries along the entire axis where NaNs will be\n",
      "        filled. Must be greater than 0 if not None.\n",
      "    downcast : dict, default is None\n",
      "        A dict of item->dtype of what to downcast if possible,\n",
      "        or the string 'infer' which will try to downcast to an appropriate\n",
      "        equal type (e.g. float64 to int64 if possible).\n",
      "    \n",
      "    Returns\n",
      "    -------\n",
      "    DataFrame or None\n",
      "        Object with missing values filled or None if ``inplace=True``.\n",
      "    \n",
      "    See Also\n",
      "    --------\n",
      "    interpolate : Fill NaN values using interpolation.\n",
      "    reindex : Conform object to new index.\n",
      "    asfreq : Convert TimeSeries to specified frequency.\n",
      "    \n",
      "    Examples\n",
      "    --------\n",
      "    >>> df = pd.DataFrame([[np.nan, 2, np.nan, 0],\n",
      "    ...                    [3, 4, np.nan, 1],\n",
      "    ...                    [np.nan, np.nan, np.nan, 5],\n",
      "    ...                    [np.nan, 3, np.nan, 4]],\n",
      "    ...                   columns=list(\"ABCD\"))\n",
      "    >>> df\n",
      "         A    B   C  D\n",
      "    0  NaN  2.0 NaN  0\n",
      "    1  3.0  4.0 NaN  1\n",
      "    2  NaN  NaN NaN  5\n",
      "    3  NaN  3.0 NaN  4\n",
      "    \n",
      "    Replace all NaN elements with 0s.\n",
      "    \n",
      "    >>> df.fillna(0)\n",
      "        A   B   C   D\n",
      "    0   0.0 2.0 0.0 0\n",
      "    1   3.0 4.0 0.0 1\n",
      "    2   0.0 0.0 0.0 5\n",
      "    3   0.0 3.0 0.0 4\n",
      "    \n",
      "    We can also propagate non-null values forward or backward.\n",
      "    \n",
      "    >>> df.fillna(method=\"ffill\")\n",
      "        A   B   C   D\n",
      "    0   NaN 2.0 NaN 0\n",
      "    1   3.0 4.0 NaN 1\n",
      "    2   3.0 4.0 NaN 5\n",
      "    3   3.0 3.0 NaN 4\n",
      "    \n",
      "    Replace all NaN elements in column 'A', 'B', 'C', and 'D', with 0, 1,\n",
      "    2, and 3 respectively.\n",
      "    \n",
      "    >>> values = {\"A\": 0, \"B\": 1, \"C\": 2, \"D\": 3}\n",
      "    >>> df.fillna(value=values)\n",
      "        A   B   C   D\n",
      "    0   0.0 2.0 2.0 0\n",
      "    1   3.0 4.0 2.0 1\n",
      "    2   0.0 1.0 2.0 5\n",
      "    3   0.0 3.0 2.0 4\n",
      "    \n",
      "    Only replace the first NaN element.\n",
      "    \n",
      "    >>> df.fillna(value=values, limit=1)\n",
      "        A   B   C   D\n",
      "    0   0.0 2.0 2.0 0\n",
      "    1   3.0 4.0 NaN 1\n",
      "    2   NaN 1.0 NaN 5\n",
      "    3   NaN 3.0 NaN 4\n",
      "    \n",
      "    When filling using a DataFrame, replacement happens along\n",
      "    the same column names and same indices\n",
      "    \n",
      "    >>> df2 = pd.DataFrame(np.zeros((4, 4)), columns=list(\"ABCE\"))\n",
      "    >>> df.fillna(df2)\n",
      "        A   B   C   D\n",
      "    0   0.0 2.0 0.0 0\n",
      "    1   3.0 4.0 0.0 1\n",
      "    2   0.0 0.0 0.0 5\n",
      "    3   0.0 3.0 0.0 4\n",
      "\n"
     ]
    }
   ],
   "source": [
    "help(df.fillna)\n"
   ],
   "metadata": {
    "collapsed": false,
    "pycharm": {
     "name": "#%%\n"
    }
   }
  },
  {
   "cell_type": "code",
   "execution_count": 228,
   "outputs": [
    {
     "ename": "KeyError",
     "evalue": "\"None of ['time'] are in the columns\"",
     "output_type": "error",
     "traceback": [
      "\u001B[1;31m---------------------------------------------------------------------------\u001B[0m",
      "\u001B[1;31mKeyError\u001B[0m                                  Traceback (most recent call last)",
      "\u001B[1;32m<ipython-input-228-a0cd60201c4e>\u001B[0m in \u001B[0;36m<module>\u001B[1;34m\u001B[0m\n\u001B[1;32m----> 1\u001B[1;33m \u001B[0mdf\u001B[0m \u001B[1;33m=\u001B[0m \u001B[0mdf\u001B[0m\u001B[1;33m.\u001B[0m\u001B[0mset_index\u001B[0m\u001B[1;33m(\u001B[0m\u001B[1;34m'time'\u001B[0m\u001B[1;33m)\u001B[0m\u001B[1;33m.\u001B[0m\u001B[0msort_index\u001B[0m\u001B[1;33m(\u001B[0m\u001B[1;33m)\u001B[0m\u001B[1;33m\u001B[0m\u001B[1;33m\u001B[0m\u001B[0m\n\u001B[0m\u001B[0;32m      2\u001B[0m \u001B[0mdf\u001B[0m\u001B[1;33m\u001B[0m\u001B[1;33m\u001B[0m\u001B[0m\n\u001B[0;32m      3\u001B[0m \u001B[1;33m\u001B[0m\u001B[0m\n",
      "\u001B[1;32mM:\\dev\\envs\\experiments\\lib\\site-packages\\pandas\\util\\_decorators.py\u001B[0m in \u001B[0;36mwrapper\u001B[1;34m(*args, **kwargs)\u001B[0m\n\u001B[0;32m    309\u001B[0m                     \u001B[0mstacklevel\u001B[0m\u001B[1;33m=\u001B[0m\u001B[0mstacklevel\u001B[0m\u001B[1;33m,\u001B[0m\u001B[1;33m\u001B[0m\u001B[1;33m\u001B[0m\u001B[0m\n\u001B[0;32m    310\u001B[0m                 )\n\u001B[1;32m--> 311\u001B[1;33m             \u001B[1;32mreturn\u001B[0m \u001B[0mfunc\u001B[0m\u001B[1;33m(\u001B[0m\u001B[1;33m*\u001B[0m\u001B[0margs\u001B[0m\u001B[1;33m,\u001B[0m \u001B[1;33m**\u001B[0m\u001B[0mkwargs\u001B[0m\u001B[1;33m)\u001B[0m\u001B[1;33m\u001B[0m\u001B[1;33m\u001B[0m\u001B[0m\n\u001B[0m\u001B[0;32m    312\u001B[0m \u001B[1;33m\u001B[0m\u001B[0m\n\u001B[0;32m    313\u001B[0m         \u001B[1;32mreturn\u001B[0m \u001B[0mwrapper\u001B[0m\u001B[1;33m\u001B[0m\u001B[1;33m\u001B[0m\u001B[0m\n",
      "\u001B[1;32mM:\\dev\\envs\\experiments\\lib\\site-packages\\pandas\\core\\frame.py\u001B[0m in \u001B[0;36mset_index\u001B[1;34m(self, keys, drop, append, inplace, verify_integrity)\u001B[0m\n\u001B[0;32m   5444\u001B[0m \u001B[1;33m\u001B[0m\u001B[0m\n\u001B[0;32m   5445\u001B[0m         \u001B[1;32mif\u001B[0m \u001B[0mmissing\u001B[0m\u001B[1;33m:\u001B[0m\u001B[1;33m\u001B[0m\u001B[1;33m\u001B[0m\u001B[0m\n\u001B[1;32m-> 5446\u001B[1;33m             \u001B[1;32mraise\u001B[0m \u001B[0mKeyError\u001B[0m\u001B[1;33m(\u001B[0m\u001B[1;34mf\"None of {missing} are in the columns\"\u001B[0m\u001B[1;33m)\u001B[0m\u001B[1;33m\u001B[0m\u001B[1;33m\u001B[0m\u001B[0m\n\u001B[0m\u001B[0;32m   5447\u001B[0m \u001B[1;33m\u001B[0m\u001B[0m\n\u001B[0;32m   5448\u001B[0m         \u001B[1;32mif\u001B[0m \u001B[0minplace\u001B[0m\u001B[1;33m:\u001B[0m\u001B[1;33m\u001B[0m\u001B[1;33m\u001B[0m\u001B[0m\n",
      "\u001B[1;31mKeyError\u001B[0m: \"None of ['time'] are in the columns\""
     ]
    }
   ],
   "source": [
    "df = df.set_index('time').sort_index()\n",
    "df"
   ],
   "metadata": {
    "collapsed": false,
    "pycharm": {
     "name": "#%%\n"
    }
   }
  },
  {
   "cell_type": "code",
   "execution_count": 232,
   "outputs": [
    {
     "data": {
      "text/plain": "                           video  playback position paused  volume\ntime       user                                                   \n1469974424 cheryl     intro.html                  5  False    10.0\n           sue     advanced.html                 23  False    10.0\n1469974454 cheryl     intro.html                  6    NaN     NaN\n           sue     advanced.html                 24    NaN     NaN\n1469974484 cheryl     intro.html                  7    NaN     NaN\n1469974514 cheryl     intro.html                  8    NaN     NaN\n1469974524 sue     advanced.html                 25    NaN     NaN\n1469974544 cheryl     intro.html                  9    NaN     NaN\n1469974554 sue     advanced.html                 26    NaN     NaN\n1469974574 cheryl     intro.html                 10    NaN     NaN\n1469974604 cheryl     intro.html                 11    NaN     NaN\n1469974624 sue     advanced.html                 27    NaN     NaN\n1469974634 cheryl     intro.html                 12    NaN     NaN\n1469974654 sue     advanced.html                 28    NaN     5.0\n1469974664 cheryl     intro.html                 13    NaN     NaN\n1469974694 cheryl     intro.html                 14    NaN     NaN\n1469974724 cheryl     intro.html                 15    NaN     NaN\n           sue     advanced.html                 29    NaN     NaN\n1469974754 sue     advanced.html                 30    NaN     NaN\n1469974824 sue     advanced.html                 31    NaN     NaN\n1469974854 sue     advanced.html                 32    NaN     NaN\n1469974924 sue     advanced.html                 33    NaN     NaN\n1469977424 bob        intro.html                  1   True    10.0\n1469977454 bob        intro.html                  1    NaN     NaN\n1469977484 bob        intro.html                  1    NaN     NaN\n1469977514 bob        intro.html                  1    NaN     NaN\n1469977544 bob        intro.html                  1    NaN     NaN\n1469977574 bob        intro.html                  1    NaN     NaN\n1469977604 bob        intro.html                  1    NaN     NaN\n1469977634 bob        intro.html                  1    NaN     NaN\n1469977664 bob        intro.html                  1    NaN     NaN\n1469977694 bob        intro.html                  1    NaN     NaN\n1469977724 bob        intro.html                  1    NaN     NaN",
      "text/html": "<div>\n<style scoped>\n    .dataframe tbody tr th:only-of-type {\n        vertical-align: middle;\n    }\n\n    .dataframe tbody tr th {\n        vertical-align: top;\n    }\n\n    .dataframe thead th {\n        text-align: right;\n    }\n</style>\n<table border=\"1\" class=\"dataframe\">\n  <thead>\n    <tr style=\"text-align: right;\">\n      <th></th>\n      <th></th>\n      <th>video</th>\n      <th>playback position</th>\n      <th>paused</th>\n      <th>volume</th>\n    </tr>\n    <tr>\n      <th>time</th>\n      <th>user</th>\n      <th></th>\n      <th></th>\n      <th></th>\n      <th></th>\n    </tr>\n  </thead>\n  <tbody>\n    <tr>\n      <th rowspan=\"2\" valign=\"top\">1469974424</th>\n      <th>cheryl</th>\n      <td>intro.html</td>\n      <td>5</td>\n      <td>False</td>\n      <td>10.0</td>\n    </tr>\n    <tr>\n      <th>sue</th>\n      <td>advanced.html</td>\n      <td>23</td>\n      <td>False</td>\n      <td>10.0</td>\n    </tr>\n    <tr>\n      <th rowspan=\"2\" valign=\"top\">1469974454</th>\n      <th>cheryl</th>\n      <td>intro.html</td>\n      <td>6</td>\n      <td>NaN</td>\n      <td>NaN</td>\n    </tr>\n    <tr>\n      <th>sue</th>\n      <td>advanced.html</td>\n      <td>24</td>\n      <td>NaN</td>\n      <td>NaN</td>\n    </tr>\n    <tr>\n      <th>1469974484</th>\n      <th>cheryl</th>\n      <td>intro.html</td>\n      <td>7</td>\n      <td>NaN</td>\n      <td>NaN</td>\n    </tr>\n    <tr>\n      <th>1469974514</th>\n      <th>cheryl</th>\n      <td>intro.html</td>\n      <td>8</td>\n      <td>NaN</td>\n      <td>NaN</td>\n    </tr>\n    <tr>\n      <th>1469974524</th>\n      <th>sue</th>\n      <td>advanced.html</td>\n      <td>25</td>\n      <td>NaN</td>\n      <td>NaN</td>\n    </tr>\n    <tr>\n      <th>1469974544</th>\n      <th>cheryl</th>\n      <td>intro.html</td>\n      <td>9</td>\n      <td>NaN</td>\n      <td>NaN</td>\n    </tr>\n    <tr>\n      <th>1469974554</th>\n      <th>sue</th>\n      <td>advanced.html</td>\n      <td>26</td>\n      <td>NaN</td>\n      <td>NaN</td>\n    </tr>\n    <tr>\n      <th>1469974574</th>\n      <th>cheryl</th>\n      <td>intro.html</td>\n      <td>10</td>\n      <td>NaN</td>\n      <td>NaN</td>\n    </tr>\n    <tr>\n      <th>1469974604</th>\n      <th>cheryl</th>\n      <td>intro.html</td>\n      <td>11</td>\n      <td>NaN</td>\n      <td>NaN</td>\n    </tr>\n    <tr>\n      <th>1469974624</th>\n      <th>sue</th>\n      <td>advanced.html</td>\n      <td>27</td>\n      <td>NaN</td>\n      <td>NaN</td>\n    </tr>\n    <tr>\n      <th>1469974634</th>\n      <th>cheryl</th>\n      <td>intro.html</td>\n      <td>12</td>\n      <td>NaN</td>\n      <td>NaN</td>\n    </tr>\n    <tr>\n      <th>1469974654</th>\n      <th>sue</th>\n      <td>advanced.html</td>\n      <td>28</td>\n      <td>NaN</td>\n      <td>5.0</td>\n    </tr>\n    <tr>\n      <th>1469974664</th>\n      <th>cheryl</th>\n      <td>intro.html</td>\n      <td>13</td>\n      <td>NaN</td>\n      <td>NaN</td>\n    </tr>\n    <tr>\n      <th>1469974694</th>\n      <th>cheryl</th>\n      <td>intro.html</td>\n      <td>14</td>\n      <td>NaN</td>\n      <td>NaN</td>\n    </tr>\n    <tr>\n      <th rowspan=\"2\" valign=\"top\">1469974724</th>\n      <th>cheryl</th>\n      <td>intro.html</td>\n      <td>15</td>\n      <td>NaN</td>\n      <td>NaN</td>\n    </tr>\n    <tr>\n      <th>sue</th>\n      <td>advanced.html</td>\n      <td>29</td>\n      <td>NaN</td>\n      <td>NaN</td>\n    </tr>\n    <tr>\n      <th>1469974754</th>\n      <th>sue</th>\n      <td>advanced.html</td>\n      <td>30</td>\n      <td>NaN</td>\n      <td>NaN</td>\n    </tr>\n    <tr>\n      <th>1469974824</th>\n      <th>sue</th>\n      <td>advanced.html</td>\n      <td>31</td>\n      <td>NaN</td>\n      <td>NaN</td>\n    </tr>\n    <tr>\n      <th>1469974854</th>\n      <th>sue</th>\n      <td>advanced.html</td>\n      <td>32</td>\n      <td>NaN</td>\n      <td>NaN</td>\n    </tr>\n    <tr>\n      <th>1469974924</th>\n      <th>sue</th>\n      <td>advanced.html</td>\n      <td>33</td>\n      <td>NaN</td>\n      <td>NaN</td>\n    </tr>\n    <tr>\n      <th>1469977424</th>\n      <th>bob</th>\n      <td>intro.html</td>\n      <td>1</td>\n      <td>True</td>\n      <td>10.0</td>\n    </tr>\n    <tr>\n      <th>1469977454</th>\n      <th>bob</th>\n      <td>intro.html</td>\n      <td>1</td>\n      <td>NaN</td>\n      <td>NaN</td>\n    </tr>\n    <tr>\n      <th>1469977484</th>\n      <th>bob</th>\n      <td>intro.html</td>\n      <td>1</td>\n      <td>NaN</td>\n      <td>NaN</td>\n    </tr>\n    <tr>\n      <th>1469977514</th>\n      <th>bob</th>\n      <td>intro.html</td>\n      <td>1</td>\n      <td>NaN</td>\n      <td>NaN</td>\n    </tr>\n    <tr>\n      <th>1469977544</th>\n      <th>bob</th>\n      <td>intro.html</td>\n      <td>1</td>\n      <td>NaN</td>\n      <td>NaN</td>\n    </tr>\n    <tr>\n      <th>1469977574</th>\n      <th>bob</th>\n      <td>intro.html</td>\n      <td>1</td>\n      <td>NaN</td>\n      <td>NaN</td>\n    </tr>\n    <tr>\n      <th>1469977604</th>\n      <th>bob</th>\n      <td>intro.html</td>\n      <td>1</td>\n      <td>NaN</td>\n      <td>NaN</td>\n    </tr>\n    <tr>\n      <th>1469977634</th>\n      <th>bob</th>\n      <td>intro.html</td>\n      <td>1</td>\n      <td>NaN</td>\n      <td>NaN</td>\n    </tr>\n    <tr>\n      <th>1469977664</th>\n      <th>bob</th>\n      <td>intro.html</td>\n      <td>1</td>\n      <td>NaN</td>\n      <td>NaN</td>\n    </tr>\n    <tr>\n      <th>1469977694</th>\n      <th>bob</th>\n      <td>intro.html</td>\n      <td>1</td>\n      <td>NaN</td>\n      <td>NaN</td>\n    </tr>\n    <tr>\n      <th>1469977724</th>\n      <th>bob</th>\n      <td>intro.html</td>\n      <td>1</td>\n      <td>NaN</td>\n      <td>NaN</td>\n    </tr>\n  </tbody>\n</table>\n</div>"
     },
     "execution_count": 232,
     "metadata": {},
     "output_type": "execute_result"
    }
   ],
   "source": [
    "df = df.reset_index()\n",
    "df = df.set_index(['time', 'user']).sort_index()\n",
    "df\n"
   ],
   "metadata": {
    "collapsed": false,
    "pycharm": {
     "name": "#%%\n"
    }
   }
  },
  {
   "cell_type": "code",
   "execution_count": 234,
   "outputs": [
    {
     "data": {
      "text/plain": "                           video  playback position  paused  volume\ntime       user                                                    \n1469974424 cheryl     intro.html                  5   False    10.0\n           sue     advanced.html                 23   False    10.0\n1469974454 cheryl     intro.html                  6   False    10.0\n           sue     advanced.html                 24   False    10.0\n1469974484 cheryl     intro.html                  7   False    10.0\n1469974514 cheryl     intro.html                  8   False    10.0\n1469974524 sue     advanced.html                 25   False    10.0\n1469974544 cheryl     intro.html                  9   False    10.0\n1469974554 sue     advanced.html                 26   False    10.0\n1469974574 cheryl     intro.html                 10   False    10.0\n1469974604 cheryl     intro.html                 11   False    10.0\n1469974624 sue     advanced.html                 27   False    10.0\n1469974634 cheryl     intro.html                 12   False    10.0\n1469974654 sue     advanced.html                 28   False     5.0\n1469974664 cheryl     intro.html                 13   False     5.0\n1469974694 cheryl     intro.html                 14   False     5.0\n1469974724 cheryl     intro.html                 15   False     5.0\n           sue     advanced.html                 29   False     5.0\n1469974754 sue     advanced.html                 30   False     5.0\n1469974824 sue     advanced.html                 31   False     5.0\n1469974854 sue     advanced.html                 32   False     5.0\n1469974924 sue     advanced.html                 33   False     5.0\n1469977424 bob        intro.html                  1    True    10.0\n1469977454 bob        intro.html                  1    True    10.0\n1469977484 bob        intro.html                  1    True    10.0\n1469977514 bob        intro.html                  1    True    10.0\n1469977544 bob        intro.html                  1    True    10.0\n1469977574 bob        intro.html                  1    True    10.0\n1469977604 bob        intro.html                  1    True    10.0\n1469977634 bob        intro.html                  1    True    10.0\n1469977664 bob        intro.html                  1    True    10.0\n1469977694 bob        intro.html                  1    True    10.0\n1469977724 bob        intro.html                  1    True    10.0",
      "text/html": "<div>\n<style scoped>\n    .dataframe tbody tr th:only-of-type {\n        vertical-align: middle;\n    }\n\n    .dataframe tbody tr th {\n        vertical-align: top;\n    }\n\n    .dataframe thead th {\n        text-align: right;\n    }\n</style>\n<table border=\"1\" class=\"dataframe\">\n  <thead>\n    <tr style=\"text-align: right;\">\n      <th></th>\n      <th></th>\n      <th>video</th>\n      <th>playback position</th>\n      <th>paused</th>\n      <th>volume</th>\n    </tr>\n    <tr>\n      <th>time</th>\n      <th>user</th>\n      <th></th>\n      <th></th>\n      <th></th>\n      <th></th>\n    </tr>\n  </thead>\n  <tbody>\n    <tr>\n      <th rowspan=\"2\" valign=\"top\">1469974424</th>\n      <th>cheryl</th>\n      <td>intro.html</td>\n      <td>5</td>\n      <td>False</td>\n      <td>10.0</td>\n    </tr>\n    <tr>\n      <th>sue</th>\n      <td>advanced.html</td>\n      <td>23</td>\n      <td>False</td>\n      <td>10.0</td>\n    </tr>\n    <tr>\n      <th rowspan=\"2\" valign=\"top\">1469974454</th>\n      <th>cheryl</th>\n      <td>intro.html</td>\n      <td>6</td>\n      <td>False</td>\n      <td>10.0</td>\n    </tr>\n    <tr>\n      <th>sue</th>\n      <td>advanced.html</td>\n      <td>24</td>\n      <td>False</td>\n      <td>10.0</td>\n    </tr>\n    <tr>\n      <th>1469974484</th>\n      <th>cheryl</th>\n      <td>intro.html</td>\n      <td>7</td>\n      <td>False</td>\n      <td>10.0</td>\n    </tr>\n    <tr>\n      <th>1469974514</th>\n      <th>cheryl</th>\n      <td>intro.html</td>\n      <td>8</td>\n      <td>False</td>\n      <td>10.0</td>\n    </tr>\n    <tr>\n      <th>1469974524</th>\n      <th>sue</th>\n      <td>advanced.html</td>\n      <td>25</td>\n      <td>False</td>\n      <td>10.0</td>\n    </tr>\n    <tr>\n      <th>1469974544</th>\n      <th>cheryl</th>\n      <td>intro.html</td>\n      <td>9</td>\n      <td>False</td>\n      <td>10.0</td>\n    </tr>\n    <tr>\n      <th>1469974554</th>\n      <th>sue</th>\n      <td>advanced.html</td>\n      <td>26</td>\n      <td>False</td>\n      <td>10.0</td>\n    </tr>\n    <tr>\n      <th>1469974574</th>\n      <th>cheryl</th>\n      <td>intro.html</td>\n      <td>10</td>\n      <td>False</td>\n      <td>10.0</td>\n    </tr>\n    <tr>\n      <th>1469974604</th>\n      <th>cheryl</th>\n      <td>intro.html</td>\n      <td>11</td>\n      <td>False</td>\n      <td>10.0</td>\n    </tr>\n    <tr>\n      <th>1469974624</th>\n      <th>sue</th>\n      <td>advanced.html</td>\n      <td>27</td>\n      <td>False</td>\n      <td>10.0</td>\n    </tr>\n    <tr>\n      <th>1469974634</th>\n      <th>cheryl</th>\n      <td>intro.html</td>\n      <td>12</td>\n      <td>False</td>\n      <td>10.0</td>\n    </tr>\n    <tr>\n      <th>1469974654</th>\n      <th>sue</th>\n      <td>advanced.html</td>\n      <td>28</td>\n      <td>False</td>\n      <td>5.0</td>\n    </tr>\n    <tr>\n      <th>1469974664</th>\n      <th>cheryl</th>\n      <td>intro.html</td>\n      <td>13</td>\n      <td>False</td>\n      <td>5.0</td>\n    </tr>\n    <tr>\n      <th>1469974694</th>\n      <th>cheryl</th>\n      <td>intro.html</td>\n      <td>14</td>\n      <td>False</td>\n      <td>5.0</td>\n    </tr>\n    <tr>\n      <th rowspan=\"2\" valign=\"top\">1469974724</th>\n      <th>cheryl</th>\n      <td>intro.html</td>\n      <td>15</td>\n      <td>False</td>\n      <td>5.0</td>\n    </tr>\n    <tr>\n      <th>sue</th>\n      <td>advanced.html</td>\n      <td>29</td>\n      <td>False</td>\n      <td>5.0</td>\n    </tr>\n    <tr>\n      <th>1469974754</th>\n      <th>sue</th>\n      <td>advanced.html</td>\n      <td>30</td>\n      <td>False</td>\n      <td>5.0</td>\n    </tr>\n    <tr>\n      <th>1469974824</th>\n      <th>sue</th>\n      <td>advanced.html</td>\n      <td>31</td>\n      <td>False</td>\n      <td>5.0</td>\n    </tr>\n    <tr>\n      <th>1469974854</th>\n      <th>sue</th>\n      <td>advanced.html</td>\n      <td>32</td>\n      <td>False</td>\n      <td>5.0</td>\n    </tr>\n    <tr>\n      <th>1469974924</th>\n      <th>sue</th>\n      <td>advanced.html</td>\n      <td>33</td>\n      <td>False</td>\n      <td>5.0</td>\n    </tr>\n    <tr>\n      <th>1469977424</th>\n      <th>bob</th>\n      <td>intro.html</td>\n      <td>1</td>\n      <td>True</td>\n      <td>10.0</td>\n    </tr>\n    <tr>\n      <th>1469977454</th>\n      <th>bob</th>\n      <td>intro.html</td>\n      <td>1</td>\n      <td>True</td>\n      <td>10.0</td>\n    </tr>\n    <tr>\n      <th>1469977484</th>\n      <th>bob</th>\n      <td>intro.html</td>\n      <td>1</td>\n      <td>True</td>\n      <td>10.0</td>\n    </tr>\n    <tr>\n      <th>1469977514</th>\n      <th>bob</th>\n      <td>intro.html</td>\n      <td>1</td>\n      <td>True</td>\n      <td>10.0</td>\n    </tr>\n    <tr>\n      <th>1469977544</th>\n      <th>bob</th>\n      <td>intro.html</td>\n      <td>1</td>\n      <td>True</td>\n      <td>10.0</td>\n    </tr>\n    <tr>\n      <th>1469977574</th>\n      <th>bob</th>\n      <td>intro.html</td>\n      <td>1</td>\n      <td>True</td>\n      <td>10.0</td>\n    </tr>\n    <tr>\n      <th>1469977604</th>\n      <th>bob</th>\n      <td>intro.html</td>\n      <td>1</td>\n      <td>True</td>\n      <td>10.0</td>\n    </tr>\n    <tr>\n      <th>1469977634</th>\n      <th>bob</th>\n      <td>intro.html</td>\n      <td>1</td>\n      <td>True</td>\n      <td>10.0</td>\n    </tr>\n    <tr>\n      <th>1469977664</th>\n      <th>bob</th>\n      <td>intro.html</td>\n      <td>1</td>\n      <td>True</td>\n      <td>10.0</td>\n    </tr>\n    <tr>\n      <th>1469977694</th>\n      <th>bob</th>\n      <td>intro.html</td>\n      <td>1</td>\n      <td>True</td>\n      <td>10.0</td>\n    </tr>\n    <tr>\n      <th>1469977724</th>\n      <th>bob</th>\n      <td>intro.html</td>\n      <td>1</td>\n      <td>True</td>\n      <td>10.0</td>\n    </tr>\n  </tbody>\n</table>\n</div>"
     },
     "execution_count": 234,
     "metadata": {},
     "output_type": "execute_result"
    }
   ],
   "source": [
    "#ffill fills present values forward, bfill fills present values backwards\n",
    "df = df.fillna(method='ffill')\n",
    "df"
   ],
   "metadata": {
    "collapsed": false,
    "pycharm": {
     "name": "#%%\n"
    }
   }
  },
  {
   "cell_type": "code",
   "execution_count": 239,
   "outputs": [
    {
     "data": {
      "text/plain": "   A  B  C\n0  1  3  a\n1  1  6  b\n2  2  3  c\n3  3  8  d\n4  4  9  e",
      "text/html": "<div>\n<style scoped>\n    .dataframe tbody tr th:only-of-type {\n        vertical-align: middle;\n    }\n\n    .dataframe tbody tr th {\n        vertical-align: top;\n    }\n\n    .dataframe thead th {\n        text-align: right;\n    }\n</style>\n<table border=\"1\" class=\"dataframe\">\n  <thead>\n    <tr style=\"text-align: right;\">\n      <th></th>\n      <th>A</th>\n      <th>B</th>\n      <th>C</th>\n    </tr>\n  </thead>\n  <tbody>\n    <tr>\n      <th>0</th>\n      <td>1</td>\n      <td>3</td>\n      <td>a</td>\n    </tr>\n    <tr>\n      <th>1</th>\n      <td>1</td>\n      <td>6</td>\n      <td>b</td>\n    </tr>\n    <tr>\n      <th>2</th>\n      <td>2</td>\n      <td>3</td>\n      <td>c</td>\n    </tr>\n    <tr>\n      <th>3</th>\n      <td>3</td>\n      <td>8</td>\n      <td>d</td>\n    </tr>\n    <tr>\n      <th>4</th>\n      <td>4</td>\n      <td>9</td>\n      <td>e</td>\n    </tr>\n  </tbody>\n</table>\n</div>"
     },
     "execution_count": 239,
     "metadata": {},
     "output_type": "execute_result"
    }
   ],
   "source": [
    "df = pd.DataFrame({'A': [1, 1, 2, 3, 4],\n",
    "                   'B': [3, 6, 3, 8, 9],\n",
    "                   'C': ['a', 'b', 'c', 'd', 'e']})\n",
    "df"
   ],
   "metadata": {
    "collapsed": false,
    "pycharm": {
     "name": "#%%\n"
    }
   }
  },
  {
   "cell_type": "code",
   "execution_count": 240,
   "outputs": [
    {
     "data": {
      "text/plain": "     A  B  C\n0  100  3  a\n1  100  6  b\n2    2  3  c\n3    3  8  d\n4    4  9  e",
      "text/html": "<div>\n<style scoped>\n    .dataframe tbody tr th:only-of-type {\n        vertical-align: middle;\n    }\n\n    .dataframe tbody tr th {\n        vertical-align: top;\n    }\n\n    .dataframe thead th {\n        text-align: right;\n    }\n</style>\n<table border=\"1\" class=\"dataframe\">\n  <thead>\n    <tr style=\"text-align: right;\">\n      <th></th>\n      <th>A</th>\n      <th>B</th>\n      <th>C</th>\n    </tr>\n  </thead>\n  <tbody>\n    <tr>\n      <th>0</th>\n      <td>100</td>\n      <td>3</td>\n      <td>a</td>\n    </tr>\n    <tr>\n      <th>1</th>\n      <td>100</td>\n      <td>6</td>\n      <td>b</td>\n    </tr>\n    <tr>\n      <th>2</th>\n      <td>2</td>\n      <td>3</td>\n      <td>c</td>\n    </tr>\n    <tr>\n      <th>3</th>\n      <td>3</td>\n      <td>8</td>\n      <td>d</td>\n    </tr>\n    <tr>\n      <th>4</th>\n      <td>4</td>\n      <td>9</td>\n      <td>e</td>\n    </tr>\n  </tbody>\n</table>\n</div>"
     },
     "execution_count": 240,
     "metadata": {},
     "output_type": "execute_result"
    }
   ],
   "source": [
    "df.replace(1, 100)"
   ],
   "metadata": {
    "collapsed": false,
    "pycharm": {
     "name": "#%%\n"
    }
   }
  },
  {
   "cell_type": "code",
   "execution_count": 242,
   "outputs": [
    {
     "data": {
      "text/plain": "     A    B  C\n0  100  300  a\n1  100    6  b\n2    2  300  c\n3  300    8  d\n4    4    9  e",
      "text/html": "<div>\n<style scoped>\n    .dataframe tbody tr th:only-of-type {\n        vertical-align: middle;\n    }\n\n    .dataframe tbody tr th {\n        vertical-align: top;\n    }\n\n    .dataframe thead th {\n        text-align: right;\n    }\n</style>\n<table border=\"1\" class=\"dataframe\">\n  <thead>\n    <tr style=\"text-align: right;\">\n      <th></th>\n      <th>A</th>\n      <th>B</th>\n      <th>C</th>\n    </tr>\n  </thead>\n  <tbody>\n    <tr>\n      <th>0</th>\n      <td>100</td>\n      <td>300</td>\n      <td>a</td>\n    </tr>\n    <tr>\n      <th>1</th>\n      <td>100</td>\n      <td>6</td>\n      <td>b</td>\n    </tr>\n    <tr>\n      <th>2</th>\n      <td>2</td>\n      <td>300</td>\n      <td>c</td>\n    </tr>\n    <tr>\n      <th>3</th>\n      <td>300</td>\n      <td>8</td>\n      <td>d</td>\n    </tr>\n    <tr>\n      <th>4</th>\n      <td>4</td>\n      <td>9</td>\n      <td>e</td>\n    </tr>\n  </tbody>\n</table>\n</div>"
     },
     "execution_count": 242,
     "metadata": {},
     "output_type": "execute_result"
    }
   ],
   "source": [
    "df.replace([1, 3], [100, 300])"
   ],
   "metadata": {
    "collapsed": false,
    "pycharm": {
     "name": "#%%\n"
    }
   }
  },
  {
   "cell_type": "code",
   "execution_count": 248,
   "outputs": [
    {
     "data": {
      "text/plain": "          time    user    video  playback position paused  volume\n0   1469974424  cheryl  webpage                  5  False    10.0\n1   1469974454  cheryl  webpage                  6    NaN     NaN\n2   1469974544  cheryl  webpage                  9    NaN     NaN\n3   1469974574  cheryl  webpage                 10    NaN     NaN\n4   1469977514     bob  webpage                  1    NaN     NaN\n5   1469977544     bob  webpage                  1    NaN     NaN\n6   1469977574     bob  webpage                  1    NaN     NaN\n7   1469977604     bob  webpage                  1    NaN     NaN\n8   1469974604  cheryl  webpage                 11    NaN     NaN\n9   1469974694  cheryl  webpage                 14    NaN     NaN\n10  1469974724  cheryl  webpage                 15    NaN     NaN\n11  1469974454     sue  webpage                 24    NaN     NaN\n12  1469974524     sue  webpage                 25    NaN     NaN\n13  1469974424     sue  webpage                 23  False    10.0\n14  1469974554     sue  webpage                 26    NaN     NaN\n15  1469974624     sue  webpage                 27    NaN     NaN\n16  1469974654     sue  webpage                 28    NaN     5.0\n17  1469974724     sue  webpage                 29    NaN     NaN\n18  1469974484  cheryl  webpage                  7    NaN     NaN\n19  1469974514  cheryl  webpage                  8    NaN     NaN\n20  1469974754     sue  webpage                 30    NaN     NaN\n21  1469974824     sue  webpage                 31    NaN     NaN\n22  1469974854     sue  webpage                 32    NaN     NaN\n23  1469974924     sue  webpage                 33    NaN     NaN\n24  1469977424     bob  webpage                  1   True    10.0\n25  1469977454     bob  webpage                  1    NaN     NaN\n26  1469977484     bob  webpage                  1    NaN     NaN\n27  1469977634     bob  webpage                  1    NaN     NaN\n28  1469977664     bob  webpage                  1    NaN     NaN\n29  1469974634  cheryl  webpage                 12    NaN     NaN\n30  1469974664  cheryl  webpage                 13    NaN     NaN\n31  1469977694     bob  webpage                  1    NaN     NaN\n32  1469977724     bob  webpage                  1    NaN     NaN",
      "text/html": "<div>\n<style scoped>\n    .dataframe tbody tr th:only-of-type {\n        vertical-align: middle;\n    }\n\n    .dataframe tbody tr th {\n        vertical-align: top;\n    }\n\n    .dataframe thead th {\n        text-align: right;\n    }\n</style>\n<table border=\"1\" class=\"dataframe\">\n  <thead>\n    <tr style=\"text-align: right;\">\n      <th></th>\n      <th>time</th>\n      <th>user</th>\n      <th>video</th>\n      <th>playback position</th>\n      <th>paused</th>\n      <th>volume</th>\n    </tr>\n  </thead>\n  <tbody>\n    <tr>\n      <th>0</th>\n      <td>1469974424</td>\n      <td>cheryl</td>\n      <td>webpage</td>\n      <td>5</td>\n      <td>False</td>\n      <td>10.0</td>\n    </tr>\n    <tr>\n      <th>1</th>\n      <td>1469974454</td>\n      <td>cheryl</td>\n      <td>webpage</td>\n      <td>6</td>\n      <td>NaN</td>\n      <td>NaN</td>\n    </tr>\n    <tr>\n      <th>2</th>\n      <td>1469974544</td>\n      <td>cheryl</td>\n      <td>webpage</td>\n      <td>9</td>\n      <td>NaN</td>\n      <td>NaN</td>\n    </tr>\n    <tr>\n      <th>3</th>\n      <td>1469974574</td>\n      <td>cheryl</td>\n      <td>webpage</td>\n      <td>10</td>\n      <td>NaN</td>\n      <td>NaN</td>\n    </tr>\n    <tr>\n      <th>4</th>\n      <td>1469977514</td>\n      <td>bob</td>\n      <td>webpage</td>\n      <td>1</td>\n      <td>NaN</td>\n      <td>NaN</td>\n    </tr>\n    <tr>\n      <th>5</th>\n      <td>1469977544</td>\n      <td>bob</td>\n      <td>webpage</td>\n      <td>1</td>\n      <td>NaN</td>\n      <td>NaN</td>\n    </tr>\n    <tr>\n      <th>6</th>\n      <td>1469977574</td>\n      <td>bob</td>\n      <td>webpage</td>\n      <td>1</td>\n      <td>NaN</td>\n      <td>NaN</td>\n    </tr>\n    <tr>\n      <th>7</th>\n      <td>1469977604</td>\n      <td>bob</td>\n      <td>webpage</td>\n      <td>1</td>\n      <td>NaN</td>\n      <td>NaN</td>\n    </tr>\n    <tr>\n      <th>8</th>\n      <td>1469974604</td>\n      <td>cheryl</td>\n      <td>webpage</td>\n      <td>11</td>\n      <td>NaN</td>\n      <td>NaN</td>\n    </tr>\n    <tr>\n      <th>9</th>\n      <td>1469974694</td>\n      <td>cheryl</td>\n      <td>webpage</td>\n      <td>14</td>\n      <td>NaN</td>\n      <td>NaN</td>\n    </tr>\n    <tr>\n      <th>10</th>\n      <td>1469974724</td>\n      <td>cheryl</td>\n      <td>webpage</td>\n      <td>15</td>\n      <td>NaN</td>\n      <td>NaN</td>\n    </tr>\n    <tr>\n      <th>11</th>\n      <td>1469974454</td>\n      <td>sue</td>\n      <td>webpage</td>\n      <td>24</td>\n      <td>NaN</td>\n      <td>NaN</td>\n    </tr>\n    <tr>\n      <th>12</th>\n      <td>1469974524</td>\n      <td>sue</td>\n      <td>webpage</td>\n      <td>25</td>\n      <td>NaN</td>\n      <td>NaN</td>\n    </tr>\n    <tr>\n      <th>13</th>\n      <td>1469974424</td>\n      <td>sue</td>\n      <td>webpage</td>\n      <td>23</td>\n      <td>False</td>\n      <td>10.0</td>\n    </tr>\n    <tr>\n      <th>14</th>\n      <td>1469974554</td>\n      <td>sue</td>\n      <td>webpage</td>\n      <td>26</td>\n      <td>NaN</td>\n      <td>NaN</td>\n    </tr>\n    <tr>\n      <th>15</th>\n      <td>1469974624</td>\n      <td>sue</td>\n      <td>webpage</td>\n      <td>27</td>\n      <td>NaN</td>\n      <td>NaN</td>\n    </tr>\n    <tr>\n      <th>16</th>\n      <td>1469974654</td>\n      <td>sue</td>\n      <td>webpage</td>\n      <td>28</td>\n      <td>NaN</td>\n      <td>5.0</td>\n    </tr>\n    <tr>\n      <th>17</th>\n      <td>1469974724</td>\n      <td>sue</td>\n      <td>webpage</td>\n      <td>29</td>\n      <td>NaN</td>\n      <td>NaN</td>\n    </tr>\n    <tr>\n      <th>18</th>\n      <td>1469974484</td>\n      <td>cheryl</td>\n      <td>webpage</td>\n      <td>7</td>\n      <td>NaN</td>\n      <td>NaN</td>\n    </tr>\n    <tr>\n      <th>19</th>\n      <td>1469974514</td>\n      <td>cheryl</td>\n      <td>webpage</td>\n      <td>8</td>\n      <td>NaN</td>\n      <td>NaN</td>\n    </tr>\n    <tr>\n      <th>20</th>\n      <td>1469974754</td>\n      <td>sue</td>\n      <td>webpage</td>\n      <td>30</td>\n      <td>NaN</td>\n      <td>NaN</td>\n    </tr>\n    <tr>\n      <th>21</th>\n      <td>1469974824</td>\n      <td>sue</td>\n      <td>webpage</td>\n      <td>31</td>\n      <td>NaN</td>\n      <td>NaN</td>\n    </tr>\n    <tr>\n      <th>22</th>\n      <td>1469974854</td>\n      <td>sue</td>\n      <td>webpage</td>\n      <td>32</td>\n      <td>NaN</td>\n      <td>NaN</td>\n    </tr>\n    <tr>\n      <th>23</th>\n      <td>1469974924</td>\n      <td>sue</td>\n      <td>webpage</td>\n      <td>33</td>\n      <td>NaN</td>\n      <td>NaN</td>\n    </tr>\n    <tr>\n      <th>24</th>\n      <td>1469977424</td>\n      <td>bob</td>\n      <td>webpage</td>\n      <td>1</td>\n      <td>True</td>\n      <td>10.0</td>\n    </tr>\n    <tr>\n      <th>25</th>\n      <td>1469977454</td>\n      <td>bob</td>\n      <td>webpage</td>\n      <td>1</td>\n      <td>NaN</td>\n      <td>NaN</td>\n    </tr>\n    <tr>\n      <th>26</th>\n      <td>1469977484</td>\n      <td>bob</td>\n      <td>webpage</td>\n      <td>1</td>\n      <td>NaN</td>\n      <td>NaN</td>\n    </tr>\n    <tr>\n      <th>27</th>\n      <td>1469977634</td>\n      <td>bob</td>\n      <td>webpage</td>\n      <td>1</td>\n      <td>NaN</td>\n      <td>NaN</td>\n    </tr>\n    <tr>\n      <th>28</th>\n      <td>1469977664</td>\n      <td>bob</td>\n      <td>webpage</td>\n      <td>1</td>\n      <td>NaN</td>\n      <td>NaN</td>\n    </tr>\n    <tr>\n      <th>29</th>\n      <td>1469974634</td>\n      <td>cheryl</td>\n      <td>webpage</td>\n      <td>12</td>\n      <td>NaN</td>\n      <td>NaN</td>\n    </tr>\n    <tr>\n      <th>30</th>\n      <td>1469974664</td>\n      <td>cheryl</td>\n      <td>webpage</td>\n      <td>13</td>\n      <td>NaN</td>\n      <td>NaN</td>\n    </tr>\n    <tr>\n      <th>31</th>\n      <td>1469977694</td>\n      <td>bob</td>\n      <td>webpage</td>\n      <td>1</td>\n      <td>NaN</td>\n      <td>NaN</td>\n    </tr>\n    <tr>\n      <th>32</th>\n      <td>1469977724</td>\n      <td>bob</td>\n      <td>webpage</td>\n      <td>1</td>\n      <td>NaN</td>\n      <td>NaN</td>\n    </tr>\n  </tbody>\n</table>\n</div>"
     },
     "execution_count": 248,
     "metadata": {},
     "output_type": "execute_result"
    }
   ],
   "source": [
    "df = pd.read_csv('log.csv')\n",
    "df.replace(to_replace='[A-Za-z]*.html$', value='webpage', regex=True)"
   ],
   "metadata": {
    "collapsed": false,
    "pycharm": {
     "name": "#%%\n"
    }
   }
  },
  {
   "cell_type": "markdown",
   "source": [
    "## Manipulating Data Frames\n"
   ],
   "metadata": {
    "collapsed": false
   }
  },
  {
   "cell_type": "code",
   "execution_count": 251,
   "outputs": [
    {
     "data": {
      "text/plain": "     #              President             Born  \\\n0    1      George Washington  Feb 22, 1732[a]   \n1    2             John Adams  Oct 30, 1735[a]   \n2    3       Thomas Jefferson  Apr 13, 1743[a]   \n3    4          James Madison  Mar 16, 1751[a]   \n4    5           James Monroe     Apr 28, 1758   \n5    6      John Quincy Adams     Jul 11, 1767   \n6    7         Andrew Jackson     Mar 15, 1767   \n7    8       Martin Van Buren      Dec 5, 1782   \n8    9    William H. Harrison      Feb 9, 1773   \n9   10             John Tyler     Mar 29, 1790   \n10  11          James K. Polk      Nov 2, 1795   \n11  12         Zachary Taylor     Nov 24, 1784   \n12  13       Millard Fillmore      Jan 7, 1800   \n13  14        Franklin Pierce     Nov 23, 1804   \n14  15         James Buchanan     Apr 23, 1791   \n15  16        Abraham Lincoln     Feb 12, 1809   \n16  17         Andrew Johnson     Dec 29, 1808   \n17  18       Ulysses S. Grant     Apr 27, 1822   \n18  19    Rutherford B. Hayes      Oct 4, 1822   \n19  20      James A. Garfield     Nov 19, 1831   \n20  21      Chester A. Arthur      Oct 5, 1829   \n21  22       Grover Cleveland     Mar 18, 1837   \n22  23      Benjamin Harrison     Aug 20, 1833   \n23  24       Grover Cleveland     Mar 18, 1837   \n24  25       William McKinley     Jan 29, 1843   \n25  26     Theodore Roosevelt     Oct 27, 1858   \n26  27        William H. Taft     Sep 15, 1857   \n27  28         Woodrow Wilson     Dec 28, 1856   \n28  29      Warren G. Harding      Nov 2, 1865   \n29  30        Calvin Coolidge      Jul 4, 1872   \n30  31         Herbert Hoover     Aug 10, 1874   \n31  32  Franklin D. Roosevelt     Jan 30, 1882   \n32  33        Harry S. Truman      May 8, 1884   \n33  34   Dwight D. Eisenhower     Oct 14, 1890   \n34  35        John F. Kennedy     May 29, 1917   \n35  36      Lyndon B. Johnson     Aug 27, 1908   \n36  37          Richard Nixon      Jan 9, 1913   \n37  38            Gerald Ford     Jul 14, 1913   \n38  39           Jimmy Carter      Oct 1, 1924   \n39  40          Ronald Reagan      Feb 6, 1911   \n40  41      George H. W. Bush     Jun 12, 1924   \n41  42           Bill Clinton     Aug 19, 1946   \n42  43         George W. Bush      Jul 6, 1946   \n43  44           Barack Obama      Aug 4, 1961   \n\n         Age atstart of presidency            Age atend of presidency  \\\n0    57 years, 67 daysApr 30, 1789       65 years, 10 daysMar 4, 1797   \n1    61 years, 125 daysMar 4, 1797      65 years, 125 daysMar 4, 1801   \n2    57 years, 325 daysMar 4, 1801      65 years, 325 daysMar 4, 1809   \n3    57 years, 353 daysMar 4, 1809      65 years, 353 daysMar 4, 1817   \n4    58 years, 310 daysMar 4, 1817      66 years, 310 daysMar 4, 1825   \n5    57 years, 236 daysMar 4, 1825      61 years, 236 daysMar 4, 1829   \n6    61 years, 354 daysMar 4, 1829      69 years, 354 daysMar 4, 1837   \n7     54 years, 89 daysMar 4, 1837       58 years, 89 daysMar 4, 1841   \n8     68 years, 23 daysMar 4, 1841   68 years, 54 days Apr 4, 1841[b]   \n9      51 years, 6 daysApr 4, 1841      54 years, 340 daysMar 4, 1845   \n10   49 years, 122 daysMar 4, 1845      53 years, 122 daysMar 4, 1849   \n11   64 years, 100 daysMar 4, 1849   65 years, 227 daysJul 9, 1850[b]   \n12   50 years, 183 daysJul 9, 1850       53 years, 56 daysMar 4, 1853   \n13   48 years, 101 daysMar 4, 1853      52 years, 101 daysMar 4, 1857   \n14   65 years, 315 daysMar 4, 1857      69 years, 315 daysMar 4, 1861   \n15    52 years, 20 daysMar 4, 1861   56 years, 62 daysApr 15, 1865[b]   \n16  56 years, 107 daysApr 15, 1865       60 years, 65 daysMar 4, 1869   \n17   46 years, 311 daysMar 4, 1869      54 years, 311 daysMar 4, 1877   \n18   54 years, 151 daysMar 4, 1877      58 years, 151 daysMar 4, 1881   \n19   49 years, 105 daysMar 4, 1881  49 years, 304 daysSep 19, 1881[b]   \n20  51 years, 349 daysSep 19, 1881      55 years, 150 daysMar 4, 1885   \n21   47 years, 351 daysMar 4, 1885      51 years, 351 daysMar 4, 1889   \n22   55 years, 196 daysMar 4, 1889      59 years, 196 daysMar 4, 1893   \n23   55 years, 351 daysMar 4, 1893      59 years, 351 daysMar 4, 1897   \n24    54 years, 34 daysMar 4, 1897  58 years, 228 daysSep 14, 1901[b]   \n25  42 years, 322 daysSep 14, 1901      50 years, 128 daysMar 4, 1909   \n26   51 years, 170 daysMar 4, 1909      55 years, 170 daysMar 4, 1913   \n27    56 years, 66 daysMar 4, 1913       64 years, 66 daysMar 4, 1921   \n28   55 years, 122 daysMar 4, 1921   57 years, 273 daysAug 2, 1923[b]   \n29    51 years, 29 daysAug 2, 1923      56 years, 243 daysMar 4, 1929   \n30   54 years, 206 daysMar 4, 1929      58 years, 206 daysMar 4, 1933   \n31    51 years, 33 daysMar 4, 1933   63 years, 72 daysApr 12, 1945[b]   \n32  60 years, 339 daysApr 12, 1945     68 years, 257 daysJan 20, 1953   \n33   62 years, 98 daysJan 20, 1953      70 years, 98 daysJan 20, 1961   \n34  43 years, 236 daysJan 20, 1961  46 years, 177 daysNov 22, 1963[b]   \n35   55 years, 87 daysNov 22, 1963     60 years, 146 daysJan 20, 1969   \n36   56 years, 11 daysJan 20, 1969   61 years, 212 daysAug 9, 1974[e]   \n37    61 years, 26 daysAug 9, 1974     63 years, 190 daysJan 20, 1977   \n38  52 years, 111 daysJan 20, 1977     56 years, 111 daysJan 20, 1981   \n39  69 years, 349 daysJan 20, 1981     77 years, 349 daysJan 20, 1989   \n40  64 years, 222 daysJan 20, 1989     68 years, 222 daysJan 20, 1993   \n41  46 years, 154 daysJan 20, 1993     54 years, 154 daysJan 20, 2001   \n42  54 years, 198 daysJan 20, 2001     62 years, 198 daysJan 20, 2009   \n43  47 years, 169 daysJan 20, 2009     55 years, 169 daysJan 20, 2017   \n\n   Post-presidencytimespan          Died                 Age  \n0        2 years, 285 days  Dec 14, 1799  67 years, 295 days  \n1       25 years, 122 days   Jul 4, 1826  90 years, 247 days  \n2       17 years, 122 days   Jul 4, 1826   83 years, 82 days  \n3       19 years, 116 days  Jun 28, 1836  85 years, 104 days  \n4        6 years, 122 days   Jul 4, 1831   73 years, 67 days  \n5       18 years, 356 days  Feb 23, 1848  80 years, 227 days  \n6         8 years, 96 days   Jun 8, 1845   78 years, 85 days  \n7       21 years, 142 days  Jul 24, 1862  79 years, 231 days  \n8                      NaN   Apr 4, 1841   68 years, 54 days  \n9       16 years, 320 days  Jan 18, 1862  71 years, 295 days  \n10                103 days  Jun 15, 1849  53 years, 225 days  \n11                     NaN   Jul 9, 1850  65 years, 227 days  \n12        21 years, 4 days   Mar 8, 1874   74 years, 60 days  \n13      12 years, 218 days   Oct 8, 1869  64 years, 319 days  \n14        7 years, 89 days   Jun 1, 1868   77 years, 39 days  \n15                     NaN  Apr 15, 1865   56 years, 62 days  \n16       6 years, 149 days  Jul 31, 1875  66 years, 214 days  \n17       8 years, 141 days  Jul 23, 1885   63 years, 87 days  \n18      11 years, 319 days  Jan 17, 1893  70 years, 105 days  \n19                     NaN  Sep 19, 1881  49 years, 304 days  \n20        1 year, 259 days  Nov 18, 1886   57 years, 44 days  \n21      4 years, 0 days[c]  Jun 24, 1908   71 years, 98 days  \n22         8 years, 9 days  Mar 13, 1901  67 years, 205 days  \n23   11 years, 112 days[d]  Jun 24, 1908   71 years, 98 days  \n24                     NaN  Sep 14, 1901  58 years, 228 days  \n25       9 years, 308 days   Jan 6, 1919   60 years, 71 days  \n26        17 years, 4 days   Mar 8, 1930  72 years, 174 days  \n27       2 years, 336 days   Feb 3, 1924   67 years, 37 days  \n28                     NaN   Aug 2, 1923  57 years, 273 days  \n29       3 years, 307 days   Jan 5, 1933  60 years, 185 days  \n30      31 years, 230 days  Oct 20, 1964   90 years, 71 days  \n31                     NaN  Apr 12, 1945   63 years, 72 days  \n32      19 years, 341 days  Dec 26, 1972  88 years, 232 days  \n33        8 years, 67 days  Mar 28, 1969  78 years, 165 days  \n34                     NaN  Nov 22, 1963  46 years, 177 days  \n35         4 years, 2 days  Jan 22, 1973  64 years, 148 days  \n36      19 years, 256 days  Apr 22, 1994  81 years, 103 days  \n37      29 years, 340 days  Dec 26, 2006  93 years, 165 days  \n38      38 years, 175 days      (living)  94 years, 286 days  \n39      15 years, 137 days   Jun 5, 2004  93 years, 120 days  \n40      25 years, 314 days  Nov 30, 2018  94 years, 171 days  \n41      18 years, 175 days      (living)  72 years, 329 days  \n42      10 years, 175 days      (living)    73 years, 8 days  \n43       2 years, 175 days      (living)  57 years, 344 days  ",
      "text/html": "<div>\n<style scoped>\n    .dataframe tbody tr th:only-of-type {\n        vertical-align: middle;\n    }\n\n    .dataframe tbody tr th {\n        vertical-align: top;\n    }\n\n    .dataframe thead th {\n        text-align: right;\n    }\n</style>\n<table border=\"1\" class=\"dataframe\">\n  <thead>\n    <tr style=\"text-align: right;\">\n      <th></th>\n      <th>#</th>\n      <th>President</th>\n      <th>Born</th>\n      <th>Age atstart of presidency</th>\n      <th>Age atend of presidency</th>\n      <th>Post-presidencytimespan</th>\n      <th>Died</th>\n      <th>Age</th>\n    </tr>\n  </thead>\n  <tbody>\n    <tr>\n      <th>0</th>\n      <td>1</td>\n      <td>George Washington</td>\n      <td>Feb 22, 1732[a]</td>\n      <td>57 years, 67 daysApr 30, 1789</td>\n      <td>65 years, 10 daysMar 4, 1797</td>\n      <td>2 years, 285 days</td>\n      <td>Dec 14, 1799</td>\n      <td>67 years, 295 days</td>\n    </tr>\n    <tr>\n      <th>1</th>\n      <td>2</td>\n      <td>John Adams</td>\n      <td>Oct 30, 1735[a]</td>\n      <td>61 years, 125 daysMar 4, 1797</td>\n      <td>65 years, 125 daysMar 4, 1801</td>\n      <td>25 years, 122 days</td>\n      <td>Jul 4, 1826</td>\n      <td>90 years, 247 days</td>\n    </tr>\n    <tr>\n      <th>2</th>\n      <td>3</td>\n      <td>Thomas Jefferson</td>\n      <td>Apr 13, 1743[a]</td>\n      <td>57 years, 325 daysMar 4, 1801</td>\n      <td>65 years, 325 daysMar 4, 1809</td>\n      <td>17 years, 122 days</td>\n      <td>Jul 4, 1826</td>\n      <td>83 years, 82 days</td>\n    </tr>\n    <tr>\n      <th>3</th>\n      <td>4</td>\n      <td>James Madison</td>\n      <td>Mar 16, 1751[a]</td>\n      <td>57 years, 353 daysMar 4, 1809</td>\n      <td>65 years, 353 daysMar 4, 1817</td>\n      <td>19 years, 116 days</td>\n      <td>Jun 28, 1836</td>\n      <td>85 years, 104 days</td>\n    </tr>\n    <tr>\n      <th>4</th>\n      <td>5</td>\n      <td>James Monroe</td>\n      <td>Apr 28, 1758</td>\n      <td>58 years, 310 daysMar 4, 1817</td>\n      <td>66 years, 310 daysMar 4, 1825</td>\n      <td>6 years, 122 days</td>\n      <td>Jul 4, 1831</td>\n      <td>73 years, 67 days</td>\n    </tr>\n    <tr>\n      <th>5</th>\n      <td>6</td>\n      <td>John Quincy Adams</td>\n      <td>Jul 11, 1767</td>\n      <td>57 years, 236 daysMar 4, 1825</td>\n      <td>61 years, 236 daysMar 4, 1829</td>\n      <td>18 years, 356 days</td>\n      <td>Feb 23, 1848</td>\n      <td>80 years, 227 days</td>\n    </tr>\n    <tr>\n      <th>6</th>\n      <td>7</td>\n      <td>Andrew Jackson</td>\n      <td>Mar 15, 1767</td>\n      <td>61 years, 354 daysMar 4, 1829</td>\n      <td>69 years, 354 daysMar 4, 1837</td>\n      <td>8 years, 96 days</td>\n      <td>Jun 8, 1845</td>\n      <td>78 years, 85 days</td>\n    </tr>\n    <tr>\n      <th>7</th>\n      <td>8</td>\n      <td>Martin Van Buren</td>\n      <td>Dec 5, 1782</td>\n      <td>54 years, 89 daysMar 4, 1837</td>\n      <td>58 years, 89 daysMar 4, 1841</td>\n      <td>21 years, 142 days</td>\n      <td>Jul 24, 1862</td>\n      <td>79 years, 231 days</td>\n    </tr>\n    <tr>\n      <th>8</th>\n      <td>9</td>\n      <td>William H. Harrison</td>\n      <td>Feb 9, 1773</td>\n      <td>68 years, 23 daysMar 4, 1841</td>\n      <td>68 years, 54 days Apr 4, 1841[b]</td>\n      <td>NaN</td>\n      <td>Apr 4, 1841</td>\n      <td>68 years, 54 days</td>\n    </tr>\n    <tr>\n      <th>9</th>\n      <td>10</td>\n      <td>John Tyler</td>\n      <td>Mar 29, 1790</td>\n      <td>51 years, 6 daysApr 4, 1841</td>\n      <td>54 years, 340 daysMar 4, 1845</td>\n      <td>16 years, 320 days</td>\n      <td>Jan 18, 1862</td>\n      <td>71 years, 295 days</td>\n    </tr>\n    <tr>\n      <th>10</th>\n      <td>11</td>\n      <td>James K. Polk</td>\n      <td>Nov 2, 1795</td>\n      <td>49 years, 122 daysMar 4, 1845</td>\n      <td>53 years, 122 daysMar 4, 1849</td>\n      <td>103 days</td>\n      <td>Jun 15, 1849</td>\n      <td>53 years, 225 days</td>\n    </tr>\n    <tr>\n      <th>11</th>\n      <td>12</td>\n      <td>Zachary Taylor</td>\n      <td>Nov 24, 1784</td>\n      <td>64 years, 100 daysMar 4, 1849</td>\n      <td>65 years, 227 daysJul 9, 1850[b]</td>\n      <td>NaN</td>\n      <td>Jul 9, 1850</td>\n      <td>65 years, 227 days</td>\n    </tr>\n    <tr>\n      <th>12</th>\n      <td>13</td>\n      <td>Millard Fillmore</td>\n      <td>Jan 7, 1800</td>\n      <td>50 years, 183 daysJul 9, 1850</td>\n      <td>53 years, 56 daysMar 4, 1853</td>\n      <td>21 years, 4 days</td>\n      <td>Mar 8, 1874</td>\n      <td>74 years, 60 days</td>\n    </tr>\n    <tr>\n      <th>13</th>\n      <td>14</td>\n      <td>Franklin Pierce</td>\n      <td>Nov 23, 1804</td>\n      <td>48 years, 101 daysMar 4, 1853</td>\n      <td>52 years, 101 daysMar 4, 1857</td>\n      <td>12 years, 218 days</td>\n      <td>Oct 8, 1869</td>\n      <td>64 years, 319 days</td>\n    </tr>\n    <tr>\n      <th>14</th>\n      <td>15</td>\n      <td>James Buchanan</td>\n      <td>Apr 23, 1791</td>\n      <td>65 years, 315 daysMar 4, 1857</td>\n      <td>69 years, 315 daysMar 4, 1861</td>\n      <td>7 years, 89 days</td>\n      <td>Jun 1, 1868</td>\n      <td>77 years, 39 days</td>\n    </tr>\n    <tr>\n      <th>15</th>\n      <td>16</td>\n      <td>Abraham Lincoln</td>\n      <td>Feb 12, 1809</td>\n      <td>52 years, 20 daysMar 4, 1861</td>\n      <td>56 years, 62 daysApr 15, 1865[b]</td>\n      <td>NaN</td>\n      <td>Apr 15, 1865</td>\n      <td>56 years, 62 days</td>\n    </tr>\n    <tr>\n      <th>16</th>\n      <td>17</td>\n      <td>Andrew Johnson</td>\n      <td>Dec 29, 1808</td>\n      <td>56 years, 107 daysApr 15, 1865</td>\n      <td>60 years, 65 daysMar 4, 1869</td>\n      <td>6 years, 149 days</td>\n      <td>Jul 31, 1875</td>\n      <td>66 years, 214 days</td>\n    </tr>\n    <tr>\n      <th>17</th>\n      <td>18</td>\n      <td>Ulysses S. Grant</td>\n      <td>Apr 27, 1822</td>\n      <td>46 years, 311 daysMar 4, 1869</td>\n      <td>54 years, 311 daysMar 4, 1877</td>\n      <td>8 years, 141 days</td>\n      <td>Jul 23, 1885</td>\n      <td>63 years, 87 days</td>\n    </tr>\n    <tr>\n      <th>18</th>\n      <td>19</td>\n      <td>Rutherford B. Hayes</td>\n      <td>Oct 4, 1822</td>\n      <td>54 years, 151 daysMar 4, 1877</td>\n      <td>58 years, 151 daysMar 4, 1881</td>\n      <td>11 years, 319 days</td>\n      <td>Jan 17, 1893</td>\n      <td>70 years, 105 days</td>\n    </tr>\n    <tr>\n      <th>19</th>\n      <td>20</td>\n      <td>James A. Garfield</td>\n      <td>Nov 19, 1831</td>\n      <td>49 years, 105 daysMar 4, 1881</td>\n      <td>49 years, 304 daysSep 19, 1881[b]</td>\n      <td>NaN</td>\n      <td>Sep 19, 1881</td>\n      <td>49 years, 304 days</td>\n    </tr>\n    <tr>\n      <th>20</th>\n      <td>21</td>\n      <td>Chester A. Arthur</td>\n      <td>Oct 5, 1829</td>\n      <td>51 years, 349 daysSep 19, 1881</td>\n      <td>55 years, 150 daysMar 4, 1885</td>\n      <td>1 year, 259 days</td>\n      <td>Nov 18, 1886</td>\n      <td>57 years, 44 days</td>\n    </tr>\n    <tr>\n      <th>21</th>\n      <td>22</td>\n      <td>Grover Cleveland</td>\n      <td>Mar 18, 1837</td>\n      <td>47 years, 351 daysMar 4, 1885</td>\n      <td>51 years, 351 daysMar 4, 1889</td>\n      <td>4 years, 0 days[c]</td>\n      <td>Jun 24, 1908</td>\n      <td>71 years, 98 days</td>\n    </tr>\n    <tr>\n      <th>22</th>\n      <td>23</td>\n      <td>Benjamin Harrison</td>\n      <td>Aug 20, 1833</td>\n      <td>55 years, 196 daysMar 4, 1889</td>\n      <td>59 years, 196 daysMar 4, 1893</td>\n      <td>8 years, 9 days</td>\n      <td>Mar 13, 1901</td>\n      <td>67 years, 205 days</td>\n    </tr>\n    <tr>\n      <th>23</th>\n      <td>24</td>\n      <td>Grover Cleveland</td>\n      <td>Mar 18, 1837</td>\n      <td>55 years, 351 daysMar 4, 1893</td>\n      <td>59 years, 351 daysMar 4, 1897</td>\n      <td>11 years, 112 days[d]</td>\n      <td>Jun 24, 1908</td>\n      <td>71 years, 98 days</td>\n    </tr>\n    <tr>\n      <th>24</th>\n      <td>25</td>\n      <td>William McKinley</td>\n      <td>Jan 29, 1843</td>\n      <td>54 years, 34 daysMar 4, 1897</td>\n      <td>58 years, 228 daysSep 14, 1901[b]</td>\n      <td>NaN</td>\n      <td>Sep 14, 1901</td>\n      <td>58 years, 228 days</td>\n    </tr>\n    <tr>\n      <th>25</th>\n      <td>26</td>\n      <td>Theodore Roosevelt</td>\n      <td>Oct 27, 1858</td>\n      <td>42 years, 322 daysSep 14, 1901</td>\n      <td>50 years, 128 daysMar 4, 1909</td>\n      <td>9 years, 308 days</td>\n      <td>Jan 6, 1919</td>\n      <td>60 years, 71 days</td>\n    </tr>\n    <tr>\n      <th>26</th>\n      <td>27</td>\n      <td>William H. Taft</td>\n      <td>Sep 15, 1857</td>\n      <td>51 years, 170 daysMar 4, 1909</td>\n      <td>55 years, 170 daysMar 4, 1913</td>\n      <td>17 years, 4 days</td>\n      <td>Mar 8, 1930</td>\n      <td>72 years, 174 days</td>\n    </tr>\n    <tr>\n      <th>27</th>\n      <td>28</td>\n      <td>Woodrow Wilson</td>\n      <td>Dec 28, 1856</td>\n      <td>56 years, 66 daysMar 4, 1913</td>\n      <td>64 years, 66 daysMar 4, 1921</td>\n      <td>2 years, 336 days</td>\n      <td>Feb 3, 1924</td>\n      <td>67 years, 37 days</td>\n    </tr>\n    <tr>\n      <th>28</th>\n      <td>29</td>\n      <td>Warren G. Harding</td>\n      <td>Nov 2, 1865</td>\n      <td>55 years, 122 daysMar 4, 1921</td>\n      <td>57 years, 273 daysAug 2, 1923[b]</td>\n      <td>NaN</td>\n      <td>Aug 2, 1923</td>\n      <td>57 years, 273 days</td>\n    </tr>\n    <tr>\n      <th>29</th>\n      <td>30</td>\n      <td>Calvin Coolidge</td>\n      <td>Jul 4, 1872</td>\n      <td>51 years, 29 daysAug 2, 1923</td>\n      <td>56 years, 243 daysMar 4, 1929</td>\n      <td>3 years, 307 days</td>\n      <td>Jan 5, 1933</td>\n      <td>60 years, 185 days</td>\n    </tr>\n    <tr>\n      <th>30</th>\n      <td>31</td>\n      <td>Herbert Hoover</td>\n      <td>Aug 10, 1874</td>\n      <td>54 years, 206 daysMar 4, 1929</td>\n      <td>58 years, 206 daysMar 4, 1933</td>\n      <td>31 years, 230 days</td>\n      <td>Oct 20, 1964</td>\n      <td>90 years, 71 days</td>\n    </tr>\n    <tr>\n      <th>31</th>\n      <td>32</td>\n      <td>Franklin D. Roosevelt</td>\n      <td>Jan 30, 1882</td>\n      <td>51 years, 33 daysMar 4, 1933</td>\n      <td>63 years, 72 daysApr 12, 1945[b]</td>\n      <td>NaN</td>\n      <td>Apr 12, 1945</td>\n      <td>63 years, 72 days</td>\n    </tr>\n    <tr>\n      <th>32</th>\n      <td>33</td>\n      <td>Harry S. Truman</td>\n      <td>May 8, 1884</td>\n      <td>60 years, 339 daysApr 12, 1945</td>\n      <td>68 years, 257 daysJan 20, 1953</td>\n      <td>19 years, 341 days</td>\n      <td>Dec 26, 1972</td>\n      <td>88 years, 232 days</td>\n    </tr>\n    <tr>\n      <th>33</th>\n      <td>34</td>\n      <td>Dwight D. Eisenhower</td>\n      <td>Oct 14, 1890</td>\n      <td>62 years, 98 daysJan 20, 1953</td>\n      <td>70 years, 98 daysJan 20, 1961</td>\n      <td>8 years, 67 days</td>\n      <td>Mar 28, 1969</td>\n      <td>78 years, 165 days</td>\n    </tr>\n    <tr>\n      <th>34</th>\n      <td>35</td>\n      <td>John F. Kennedy</td>\n      <td>May 29, 1917</td>\n      <td>43 years, 236 daysJan 20, 1961</td>\n      <td>46 years, 177 daysNov 22, 1963[b]</td>\n      <td>NaN</td>\n      <td>Nov 22, 1963</td>\n      <td>46 years, 177 days</td>\n    </tr>\n    <tr>\n      <th>35</th>\n      <td>36</td>\n      <td>Lyndon B. Johnson</td>\n      <td>Aug 27, 1908</td>\n      <td>55 years, 87 daysNov 22, 1963</td>\n      <td>60 years, 146 daysJan 20, 1969</td>\n      <td>4 years, 2 days</td>\n      <td>Jan 22, 1973</td>\n      <td>64 years, 148 days</td>\n    </tr>\n    <tr>\n      <th>36</th>\n      <td>37</td>\n      <td>Richard Nixon</td>\n      <td>Jan 9, 1913</td>\n      <td>56 years, 11 daysJan 20, 1969</td>\n      <td>61 years, 212 daysAug 9, 1974[e]</td>\n      <td>19 years, 256 days</td>\n      <td>Apr 22, 1994</td>\n      <td>81 years, 103 days</td>\n    </tr>\n    <tr>\n      <th>37</th>\n      <td>38</td>\n      <td>Gerald Ford</td>\n      <td>Jul 14, 1913</td>\n      <td>61 years, 26 daysAug 9, 1974</td>\n      <td>63 years, 190 daysJan 20, 1977</td>\n      <td>29 years, 340 days</td>\n      <td>Dec 26, 2006</td>\n      <td>93 years, 165 days</td>\n    </tr>\n    <tr>\n      <th>38</th>\n      <td>39</td>\n      <td>Jimmy Carter</td>\n      <td>Oct 1, 1924</td>\n      <td>52 years, 111 daysJan 20, 1977</td>\n      <td>56 years, 111 daysJan 20, 1981</td>\n      <td>38 years, 175 days</td>\n      <td>(living)</td>\n      <td>94 years, 286 days</td>\n    </tr>\n    <tr>\n      <th>39</th>\n      <td>40</td>\n      <td>Ronald Reagan</td>\n      <td>Feb 6, 1911</td>\n      <td>69 years, 349 daysJan 20, 1981</td>\n      <td>77 years, 349 daysJan 20, 1989</td>\n      <td>15 years, 137 days</td>\n      <td>Jun 5, 2004</td>\n      <td>93 years, 120 days</td>\n    </tr>\n    <tr>\n      <th>40</th>\n      <td>41</td>\n      <td>George H. W. Bush</td>\n      <td>Jun 12, 1924</td>\n      <td>64 years, 222 daysJan 20, 1989</td>\n      <td>68 years, 222 daysJan 20, 1993</td>\n      <td>25 years, 314 days</td>\n      <td>Nov 30, 2018</td>\n      <td>94 years, 171 days</td>\n    </tr>\n    <tr>\n      <th>41</th>\n      <td>42</td>\n      <td>Bill Clinton</td>\n      <td>Aug 19, 1946</td>\n      <td>46 years, 154 daysJan 20, 1993</td>\n      <td>54 years, 154 daysJan 20, 2001</td>\n      <td>18 years, 175 days</td>\n      <td>(living)</td>\n      <td>72 years, 329 days</td>\n    </tr>\n    <tr>\n      <th>42</th>\n      <td>43</td>\n      <td>George W. Bush</td>\n      <td>Jul 6, 1946</td>\n      <td>54 years, 198 daysJan 20, 2001</td>\n      <td>62 years, 198 daysJan 20, 2009</td>\n      <td>10 years, 175 days</td>\n      <td>(living)</td>\n      <td>73 years, 8 days</td>\n    </tr>\n    <tr>\n      <th>43</th>\n      <td>44</td>\n      <td>Barack Obama</td>\n      <td>Aug 4, 1961</td>\n      <td>47 years, 169 daysJan 20, 2009</td>\n      <td>55 years, 169 daysJan 20, 2017</td>\n      <td>2 years, 175 days</td>\n      <td>(living)</td>\n      <td>57 years, 344 days</td>\n    </tr>\n  </tbody>\n</table>\n</div>"
     },
     "execution_count": 251,
     "metadata": {},
     "output_type": "execute_result"
    }
   ],
   "source": [
    "df = pd.read_csv('presidents.csv')\n",
    "df"
   ],
   "metadata": {
    "collapsed": false,
    "pycharm": {
     "name": "#%%\n"
    }
   }
  },
  {
   "cell_type": "code",
   "execution_count": 254,
   "outputs": [
    {
     "data": {
      "text/plain": "     #              President             Born  \\\n0    1      George Washington  Feb 22, 1732[a]   \n1    2             John Adams  Oct 30, 1735[a]   \n2    3       Thomas Jefferson  Apr 13, 1743[a]   \n3    4          James Madison  Mar 16, 1751[a]   \n4    5           James Monroe     Apr 28, 1758   \n5    6      John Quincy Adams     Jul 11, 1767   \n6    7         Andrew Jackson     Mar 15, 1767   \n7    8       Martin Van Buren      Dec 5, 1782   \n8    9    William H. Harrison      Feb 9, 1773   \n9   10             John Tyler     Mar 29, 1790   \n10  11          James K. Polk      Nov 2, 1795   \n11  12         Zachary Taylor     Nov 24, 1784   \n12  13       Millard Fillmore      Jan 7, 1800   \n13  14        Franklin Pierce     Nov 23, 1804   \n14  15         James Buchanan     Apr 23, 1791   \n15  16        Abraham Lincoln     Feb 12, 1809   \n16  17         Andrew Johnson     Dec 29, 1808   \n17  18       Ulysses S. Grant     Apr 27, 1822   \n18  19    Rutherford B. Hayes      Oct 4, 1822   \n19  20      James A. Garfield     Nov 19, 1831   \n20  21      Chester A. Arthur      Oct 5, 1829   \n21  22       Grover Cleveland     Mar 18, 1837   \n22  23      Benjamin Harrison     Aug 20, 1833   \n23  24       Grover Cleveland     Mar 18, 1837   \n24  25       William McKinley     Jan 29, 1843   \n25  26     Theodore Roosevelt     Oct 27, 1858   \n26  27        William H. Taft     Sep 15, 1857   \n27  28         Woodrow Wilson     Dec 28, 1856   \n28  29      Warren G. Harding      Nov 2, 1865   \n29  30        Calvin Coolidge      Jul 4, 1872   \n30  31         Herbert Hoover     Aug 10, 1874   \n31  32  Franklin D. Roosevelt     Jan 30, 1882   \n32  33        Harry S. Truman      May 8, 1884   \n33  34   Dwight D. Eisenhower     Oct 14, 1890   \n34  35        John F. Kennedy     May 29, 1917   \n35  36      Lyndon B. Johnson     Aug 27, 1908   \n36  37          Richard Nixon      Jan 9, 1913   \n37  38            Gerald Ford     Jul 14, 1913   \n38  39           Jimmy Carter      Oct 1, 1924   \n39  40          Ronald Reagan      Feb 6, 1911   \n40  41      George H. W. Bush     Jun 12, 1924   \n41  42           Bill Clinton     Aug 19, 1946   \n42  43         George W. Bush      Jul 6, 1946   \n43  44           Barack Obama      Aug 4, 1961   \n\n         Age atstart of presidency            Age atend of presidency  \\\n0    57 years, 67 daysApr 30, 1789       65 years, 10 daysMar 4, 1797   \n1    61 years, 125 daysMar 4, 1797      65 years, 125 daysMar 4, 1801   \n2    57 years, 325 daysMar 4, 1801      65 years, 325 daysMar 4, 1809   \n3    57 years, 353 daysMar 4, 1809      65 years, 353 daysMar 4, 1817   \n4    58 years, 310 daysMar 4, 1817      66 years, 310 daysMar 4, 1825   \n5    57 years, 236 daysMar 4, 1825      61 years, 236 daysMar 4, 1829   \n6    61 years, 354 daysMar 4, 1829      69 years, 354 daysMar 4, 1837   \n7     54 years, 89 daysMar 4, 1837       58 years, 89 daysMar 4, 1841   \n8     68 years, 23 daysMar 4, 1841   68 years, 54 days Apr 4, 1841[b]   \n9      51 years, 6 daysApr 4, 1841      54 years, 340 daysMar 4, 1845   \n10   49 years, 122 daysMar 4, 1845      53 years, 122 daysMar 4, 1849   \n11   64 years, 100 daysMar 4, 1849   65 years, 227 daysJul 9, 1850[b]   \n12   50 years, 183 daysJul 9, 1850       53 years, 56 daysMar 4, 1853   \n13   48 years, 101 daysMar 4, 1853      52 years, 101 daysMar 4, 1857   \n14   65 years, 315 daysMar 4, 1857      69 years, 315 daysMar 4, 1861   \n15    52 years, 20 daysMar 4, 1861   56 years, 62 daysApr 15, 1865[b]   \n16  56 years, 107 daysApr 15, 1865       60 years, 65 daysMar 4, 1869   \n17   46 years, 311 daysMar 4, 1869      54 years, 311 daysMar 4, 1877   \n18   54 years, 151 daysMar 4, 1877      58 years, 151 daysMar 4, 1881   \n19   49 years, 105 daysMar 4, 1881  49 years, 304 daysSep 19, 1881[b]   \n20  51 years, 349 daysSep 19, 1881      55 years, 150 daysMar 4, 1885   \n21   47 years, 351 daysMar 4, 1885      51 years, 351 daysMar 4, 1889   \n22   55 years, 196 daysMar 4, 1889      59 years, 196 daysMar 4, 1893   \n23   55 years, 351 daysMar 4, 1893      59 years, 351 daysMar 4, 1897   \n24    54 years, 34 daysMar 4, 1897  58 years, 228 daysSep 14, 1901[b]   \n25  42 years, 322 daysSep 14, 1901      50 years, 128 daysMar 4, 1909   \n26   51 years, 170 daysMar 4, 1909      55 years, 170 daysMar 4, 1913   \n27    56 years, 66 daysMar 4, 1913       64 years, 66 daysMar 4, 1921   \n28   55 years, 122 daysMar 4, 1921   57 years, 273 daysAug 2, 1923[b]   \n29    51 years, 29 daysAug 2, 1923      56 years, 243 daysMar 4, 1929   \n30   54 years, 206 daysMar 4, 1929      58 years, 206 daysMar 4, 1933   \n31    51 years, 33 daysMar 4, 1933   63 years, 72 daysApr 12, 1945[b]   \n32  60 years, 339 daysApr 12, 1945     68 years, 257 daysJan 20, 1953   \n33   62 years, 98 daysJan 20, 1953      70 years, 98 daysJan 20, 1961   \n34  43 years, 236 daysJan 20, 1961  46 years, 177 daysNov 22, 1963[b]   \n35   55 years, 87 daysNov 22, 1963     60 years, 146 daysJan 20, 1969   \n36   56 years, 11 daysJan 20, 1969   61 years, 212 daysAug 9, 1974[e]   \n37    61 years, 26 daysAug 9, 1974     63 years, 190 daysJan 20, 1977   \n38  52 years, 111 daysJan 20, 1977     56 years, 111 daysJan 20, 1981   \n39  69 years, 349 daysJan 20, 1981     77 years, 349 daysJan 20, 1989   \n40  64 years, 222 daysJan 20, 1989     68 years, 222 daysJan 20, 1993   \n41  46 years, 154 daysJan 20, 1993     54 years, 154 daysJan 20, 2001   \n42  54 years, 198 daysJan 20, 2001     62 years, 198 daysJan 20, 2009   \n43  47 years, 169 daysJan 20, 2009     55 years, 169 daysJan 20, 2017   \n\n   Post-presidencytimespan          Died                 Age       First  \n0        2 years, 285 days  Dec 14, 1799  67 years, 295 days      George  \n1       25 years, 122 days   Jul 4, 1826  90 years, 247 days        John  \n2       17 years, 122 days   Jul 4, 1826   83 years, 82 days      Thomas  \n3       19 years, 116 days  Jun 28, 1836  85 years, 104 days       James  \n4        6 years, 122 days   Jul 4, 1831   73 years, 67 days       James  \n5       18 years, 356 days  Feb 23, 1848  80 years, 227 days        John  \n6         8 years, 96 days   Jun 8, 1845   78 years, 85 days      Andrew  \n7       21 years, 142 days  Jul 24, 1862  79 years, 231 days      Martin  \n8                      NaN   Apr 4, 1841   68 years, 54 days     William  \n9       16 years, 320 days  Jan 18, 1862  71 years, 295 days        John  \n10                103 days  Jun 15, 1849  53 years, 225 days       James  \n11                     NaN   Jul 9, 1850  65 years, 227 days     Zachary  \n12        21 years, 4 days   Mar 8, 1874   74 years, 60 days     Millard  \n13      12 years, 218 days   Oct 8, 1869  64 years, 319 days    Franklin  \n14        7 years, 89 days   Jun 1, 1868   77 years, 39 days       James  \n15                     NaN  Apr 15, 1865   56 years, 62 days     Abraham  \n16       6 years, 149 days  Jul 31, 1875  66 years, 214 days      Andrew  \n17       8 years, 141 days  Jul 23, 1885   63 years, 87 days     Ulysses  \n18      11 years, 319 days  Jan 17, 1893  70 years, 105 days  Rutherford  \n19                     NaN  Sep 19, 1881  49 years, 304 days       James  \n20        1 year, 259 days  Nov 18, 1886   57 years, 44 days     Chester  \n21      4 years, 0 days[c]  Jun 24, 1908   71 years, 98 days      Grover  \n22         8 years, 9 days  Mar 13, 1901  67 years, 205 days    Benjamin  \n23   11 years, 112 days[d]  Jun 24, 1908   71 years, 98 days      Grover  \n24                     NaN  Sep 14, 1901  58 years, 228 days     William  \n25       9 years, 308 days   Jan 6, 1919   60 years, 71 days    Theodore  \n26        17 years, 4 days   Mar 8, 1930  72 years, 174 days     William  \n27       2 years, 336 days   Feb 3, 1924   67 years, 37 days     Woodrow  \n28                     NaN   Aug 2, 1923  57 years, 273 days      Warren  \n29       3 years, 307 days   Jan 5, 1933  60 years, 185 days      Calvin  \n30      31 years, 230 days  Oct 20, 1964   90 years, 71 days     Herbert  \n31                     NaN  Apr 12, 1945   63 years, 72 days    Franklin  \n32      19 years, 341 days  Dec 26, 1972  88 years, 232 days       Harry  \n33        8 years, 67 days  Mar 28, 1969  78 years, 165 days      Dwight  \n34                     NaN  Nov 22, 1963  46 years, 177 days        John  \n35         4 years, 2 days  Jan 22, 1973  64 years, 148 days      Lyndon  \n36      19 years, 256 days  Apr 22, 1994  81 years, 103 days     Richard  \n37      29 years, 340 days  Dec 26, 2006  93 years, 165 days      Gerald  \n38      38 years, 175 days      (living)  94 years, 286 days       Jimmy  \n39      15 years, 137 days   Jun 5, 2004  93 years, 120 days      Ronald  \n40      25 years, 314 days  Nov 30, 2018  94 years, 171 days      George  \n41      18 years, 175 days      (living)  72 years, 329 days        Bill  \n42      10 years, 175 days      (living)    73 years, 8 days      George  \n43       2 years, 175 days      (living)  57 years, 344 days      Barack  ",
      "text/html": "<div>\n<style scoped>\n    .dataframe tbody tr th:only-of-type {\n        vertical-align: middle;\n    }\n\n    .dataframe tbody tr th {\n        vertical-align: top;\n    }\n\n    .dataframe thead th {\n        text-align: right;\n    }\n</style>\n<table border=\"1\" class=\"dataframe\">\n  <thead>\n    <tr style=\"text-align: right;\">\n      <th></th>\n      <th>#</th>\n      <th>President</th>\n      <th>Born</th>\n      <th>Age atstart of presidency</th>\n      <th>Age atend of presidency</th>\n      <th>Post-presidencytimespan</th>\n      <th>Died</th>\n      <th>Age</th>\n      <th>First</th>\n    </tr>\n  </thead>\n  <tbody>\n    <tr>\n      <th>0</th>\n      <td>1</td>\n      <td>George Washington</td>\n      <td>Feb 22, 1732[a]</td>\n      <td>57 years, 67 daysApr 30, 1789</td>\n      <td>65 years, 10 daysMar 4, 1797</td>\n      <td>2 years, 285 days</td>\n      <td>Dec 14, 1799</td>\n      <td>67 years, 295 days</td>\n      <td>George</td>\n    </tr>\n    <tr>\n      <th>1</th>\n      <td>2</td>\n      <td>John Adams</td>\n      <td>Oct 30, 1735[a]</td>\n      <td>61 years, 125 daysMar 4, 1797</td>\n      <td>65 years, 125 daysMar 4, 1801</td>\n      <td>25 years, 122 days</td>\n      <td>Jul 4, 1826</td>\n      <td>90 years, 247 days</td>\n      <td>John</td>\n    </tr>\n    <tr>\n      <th>2</th>\n      <td>3</td>\n      <td>Thomas Jefferson</td>\n      <td>Apr 13, 1743[a]</td>\n      <td>57 years, 325 daysMar 4, 1801</td>\n      <td>65 years, 325 daysMar 4, 1809</td>\n      <td>17 years, 122 days</td>\n      <td>Jul 4, 1826</td>\n      <td>83 years, 82 days</td>\n      <td>Thomas</td>\n    </tr>\n    <tr>\n      <th>3</th>\n      <td>4</td>\n      <td>James Madison</td>\n      <td>Mar 16, 1751[a]</td>\n      <td>57 years, 353 daysMar 4, 1809</td>\n      <td>65 years, 353 daysMar 4, 1817</td>\n      <td>19 years, 116 days</td>\n      <td>Jun 28, 1836</td>\n      <td>85 years, 104 days</td>\n      <td>James</td>\n    </tr>\n    <tr>\n      <th>4</th>\n      <td>5</td>\n      <td>James Monroe</td>\n      <td>Apr 28, 1758</td>\n      <td>58 years, 310 daysMar 4, 1817</td>\n      <td>66 years, 310 daysMar 4, 1825</td>\n      <td>6 years, 122 days</td>\n      <td>Jul 4, 1831</td>\n      <td>73 years, 67 days</td>\n      <td>James</td>\n    </tr>\n    <tr>\n      <th>5</th>\n      <td>6</td>\n      <td>John Quincy Adams</td>\n      <td>Jul 11, 1767</td>\n      <td>57 years, 236 daysMar 4, 1825</td>\n      <td>61 years, 236 daysMar 4, 1829</td>\n      <td>18 years, 356 days</td>\n      <td>Feb 23, 1848</td>\n      <td>80 years, 227 days</td>\n      <td>John</td>\n    </tr>\n    <tr>\n      <th>6</th>\n      <td>7</td>\n      <td>Andrew Jackson</td>\n      <td>Mar 15, 1767</td>\n      <td>61 years, 354 daysMar 4, 1829</td>\n      <td>69 years, 354 daysMar 4, 1837</td>\n      <td>8 years, 96 days</td>\n      <td>Jun 8, 1845</td>\n      <td>78 years, 85 days</td>\n      <td>Andrew</td>\n    </tr>\n    <tr>\n      <th>7</th>\n      <td>8</td>\n      <td>Martin Van Buren</td>\n      <td>Dec 5, 1782</td>\n      <td>54 years, 89 daysMar 4, 1837</td>\n      <td>58 years, 89 daysMar 4, 1841</td>\n      <td>21 years, 142 days</td>\n      <td>Jul 24, 1862</td>\n      <td>79 years, 231 days</td>\n      <td>Martin</td>\n    </tr>\n    <tr>\n      <th>8</th>\n      <td>9</td>\n      <td>William H. Harrison</td>\n      <td>Feb 9, 1773</td>\n      <td>68 years, 23 daysMar 4, 1841</td>\n      <td>68 years, 54 days Apr 4, 1841[b]</td>\n      <td>NaN</td>\n      <td>Apr 4, 1841</td>\n      <td>68 years, 54 days</td>\n      <td>William</td>\n    </tr>\n    <tr>\n      <th>9</th>\n      <td>10</td>\n      <td>John Tyler</td>\n      <td>Mar 29, 1790</td>\n      <td>51 years, 6 daysApr 4, 1841</td>\n      <td>54 years, 340 daysMar 4, 1845</td>\n      <td>16 years, 320 days</td>\n      <td>Jan 18, 1862</td>\n      <td>71 years, 295 days</td>\n      <td>John</td>\n    </tr>\n    <tr>\n      <th>10</th>\n      <td>11</td>\n      <td>James K. Polk</td>\n      <td>Nov 2, 1795</td>\n      <td>49 years, 122 daysMar 4, 1845</td>\n      <td>53 years, 122 daysMar 4, 1849</td>\n      <td>103 days</td>\n      <td>Jun 15, 1849</td>\n      <td>53 years, 225 days</td>\n      <td>James</td>\n    </tr>\n    <tr>\n      <th>11</th>\n      <td>12</td>\n      <td>Zachary Taylor</td>\n      <td>Nov 24, 1784</td>\n      <td>64 years, 100 daysMar 4, 1849</td>\n      <td>65 years, 227 daysJul 9, 1850[b]</td>\n      <td>NaN</td>\n      <td>Jul 9, 1850</td>\n      <td>65 years, 227 days</td>\n      <td>Zachary</td>\n    </tr>\n    <tr>\n      <th>12</th>\n      <td>13</td>\n      <td>Millard Fillmore</td>\n      <td>Jan 7, 1800</td>\n      <td>50 years, 183 daysJul 9, 1850</td>\n      <td>53 years, 56 daysMar 4, 1853</td>\n      <td>21 years, 4 days</td>\n      <td>Mar 8, 1874</td>\n      <td>74 years, 60 days</td>\n      <td>Millard</td>\n    </tr>\n    <tr>\n      <th>13</th>\n      <td>14</td>\n      <td>Franklin Pierce</td>\n      <td>Nov 23, 1804</td>\n      <td>48 years, 101 daysMar 4, 1853</td>\n      <td>52 years, 101 daysMar 4, 1857</td>\n      <td>12 years, 218 days</td>\n      <td>Oct 8, 1869</td>\n      <td>64 years, 319 days</td>\n      <td>Franklin</td>\n    </tr>\n    <tr>\n      <th>14</th>\n      <td>15</td>\n      <td>James Buchanan</td>\n      <td>Apr 23, 1791</td>\n      <td>65 years, 315 daysMar 4, 1857</td>\n      <td>69 years, 315 daysMar 4, 1861</td>\n      <td>7 years, 89 days</td>\n      <td>Jun 1, 1868</td>\n      <td>77 years, 39 days</td>\n      <td>James</td>\n    </tr>\n    <tr>\n      <th>15</th>\n      <td>16</td>\n      <td>Abraham Lincoln</td>\n      <td>Feb 12, 1809</td>\n      <td>52 years, 20 daysMar 4, 1861</td>\n      <td>56 years, 62 daysApr 15, 1865[b]</td>\n      <td>NaN</td>\n      <td>Apr 15, 1865</td>\n      <td>56 years, 62 days</td>\n      <td>Abraham</td>\n    </tr>\n    <tr>\n      <th>16</th>\n      <td>17</td>\n      <td>Andrew Johnson</td>\n      <td>Dec 29, 1808</td>\n      <td>56 years, 107 daysApr 15, 1865</td>\n      <td>60 years, 65 daysMar 4, 1869</td>\n      <td>6 years, 149 days</td>\n      <td>Jul 31, 1875</td>\n      <td>66 years, 214 days</td>\n      <td>Andrew</td>\n    </tr>\n    <tr>\n      <th>17</th>\n      <td>18</td>\n      <td>Ulysses S. Grant</td>\n      <td>Apr 27, 1822</td>\n      <td>46 years, 311 daysMar 4, 1869</td>\n      <td>54 years, 311 daysMar 4, 1877</td>\n      <td>8 years, 141 days</td>\n      <td>Jul 23, 1885</td>\n      <td>63 years, 87 days</td>\n      <td>Ulysses</td>\n    </tr>\n    <tr>\n      <th>18</th>\n      <td>19</td>\n      <td>Rutherford B. Hayes</td>\n      <td>Oct 4, 1822</td>\n      <td>54 years, 151 daysMar 4, 1877</td>\n      <td>58 years, 151 daysMar 4, 1881</td>\n      <td>11 years, 319 days</td>\n      <td>Jan 17, 1893</td>\n      <td>70 years, 105 days</td>\n      <td>Rutherford</td>\n    </tr>\n    <tr>\n      <th>19</th>\n      <td>20</td>\n      <td>James A. Garfield</td>\n      <td>Nov 19, 1831</td>\n      <td>49 years, 105 daysMar 4, 1881</td>\n      <td>49 years, 304 daysSep 19, 1881[b]</td>\n      <td>NaN</td>\n      <td>Sep 19, 1881</td>\n      <td>49 years, 304 days</td>\n      <td>James</td>\n    </tr>\n    <tr>\n      <th>20</th>\n      <td>21</td>\n      <td>Chester A. Arthur</td>\n      <td>Oct 5, 1829</td>\n      <td>51 years, 349 daysSep 19, 1881</td>\n      <td>55 years, 150 daysMar 4, 1885</td>\n      <td>1 year, 259 days</td>\n      <td>Nov 18, 1886</td>\n      <td>57 years, 44 days</td>\n      <td>Chester</td>\n    </tr>\n    <tr>\n      <th>21</th>\n      <td>22</td>\n      <td>Grover Cleveland</td>\n      <td>Mar 18, 1837</td>\n      <td>47 years, 351 daysMar 4, 1885</td>\n      <td>51 years, 351 daysMar 4, 1889</td>\n      <td>4 years, 0 days[c]</td>\n      <td>Jun 24, 1908</td>\n      <td>71 years, 98 days</td>\n      <td>Grover</td>\n    </tr>\n    <tr>\n      <th>22</th>\n      <td>23</td>\n      <td>Benjamin Harrison</td>\n      <td>Aug 20, 1833</td>\n      <td>55 years, 196 daysMar 4, 1889</td>\n      <td>59 years, 196 daysMar 4, 1893</td>\n      <td>8 years, 9 days</td>\n      <td>Mar 13, 1901</td>\n      <td>67 years, 205 days</td>\n      <td>Benjamin</td>\n    </tr>\n    <tr>\n      <th>23</th>\n      <td>24</td>\n      <td>Grover Cleveland</td>\n      <td>Mar 18, 1837</td>\n      <td>55 years, 351 daysMar 4, 1893</td>\n      <td>59 years, 351 daysMar 4, 1897</td>\n      <td>11 years, 112 days[d]</td>\n      <td>Jun 24, 1908</td>\n      <td>71 years, 98 days</td>\n      <td>Grover</td>\n    </tr>\n    <tr>\n      <th>24</th>\n      <td>25</td>\n      <td>William McKinley</td>\n      <td>Jan 29, 1843</td>\n      <td>54 years, 34 daysMar 4, 1897</td>\n      <td>58 years, 228 daysSep 14, 1901[b]</td>\n      <td>NaN</td>\n      <td>Sep 14, 1901</td>\n      <td>58 years, 228 days</td>\n      <td>William</td>\n    </tr>\n    <tr>\n      <th>25</th>\n      <td>26</td>\n      <td>Theodore Roosevelt</td>\n      <td>Oct 27, 1858</td>\n      <td>42 years, 322 daysSep 14, 1901</td>\n      <td>50 years, 128 daysMar 4, 1909</td>\n      <td>9 years, 308 days</td>\n      <td>Jan 6, 1919</td>\n      <td>60 years, 71 days</td>\n      <td>Theodore</td>\n    </tr>\n    <tr>\n      <th>26</th>\n      <td>27</td>\n      <td>William H. Taft</td>\n      <td>Sep 15, 1857</td>\n      <td>51 years, 170 daysMar 4, 1909</td>\n      <td>55 years, 170 daysMar 4, 1913</td>\n      <td>17 years, 4 days</td>\n      <td>Mar 8, 1930</td>\n      <td>72 years, 174 days</td>\n      <td>William</td>\n    </tr>\n    <tr>\n      <th>27</th>\n      <td>28</td>\n      <td>Woodrow Wilson</td>\n      <td>Dec 28, 1856</td>\n      <td>56 years, 66 daysMar 4, 1913</td>\n      <td>64 years, 66 daysMar 4, 1921</td>\n      <td>2 years, 336 days</td>\n      <td>Feb 3, 1924</td>\n      <td>67 years, 37 days</td>\n      <td>Woodrow</td>\n    </tr>\n    <tr>\n      <th>28</th>\n      <td>29</td>\n      <td>Warren G. Harding</td>\n      <td>Nov 2, 1865</td>\n      <td>55 years, 122 daysMar 4, 1921</td>\n      <td>57 years, 273 daysAug 2, 1923[b]</td>\n      <td>NaN</td>\n      <td>Aug 2, 1923</td>\n      <td>57 years, 273 days</td>\n      <td>Warren</td>\n    </tr>\n    <tr>\n      <th>29</th>\n      <td>30</td>\n      <td>Calvin Coolidge</td>\n      <td>Jul 4, 1872</td>\n      <td>51 years, 29 daysAug 2, 1923</td>\n      <td>56 years, 243 daysMar 4, 1929</td>\n      <td>3 years, 307 days</td>\n      <td>Jan 5, 1933</td>\n      <td>60 years, 185 days</td>\n      <td>Calvin</td>\n    </tr>\n    <tr>\n      <th>30</th>\n      <td>31</td>\n      <td>Herbert Hoover</td>\n      <td>Aug 10, 1874</td>\n      <td>54 years, 206 daysMar 4, 1929</td>\n      <td>58 years, 206 daysMar 4, 1933</td>\n      <td>31 years, 230 days</td>\n      <td>Oct 20, 1964</td>\n      <td>90 years, 71 days</td>\n      <td>Herbert</td>\n    </tr>\n    <tr>\n      <th>31</th>\n      <td>32</td>\n      <td>Franklin D. Roosevelt</td>\n      <td>Jan 30, 1882</td>\n      <td>51 years, 33 daysMar 4, 1933</td>\n      <td>63 years, 72 daysApr 12, 1945[b]</td>\n      <td>NaN</td>\n      <td>Apr 12, 1945</td>\n      <td>63 years, 72 days</td>\n      <td>Franklin</td>\n    </tr>\n    <tr>\n      <th>32</th>\n      <td>33</td>\n      <td>Harry S. Truman</td>\n      <td>May 8, 1884</td>\n      <td>60 years, 339 daysApr 12, 1945</td>\n      <td>68 years, 257 daysJan 20, 1953</td>\n      <td>19 years, 341 days</td>\n      <td>Dec 26, 1972</td>\n      <td>88 years, 232 days</td>\n      <td>Harry</td>\n    </tr>\n    <tr>\n      <th>33</th>\n      <td>34</td>\n      <td>Dwight D. Eisenhower</td>\n      <td>Oct 14, 1890</td>\n      <td>62 years, 98 daysJan 20, 1953</td>\n      <td>70 years, 98 daysJan 20, 1961</td>\n      <td>8 years, 67 days</td>\n      <td>Mar 28, 1969</td>\n      <td>78 years, 165 days</td>\n      <td>Dwight</td>\n    </tr>\n    <tr>\n      <th>34</th>\n      <td>35</td>\n      <td>John F. Kennedy</td>\n      <td>May 29, 1917</td>\n      <td>43 years, 236 daysJan 20, 1961</td>\n      <td>46 years, 177 daysNov 22, 1963[b]</td>\n      <td>NaN</td>\n      <td>Nov 22, 1963</td>\n      <td>46 years, 177 days</td>\n      <td>John</td>\n    </tr>\n    <tr>\n      <th>35</th>\n      <td>36</td>\n      <td>Lyndon B. Johnson</td>\n      <td>Aug 27, 1908</td>\n      <td>55 years, 87 daysNov 22, 1963</td>\n      <td>60 years, 146 daysJan 20, 1969</td>\n      <td>4 years, 2 days</td>\n      <td>Jan 22, 1973</td>\n      <td>64 years, 148 days</td>\n      <td>Lyndon</td>\n    </tr>\n    <tr>\n      <th>36</th>\n      <td>37</td>\n      <td>Richard Nixon</td>\n      <td>Jan 9, 1913</td>\n      <td>56 years, 11 daysJan 20, 1969</td>\n      <td>61 years, 212 daysAug 9, 1974[e]</td>\n      <td>19 years, 256 days</td>\n      <td>Apr 22, 1994</td>\n      <td>81 years, 103 days</td>\n      <td>Richard</td>\n    </tr>\n    <tr>\n      <th>37</th>\n      <td>38</td>\n      <td>Gerald Ford</td>\n      <td>Jul 14, 1913</td>\n      <td>61 years, 26 daysAug 9, 1974</td>\n      <td>63 years, 190 daysJan 20, 1977</td>\n      <td>29 years, 340 days</td>\n      <td>Dec 26, 2006</td>\n      <td>93 years, 165 days</td>\n      <td>Gerald</td>\n    </tr>\n    <tr>\n      <th>38</th>\n      <td>39</td>\n      <td>Jimmy Carter</td>\n      <td>Oct 1, 1924</td>\n      <td>52 years, 111 daysJan 20, 1977</td>\n      <td>56 years, 111 daysJan 20, 1981</td>\n      <td>38 years, 175 days</td>\n      <td>(living)</td>\n      <td>94 years, 286 days</td>\n      <td>Jimmy</td>\n    </tr>\n    <tr>\n      <th>39</th>\n      <td>40</td>\n      <td>Ronald Reagan</td>\n      <td>Feb 6, 1911</td>\n      <td>69 years, 349 daysJan 20, 1981</td>\n      <td>77 years, 349 daysJan 20, 1989</td>\n      <td>15 years, 137 days</td>\n      <td>Jun 5, 2004</td>\n      <td>93 years, 120 days</td>\n      <td>Ronald</td>\n    </tr>\n    <tr>\n      <th>40</th>\n      <td>41</td>\n      <td>George H. W. Bush</td>\n      <td>Jun 12, 1924</td>\n      <td>64 years, 222 daysJan 20, 1989</td>\n      <td>68 years, 222 daysJan 20, 1993</td>\n      <td>25 years, 314 days</td>\n      <td>Nov 30, 2018</td>\n      <td>94 years, 171 days</td>\n      <td>George</td>\n    </tr>\n    <tr>\n      <th>41</th>\n      <td>42</td>\n      <td>Bill Clinton</td>\n      <td>Aug 19, 1946</td>\n      <td>46 years, 154 daysJan 20, 1993</td>\n      <td>54 years, 154 daysJan 20, 2001</td>\n      <td>18 years, 175 days</td>\n      <td>(living)</td>\n      <td>72 years, 329 days</td>\n      <td>Bill</td>\n    </tr>\n    <tr>\n      <th>42</th>\n      <td>43</td>\n      <td>George W. Bush</td>\n      <td>Jul 6, 1946</td>\n      <td>54 years, 198 daysJan 20, 2001</td>\n      <td>62 years, 198 daysJan 20, 2009</td>\n      <td>10 years, 175 days</td>\n      <td>(living)</td>\n      <td>73 years, 8 days</td>\n      <td>George</td>\n    </tr>\n    <tr>\n      <th>43</th>\n      <td>44</td>\n      <td>Barack Obama</td>\n      <td>Aug 4, 1961</td>\n      <td>47 years, 169 daysJan 20, 2009</td>\n      <td>55 years, 169 daysJan 20, 2017</td>\n      <td>2 years, 175 days</td>\n      <td>(living)</td>\n      <td>57 years, 344 days</td>\n      <td>Barack</td>\n    </tr>\n  </tbody>\n</table>\n</div>"
     },
     "execution_count": 254,
     "metadata": {},
     "output_type": "execute_result"
    }
   ],
   "source": [
    "df['First'] = df ['President']\n",
    "df['First'] = df['First'].replace('[ ].*', '', regex=True)\n",
    "df"
   ],
   "metadata": {
    "collapsed": false,
    "pycharm": {
     "name": "#%%\n"
    }
   }
  },
  {
   "cell_type": "code",
   "execution_count": 256,
   "outputs": [
    {
     "ename": "KeyError",
     "evalue": "'First'",
     "output_type": "error",
     "traceback": [
      "\u001B[1;31m---------------------------------------------------------------------------\u001B[0m",
      "\u001B[1;31mKeyError\u001B[0m                                  Traceback (most recent call last)",
      "\u001B[1;32mM:\\dev\\envs\\experiments\\lib\\site-packages\\pandas\\core\\indexes\\base.py\u001B[0m in \u001B[0;36mget_loc\u001B[1;34m(self, key, method, tolerance)\u001B[0m\n\u001B[0;32m   3360\u001B[0m             \u001B[1;32mtry\u001B[0m\u001B[1;33m:\u001B[0m\u001B[1;33m\u001B[0m\u001B[1;33m\u001B[0m\u001B[0m\n\u001B[1;32m-> 3361\u001B[1;33m                 \u001B[1;32mreturn\u001B[0m \u001B[0mself\u001B[0m\u001B[1;33m.\u001B[0m\u001B[0m_engine\u001B[0m\u001B[1;33m.\u001B[0m\u001B[0mget_loc\u001B[0m\u001B[1;33m(\u001B[0m\u001B[0mcasted_key\u001B[0m\u001B[1;33m)\u001B[0m\u001B[1;33m\u001B[0m\u001B[1;33m\u001B[0m\u001B[0m\n\u001B[0m\u001B[0;32m   3362\u001B[0m             \u001B[1;32mexcept\u001B[0m \u001B[0mKeyError\u001B[0m \u001B[1;32mas\u001B[0m \u001B[0merr\u001B[0m\u001B[1;33m:\u001B[0m\u001B[1;33m\u001B[0m\u001B[1;33m\u001B[0m\u001B[0m\n",
      "\u001B[1;32mM:\\dev\\envs\\experiments\\lib\\site-packages\\pandas\\_libs\\index.pyx\u001B[0m in \u001B[0;36mpandas._libs.index.IndexEngine.get_loc\u001B[1;34m()\u001B[0m\n",
      "\u001B[1;32mM:\\dev\\envs\\experiments\\lib\\site-packages\\pandas\\_libs\\index.pyx\u001B[0m in \u001B[0;36mpandas._libs.index.IndexEngine.get_loc\u001B[1;34m()\u001B[0m\n",
      "\u001B[1;32mpandas\\_libs\\hashtable_class_helper.pxi\u001B[0m in \u001B[0;36mpandas._libs.hashtable.PyObjectHashTable.get_item\u001B[1;34m()\u001B[0m\n",
      "\u001B[1;32mpandas\\_libs\\hashtable_class_helper.pxi\u001B[0m in \u001B[0;36mpandas._libs.hashtable.PyObjectHashTable.get_item\u001B[1;34m()\u001B[0m\n",
      "\u001B[1;31mKeyError\u001B[0m: 'First'",
      "\nThe above exception was the direct cause of the following exception:\n",
      "\u001B[1;31mKeyError\u001B[0m                                  Traceback (most recent call last)",
      "\u001B[1;32m<ipython-input-256-50626c1135f8>\u001B[0m in \u001B[0;36m<module>\u001B[1;34m\u001B[0m\n\u001B[1;32m----> 1\u001B[1;33m \u001B[1;32mdel\u001B[0m\u001B[1;33m(\u001B[0m\u001B[0mdf\u001B[0m\u001B[1;33m[\u001B[0m\u001B[1;34m'First'\u001B[0m\u001B[1;33m]\u001B[0m\u001B[1;33m)\u001B[0m\u001B[1;33m\u001B[0m\u001B[1;33m\u001B[0m\u001B[0m\n\u001B[0m\u001B[0;32m      2\u001B[0m \u001B[0mdf\u001B[0m\u001B[1;33m\u001B[0m\u001B[1;33m\u001B[0m\u001B[0m\n",
      "\u001B[1;32mM:\\dev\\envs\\experiments\\lib\\site-packages\\pandas\\core\\generic.py\u001B[0m in \u001B[0;36m__delitem__\u001B[1;34m(self, key)\u001B[0m\n\u001B[0;32m   3958\u001B[0m             \u001B[1;31m# there was no match, this call should raise the appropriate\u001B[0m\u001B[1;33m\u001B[0m\u001B[1;33m\u001B[0m\u001B[1;33m\u001B[0m\u001B[0m\n\u001B[0;32m   3959\u001B[0m             \u001B[1;31m# exception:\u001B[0m\u001B[1;33m\u001B[0m\u001B[1;33m\u001B[0m\u001B[1;33m\u001B[0m\u001B[0m\n\u001B[1;32m-> 3960\u001B[1;33m             \u001B[0mloc\u001B[0m \u001B[1;33m=\u001B[0m \u001B[0mself\u001B[0m\u001B[1;33m.\u001B[0m\u001B[0maxes\u001B[0m\u001B[1;33m[\u001B[0m\u001B[1;33m-\u001B[0m\u001B[1;36m1\u001B[0m\u001B[1;33m]\u001B[0m\u001B[1;33m.\u001B[0m\u001B[0mget_loc\u001B[0m\u001B[1;33m(\u001B[0m\u001B[0mkey\u001B[0m\u001B[1;33m)\u001B[0m\u001B[1;33m\u001B[0m\u001B[1;33m\u001B[0m\u001B[0m\n\u001B[0m\u001B[0;32m   3961\u001B[0m             \u001B[0mself\u001B[0m\u001B[1;33m.\u001B[0m\u001B[0m_mgr\u001B[0m \u001B[1;33m=\u001B[0m \u001B[0mself\u001B[0m\u001B[1;33m.\u001B[0m\u001B[0m_mgr\u001B[0m\u001B[1;33m.\u001B[0m\u001B[0midelete\u001B[0m\u001B[1;33m(\u001B[0m\u001B[0mloc\u001B[0m\u001B[1;33m)\u001B[0m\u001B[1;33m\u001B[0m\u001B[1;33m\u001B[0m\u001B[0m\n\u001B[0;32m   3962\u001B[0m \u001B[1;33m\u001B[0m\u001B[0m\n",
      "\u001B[1;32mM:\\dev\\envs\\experiments\\lib\\site-packages\\pandas\\core\\indexes\\base.py\u001B[0m in \u001B[0;36mget_loc\u001B[1;34m(self, key, method, tolerance)\u001B[0m\n\u001B[0;32m   3361\u001B[0m                 \u001B[1;32mreturn\u001B[0m \u001B[0mself\u001B[0m\u001B[1;33m.\u001B[0m\u001B[0m_engine\u001B[0m\u001B[1;33m.\u001B[0m\u001B[0mget_loc\u001B[0m\u001B[1;33m(\u001B[0m\u001B[0mcasted_key\u001B[0m\u001B[1;33m)\u001B[0m\u001B[1;33m\u001B[0m\u001B[1;33m\u001B[0m\u001B[0m\n\u001B[0;32m   3362\u001B[0m             \u001B[1;32mexcept\u001B[0m \u001B[0mKeyError\u001B[0m \u001B[1;32mas\u001B[0m \u001B[0merr\u001B[0m\u001B[1;33m:\u001B[0m\u001B[1;33m\u001B[0m\u001B[1;33m\u001B[0m\u001B[0m\n\u001B[1;32m-> 3363\u001B[1;33m                 \u001B[1;32mraise\u001B[0m \u001B[0mKeyError\u001B[0m\u001B[1;33m(\u001B[0m\u001B[0mkey\u001B[0m\u001B[1;33m)\u001B[0m \u001B[1;32mfrom\u001B[0m \u001B[0merr\u001B[0m\u001B[1;33m\u001B[0m\u001B[1;33m\u001B[0m\u001B[0m\n\u001B[0m\u001B[0;32m   3364\u001B[0m \u001B[1;33m\u001B[0m\u001B[0m\n\u001B[0;32m   3365\u001B[0m         \u001B[1;32mif\u001B[0m \u001B[0mis_scalar\u001B[0m\u001B[1;33m(\u001B[0m\u001B[0mkey\u001B[0m\u001B[1;33m)\u001B[0m \u001B[1;32mand\u001B[0m \u001B[0misna\u001B[0m\u001B[1;33m(\u001B[0m\u001B[0mkey\u001B[0m\u001B[1;33m)\u001B[0m \u001B[1;32mand\u001B[0m \u001B[1;32mnot\u001B[0m \u001B[0mself\u001B[0m\u001B[1;33m.\u001B[0m\u001B[0mhasnans\u001B[0m\u001B[1;33m:\u001B[0m\u001B[1;33m\u001B[0m\u001B[1;33m\u001B[0m\u001B[0m\n",
      "\u001B[1;31mKeyError\u001B[0m: 'First'"
     ]
    }
   ],
   "source": [
    "del(df['First'])\n",
    "df"
   ],
   "metadata": {
    "collapsed": false,
    "pycharm": {
     "name": "#%%\n"
    }
   }
  },
  {
   "cell_type": "code",
   "execution_count": 258,
   "outputs": [
    {
     "data": {
      "text/plain": "     #              President             Born  \\\n0    1      George Washington  Feb 22, 1732[a]   \n1    2             John Adams  Oct 30, 1735[a]   \n2    3       Thomas Jefferson  Apr 13, 1743[a]   \n3    4          James Madison  Mar 16, 1751[a]   \n4    5           James Monroe     Apr 28, 1758   \n5    6      John Quincy Adams     Jul 11, 1767   \n6    7         Andrew Jackson     Mar 15, 1767   \n7    8       Martin Van Buren      Dec 5, 1782   \n8    9    William H. Harrison      Feb 9, 1773   \n9   10             John Tyler     Mar 29, 1790   \n10  11          James K. Polk      Nov 2, 1795   \n11  12         Zachary Taylor     Nov 24, 1784   \n12  13       Millard Fillmore      Jan 7, 1800   \n13  14        Franklin Pierce     Nov 23, 1804   \n14  15         James Buchanan     Apr 23, 1791   \n15  16        Abraham Lincoln     Feb 12, 1809   \n16  17         Andrew Johnson     Dec 29, 1808   \n17  18       Ulysses S. Grant     Apr 27, 1822   \n18  19    Rutherford B. Hayes      Oct 4, 1822   \n19  20      James A. Garfield     Nov 19, 1831   \n20  21      Chester A. Arthur      Oct 5, 1829   \n21  22       Grover Cleveland     Mar 18, 1837   \n22  23      Benjamin Harrison     Aug 20, 1833   \n23  24       Grover Cleveland     Mar 18, 1837   \n24  25       William McKinley     Jan 29, 1843   \n25  26     Theodore Roosevelt     Oct 27, 1858   \n26  27        William H. Taft     Sep 15, 1857   \n27  28         Woodrow Wilson     Dec 28, 1856   \n28  29      Warren G. Harding      Nov 2, 1865   \n29  30        Calvin Coolidge      Jul 4, 1872   \n30  31         Herbert Hoover     Aug 10, 1874   \n31  32  Franklin D. Roosevelt     Jan 30, 1882   \n32  33        Harry S. Truman      May 8, 1884   \n33  34   Dwight D. Eisenhower     Oct 14, 1890   \n34  35        John F. Kennedy     May 29, 1917   \n35  36      Lyndon B. Johnson     Aug 27, 1908   \n36  37          Richard Nixon      Jan 9, 1913   \n37  38            Gerald Ford     Jul 14, 1913   \n38  39           Jimmy Carter      Oct 1, 1924   \n39  40          Ronald Reagan      Feb 6, 1911   \n40  41      George H. W. Bush     Jun 12, 1924   \n41  42           Bill Clinton     Aug 19, 1946   \n42  43         George W. Bush      Jul 6, 1946   \n43  44           Barack Obama      Aug 4, 1961   \n\n         Age atstart of presidency            Age atend of presidency  \\\n0    57 years, 67 daysApr 30, 1789       65 years, 10 daysMar 4, 1797   \n1    61 years, 125 daysMar 4, 1797      65 years, 125 daysMar 4, 1801   \n2    57 years, 325 daysMar 4, 1801      65 years, 325 daysMar 4, 1809   \n3    57 years, 353 daysMar 4, 1809      65 years, 353 daysMar 4, 1817   \n4    58 years, 310 daysMar 4, 1817      66 years, 310 daysMar 4, 1825   \n5    57 years, 236 daysMar 4, 1825      61 years, 236 daysMar 4, 1829   \n6    61 years, 354 daysMar 4, 1829      69 years, 354 daysMar 4, 1837   \n7     54 years, 89 daysMar 4, 1837       58 years, 89 daysMar 4, 1841   \n8     68 years, 23 daysMar 4, 1841   68 years, 54 days Apr 4, 1841[b]   \n9      51 years, 6 daysApr 4, 1841      54 years, 340 daysMar 4, 1845   \n10   49 years, 122 daysMar 4, 1845      53 years, 122 daysMar 4, 1849   \n11   64 years, 100 daysMar 4, 1849   65 years, 227 daysJul 9, 1850[b]   \n12   50 years, 183 daysJul 9, 1850       53 years, 56 daysMar 4, 1853   \n13   48 years, 101 daysMar 4, 1853      52 years, 101 daysMar 4, 1857   \n14   65 years, 315 daysMar 4, 1857      69 years, 315 daysMar 4, 1861   \n15    52 years, 20 daysMar 4, 1861   56 years, 62 daysApr 15, 1865[b]   \n16  56 years, 107 daysApr 15, 1865       60 years, 65 daysMar 4, 1869   \n17   46 years, 311 daysMar 4, 1869      54 years, 311 daysMar 4, 1877   \n18   54 years, 151 daysMar 4, 1877      58 years, 151 daysMar 4, 1881   \n19   49 years, 105 daysMar 4, 1881  49 years, 304 daysSep 19, 1881[b]   \n20  51 years, 349 daysSep 19, 1881      55 years, 150 daysMar 4, 1885   \n21   47 years, 351 daysMar 4, 1885      51 years, 351 daysMar 4, 1889   \n22   55 years, 196 daysMar 4, 1889      59 years, 196 daysMar 4, 1893   \n23   55 years, 351 daysMar 4, 1893      59 years, 351 daysMar 4, 1897   \n24    54 years, 34 daysMar 4, 1897  58 years, 228 daysSep 14, 1901[b]   \n25  42 years, 322 daysSep 14, 1901      50 years, 128 daysMar 4, 1909   \n26   51 years, 170 daysMar 4, 1909      55 years, 170 daysMar 4, 1913   \n27    56 years, 66 daysMar 4, 1913       64 years, 66 daysMar 4, 1921   \n28   55 years, 122 daysMar 4, 1921   57 years, 273 daysAug 2, 1923[b]   \n29    51 years, 29 daysAug 2, 1923      56 years, 243 daysMar 4, 1929   \n30   54 years, 206 daysMar 4, 1929      58 years, 206 daysMar 4, 1933   \n31    51 years, 33 daysMar 4, 1933   63 years, 72 daysApr 12, 1945[b]   \n32  60 years, 339 daysApr 12, 1945     68 years, 257 daysJan 20, 1953   \n33   62 years, 98 daysJan 20, 1953      70 years, 98 daysJan 20, 1961   \n34  43 years, 236 daysJan 20, 1961  46 years, 177 daysNov 22, 1963[b]   \n35   55 years, 87 daysNov 22, 1963     60 years, 146 daysJan 20, 1969   \n36   56 years, 11 daysJan 20, 1969   61 years, 212 daysAug 9, 1974[e]   \n37    61 years, 26 daysAug 9, 1974     63 years, 190 daysJan 20, 1977   \n38  52 years, 111 daysJan 20, 1977     56 years, 111 daysJan 20, 1981   \n39  69 years, 349 daysJan 20, 1981     77 years, 349 daysJan 20, 1989   \n40  64 years, 222 daysJan 20, 1989     68 years, 222 daysJan 20, 1993   \n41  46 years, 154 daysJan 20, 1993     54 years, 154 daysJan 20, 2001   \n42  54 years, 198 daysJan 20, 2001     62 years, 198 daysJan 20, 2009   \n43  47 years, 169 daysJan 20, 2009     55 years, 169 daysJan 20, 2017   \n\n   Post-presidencytimespan          Died                 Age       First  \\\n0        2 years, 285 days  Dec 14, 1799  67 years, 295 days      George   \n1       25 years, 122 days   Jul 4, 1826  90 years, 247 days        John   \n2       17 years, 122 days   Jul 4, 1826   83 years, 82 days      Thomas   \n3       19 years, 116 days  Jun 28, 1836  85 years, 104 days       James   \n4        6 years, 122 days   Jul 4, 1831   73 years, 67 days       James   \n5       18 years, 356 days  Feb 23, 1848  80 years, 227 days        John   \n6         8 years, 96 days   Jun 8, 1845   78 years, 85 days      Andrew   \n7       21 years, 142 days  Jul 24, 1862  79 years, 231 days      Martin   \n8                      NaN   Apr 4, 1841   68 years, 54 days     William   \n9       16 years, 320 days  Jan 18, 1862  71 years, 295 days        John   \n10                103 days  Jun 15, 1849  53 years, 225 days       James   \n11                     NaN   Jul 9, 1850  65 years, 227 days     Zachary   \n12        21 years, 4 days   Mar 8, 1874   74 years, 60 days     Millard   \n13      12 years, 218 days   Oct 8, 1869  64 years, 319 days    Franklin   \n14        7 years, 89 days   Jun 1, 1868   77 years, 39 days       James   \n15                     NaN  Apr 15, 1865   56 years, 62 days     Abraham   \n16       6 years, 149 days  Jul 31, 1875  66 years, 214 days      Andrew   \n17       8 years, 141 days  Jul 23, 1885   63 years, 87 days     Ulysses   \n18      11 years, 319 days  Jan 17, 1893  70 years, 105 days  Rutherford   \n19                     NaN  Sep 19, 1881  49 years, 304 days       James   \n20        1 year, 259 days  Nov 18, 1886   57 years, 44 days     Chester   \n21      4 years, 0 days[c]  Jun 24, 1908   71 years, 98 days      Grover   \n22         8 years, 9 days  Mar 13, 1901  67 years, 205 days    Benjamin   \n23   11 years, 112 days[d]  Jun 24, 1908   71 years, 98 days      Grover   \n24                     NaN  Sep 14, 1901  58 years, 228 days     William   \n25       9 years, 308 days   Jan 6, 1919   60 years, 71 days    Theodore   \n26        17 years, 4 days   Mar 8, 1930  72 years, 174 days     William   \n27       2 years, 336 days   Feb 3, 1924   67 years, 37 days     Woodrow   \n28                     NaN   Aug 2, 1923  57 years, 273 days      Warren   \n29       3 years, 307 days   Jan 5, 1933  60 years, 185 days      Calvin   \n30      31 years, 230 days  Oct 20, 1964   90 years, 71 days     Herbert   \n31                     NaN  Apr 12, 1945   63 years, 72 days    Franklin   \n32      19 years, 341 days  Dec 26, 1972  88 years, 232 days       Harry   \n33        8 years, 67 days  Mar 28, 1969  78 years, 165 days      Dwight   \n34                     NaN  Nov 22, 1963  46 years, 177 days        John   \n35         4 years, 2 days  Jan 22, 1973  64 years, 148 days      Lyndon   \n36      19 years, 256 days  Apr 22, 1994  81 years, 103 days     Richard   \n37      29 years, 340 days  Dec 26, 2006  93 years, 165 days      Gerald   \n38      38 years, 175 days      (living)  94 years, 286 days       Jimmy   \n39      15 years, 137 days   Jun 5, 2004  93 years, 120 days      Ronald   \n40      25 years, 314 days  Nov 30, 2018  94 years, 171 days      George   \n41      18 years, 175 days      (living)  72 years, 329 days        Bill   \n42      10 years, 175 days      (living)    73 years, 8 days      George   \n43       2 years, 175 days      (living)  57 years, 344 days      Barack   \n\n          Last  \n0   Washington  \n1        Adams  \n2    Jefferson  \n3      Madison  \n4       Monroe  \n5        Adams  \n6      Jackson  \n7        Buren  \n8     Harrison  \n9        Tyler  \n10        Polk  \n11      Taylor  \n12    Fillmore  \n13      Pierce  \n14    Buchanan  \n15     Lincoln  \n16     Johnson  \n17       Grant  \n18       Hayes  \n19    Garfield  \n20      Arthur  \n21   Cleveland  \n22    Harrison  \n23   Cleveland  \n24    McKinley  \n25   Roosevelt  \n26        Taft  \n27      Wilson  \n28     Harding  \n29    Coolidge  \n30      Hoover  \n31   Roosevelt  \n32      Truman  \n33  Eisenhower  \n34     Kennedy  \n35     Johnson  \n36       Nixon  \n37        Ford  \n38      Carter  \n39      Reagan  \n40        Bush  \n41     Clinton  \n42        Bush  \n43       Obama  ",
      "text/html": "<div>\n<style scoped>\n    .dataframe tbody tr th:only-of-type {\n        vertical-align: middle;\n    }\n\n    .dataframe tbody tr th {\n        vertical-align: top;\n    }\n\n    .dataframe thead th {\n        text-align: right;\n    }\n</style>\n<table border=\"1\" class=\"dataframe\">\n  <thead>\n    <tr style=\"text-align: right;\">\n      <th></th>\n      <th>#</th>\n      <th>President</th>\n      <th>Born</th>\n      <th>Age atstart of presidency</th>\n      <th>Age atend of presidency</th>\n      <th>Post-presidencytimespan</th>\n      <th>Died</th>\n      <th>Age</th>\n      <th>First</th>\n      <th>Last</th>\n    </tr>\n  </thead>\n  <tbody>\n    <tr>\n      <th>0</th>\n      <td>1</td>\n      <td>George Washington</td>\n      <td>Feb 22, 1732[a]</td>\n      <td>57 years, 67 daysApr 30, 1789</td>\n      <td>65 years, 10 daysMar 4, 1797</td>\n      <td>2 years, 285 days</td>\n      <td>Dec 14, 1799</td>\n      <td>67 years, 295 days</td>\n      <td>George</td>\n      <td>Washington</td>\n    </tr>\n    <tr>\n      <th>1</th>\n      <td>2</td>\n      <td>John Adams</td>\n      <td>Oct 30, 1735[a]</td>\n      <td>61 years, 125 daysMar 4, 1797</td>\n      <td>65 years, 125 daysMar 4, 1801</td>\n      <td>25 years, 122 days</td>\n      <td>Jul 4, 1826</td>\n      <td>90 years, 247 days</td>\n      <td>John</td>\n      <td>Adams</td>\n    </tr>\n    <tr>\n      <th>2</th>\n      <td>3</td>\n      <td>Thomas Jefferson</td>\n      <td>Apr 13, 1743[a]</td>\n      <td>57 years, 325 daysMar 4, 1801</td>\n      <td>65 years, 325 daysMar 4, 1809</td>\n      <td>17 years, 122 days</td>\n      <td>Jul 4, 1826</td>\n      <td>83 years, 82 days</td>\n      <td>Thomas</td>\n      <td>Jefferson</td>\n    </tr>\n    <tr>\n      <th>3</th>\n      <td>4</td>\n      <td>James Madison</td>\n      <td>Mar 16, 1751[a]</td>\n      <td>57 years, 353 daysMar 4, 1809</td>\n      <td>65 years, 353 daysMar 4, 1817</td>\n      <td>19 years, 116 days</td>\n      <td>Jun 28, 1836</td>\n      <td>85 years, 104 days</td>\n      <td>James</td>\n      <td>Madison</td>\n    </tr>\n    <tr>\n      <th>4</th>\n      <td>5</td>\n      <td>James Monroe</td>\n      <td>Apr 28, 1758</td>\n      <td>58 years, 310 daysMar 4, 1817</td>\n      <td>66 years, 310 daysMar 4, 1825</td>\n      <td>6 years, 122 days</td>\n      <td>Jul 4, 1831</td>\n      <td>73 years, 67 days</td>\n      <td>James</td>\n      <td>Monroe</td>\n    </tr>\n    <tr>\n      <th>5</th>\n      <td>6</td>\n      <td>John Quincy Adams</td>\n      <td>Jul 11, 1767</td>\n      <td>57 years, 236 daysMar 4, 1825</td>\n      <td>61 years, 236 daysMar 4, 1829</td>\n      <td>18 years, 356 days</td>\n      <td>Feb 23, 1848</td>\n      <td>80 years, 227 days</td>\n      <td>John</td>\n      <td>Adams</td>\n    </tr>\n    <tr>\n      <th>6</th>\n      <td>7</td>\n      <td>Andrew Jackson</td>\n      <td>Mar 15, 1767</td>\n      <td>61 years, 354 daysMar 4, 1829</td>\n      <td>69 years, 354 daysMar 4, 1837</td>\n      <td>8 years, 96 days</td>\n      <td>Jun 8, 1845</td>\n      <td>78 years, 85 days</td>\n      <td>Andrew</td>\n      <td>Jackson</td>\n    </tr>\n    <tr>\n      <th>7</th>\n      <td>8</td>\n      <td>Martin Van Buren</td>\n      <td>Dec 5, 1782</td>\n      <td>54 years, 89 daysMar 4, 1837</td>\n      <td>58 years, 89 daysMar 4, 1841</td>\n      <td>21 years, 142 days</td>\n      <td>Jul 24, 1862</td>\n      <td>79 years, 231 days</td>\n      <td>Martin</td>\n      <td>Buren</td>\n    </tr>\n    <tr>\n      <th>8</th>\n      <td>9</td>\n      <td>William H. Harrison</td>\n      <td>Feb 9, 1773</td>\n      <td>68 years, 23 daysMar 4, 1841</td>\n      <td>68 years, 54 days Apr 4, 1841[b]</td>\n      <td>NaN</td>\n      <td>Apr 4, 1841</td>\n      <td>68 years, 54 days</td>\n      <td>William</td>\n      <td>Harrison</td>\n    </tr>\n    <tr>\n      <th>9</th>\n      <td>10</td>\n      <td>John Tyler</td>\n      <td>Mar 29, 1790</td>\n      <td>51 years, 6 daysApr 4, 1841</td>\n      <td>54 years, 340 daysMar 4, 1845</td>\n      <td>16 years, 320 days</td>\n      <td>Jan 18, 1862</td>\n      <td>71 years, 295 days</td>\n      <td>John</td>\n      <td>Tyler</td>\n    </tr>\n    <tr>\n      <th>10</th>\n      <td>11</td>\n      <td>James K. Polk</td>\n      <td>Nov 2, 1795</td>\n      <td>49 years, 122 daysMar 4, 1845</td>\n      <td>53 years, 122 daysMar 4, 1849</td>\n      <td>103 days</td>\n      <td>Jun 15, 1849</td>\n      <td>53 years, 225 days</td>\n      <td>James</td>\n      <td>Polk</td>\n    </tr>\n    <tr>\n      <th>11</th>\n      <td>12</td>\n      <td>Zachary Taylor</td>\n      <td>Nov 24, 1784</td>\n      <td>64 years, 100 daysMar 4, 1849</td>\n      <td>65 years, 227 daysJul 9, 1850[b]</td>\n      <td>NaN</td>\n      <td>Jul 9, 1850</td>\n      <td>65 years, 227 days</td>\n      <td>Zachary</td>\n      <td>Taylor</td>\n    </tr>\n    <tr>\n      <th>12</th>\n      <td>13</td>\n      <td>Millard Fillmore</td>\n      <td>Jan 7, 1800</td>\n      <td>50 years, 183 daysJul 9, 1850</td>\n      <td>53 years, 56 daysMar 4, 1853</td>\n      <td>21 years, 4 days</td>\n      <td>Mar 8, 1874</td>\n      <td>74 years, 60 days</td>\n      <td>Millard</td>\n      <td>Fillmore</td>\n    </tr>\n    <tr>\n      <th>13</th>\n      <td>14</td>\n      <td>Franklin Pierce</td>\n      <td>Nov 23, 1804</td>\n      <td>48 years, 101 daysMar 4, 1853</td>\n      <td>52 years, 101 daysMar 4, 1857</td>\n      <td>12 years, 218 days</td>\n      <td>Oct 8, 1869</td>\n      <td>64 years, 319 days</td>\n      <td>Franklin</td>\n      <td>Pierce</td>\n    </tr>\n    <tr>\n      <th>14</th>\n      <td>15</td>\n      <td>James Buchanan</td>\n      <td>Apr 23, 1791</td>\n      <td>65 years, 315 daysMar 4, 1857</td>\n      <td>69 years, 315 daysMar 4, 1861</td>\n      <td>7 years, 89 days</td>\n      <td>Jun 1, 1868</td>\n      <td>77 years, 39 days</td>\n      <td>James</td>\n      <td>Buchanan</td>\n    </tr>\n    <tr>\n      <th>15</th>\n      <td>16</td>\n      <td>Abraham Lincoln</td>\n      <td>Feb 12, 1809</td>\n      <td>52 years, 20 daysMar 4, 1861</td>\n      <td>56 years, 62 daysApr 15, 1865[b]</td>\n      <td>NaN</td>\n      <td>Apr 15, 1865</td>\n      <td>56 years, 62 days</td>\n      <td>Abraham</td>\n      <td>Lincoln</td>\n    </tr>\n    <tr>\n      <th>16</th>\n      <td>17</td>\n      <td>Andrew Johnson</td>\n      <td>Dec 29, 1808</td>\n      <td>56 years, 107 daysApr 15, 1865</td>\n      <td>60 years, 65 daysMar 4, 1869</td>\n      <td>6 years, 149 days</td>\n      <td>Jul 31, 1875</td>\n      <td>66 years, 214 days</td>\n      <td>Andrew</td>\n      <td>Johnson</td>\n    </tr>\n    <tr>\n      <th>17</th>\n      <td>18</td>\n      <td>Ulysses S. Grant</td>\n      <td>Apr 27, 1822</td>\n      <td>46 years, 311 daysMar 4, 1869</td>\n      <td>54 years, 311 daysMar 4, 1877</td>\n      <td>8 years, 141 days</td>\n      <td>Jul 23, 1885</td>\n      <td>63 years, 87 days</td>\n      <td>Ulysses</td>\n      <td>Grant</td>\n    </tr>\n    <tr>\n      <th>18</th>\n      <td>19</td>\n      <td>Rutherford B. Hayes</td>\n      <td>Oct 4, 1822</td>\n      <td>54 years, 151 daysMar 4, 1877</td>\n      <td>58 years, 151 daysMar 4, 1881</td>\n      <td>11 years, 319 days</td>\n      <td>Jan 17, 1893</td>\n      <td>70 years, 105 days</td>\n      <td>Rutherford</td>\n      <td>Hayes</td>\n    </tr>\n    <tr>\n      <th>19</th>\n      <td>20</td>\n      <td>James A. Garfield</td>\n      <td>Nov 19, 1831</td>\n      <td>49 years, 105 daysMar 4, 1881</td>\n      <td>49 years, 304 daysSep 19, 1881[b]</td>\n      <td>NaN</td>\n      <td>Sep 19, 1881</td>\n      <td>49 years, 304 days</td>\n      <td>James</td>\n      <td>Garfield</td>\n    </tr>\n    <tr>\n      <th>20</th>\n      <td>21</td>\n      <td>Chester A. Arthur</td>\n      <td>Oct 5, 1829</td>\n      <td>51 years, 349 daysSep 19, 1881</td>\n      <td>55 years, 150 daysMar 4, 1885</td>\n      <td>1 year, 259 days</td>\n      <td>Nov 18, 1886</td>\n      <td>57 years, 44 days</td>\n      <td>Chester</td>\n      <td>Arthur</td>\n    </tr>\n    <tr>\n      <th>21</th>\n      <td>22</td>\n      <td>Grover Cleveland</td>\n      <td>Mar 18, 1837</td>\n      <td>47 years, 351 daysMar 4, 1885</td>\n      <td>51 years, 351 daysMar 4, 1889</td>\n      <td>4 years, 0 days[c]</td>\n      <td>Jun 24, 1908</td>\n      <td>71 years, 98 days</td>\n      <td>Grover</td>\n      <td>Cleveland</td>\n    </tr>\n    <tr>\n      <th>22</th>\n      <td>23</td>\n      <td>Benjamin Harrison</td>\n      <td>Aug 20, 1833</td>\n      <td>55 years, 196 daysMar 4, 1889</td>\n      <td>59 years, 196 daysMar 4, 1893</td>\n      <td>8 years, 9 days</td>\n      <td>Mar 13, 1901</td>\n      <td>67 years, 205 days</td>\n      <td>Benjamin</td>\n      <td>Harrison</td>\n    </tr>\n    <tr>\n      <th>23</th>\n      <td>24</td>\n      <td>Grover Cleveland</td>\n      <td>Mar 18, 1837</td>\n      <td>55 years, 351 daysMar 4, 1893</td>\n      <td>59 years, 351 daysMar 4, 1897</td>\n      <td>11 years, 112 days[d]</td>\n      <td>Jun 24, 1908</td>\n      <td>71 years, 98 days</td>\n      <td>Grover</td>\n      <td>Cleveland</td>\n    </tr>\n    <tr>\n      <th>24</th>\n      <td>25</td>\n      <td>William McKinley</td>\n      <td>Jan 29, 1843</td>\n      <td>54 years, 34 daysMar 4, 1897</td>\n      <td>58 years, 228 daysSep 14, 1901[b]</td>\n      <td>NaN</td>\n      <td>Sep 14, 1901</td>\n      <td>58 years, 228 days</td>\n      <td>William</td>\n      <td>McKinley</td>\n    </tr>\n    <tr>\n      <th>25</th>\n      <td>26</td>\n      <td>Theodore Roosevelt</td>\n      <td>Oct 27, 1858</td>\n      <td>42 years, 322 daysSep 14, 1901</td>\n      <td>50 years, 128 daysMar 4, 1909</td>\n      <td>9 years, 308 days</td>\n      <td>Jan 6, 1919</td>\n      <td>60 years, 71 days</td>\n      <td>Theodore</td>\n      <td>Roosevelt</td>\n    </tr>\n    <tr>\n      <th>26</th>\n      <td>27</td>\n      <td>William H. Taft</td>\n      <td>Sep 15, 1857</td>\n      <td>51 years, 170 daysMar 4, 1909</td>\n      <td>55 years, 170 daysMar 4, 1913</td>\n      <td>17 years, 4 days</td>\n      <td>Mar 8, 1930</td>\n      <td>72 years, 174 days</td>\n      <td>William</td>\n      <td>Taft</td>\n    </tr>\n    <tr>\n      <th>27</th>\n      <td>28</td>\n      <td>Woodrow Wilson</td>\n      <td>Dec 28, 1856</td>\n      <td>56 years, 66 daysMar 4, 1913</td>\n      <td>64 years, 66 daysMar 4, 1921</td>\n      <td>2 years, 336 days</td>\n      <td>Feb 3, 1924</td>\n      <td>67 years, 37 days</td>\n      <td>Woodrow</td>\n      <td>Wilson</td>\n    </tr>\n    <tr>\n      <th>28</th>\n      <td>29</td>\n      <td>Warren G. Harding</td>\n      <td>Nov 2, 1865</td>\n      <td>55 years, 122 daysMar 4, 1921</td>\n      <td>57 years, 273 daysAug 2, 1923[b]</td>\n      <td>NaN</td>\n      <td>Aug 2, 1923</td>\n      <td>57 years, 273 days</td>\n      <td>Warren</td>\n      <td>Harding</td>\n    </tr>\n    <tr>\n      <th>29</th>\n      <td>30</td>\n      <td>Calvin Coolidge</td>\n      <td>Jul 4, 1872</td>\n      <td>51 years, 29 daysAug 2, 1923</td>\n      <td>56 years, 243 daysMar 4, 1929</td>\n      <td>3 years, 307 days</td>\n      <td>Jan 5, 1933</td>\n      <td>60 years, 185 days</td>\n      <td>Calvin</td>\n      <td>Coolidge</td>\n    </tr>\n    <tr>\n      <th>30</th>\n      <td>31</td>\n      <td>Herbert Hoover</td>\n      <td>Aug 10, 1874</td>\n      <td>54 years, 206 daysMar 4, 1929</td>\n      <td>58 years, 206 daysMar 4, 1933</td>\n      <td>31 years, 230 days</td>\n      <td>Oct 20, 1964</td>\n      <td>90 years, 71 days</td>\n      <td>Herbert</td>\n      <td>Hoover</td>\n    </tr>\n    <tr>\n      <th>31</th>\n      <td>32</td>\n      <td>Franklin D. Roosevelt</td>\n      <td>Jan 30, 1882</td>\n      <td>51 years, 33 daysMar 4, 1933</td>\n      <td>63 years, 72 daysApr 12, 1945[b]</td>\n      <td>NaN</td>\n      <td>Apr 12, 1945</td>\n      <td>63 years, 72 days</td>\n      <td>Franklin</td>\n      <td>Roosevelt</td>\n    </tr>\n    <tr>\n      <th>32</th>\n      <td>33</td>\n      <td>Harry S. Truman</td>\n      <td>May 8, 1884</td>\n      <td>60 years, 339 daysApr 12, 1945</td>\n      <td>68 years, 257 daysJan 20, 1953</td>\n      <td>19 years, 341 days</td>\n      <td>Dec 26, 1972</td>\n      <td>88 years, 232 days</td>\n      <td>Harry</td>\n      <td>Truman</td>\n    </tr>\n    <tr>\n      <th>33</th>\n      <td>34</td>\n      <td>Dwight D. Eisenhower</td>\n      <td>Oct 14, 1890</td>\n      <td>62 years, 98 daysJan 20, 1953</td>\n      <td>70 years, 98 daysJan 20, 1961</td>\n      <td>8 years, 67 days</td>\n      <td>Mar 28, 1969</td>\n      <td>78 years, 165 days</td>\n      <td>Dwight</td>\n      <td>Eisenhower</td>\n    </tr>\n    <tr>\n      <th>34</th>\n      <td>35</td>\n      <td>John F. Kennedy</td>\n      <td>May 29, 1917</td>\n      <td>43 years, 236 daysJan 20, 1961</td>\n      <td>46 years, 177 daysNov 22, 1963[b]</td>\n      <td>NaN</td>\n      <td>Nov 22, 1963</td>\n      <td>46 years, 177 days</td>\n      <td>John</td>\n      <td>Kennedy</td>\n    </tr>\n    <tr>\n      <th>35</th>\n      <td>36</td>\n      <td>Lyndon B. Johnson</td>\n      <td>Aug 27, 1908</td>\n      <td>55 years, 87 daysNov 22, 1963</td>\n      <td>60 years, 146 daysJan 20, 1969</td>\n      <td>4 years, 2 days</td>\n      <td>Jan 22, 1973</td>\n      <td>64 years, 148 days</td>\n      <td>Lyndon</td>\n      <td>Johnson</td>\n    </tr>\n    <tr>\n      <th>36</th>\n      <td>37</td>\n      <td>Richard Nixon</td>\n      <td>Jan 9, 1913</td>\n      <td>56 years, 11 daysJan 20, 1969</td>\n      <td>61 years, 212 daysAug 9, 1974[e]</td>\n      <td>19 years, 256 days</td>\n      <td>Apr 22, 1994</td>\n      <td>81 years, 103 days</td>\n      <td>Richard</td>\n      <td>Nixon</td>\n    </tr>\n    <tr>\n      <th>37</th>\n      <td>38</td>\n      <td>Gerald Ford</td>\n      <td>Jul 14, 1913</td>\n      <td>61 years, 26 daysAug 9, 1974</td>\n      <td>63 years, 190 daysJan 20, 1977</td>\n      <td>29 years, 340 days</td>\n      <td>Dec 26, 2006</td>\n      <td>93 years, 165 days</td>\n      <td>Gerald</td>\n      <td>Ford</td>\n    </tr>\n    <tr>\n      <th>38</th>\n      <td>39</td>\n      <td>Jimmy Carter</td>\n      <td>Oct 1, 1924</td>\n      <td>52 years, 111 daysJan 20, 1977</td>\n      <td>56 years, 111 daysJan 20, 1981</td>\n      <td>38 years, 175 days</td>\n      <td>(living)</td>\n      <td>94 years, 286 days</td>\n      <td>Jimmy</td>\n      <td>Carter</td>\n    </tr>\n    <tr>\n      <th>39</th>\n      <td>40</td>\n      <td>Ronald Reagan</td>\n      <td>Feb 6, 1911</td>\n      <td>69 years, 349 daysJan 20, 1981</td>\n      <td>77 years, 349 daysJan 20, 1989</td>\n      <td>15 years, 137 days</td>\n      <td>Jun 5, 2004</td>\n      <td>93 years, 120 days</td>\n      <td>Ronald</td>\n      <td>Reagan</td>\n    </tr>\n    <tr>\n      <th>40</th>\n      <td>41</td>\n      <td>George H. W. Bush</td>\n      <td>Jun 12, 1924</td>\n      <td>64 years, 222 daysJan 20, 1989</td>\n      <td>68 years, 222 daysJan 20, 1993</td>\n      <td>25 years, 314 days</td>\n      <td>Nov 30, 2018</td>\n      <td>94 years, 171 days</td>\n      <td>George</td>\n      <td>Bush</td>\n    </tr>\n    <tr>\n      <th>41</th>\n      <td>42</td>\n      <td>Bill Clinton</td>\n      <td>Aug 19, 1946</td>\n      <td>46 years, 154 daysJan 20, 1993</td>\n      <td>54 years, 154 daysJan 20, 2001</td>\n      <td>18 years, 175 days</td>\n      <td>(living)</td>\n      <td>72 years, 329 days</td>\n      <td>Bill</td>\n      <td>Clinton</td>\n    </tr>\n    <tr>\n      <th>42</th>\n      <td>43</td>\n      <td>George W. Bush</td>\n      <td>Jul 6, 1946</td>\n      <td>54 years, 198 daysJan 20, 2001</td>\n      <td>62 years, 198 daysJan 20, 2009</td>\n      <td>10 years, 175 days</td>\n      <td>(living)</td>\n      <td>73 years, 8 days</td>\n      <td>George</td>\n      <td>Bush</td>\n    </tr>\n    <tr>\n      <th>43</th>\n      <td>44</td>\n      <td>Barack Obama</td>\n      <td>Aug 4, 1961</td>\n      <td>47 years, 169 daysJan 20, 2009</td>\n      <td>55 years, 169 daysJan 20, 2017</td>\n      <td>2 years, 175 days</td>\n      <td>(living)</td>\n      <td>57 years, 344 days</td>\n      <td>Barack</td>\n      <td>Obama</td>\n    </tr>\n  </tbody>\n</table>\n</div>"
     },
     "execution_count": 258,
     "metadata": {},
     "output_type": "execute_result"
    }
   ],
   "source": [
    "def splitname(row):\n",
    "    split = row['President'].split(' ')\n",
    "    row['First'] = split[0]\n",
    "    row['Last'] = split[-1]\n",
    "    return row\n",
    "\n",
    "df = df.apply(splitname, axis='columns')\n",
    "df"
   ],
   "metadata": {
    "collapsed": false,
    "pycharm": {
     "name": "#%%\n"
    }
   }
  },
  {
   "cell_type": "code",
   "execution_count": 260,
   "outputs": [
    {
     "ename": "KeyError",
     "evalue": "'First'",
     "output_type": "error",
     "traceback": [
      "\u001B[1;31m---------------------------------------------------------------------------\u001B[0m",
      "\u001B[1;31mKeyError\u001B[0m                                  Traceback (most recent call last)",
      "\u001B[1;32mM:\\dev\\envs\\experiments\\lib\\site-packages\\pandas\\core\\indexes\\base.py\u001B[0m in \u001B[0;36mget_loc\u001B[1;34m(self, key, method, tolerance)\u001B[0m\n\u001B[0;32m   3360\u001B[0m             \u001B[1;32mtry\u001B[0m\u001B[1;33m:\u001B[0m\u001B[1;33m\u001B[0m\u001B[1;33m\u001B[0m\u001B[0m\n\u001B[1;32m-> 3361\u001B[1;33m                 \u001B[1;32mreturn\u001B[0m \u001B[0mself\u001B[0m\u001B[1;33m.\u001B[0m\u001B[0m_engine\u001B[0m\u001B[1;33m.\u001B[0m\u001B[0mget_loc\u001B[0m\u001B[1;33m(\u001B[0m\u001B[0mcasted_key\u001B[0m\u001B[1;33m)\u001B[0m\u001B[1;33m\u001B[0m\u001B[1;33m\u001B[0m\u001B[0m\n\u001B[0m\u001B[0;32m   3362\u001B[0m             \u001B[1;32mexcept\u001B[0m \u001B[0mKeyError\u001B[0m \u001B[1;32mas\u001B[0m \u001B[0merr\u001B[0m\u001B[1;33m:\u001B[0m\u001B[1;33m\u001B[0m\u001B[1;33m\u001B[0m\u001B[0m\n",
      "\u001B[1;32mM:\\dev\\envs\\experiments\\lib\\site-packages\\pandas\\_libs\\index.pyx\u001B[0m in \u001B[0;36mpandas._libs.index.IndexEngine.get_loc\u001B[1;34m()\u001B[0m\n",
      "\u001B[1;32mM:\\dev\\envs\\experiments\\lib\\site-packages\\pandas\\_libs\\index.pyx\u001B[0m in \u001B[0;36mpandas._libs.index.IndexEngine.get_loc\u001B[1;34m()\u001B[0m\n",
      "\u001B[1;32mpandas\\_libs\\hashtable_class_helper.pxi\u001B[0m in \u001B[0;36mpandas._libs.hashtable.PyObjectHashTable.get_item\u001B[1;34m()\u001B[0m\n",
      "\u001B[1;32mpandas\\_libs\\hashtable_class_helper.pxi\u001B[0m in \u001B[0;36mpandas._libs.hashtable.PyObjectHashTable.get_item\u001B[1;34m()\u001B[0m\n",
      "\u001B[1;31mKeyError\u001B[0m: 'First'",
      "\nThe above exception was the direct cause of the following exception:\n",
      "\u001B[1;31mKeyError\u001B[0m                                  Traceback (most recent call last)",
      "\u001B[1;32m<ipython-input-260-f39a32eb8dbb>\u001B[0m in \u001B[0;36m<module>\u001B[1;34m\u001B[0m\n\u001B[1;32m----> 1\u001B[1;33m \u001B[1;32mdel\u001B[0m\u001B[1;33m(\u001B[0m\u001B[0mdf\u001B[0m\u001B[1;33m[\u001B[0m\u001B[1;34m'First'\u001B[0m\u001B[1;33m]\u001B[0m\u001B[1;33m)\u001B[0m\u001B[1;33m\u001B[0m\u001B[1;33m\u001B[0m\u001B[0m\n\u001B[0m\u001B[0;32m      2\u001B[0m \u001B[1;32mdel\u001B[0m\u001B[1;33m(\u001B[0m\u001B[0mdf\u001B[0m\u001B[1;33m[\u001B[0m\u001B[1;34m'Last'\u001B[0m\u001B[1;33m]\u001B[0m\u001B[1;33m)\u001B[0m\u001B[1;33m\u001B[0m\u001B[1;33m\u001B[0m\u001B[0m\n",
      "\u001B[1;32mM:\\dev\\envs\\experiments\\lib\\site-packages\\pandas\\core\\generic.py\u001B[0m in \u001B[0;36m__delitem__\u001B[1;34m(self, key)\u001B[0m\n\u001B[0;32m   3958\u001B[0m             \u001B[1;31m# there was no match, this call should raise the appropriate\u001B[0m\u001B[1;33m\u001B[0m\u001B[1;33m\u001B[0m\u001B[1;33m\u001B[0m\u001B[0m\n\u001B[0;32m   3959\u001B[0m             \u001B[1;31m# exception:\u001B[0m\u001B[1;33m\u001B[0m\u001B[1;33m\u001B[0m\u001B[1;33m\u001B[0m\u001B[0m\n\u001B[1;32m-> 3960\u001B[1;33m             \u001B[0mloc\u001B[0m \u001B[1;33m=\u001B[0m \u001B[0mself\u001B[0m\u001B[1;33m.\u001B[0m\u001B[0maxes\u001B[0m\u001B[1;33m[\u001B[0m\u001B[1;33m-\u001B[0m\u001B[1;36m1\u001B[0m\u001B[1;33m]\u001B[0m\u001B[1;33m.\u001B[0m\u001B[0mget_loc\u001B[0m\u001B[1;33m(\u001B[0m\u001B[0mkey\u001B[0m\u001B[1;33m)\u001B[0m\u001B[1;33m\u001B[0m\u001B[1;33m\u001B[0m\u001B[0m\n\u001B[0m\u001B[0;32m   3961\u001B[0m             \u001B[0mself\u001B[0m\u001B[1;33m.\u001B[0m\u001B[0m_mgr\u001B[0m \u001B[1;33m=\u001B[0m \u001B[0mself\u001B[0m\u001B[1;33m.\u001B[0m\u001B[0m_mgr\u001B[0m\u001B[1;33m.\u001B[0m\u001B[0midelete\u001B[0m\u001B[1;33m(\u001B[0m\u001B[0mloc\u001B[0m\u001B[1;33m)\u001B[0m\u001B[1;33m\u001B[0m\u001B[1;33m\u001B[0m\u001B[0m\n\u001B[0;32m   3962\u001B[0m \u001B[1;33m\u001B[0m\u001B[0m\n",
      "\u001B[1;32mM:\\dev\\envs\\experiments\\lib\\site-packages\\pandas\\core\\indexes\\base.py\u001B[0m in \u001B[0;36mget_loc\u001B[1;34m(self, key, method, tolerance)\u001B[0m\n\u001B[0;32m   3361\u001B[0m                 \u001B[1;32mreturn\u001B[0m \u001B[0mself\u001B[0m\u001B[1;33m.\u001B[0m\u001B[0m_engine\u001B[0m\u001B[1;33m.\u001B[0m\u001B[0mget_loc\u001B[0m\u001B[1;33m(\u001B[0m\u001B[0mcasted_key\u001B[0m\u001B[1;33m)\u001B[0m\u001B[1;33m\u001B[0m\u001B[1;33m\u001B[0m\u001B[0m\n\u001B[0;32m   3362\u001B[0m             \u001B[1;32mexcept\u001B[0m \u001B[0mKeyError\u001B[0m \u001B[1;32mas\u001B[0m \u001B[0merr\u001B[0m\u001B[1;33m:\u001B[0m\u001B[1;33m\u001B[0m\u001B[1;33m\u001B[0m\u001B[0m\n\u001B[1;32m-> 3363\u001B[1;33m                 \u001B[1;32mraise\u001B[0m \u001B[0mKeyError\u001B[0m\u001B[1;33m(\u001B[0m\u001B[0mkey\u001B[0m\u001B[1;33m)\u001B[0m \u001B[1;32mfrom\u001B[0m \u001B[0merr\u001B[0m\u001B[1;33m\u001B[0m\u001B[1;33m\u001B[0m\u001B[0m\n\u001B[0m\u001B[0;32m   3364\u001B[0m \u001B[1;33m\u001B[0m\u001B[0m\n\u001B[0;32m   3365\u001B[0m         \u001B[1;32mif\u001B[0m \u001B[0mis_scalar\u001B[0m\u001B[1;33m(\u001B[0m\u001B[0mkey\u001B[0m\u001B[1;33m)\u001B[0m \u001B[1;32mand\u001B[0m \u001B[0misna\u001B[0m\u001B[1;33m(\u001B[0m\u001B[0mkey\u001B[0m\u001B[1;33m)\u001B[0m \u001B[1;32mand\u001B[0m \u001B[1;32mnot\u001B[0m \u001B[0mself\u001B[0m\u001B[1;33m.\u001B[0m\u001B[0mhasnans\u001B[0m\u001B[1;33m:\u001B[0m\u001B[1;33m\u001B[0m\u001B[1;33m\u001B[0m\u001B[0m\n",
      "\u001B[1;31mKeyError\u001B[0m: 'First'"
     ]
    }
   ],
   "source": [
    "del(df['First'])\n",
    "del(df['Last'])"
   ],
   "metadata": {
    "collapsed": false,
    "pycharm": {
     "name": "#%%\n"
    }
   }
  },
  {
   "cell_type": "code",
   "execution_count": 267,
   "outputs": [],
   "source": [
    "pattern = '(?P<First>^[\\w]*)(?:.* )(?P<Last>[\\w]*$)'\n",
    "names = df['President'].str.extract(pattern)"
   ],
   "metadata": {
    "collapsed": false,
    "pycharm": {
     "name": "#%%\n"
    }
   }
  },
  {
   "cell_type": "code",
   "execution_count": 269,
   "outputs": [
    {
     "data": {
      "text/plain": "     #              President             Born  \\\n0    1      George Washington  Feb 22, 1732[a]   \n1    2             John Adams  Oct 30, 1735[a]   \n2    3       Thomas Jefferson  Apr 13, 1743[a]   \n3    4          James Madison  Mar 16, 1751[a]   \n4    5           James Monroe     Apr 28, 1758   \n5    6      John Quincy Adams     Jul 11, 1767   \n6    7         Andrew Jackson     Mar 15, 1767   \n7    8       Martin Van Buren      Dec 5, 1782   \n8    9    William H. Harrison      Feb 9, 1773   \n9   10             John Tyler     Mar 29, 1790   \n10  11          James K. Polk      Nov 2, 1795   \n11  12         Zachary Taylor     Nov 24, 1784   \n12  13       Millard Fillmore      Jan 7, 1800   \n13  14        Franklin Pierce     Nov 23, 1804   \n14  15         James Buchanan     Apr 23, 1791   \n15  16        Abraham Lincoln     Feb 12, 1809   \n16  17         Andrew Johnson     Dec 29, 1808   \n17  18       Ulysses S. Grant     Apr 27, 1822   \n18  19    Rutherford B. Hayes      Oct 4, 1822   \n19  20      James A. Garfield     Nov 19, 1831   \n20  21      Chester A. Arthur      Oct 5, 1829   \n21  22       Grover Cleveland     Mar 18, 1837   \n22  23      Benjamin Harrison     Aug 20, 1833   \n23  24       Grover Cleveland     Mar 18, 1837   \n24  25       William McKinley     Jan 29, 1843   \n25  26     Theodore Roosevelt     Oct 27, 1858   \n26  27        William H. Taft     Sep 15, 1857   \n27  28         Woodrow Wilson     Dec 28, 1856   \n28  29      Warren G. Harding      Nov 2, 1865   \n29  30        Calvin Coolidge      Jul 4, 1872   \n30  31         Herbert Hoover     Aug 10, 1874   \n31  32  Franklin D. Roosevelt     Jan 30, 1882   \n32  33        Harry S. Truman      May 8, 1884   \n33  34   Dwight D. Eisenhower     Oct 14, 1890   \n34  35        John F. Kennedy     May 29, 1917   \n35  36      Lyndon B. Johnson     Aug 27, 1908   \n36  37          Richard Nixon      Jan 9, 1913   \n37  38            Gerald Ford     Jul 14, 1913   \n38  39           Jimmy Carter      Oct 1, 1924   \n39  40          Ronald Reagan      Feb 6, 1911   \n40  41      George H. W. Bush     Jun 12, 1924   \n41  42           Bill Clinton     Aug 19, 1946   \n42  43         George W. Bush      Jul 6, 1946   \n43  44           Barack Obama      Aug 4, 1961   \n\n         Age atstart of presidency            Age atend of presidency  \\\n0    57 years, 67 daysApr 30, 1789       65 years, 10 daysMar 4, 1797   \n1    61 years, 125 daysMar 4, 1797      65 years, 125 daysMar 4, 1801   \n2    57 years, 325 daysMar 4, 1801      65 years, 325 daysMar 4, 1809   \n3    57 years, 353 daysMar 4, 1809      65 years, 353 daysMar 4, 1817   \n4    58 years, 310 daysMar 4, 1817      66 years, 310 daysMar 4, 1825   \n5    57 years, 236 daysMar 4, 1825      61 years, 236 daysMar 4, 1829   \n6    61 years, 354 daysMar 4, 1829      69 years, 354 daysMar 4, 1837   \n7     54 years, 89 daysMar 4, 1837       58 years, 89 daysMar 4, 1841   \n8     68 years, 23 daysMar 4, 1841   68 years, 54 days Apr 4, 1841[b]   \n9      51 years, 6 daysApr 4, 1841      54 years, 340 daysMar 4, 1845   \n10   49 years, 122 daysMar 4, 1845      53 years, 122 daysMar 4, 1849   \n11   64 years, 100 daysMar 4, 1849   65 years, 227 daysJul 9, 1850[b]   \n12   50 years, 183 daysJul 9, 1850       53 years, 56 daysMar 4, 1853   \n13   48 years, 101 daysMar 4, 1853      52 years, 101 daysMar 4, 1857   \n14   65 years, 315 daysMar 4, 1857      69 years, 315 daysMar 4, 1861   \n15    52 years, 20 daysMar 4, 1861   56 years, 62 daysApr 15, 1865[b]   \n16  56 years, 107 daysApr 15, 1865       60 years, 65 daysMar 4, 1869   \n17   46 years, 311 daysMar 4, 1869      54 years, 311 daysMar 4, 1877   \n18   54 years, 151 daysMar 4, 1877      58 years, 151 daysMar 4, 1881   \n19   49 years, 105 daysMar 4, 1881  49 years, 304 daysSep 19, 1881[b]   \n20  51 years, 349 daysSep 19, 1881      55 years, 150 daysMar 4, 1885   \n21   47 years, 351 daysMar 4, 1885      51 years, 351 daysMar 4, 1889   \n22   55 years, 196 daysMar 4, 1889      59 years, 196 daysMar 4, 1893   \n23   55 years, 351 daysMar 4, 1893      59 years, 351 daysMar 4, 1897   \n24    54 years, 34 daysMar 4, 1897  58 years, 228 daysSep 14, 1901[b]   \n25  42 years, 322 daysSep 14, 1901      50 years, 128 daysMar 4, 1909   \n26   51 years, 170 daysMar 4, 1909      55 years, 170 daysMar 4, 1913   \n27    56 years, 66 daysMar 4, 1913       64 years, 66 daysMar 4, 1921   \n28   55 years, 122 daysMar 4, 1921   57 years, 273 daysAug 2, 1923[b]   \n29    51 years, 29 daysAug 2, 1923      56 years, 243 daysMar 4, 1929   \n30   54 years, 206 daysMar 4, 1929      58 years, 206 daysMar 4, 1933   \n31    51 years, 33 daysMar 4, 1933   63 years, 72 daysApr 12, 1945[b]   \n32  60 years, 339 daysApr 12, 1945     68 years, 257 daysJan 20, 1953   \n33   62 years, 98 daysJan 20, 1953      70 years, 98 daysJan 20, 1961   \n34  43 years, 236 daysJan 20, 1961  46 years, 177 daysNov 22, 1963[b]   \n35   55 years, 87 daysNov 22, 1963     60 years, 146 daysJan 20, 1969   \n36   56 years, 11 daysJan 20, 1969   61 years, 212 daysAug 9, 1974[e]   \n37    61 years, 26 daysAug 9, 1974     63 years, 190 daysJan 20, 1977   \n38  52 years, 111 daysJan 20, 1977     56 years, 111 daysJan 20, 1981   \n39  69 years, 349 daysJan 20, 1981     77 years, 349 daysJan 20, 1989   \n40  64 years, 222 daysJan 20, 1989     68 years, 222 daysJan 20, 1993   \n41  46 years, 154 daysJan 20, 1993     54 years, 154 daysJan 20, 2001   \n42  54 years, 198 daysJan 20, 2001     62 years, 198 daysJan 20, 2009   \n43  47 years, 169 daysJan 20, 2009     55 years, 169 daysJan 20, 2017   \n\n   Post-presidencytimespan          Died                 Age       First  \\\n0        2 years, 285 days  Dec 14, 1799  67 years, 295 days      George   \n1       25 years, 122 days   Jul 4, 1826  90 years, 247 days        John   \n2       17 years, 122 days   Jul 4, 1826   83 years, 82 days      Thomas   \n3       19 years, 116 days  Jun 28, 1836  85 years, 104 days       James   \n4        6 years, 122 days   Jul 4, 1831   73 years, 67 days       James   \n5       18 years, 356 days  Feb 23, 1848  80 years, 227 days        John   \n6         8 years, 96 days   Jun 8, 1845   78 years, 85 days      Andrew   \n7       21 years, 142 days  Jul 24, 1862  79 years, 231 days      Martin   \n8                      NaN   Apr 4, 1841   68 years, 54 days     William   \n9       16 years, 320 days  Jan 18, 1862  71 years, 295 days        John   \n10                103 days  Jun 15, 1849  53 years, 225 days       James   \n11                     NaN   Jul 9, 1850  65 years, 227 days     Zachary   \n12        21 years, 4 days   Mar 8, 1874   74 years, 60 days     Millard   \n13      12 years, 218 days   Oct 8, 1869  64 years, 319 days    Franklin   \n14        7 years, 89 days   Jun 1, 1868   77 years, 39 days       James   \n15                     NaN  Apr 15, 1865   56 years, 62 days     Abraham   \n16       6 years, 149 days  Jul 31, 1875  66 years, 214 days      Andrew   \n17       8 years, 141 days  Jul 23, 1885   63 years, 87 days     Ulysses   \n18      11 years, 319 days  Jan 17, 1893  70 years, 105 days  Rutherford   \n19                     NaN  Sep 19, 1881  49 years, 304 days       James   \n20        1 year, 259 days  Nov 18, 1886   57 years, 44 days     Chester   \n21      4 years, 0 days[c]  Jun 24, 1908   71 years, 98 days      Grover   \n22         8 years, 9 days  Mar 13, 1901  67 years, 205 days    Benjamin   \n23   11 years, 112 days[d]  Jun 24, 1908   71 years, 98 days      Grover   \n24                     NaN  Sep 14, 1901  58 years, 228 days     William   \n25       9 years, 308 days   Jan 6, 1919   60 years, 71 days    Theodore   \n26        17 years, 4 days   Mar 8, 1930  72 years, 174 days     William   \n27       2 years, 336 days   Feb 3, 1924   67 years, 37 days     Woodrow   \n28                     NaN   Aug 2, 1923  57 years, 273 days      Warren   \n29       3 years, 307 days   Jan 5, 1933  60 years, 185 days      Calvin   \n30      31 years, 230 days  Oct 20, 1964   90 years, 71 days     Herbert   \n31                     NaN  Apr 12, 1945   63 years, 72 days    Franklin   \n32      19 years, 341 days  Dec 26, 1972  88 years, 232 days       Harry   \n33        8 years, 67 days  Mar 28, 1969  78 years, 165 days      Dwight   \n34                     NaN  Nov 22, 1963  46 years, 177 days        John   \n35         4 years, 2 days  Jan 22, 1973  64 years, 148 days      Lyndon   \n36      19 years, 256 days  Apr 22, 1994  81 years, 103 days     Richard   \n37      29 years, 340 days  Dec 26, 2006  93 years, 165 days      Gerald   \n38      38 years, 175 days      (living)  94 years, 286 days       Jimmy   \n39      15 years, 137 days   Jun 5, 2004  93 years, 120 days      Ronald   \n40      25 years, 314 days  Nov 30, 2018  94 years, 171 days      George   \n41      18 years, 175 days      (living)  72 years, 329 days        Bill   \n42      10 years, 175 days      (living)    73 years, 8 days      George   \n43       2 years, 175 days      (living)  57 years, 344 days      Barack   \n\n          Last  \n0   Washington  \n1        Adams  \n2    Jefferson  \n3      Madison  \n4       Monroe  \n5        Adams  \n6      Jackson  \n7        Buren  \n8     Harrison  \n9        Tyler  \n10        Polk  \n11      Taylor  \n12    Fillmore  \n13      Pierce  \n14    Buchanan  \n15     Lincoln  \n16     Johnson  \n17       Grant  \n18       Hayes  \n19    Garfield  \n20      Arthur  \n21   Cleveland  \n22    Harrison  \n23   Cleveland  \n24    McKinley  \n25   Roosevelt  \n26        Taft  \n27      Wilson  \n28     Harding  \n29    Coolidge  \n30      Hoover  \n31   Roosevelt  \n32      Truman  \n33  Eisenhower  \n34     Kennedy  \n35     Johnson  \n36       Nixon  \n37        Ford  \n38      Carter  \n39      Reagan  \n40        Bush  \n41     Clinton  \n42        Bush  \n43       Obama  ",
      "text/html": "<div>\n<style scoped>\n    .dataframe tbody tr th:only-of-type {\n        vertical-align: middle;\n    }\n\n    .dataframe tbody tr th {\n        vertical-align: top;\n    }\n\n    .dataframe thead th {\n        text-align: right;\n    }\n</style>\n<table border=\"1\" class=\"dataframe\">\n  <thead>\n    <tr style=\"text-align: right;\">\n      <th></th>\n      <th>#</th>\n      <th>President</th>\n      <th>Born</th>\n      <th>Age atstart of presidency</th>\n      <th>Age atend of presidency</th>\n      <th>Post-presidencytimespan</th>\n      <th>Died</th>\n      <th>Age</th>\n      <th>First</th>\n      <th>Last</th>\n    </tr>\n  </thead>\n  <tbody>\n    <tr>\n      <th>0</th>\n      <td>1</td>\n      <td>George Washington</td>\n      <td>Feb 22, 1732[a]</td>\n      <td>57 years, 67 daysApr 30, 1789</td>\n      <td>65 years, 10 daysMar 4, 1797</td>\n      <td>2 years, 285 days</td>\n      <td>Dec 14, 1799</td>\n      <td>67 years, 295 days</td>\n      <td>George</td>\n      <td>Washington</td>\n    </tr>\n    <tr>\n      <th>1</th>\n      <td>2</td>\n      <td>John Adams</td>\n      <td>Oct 30, 1735[a]</td>\n      <td>61 years, 125 daysMar 4, 1797</td>\n      <td>65 years, 125 daysMar 4, 1801</td>\n      <td>25 years, 122 days</td>\n      <td>Jul 4, 1826</td>\n      <td>90 years, 247 days</td>\n      <td>John</td>\n      <td>Adams</td>\n    </tr>\n    <tr>\n      <th>2</th>\n      <td>3</td>\n      <td>Thomas Jefferson</td>\n      <td>Apr 13, 1743[a]</td>\n      <td>57 years, 325 daysMar 4, 1801</td>\n      <td>65 years, 325 daysMar 4, 1809</td>\n      <td>17 years, 122 days</td>\n      <td>Jul 4, 1826</td>\n      <td>83 years, 82 days</td>\n      <td>Thomas</td>\n      <td>Jefferson</td>\n    </tr>\n    <tr>\n      <th>3</th>\n      <td>4</td>\n      <td>James Madison</td>\n      <td>Mar 16, 1751[a]</td>\n      <td>57 years, 353 daysMar 4, 1809</td>\n      <td>65 years, 353 daysMar 4, 1817</td>\n      <td>19 years, 116 days</td>\n      <td>Jun 28, 1836</td>\n      <td>85 years, 104 days</td>\n      <td>James</td>\n      <td>Madison</td>\n    </tr>\n    <tr>\n      <th>4</th>\n      <td>5</td>\n      <td>James Monroe</td>\n      <td>Apr 28, 1758</td>\n      <td>58 years, 310 daysMar 4, 1817</td>\n      <td>66 years, 310 daysMar 4, 1825</td>\n      <td>6 years, 122 days</td>\n      <td>Jul 4, 1831</td>\n      <td>73 years, 67 days</td>\n      <td>James</td>\n      <td>Monroe</td>\n    </tr>\n    <tr>\n      <th>5</th>\n      <td>6</td>\n      <td>John Quincy Adams</td>\n      <td>Jul 11, 1767</td>\n      <td>57 years, 236 daysMar 4, 1825</td>\n      <td>61 years, 236 daysMar 4, 1829</td>\n      <td>18 years, 356 days</td>\n      <td>Feb 23, 1848</td>\n      <td>80 years, 227 days</td>\n      <td>John</td>\n      <td>Adams</td>\n    </tr>\n    <tr>\n      <th>6</th>\n      <td>7</td>\n      <td>Andrew Jackson</td>\n      <td>Mar 15, 1767</td>\n      <td>61 years, 354 daysMar 4, 1829</td>\n      <td>69 years, 354 daysMar 4, 1837</td>\n      <td>8 years, 96 days</td>\n      <td>Jun 8, 1845</td>\n      <td>78 years, 85 days</td>\n      <td>Andrew</td>\n      <td>Jackson</td>\n    </tr>\n    <tr>\n      <th>7</th>\n      <td>8</td>\n      <td>Martin Van Buren</td>\n      <td>Dec 5, 1782</td>\n      <td>54 years, 89 daysMar 4, 1837</td>\n      <td>58 years, 89 daysMar 4, 1841</td>\n      <td>21 years, 142 days</td>\n      <td>Jul 24, 1862</td>\n      <td>79 years, 231 days</td>\n      <td>Martin</td>\n      <td>Buren</td>\n    </tr>\n    <tr>\n      <th>8</th>\n      <td>9</td>\n      <td>William H. Harrison</td>\n      <td>Feb 9, 1773</td>\n      <td>68 years, 23 daysMar 4, 1841</td>\n      <td>68 years, 54 days Apr 4, 1841[b]</td>\n      <td>NaN</td>\n      <td>Apr 4, 1841</td>\n      <td>68 years, 54 days</td>\n      <td>William</td>\n      <td>Harrison</td>\n    </tr>\n    <tr>\n      <th>9</th>\n      <td>10</td>\n      <td>John Tyler</td>\n      <td>Mar 29, 1790</td>\n      <td>51 years, 6 daysApr 4, 1841</td>\n      <td>54 years, 340 daysMar 4, 1845</td>\n      <td>16 years, 320 days</td>\n      <td>Jan 18, 1862</td>\n      <td>71 years, 295 days</td>\n      <td>John</td>\n      <td>Tyler</td>\n    </tr>\n    <tr>\n      <th>10</th>\n      <td>11</td>\n      <td>James K. Polk</td>\n      <td>Nov 2, 1795</td>\n      <td>49 years, 122 daysMar 4, 1845</td>\n      <td>53 years, 122 daysMar 4, 1849</td>\n      <td>103 days</td>\n      <td>Jun 15, 1849</td>\n      <td>53 years, 225 days</td>\n      <td>James</td>\n      <td>Polk</td>\n    </tr>\n    <tr>\n      <th>11</th>\n      <td>12</td>\n      <td>Zachary Taylor</td>\n      <td>Nov 24, 1784</td>\n      <td>64 years, 100 daysMar 4, 1849</td>\n      <td>65 years, 227 daysJul 9, 1850[b]</td>\n      <td>NaN</td>\n      <td>Jul 9, 1850</td>\n      <td>65 years, 227 days</td>\n      <td>Zachary</td>\n      <td>Taylor</td>\n    </tr>\n    <tr>\n      <th>12</th>\n      <td>13</td>\n      <td>Millard Fillmore</td>\n      <td>Jan 7, 1800</td>\n      <td>50 years, 183 daysJul 9, 1850</td>\n      <td>53 years, 56 daysMar 4, 1853</td>\n      <td>21 years, 4 days</td>\n      <td>Mar 8, 1874</td>\n      <td>74 years, 60 days</td>\n      <td>Millard</td>\n      <td>Fillmore</td>\n    </tr>\n    <tr>\n      <th>13</th>\n      <td>14</td>\n      <td>Franklin Pierce</td>\n      <td>Nov 23, 1804</td>\n      <td>48 years, 101 daysMar 4, 1853</td>\n      <td>52 years, 101 daysMar 4, 1857</td>\n      <td>12 years, 218 days</td>\n      <td>Oct 8, 1869</td>\n      <td>64 years, 319 days</td>\n      <td>Franklin</td>\n      <td>Pierce</td>\n    </tr>\n    <tr>\n      <th>14</th>\n      <td>15</td>\n      <td>James Buchanan</td>\n      <td>Apr 23, 1791</td>\n      <td>65 years, 315 daysMar 4, 1857</td>\n      <td>69 years, 315 daysMar 4, 1861</td>\n      <td>7 years, 89 days</td>\n      <td>Jun 1, 1868</td>\n      <td>77 years, 39 days</td>\n      <td>James</td>\n      <td>Buchanan</td>\n    </tr>\n    <tr>\n      <th>15</th>\n      <td>16</td>\n      <td>Abraham Lincoln</td>\n      <td>Feb 12, 1809</td>\n      <td>52 years, 20 daysMar 4, 1861</td>\n      <td>56 years, 62 daysApr 15, 1865[b]</td>\n      <td>NaN</td>\n      <td>Apr 15, 1865</td>\n      <td>56 years, 62 days</td>\n      <td>Abraham</td>\n      <td>Lincoln</td>\n    </tr>\n    <tr>\n      <th>16</th>\n      <td>17</td>\n      <td>Andrew Johnson</td>\n      <td>Dec 29, 1808</td>\n      <td>56 years, 107 daysApr 15, 1865</td>\n      <td>60 years, 65 daysMar 4, 1869</td>\n      <td>6 years, 149 days</td>\n      <td>Jul 31, 1875</td>\n      <td>66 years, 214 days</td>\n      <td>Andrew</td>\n      <td>Johnson</td>\n    </tr>\n    <tr>\n      <th>17</th>\n      <td>18</td>\n      <td>Ulysses S. Grant</td>\n      <td>Apr 27, 1822</td>\n      <td>46 years, 311 daysMar 4, 1869</td>\n      <td>54 years, 311 daysMar 4, 1877</td>\n      <td>8 years, 141 days</td>\n      <td>Jul 23, 1885</td>\n      <td>63 years, 87 days</td>\n      <td>Ulysses</td>\n      <td>Grant</td>\n    </tr>\n    <tr>\n      <th>18</th>\n      <td>19</td>\n      <td>Rutherford B. Hayes</td>\n      <td>Oct 4, 1822</td>\n      <td>54 years, 151 daysMar 4, 1877</td>\n      <td>58 years, 151 daysMar 4, 1881</td>\n      <td>11 years, 319 days</td>\n      <td>Jan 17, 1893</td>\n      <td>70 years, 105 days</td>\n      <td>Rutherford</td>\n      <td>Hayes</td>\n    </tr>\n    <tr>\n      <th>19</th>\n      <td>20</td>\n      <td>James A. Garfield</td>\n      <td>Nov 19, 1831</td>\n      <td>49 years, 105 daysMar 4, 1881</td>\n      <td>49 years, 304 daysSep 19, 1881[b]</td>\n      <td>NaN</td>\n      <td>Sep 19, 1881</td>\n      <td>49 years, 304 days</td>\n      <td>James</td>\n      <td>Garfield</td>\n    </tr>\n    <tr>\n      <th>20</th>\n      <td>21</td>\n      <td>Chester A. Arthur</td>\n      <td>Oct 5, 1829</td>\n      <td>51 years, 349 daysSep 19, 1881</td>\n      <td>55 years, 150 daysMar 4, 1885</td>\n      <td>1 year, 259 days</td>\n      <td>Nov 18, 1886</td>\n      <td>57 years, 44 days</td>\n      <td>Chester</td>\n      <td>Arthur</td>\n    </tr>\n    <tr>\n      <th>21</th>\n      <td>22</td>\n      <td>Grover Cleveland</td>\n      <td>Mar 18, 1837</td>\n      <td>47 years, 351 daysMar 4, 1885</td>\n      <td>51 years, 351 daysMar 4, 1889</td>\n      <td>4 years, 0 days[c]</td>\n      <td>Jun 24, 1908</td>\n      <td>71 years, 98 days</td>\n      <td>Grover</td>\n      <td>Cleveland</td>\n    </tr>\n    <tr>\n      <th>22</th>\n      <td>23</td>\n      <td>Benjamin Harrison</td>\n      <td>Aug 20, 1833</td>\n      <td>55 years, 196 daysMar 4, 1889</td>\n      <td>59 years, 196 daysMar 4, 1893</td>\n      <td>8 years, 9 days</td>\n      <td>Mar 13, 1901</td>\n      <td>67 years, 205 days</td>\n      <td>Benjamin</td>\n      <td>Harrison</td>\n    </tr>\n    <tr>\n      <th>23</th>\n      <td>24</td>\n      <td>Grover Cleveland</td>\n      <td>Mar 18, 1837</td>\n      <td>55 years, 351 daysMar 4, 1893</td>\n      <td>59 years, 351 daysMar 4, 1897</td>\n      <td>11 years, 112 days[d]</td>\n      <td>Jun 24, 1908</td>\n      <td>71 years, 98 days</td>\n      <td>Grover</td>\n      <td>Cleveland</td>\n    </tr>\n    <tr>\n      <th>24</th>\n      <td>25</td>\n      <td>William McKinley</td>\n      <td>Jan 29, 1843</td>\n      <td>54 years, 34 daysMar 4, 1897</td>\n      <td>58 years, 228 daysSep 14, 1901[b]</td>\n      <td>NaN</td>\n      <td>Sep 14, 1901</td>\n      <td>58 years, 228 days</td>\n      <td>William</td>\n      <td>McKinley</td>\n    </tr>\n    <tr>\n      <th>25</th>\n      <td>26</td>\n      <td>Theodore Roosevelt</td>\n      <td>Oct 27, 1858</td>\n      <td>42 years, 322 daysSep 14, 1901</td>\n      <td>50 years, 128 daysMar 4, 1909</td>\n      <td>9 years, 308 days</td>\n      <td>Jan 6, 1919</td>\n      <td>60 years, 71 days</td>\n      <td>Theodore</td>\n      <td>Roosevelt</td>\n    </tr>\n    <tr>\n      <th>26</th>\n      <td>27</td>\n      <td>William H. Taft</td>\n      <td>Sep 15, 1857</td>\n      <td>51 years, 170 daysMar 4, 1909</td>\n      <td>55 years, 170 daysMar 4, 1913</td>\n      <td>17 years, 4 days</td>\n      <td>Mar 8, 1930</td>\n      <td>72 years, 174 days</td>\n      <td>William</td>\n      <td>Taft</td>\n    </tr>\n    <tr>\n      <th>27</th>\n      <td>28</td>\n      <td>Woodrow Wilson</td>\n      <td>Dec 28, 1856</td>\n      <td>56 years, 66 daysMar 4, 1913</td>\n      <td>64 years, 66 daysMar 4, 1921</td>\n      <td>2 years, 336 days</td>\n      <td>Feb 3, 1924</td>\n      <td>67 years, 37 days</td>\n      <td>Woodrow</td>\n      <td>Wilson</td>\n    </tr>\n    <tr>\n      <th>28</th>\n      <td>29</td>\n      <td>Warren G. Harding</td>\n      <td>Nov 2, 1865</td>\n      <td>55 years, 122 daysMar 4, 1921</td>\n      <td>57 years, 273 daysAug 2, 1923[b]</td>\n      <td>NaN</td>\n      <td>Aug 2, 1923</td>\n      <td>57 years, 273 days</td>\n      <td>Warren</td>\n      <td>Harding</td>\n    </tr>\n    <tr>\n      <th>29</th>\n      <td>30</td>\n      <td>Calvin Coolidge</td>\n      <td>Jul 4, 1872</td>\n      <td>51 years, 29 daysAug 2, 1923</td>\n      <td>56 years, 243 daysMar 4, 1929</td>\n      <td>3 years, 307 days</td>\n      <td>Jan 5, 1933</td>\n      <td>60 years, 185 days</td>\n      <td>Calvin</td>\n      <td>Coolidge</td>\n    </tr>\n    <tr>\n      <th>30</th>\n      <td>31</td>\n      <td>Herbert Hoover</td>\n      <td>Aug 10, 1874</td>\n      <td>54 years, 206 daysMar 4, 1929</td>\n      <td>58 years, 206 daysMar 4, 1933</td>\n      <td>31 years, 230 days</td>\n      <td>Oct 20, 1964</td>\n      <td>90 years, 71 days</td>\n      <td>Herbert</td>\n      <td>Hoover</td>\n    </tr>\n    <tr>\n      <th>31</th>\n      <td>32</td>\n      <td>Franklin D. Roosevelt</td>\n      <td>Jan 30, 1882</td>\n      <td>51 years, 33 daysMar 4, 1933</td>\n      <td>63 years, 72 daysApr 12, 1945[b]</td>\n      <td>NaN</td>\n      <td>Apr 12, 1945</td>\n      <td>63 years, 72 days</td>\n      <td>Franklin</td>\n      <td>Roosevelt</td>\n    </tr>\n    <tr>\n      <th>32</th>\n      <td>33</td>\n      <td>Harry S. Truman</td>\n      <td>May 8, 1884</td>\n      <td>60 years, 339 daysApr 12, 1945</td>\n      <td>68 years, 257 daysJan 20, 1953</td>\n      <td>19 years, 341 days</td>\n      <td>Dec 26, 1972</td>\n      <td>88 years, 232 days</td>\n      <td>Harry</td>\n      <td>Truman</td>\n    </tr>\n    <tr>\n      <th>33</th>\n      <td>34</td>\n      <td>Dwight D. Eisenhower</td>\n      <td>Oct 14, 1890</td>\n      <td>62 years, 98 daysJan 20, 1953</td>\n      <td>70 years, 98 daysJan 20, 1961</td>\n      <td>8 years, 67 days</td>\n      <td>Mar 28, 1969</td>\n      <td>78 years, 165 days</td>\n      <td>Dwight</td>\n      <td>Eisenhower</td>\n    </tr>\n    <tr>\n      <th>34</th>\n      <td>35</td>\n      <td>John F. Kennedy</td>\n      <td>May 29, 1917</td>\n      <td>43 years, 236 daysJan 20, 1961</td>\n      <td>46 years, 177 daysNov 22, 1963[b]</td>\n      <td>NaN</td>\n      <td>Nov 22, 1963</td>\n      <td>46 years, 177 days</td>\n      <td>John</td>\n      <td>Kennedy</td>\n    </tr>\n    <tr>\n      <th>35</th>\n      <td>36</td>\n      <td>Lyndon B. Johnson</td>\n      <td>Aug 27, 1908</td>\n      <td>55 years, 87 daysNov 22, 1963</td>\n      <td>60 years, 146 daysJan 20, 1969</td>\n      <td>4 years, 2 days</td>\n      <td>Jan 22, 1973</td>\n      <td>64 years, 148 days</td>\n      <td>Lyndon</td>\n      <td>Johnson</td>\n    </tr>\n    <tr>\n      <th>36</th>\n      <td>37</td>\n      <td>Richard Nixon</td>\n      <td>Jan 9, 1913</td>\n      <td>56 years, 11 daysJan 20, 1969</td>\n      <td>61 years, 212 daysAug 9, 1974[e]</td>\n      <td>19 years, 256 days</td>\n      <td>Apr 22, 1994</td>\n      <td>81 years, 103 days</td>\n      <td>Richard</td>\n      <td>Nixon</td>\n    </tr>\n    <tr>\n      <th>37</th>\n      <td>38</td>\n      <td>Gerald Ford</td>\n      <td>Jul 14, 1913</td>\n      <td>61 years, 26 daysAug 9, 1974</td>\n      <td>63 years, 190 daysJan 20, 1977</td>\n      <td>29 years, 340 days</td>\n      <td>Dec 26, 2006</td>\n      <td>93 years, 165 days</td>\n      <td>Gerald</td>\n      <td>Ford</td>\n    </tr>\n    <tr>\n      <th>38</th>\n      <td>39</td>\n      <td>Jimmy Carter</td>\n      <td>Oct 1, 1924</td>\n      <td>52 years, 111 daysJan 20, 1977</td>\n      <td>56 years, 111 daysJan 20, 1981</td>\n      <td>38 years, 175 days</td>\n      <td>(living)</td>\n      <td>94 years, 286 days</td>\n      <td>Jimmy</td>\n      <td>Carter</td>\n    </tr>\n    <tr>\n      <th>39</th>\n      <td>40</td>\n      <td>Ronald Reagan</td>\n      <td>Feb 6, 1911</td>\n      <td>69 years, 349 daysJan 20, 1981</td>\n      <td>77 years, 349 daysJan 20, 1989</td>\n      <td>15 years, 137 days</td>\n      <td>Jun 5, 2004</td>\n      <td>93 years, 120 days</td>\n      <td>Ronald</td>\n      <td>Reagan</td>\n    </tr>\n    <tr>\n      <th>40</th>\n      <td>41</td>\n      <td>George H. W. Bush</td>\n      <td>Jun 12, 1924</td>\n      <td>64 years, 222 daysJan 20, 1989</td>\n      <td>68 years, 222 daysJan 20, 1993</td>\n      <td>25 years, 314 days</td>\n      <td>Nov 30, 2018</td>\n      <td>94 years, 171 days</td>\n      <td>George</td>\n      <td>Bush</td>\n    </tr>\n    <tr>\n      <th>41</th>\n      <td>42</td>\n      <td>Bill Clinton</td>\n      <td>Aug 19, 1946</td>\n      <td>46 years, 154 daysJan 20, 1993</td>\n      <td>54 years, 154 daysJan 20, 2001</td>\n      <td>18 years, 175 days</td>\n      <td>(living)</td>\n      <td>72 years, 329 days</td>\n      <td>Bill</td>\n      <td>Clinton</td>\n    </tr>\n    <tr>\n      <th>42</th>\n      <td>43</td>\n      <td>George W. Bush</td>\n      <td>Jul 6, 1946</td>\n      <td>54 years, 198 daysJan 20, 2001</td>\n      <td>62 years, 198 daysJan 20, 2009</td>\n      <td>10 years, 175 days</td>\n      <td>(living)</td>\n      <td>73 years, 8 days</td>\n      <td>George</td>\n      <td>Bush</td>\n    </tr>\n    <tr>\n      <th>43</th>\n      <td>44</td>\n      <td>Barack Obama</td>\n      <td>Aug 4, 1961</td>\n      <td>47 years, 169 daysJan 20, 2009</td>\n      <td>55 years, 169 daysJan 20, 2017</td>\n      <td>2 years, 175 days</td>\n      <td>(living)</td>\n      <td>57 years, 344 days</td>\n      <td>Barack</td>\n      <td>Obama</td>\n    </tr>\n  </tbody>\n</table>\n</div>"
     },
     "execution_count": 269,
     "metadata": {},
     "output_type": "execute_result"
    }
   ],
   "source": [
    "df['First'] = names['First']\n",
    "df['Last'] = names['Last']\n",
    "df"
   ],
   "metadata": {
    "collapsed": false,
    "pycharm": {
     "name": "#%%\n"
    }
   }
  },
  {
   "cell_type": "code",
   "execution_count": 275,
   "outputs": [
    {
     "data": {
      "text/plain": "     #              President          Born       Age atstart of presidency  \\\n0    1      George Washington  Feb 22, 1732   57 years, 67 daysApr 30, 1789   \n1    2             John Adams  Oct 30, 1735   61 years, 125 daysMar 4, 1797   \n2    3       Thomas Jefferson  Apr 13, 1743   57 years, 325 daysMar 4, 1801   \n3    4          James Madison  Mar 16, 1751   57 years, 353 daysMar 4, 1809   \n4    5           James Monroe  Apr 28, 1758   58 years, 310 daysMar 4, 1817   \n5    6      John Quincy Adams  Jul 11, 1767   57 years, 236 daysMar 4, 1825   \n6    7         Andrew Jackson  Mar 15, 1767   61 years, 354 daysMar 4, 1829   \n7    8       Martin Van Buren   Dec 5, 1782    54 years, 89 daysMar 4, 1837   \n8    9    William H. Harrison   Feb 9, 1773    68 years, 23 daysMar 4, 1841   \n9   10             John Tyler  Mar 29, 1790     51 years, 6 daysApr 4, 1841   \n10  11          James K. Polk   Nov 2, 1795   49 years, 122 daysMar 4, 1845   \n11  12         Zachary Taylor  Nov 24, 1784   64 years, 100 daysMar 4, 1849   \n12  13       Millard Fillmore   Jan 7, 1800   50 years, 183 daysJul 9, 1850   \n13  14        Franklin Pierce  Nov 23, 1804   48 years, 101 daysMar 4, 1853   \n14  15         James Buchanan  Apr 23, 1791   65 years, 315 daysMar 4, 1857   \n15  16        Abraham Lincoln  Feb 12, 1809    52 years, 20 daysMar 4, 1861   \n16  17         Andrew Johnson  Dec 29, 1808  56 years, 107 daysApr 15, 1865   \n17  18       Ulysses S. Grant  Apr 27, 1822   46 years, 311 daysMar 4, 1869   \n18  19    Rutherford B. Hayes   Oct 4, 1822   54 years, 151 daysMar 4, 1877   \n19  20      James A. Garfield  Nov 19, 1831   49 years, 105 daysMar 4, 1881   \n20  21      Chester A. Arthur   Oct 5, 1829  51 years, 349 daysSep 19, 1881   \n21  22       Grover Cleveland  Mar 18, 1837   47 years, 351 daysMar 4, 1885   \n22  23      Benjamin Harrison  Aug 20, 1833   55 years, 196 daysMar 4, 1889   \n23  24       Grover Cleveland  Mar 18, 1837   55 years, 351 daysMar 4, 1893   \n24  25       William McKinley  Jan 29, 1843    54 years, 34 daysMar 4, 1897   \n25  26     Theodore Roosevelt  Oct 27, 1858  42 years, 322 daysSep 14, 1901   \n26  27        William H. Taft  Sep 15, 1857   51 years, 170 daysMar 4, 1909   \n27  28         Woodrow Wilson  Dec 28, 1856    56 years, 66 daysMar 4, 1913   \n28  29      Warren G. Harding   Nov 2, 1865   55 years, 122 daysMar 4, 1921   \n29  30        Calvin Coolidge   Jul 4, 1872    51 years, 29 daysAug 2, 1923   \n30  31         Herbert Hoover  Aug 10, 1874   54 years, 206 daysMar 4, 1929   \n31  32  Franklin D. Roosevelt  Jan 30, 1882    51 years, 33 daysMar 4, 1933   \n32  33        Harry S. Truman   May 8, 1884  60 years, 339 daysApr 12, 1945   \n33  34   Dwight D. Eisenhower  Oct 14, 1890   62 years, 98 daysJan 20, 1953   \n34  35        John F. Kennedy  May 29, 1917  43 years, 236 daysJan 20, 1961   \n35  36      Lyndon B. Johnson  Aug 27, 1908   55 years, 87 daysNov 22, 1963   \n36  37          Richard Nixon   Jan 9, 1913   56 years, 11 daysJan 20, 1969   \n37  38            Gerald Ford  Jul 14, 1913    61 years, 26 daysAug 9, 1974   \n38  39           Jimmy Carter   Oct 1, 1924  52 years, 111 daysJan 20, 1977   \n39  40          Ronald Reagan   Feb 6, 1911  69 years, 349 daysJan 20, 1981   \n40  41      George H. W. Bush  Jun 12, 1924  64 years, 222 daysJan 20, 1989   \n41  42           Bill Clinton  Aug 19, 1946  46 years, 154 daysJan 20, 1993   \n42  43         George W. Bush   Jul 6, 1946  54 years, 198 daysJan 20, 2001   \n43  44           Barack Obama   Aug 4, 1961  47 years, 169 daysJan 20, 2009   \n\n              Age atend of presidency Post-presidencytimespan          Died  \\\n0        65 years, 10 daysMar 4, 1797       2 years, 285 days  Dec 14, 1799   \n1       65 years, 125 daysMar 4, 1801      25 years, 122 days   Jul 4, 1826   \n2       65 years, 325 daysMar 4, 1809      17 years, 122 days   Jul 4, 1826   \n3       65 years, 353 daysMar 4, 1817      19 years, 116 days  Jun 28, 1836   \n4       66 years, 310 daysMar 4, 1825       6 years, 122 days   Jul 4, 1831   \n5       61 years, 236 daysMar 4, 1829      18 years, 356 days  Feb 23, 1848   \n6       69 years, 354 daysMar 4, 1837        8 years, 96 days   Jun 8, 1845   \n7        58 years, 89 daysMar 4, 1841      21 years, 142 days  Jul 24, 1862   \n8    68 years, 54 days Apr 4, 1841[b]                     NaN   Apr 4, 1841   \n9       54 years, 340 daysMar 4, 1845      16 years, 320 days  Jan 18, 1862   \n10      53 years, 122 daysMar 4, 1849                103 days  Jun 15, 1849   \n11   65 years, 227 daysJul 9, 1850[b]                     NaN   Jul 9, 1850   \n12       53 years, 56 daysMar 4, 1853        21 years, 4 days   Mar 8, 1874   \n13      52 years, 101 daysMar 4, 1857      12 years, 218 days   Oct 8, 1869   \n14      69 years, 315 daysMar 4, 1861        7 years, 89 days   Jun 1, 1868   \n15   56 years, 62 daysApr 15, 1865[b]                     NaN  Apr 15, 1865   \n16       60 years, 65 daysMar 4, 1869       6 years, 149 days  Jul 31, 1875   \n17      54 years, 311 daysMar 4, 1877       8 years, 141 days  Jul 23, 1885   \n18      58 years, 151 daysMar 4, 1881      11 years, 319 days  Jan 17, 1893   \n19  49 years, 304 daysSep 19, 1881[b]                     NaN  Sep 19, 1881   \n20      55 years, 150 daysMar 4, 1885        1 year, 259 days  Nov 18, 1886   \n21      51 years, 351 daysMar 4, 1889      4 years, 0 days[c]  Jun 24, 1908   \n22      59 years, 196 daysMar 4, 1893         8 years, 9 days  Mar 13, 1901   \n23      59 years, 351 daysMar 4, 1897   11 years, 112 days[d]  Jun 24, 1908   \n24  58 years, 228 daysSep 14, 1901[b]                     NaN  Sep 14, 1901   \n25      50 years, 128 daysMar 4, 1909       9 years, 308 days   Jan 6, 1919   \n26      55 years, 170 daysMar 4, 1913        17 years, 4 days   Mar 8, 1930   \n27       64 years, 66 daysMar 4, 1921       2 years, 336 days   Feb 3, 1924   \n28   57 years, 273 daysAug 2, 1923[b]                     NaN   Aug 2, 1923   \n29      56 years, 243 daysMar 4, 1929       3 years, 307 days   Jan 5, 1933   \n30      58 years, 206 daysMar 4, 1933      31 years, 230 days  Oct 20, 1964   \n31   63 years, 72 daysApr 12, 1945[b]                     NaN  Apr 12, 1945   \n32     68 years, 257 daysJan 20, 1953      19 years, 341 days  Dec 26, 1972   \n33      70 years, 98 daysJan 20, 1961        8 years, 67 days  Mar 28, 1969   \n34  46 years, 177 daysNov 22, 1963[b]                     NaN  Nov 22, 1963   \n35     60 years, 146 daysJan 20, 1969         4 years, 2 days  Jan 22, 1973   \n36   61 years, 212 daysAug 9, 1974[e]      19 years, 256 days  Apr 22, 1994   \n37     63 years, 190 daysJan 20, 1977      29 years, 340 days  Dec 26, 2006   \n38     56 years, 111 daysJan 20, 1981      38 years, 175 days      (living)   \n39     77 years, 349 daysJan 20, 1989      15 years, 137 days   Jun 5, 2004   \n40     68 years, 222 daysJan 20, 1993      25 years, 314 days  Nov 30, 2018   \n41     54 years, 154 daysJan 20, 2001      18 years, 175 days      (living)   \n42     62 years, 198 daysJan 20, 2009      10 years, 175 days      (living)   \n43     55 years, 169 daysJan 20, 2017       2 years, 175 days      (living)   \n\n                   Age       First        Last  \n0   67 years, 295 days      George  Washington  \n1   90 years, 247 days        John       Adams  \n2    83 years, 82 days      Thomas   Jefferson  \n3   85 years, 104 days       James     Madison  \n4    73 years, 67 days       James      Monroe  \n5   80 years, 227 days        John       Adams  \n6    78 years, 85 days      Andrew     Jackson  \n7   79 years, 231 days      Martin       Buren  \n8    68 years, 54 days     William    Harrison  \n9   71 years, 295 days        John       Tyler  \n10  53 years, 225 days       James        Polk  \n11  65 years, 227 days     Zachary      Taylor  \n12   74 years, 60 days     Millard    Fillmore  \n13  64 years, 319 days    Franklin      Pierce  \n14   77 years, 39 days       James    Buchanan  \n15   56 years, 62 days     Abraham     Lincoln  \n16  66 years, 214 days      Andrew     Johnson  \n17   63 years, 87 days     Ulysses       Grant  \n18  70 years, 105 days  Rutherford       Hayes  \n19  49 years, 304 days       James    Garfield  \n20   57 years, 44 days     Chester      Arthur  \n21   71 years, 98 days      Grover   Cleveland  \n22  67 years, 205 days    Benjamin    Harrison  \n23   71 years, 98 days      Grover   Cleveland  \n24  58 years, 228 days     William    McKinley  \n25   60 years, 71 days    Theodore   Roosevelt  \n26  72 years, 174 days     William        Taft  \n27   67 years, 37 days     Woodrow      Wilson  \n28  57 years, 273 days      Warren     Harding  \n29  60 years, 185 days      Calvin    Coolidge  \n30   90 years, 71 days     Herbert      Hoover  \n31   63 years, 72 days    Franklin   Roosevelt  \n32  88 years, 232 days       Harry      Truman  \n33  78 years, 165 days      Dwight  Eisenhower  \n34  46 years, 177 days        John     Kennedy  \n35  64 years, 148 days      Lyndon     Johnson  \n36  81 years, 103 days     Richard       Nixon  \n37  93 years, 165 days      Gerald        Ford  \n38  94 years, 286 days       Jimmy      Carter  \n39  93 years, 120 days      Ronald      Reagan  \n40  94 years, 171 days      George        Bush  \n41  72 years, 329 days        Bill     Clinton  \n42    73 years, 8 days      George        Bush  \n43  57 years, 344 days      Barack       Obama  ",
      "text/html": "<div>\n<style scoped>\n    .dataframe tbody tr th:only-of-type {\n        vertical-align: middle;\n    }\n\n    .dataframe tbody tr th {\n        vertical-align: top;\n    }\n\n    .dataframe thead th {\n        text-align: right;\n    }\n</style>\n<table border=\"1\" class=\"dataframe\">\n  <thead>\n    <tr style=\"text-align: right;\">\n      <th></th>\n      <th>#</th>\n      <th>President</th>\n      <th>Born</th>\n      <th>Age atstart of presidency</th>\n      <th>Age atend of presidency</th>\n      <th>Post-presidencytimespan</th>\n      <th>Died</th>\n      <th>Age</th>\n      <th>First</th>\n      <th>Last</th>\n    </tr>\n  </thead>\n  <tbody>\n    <tr>\n      <th>0</th>\n      <td>1</td>\n      <td>George Washington</td>\n      <td>Feb 22, 1732</td>\n      <td>57 years, 67 daysApr 30, 1789</td>\n      <td>65 years, 10 daysMar 4, 1797</td>\n      <td>2 years, 285 days</td>\n      <td>Dec 14, 1799</td>\n      <td>67 years, 295 days</td>\n      <td>George</td>\n      <td>Washington</td>\n    </tr>\n    <tr>\n      <th>1</th>\n      <td>2</td>\n      <td>John Adams</td>\n      <td>Oct 30, 1735</td>\n      <td>61 years, 125 daysMar 4, 1797</td>\n      <td>65 years, 125 daysMar 4, 1801</td>\n      <td>25 years, 122 days</td>\n      <td>Jul 4, 1826</td>\n      <td>90 years, 247 days</td>\n      <td>John</td>\n      <td>Adams</td>\n    </tr>\n    <tr>\n      <th>2</th>\n      <td>3</td>\n      <td>Thomas Jefferson</td>\n      <td>Apr 13, 1743</td>\n      <td>57 years, 325 daysMar 4, 1801</td>\n      <td>65 years, 325 daysMar 4, 1809</td>\n      <td>17 years, 122 days</td>\n      <td>Jul 4, 1826</td>\n      <td>83 years, 82 days</td>\n      <td>Thomas</td>\n      <td>Jefferson</td>\n    </tr>\n    <tr>\n      <th>3</th>\n      <td>4</td>\n      <td>James Madison</td>\n      <td>Mar 16, 1751</td>\n      <td>57 years, 353 daysMar 4, 1809</td>\n      <td>65 years, 353 daysMar 4, 1817</td>\n      <td>19 years, 116 days</td>\n      <td>Jun 28, 1836</td>\n      <td>85 years, 104 days</td>\n      <td>James</td>\n      <td>Madison</td>\n    </tr>\n    <tr>\n      <th>4</th>\n      <td>5</td>\n      <td>James Monroe</td>\n      <td>Apr 28, 1758</td>\n      <td>58 years, 310 daysMar 4, 1817</td>\n      <td>66 years, 310 daysMar 4, 1825</td>\n      <td>6 years, 122 days</td>\n      <td>Jul 4, 1831</td>\n      <td>73 years, 67 days</td>\n      <td>James</td>\n      <td>Monroe</td>\n    </tr>\n    <tr>\n      <th>5</th>\n      <td>6</td>\n      <td>John Quincy Adams</td>\n      <td>Jul 11, 1767</td>\n      <td>57 years, 236 daysMar 4, 1825</td>\n      <td>61 years, 236 daysMar 4, 1829</td>\n      <td>18 years, 356 days</td>\n      <td>Feb 23, 1848</td>\n      <td>80 years, 227 days</td>\n      <td>John</td>\n      <td>Adams</td>\n    </tr>\n    <tr>\n      <th>6</th>\n      <td>7</td>\n      <td>Andrew Jackson</td>\n      <td>Mar 15, 1767</td>\n      <td>61 years, 354 daysMar 4, 1829</td>\n      <td>69 years, 354 daysMar 4, 1837</td>\n      <td>8 years, 96 days</td>\n      <td>Jun 8, 1845</td>\n      <td>78 years, 85 days</td>\n      <td>Andrew</td>\n      <td>Jackson</td>\n    </tr>\n    <tr>\n      <th>7</th>\n      <td>8</td>\n      <td>Martin Van Buren</td>\n      <td>Dec 5, 1782</td>\n      <td>54 years, 89 daysMar 4, 1837</td>\n      <td>58 years, 89 daysMar 4, 1841</td>\n      <td>21 years, 142 days</td>\n      <td>Jul 24, 1862</td>\n      <td>79 years, 231 days</td>\n      <td>Martin</td>\n      <td>Buren</td>\n    </tr>\n    <tr>\n      <th>8</th>\n      <td>9</td>\n      <td>William H. Harrison</td>\n      <td>Feb 9, 1773</td>\n      <td>68 years, 23 daysMar 4, 1841</td>\n      <td>68 years, 54 days Apr 4, 1841[b]</td>\n      <td>NaN</td>\n      <td>Apr 4, 1841</td>\n      <td>68 years, 54 days</td>\n      <td>William</td>\n      <td>Harrison</td>\n    </tr>\n    <tr>\n      <th>9</th>\n      <td>10</td>\n      <td>John Tyler</td>\n      <td>Mar 29, 1790</td>\n      <td>51 years, 6 daysApr 4, 1841</td>\n      <td>54 years, 340 daysMar 4, 1845</td>\n      <td>16 years, 320 days</td>\n      <td>Jan 18, 1862</td>\n      <td>71 years, 295 days</td>\n      <td>John</td>\n      <td>Tyler</td>\n    </tr>\n    <tr>\n      <th>10</th>\n      <td>11</td>\n      <td>James K. Polk</td>\n      <td>Nov 2, 1795</td>\n      <td>49 years, 122 daysMar 4, 1845</td>\n      <td>53 years, 122 daysMar 4, 1849</td>\n      <td>103 days</td>\n      <td>Jun 15, 1849</td>\n      <td>53 years, 225 days</td>\n      <td>James</td>\n      <td>Polk</td>\n    </tr>\n    <tr>\n      <th>11</th>\n      <td>12</td>\n      <td>Zachary Taylor</td>\n      <td>Nov 24, 1784</td>\n      <td>64 years, 100 daysMar 4, 1849</td>\n      <td>65 years, 227 daysJul 9, 1850[b]</td>\n      <td>NaN</td>\n      <td>Jul 9, 1850</td>\n      <td>65 years, 227 days</td>\n      <td>Zachary</td>\n      <td>Taylor</td>\n    </tr>\n    <tr>\n      <th>12</th>\n      <td>13</td>\n      <td>Millard Fillmore</td>\n      <td>Jan 7, 1800</td>\n      <td>50 years, 183 daysJul 9, 1850</td>\n      <td>53 years, 56 daysMar 4, 1853</td>\n      <td>21 years, 4 days</td>\n      <td>Mar 8, 1874</td>\n      <td>74 years, 60 days</td>\n      <td>Millard</td>\n      <td>Fillmore</td>\n    </tr>\n    <tr>\n      <th>13</th>\n      <td>14</td>\n      <td>Franklin Pierce</td>\n      <td>Nov 23, 1804</td>\n      <td>48 years, 101 daysMar 4, 1853</td>\n      <td>52 years, 101 daysMar 4, 1857</td>\n      <td>12 years, 218 days</td>\n      <td>Oct 8, 1869</td>\n      <td>64 years, 319 days</td>\n      <td>Franklin</td>\n      <td>Pierce</td>\n    </tr>\n    <tr>\n      <th>14</th>\n      <td>15</td>\n      <td>James Buchanan</td>\n      <td>Apr 23, 1791</td>\n      <td>65 years, 315 daysMar 4, 1857</td>\n      <td>69 years, 315 daysMar 4, 1861</td>\n      <td>7 years, 89 days</td>\n      <td>Jun 1, 1868</td>\n      <td>77 years, 39 days</td>\n      <td>James</td>\n      <td>Buchanan</td>\n    </tr>\n    <tr>\n      <th>15</th>\n      <td>16</td>\n      <td>Abraham Lincoln</td>\n      <td>Feb 12, 1809</td>\n      <td>52 years, 20 daysMar 4, 1861</td>\n      <td>56 years, 62 daysApr 15, 1865[b]</td>\n      <td>NaN</td>\n      <td>Apr 15, 1865</td>\n      <td>56 years, 62 days</td>\n      <td>Abraham</td>\n      <td>Lincoln</td>\n    </tr>\n    <tr>\n      <th>16</th>\n      <td>17</td>\n      <td>Andrew Johnson</td>\n      <td>Dec 29, 1808</td>\n      <td>56 years, 107 daysApr 15, 1865</td>\n      <td>60 years, 65 daysMar 4, 1869</td>\n      <td>6 years, 149 days</td>\n      <td>Jul 31, 1875</td>\n      <td>66 years, 214 days</td>\n      <td>Andrew</td>\n      <td>Johnson</td>\n    </tr>\n    <tr>\n      <th>17</th>\n      <td>18</td>\n      <td>Ulysses S. Grant</td>\n      <td>Apr 27, 1822</td>\n      <td>46 years, 311 daysMar 4, 1869</td>\n      <td>54 years, 311 daysMar 4, 1877</td>\n      <td>8 years, 141 days</td>\n      <td>Jul 23, 1885</td>\n      <td>63 years, 87 days</td>\n      <td>Ulysses</td>\n      <td>Grant</td>\n    </tr>\n    <tr>\n      <th>18</th>\n      <td>19</td>\n      <td>Rutherford B. Hayes</td>\n      <td>Oct 4, 1822</td>\n      <td>54 years, 151 daysMar 4, 1877</td>\n      <td>58 years, 151 daysMar 4, 1881</td>\n      <td>11 years, 319 days</td>\n      <td>Jan 17, 1893</td>\n      <td>70 years, 105 days</td>\n      <td>Rutherford</td>\n      <td>Hayes</td>\n    </tr>\n    <tr>\n      <th>19</th>\n      <td>20</td>\n      <td>James A. Garfield</td>\n      <td>Nov 19, 1831</td>\n      <td>49 years, 105 daysMar 4, 1881</td>\n      <td>49 years, 304 daysSep 19, 1881[b]</td>\n      <td>NaN</td>\n      <td>Sep 19, 1881</td>\n      <td>49 years, 304 days</td>\n      <td>James</td>\n      <td>Garfield</td>\n    </tr>\n    <tr>\n      <th>20</th>\n      <td>21</td>\n      <td>Chester A. Arthur</td>\n      <td>Oct 5, 1829</td>\n      <td>51 years, 349 daysSep 19, 1881</td>\n      <td>55 years, 150 daysMar 4, 1885</td>\n      <td>1 year, 259 days</td>\n      <td>Nov 18, 1886</td>\n      <td>57 years, 44 days</td>\n      <td>Chester</td>\n      <td>Arthur</td>\n    </tr>\n    <tr>\n      <th>21</th>\n      <td>22</td>\n      <td>Grover Cleveland</td>\n      <td>Mar 18, 1837</td>\n      <td>47 years, 351 daysMar 4, 1885</td>\n      <td>51 years, 351 daysMar 4, 1889</td>\n      <td>4 years, 0 days[c]</td>\n      <td>Jun 24, 1908</td>\n      <td>71 years, 98 days</td>\n      <td>Grover</td>\n      <td>Cleveland</td>\n    </tr>\n    <tr>\n      <th>22</th>\n      <td>23</td>\n      <td>Benjamin Harrison</td>\n      <td>Aug 20, 1833</td>\n      <td>55 years, 196 daysMar 4, 1889</td>\n      <td>59 years, 196 daysMar 4, 1893</td>\n      <td>8 years, 9 days</td>\n      <td>Mar 13, 1901</td>\n      <td>67 years, 205 days</td>\n      <td>Benjamin</td>\n      <td>Harrison</td>\n    </tr>\n    <tr>\n      <th>23</th>\n      <td>24</td>\n      <td>Grover Cleveland</td>\n      <td>Mar 18, 1837</td>\n      <td>55 years, 351 daysMar 4, 1893</td>\n      <td>59 years, 351 daysMar 4, 1897</td>\n      <td>11 years, 112 days[d]</td>\n      <td>Jun 24, 1908</td>\n      <td>71 years, 98 days</td>\n      <td>Grover</td>\n      <td>Cleveland</td>\n    </tr>\n    <tr>\n      <th>24</th>\n      <td>25</td>\n      <td>William McKinley</td>\n      <td>Jan 29, 1843</td>\n      <td>54 years, 34 daysMar 4, 1897</td>\n      <td>58 years, 228 daysSep 14, 1901[b]</td>\n      <td>NaN</td>\n      <td>Sep 14, 1901</td>\n      <td>58 years, 228 days</td>\n      <td>William</td>\n      <td>McKinley</td>\n    </tr>\n    <tr>\n      <th>25</th>\n      <td>26</td>\n      <td>Theodore Roosevelt</td>\n      <td>Oct 27, 1858</td>\n      <td>42 years, 322 daysSep 14, 1901</td>\n      <td>50 years, 128 daysMar 4, 1909</td>\n      <td>9 years, 308 days</td>\n      <td>Jan 6, 1919</td>\n      <td>60 years, 71 days</td>\n      <td>Theodore</td>\n      <td>Roosevelt</td>\n    </tr>\n    <tr>\n      <th>26</th>\n      <td>27</td>\n      <td>William H. Taft</td>\n      <td>Sep 15, 1857</td>\n      <td>51 years, 170 daysMar 4, 1909</td>\n      <td>55 years, 170 daysMar 4, 1913</td>\n      <td>17 years, 4 days</td>\n      <td>Mar 8, 1930</td>\n      <td>72 years, 174 days</td>\n      <td>William</td>\n      <td>Taft</td>\n    </tr>\n    <tr>\n      <th>27</th>\n      <td>28</td>\n      <td>Woodrow Wilson</td>\n      <td>Dec 28, 1856</td>\n      <td>56 years, 66 daysMar 4, 1913</td>\n      <td>64 years, 66 daysMar 4, 1921</td>\n      <td>2 years, 336 days</td>\n      <td>Feb 3, 1924</td>\n      <td>67 years, 37 days</td>\n      <td>Woodrow</td>\n      <td>Wilson</td>\n    </tr>\n    <tr>\n      <th>28</th>\n      <td>29</td>\n      <td>Warren G. Harding</td>\n      <td>Nov 2, 1865</td>\n      <td>55 years, 122 daysMar 4, 1921</td>\n      <td>57 years, 273 daysAug 2, 1923[b]</td>\n      <td>NaN</td>\n      <td>Aug 2, 1923</td>\n      <td>57 years, 273 days</td>\n      <td>Warren</td>\n      <td>Harding</td>\n    </tr>\n    <tr>\n      <th>29</th>\n      <td>30</td>\n      <td>Calvin Coolidge</td>\n      <td>Jul 4, 1872</td>\n      <td>51 years, 29 daysAug 2, 1923</td>\n      <td>56 years, 243 daysMar 4, 1929</td>\n      <td>3 years, 307 days</td>\n      <td>Jan 5, 1933</td>\n      <td>60 years, 185 days</td>\n      <td>Calvin</td>\n      <td>Coolidge</td>\n    </tr>\n    <tr>\n      <th>30</th>\n      <td>31</td>\n      <td>Herbert Hoover</td>\n      <td>Aug 10, 1874</td>\n      <td>54 years, 206 daysMar 4, 1929</td>\n      <td>58 years, 206 daysMar 4, 1933</td>\n      <td>31 years, 230 days</td>\n      <td>Oct 20, 1964</td>\n      <td>90 years, 71 days</td>\n      <td>Herbert</td>\n      <td>Hoover</td>\n    </tr>\n    <tr>\n      <th>31</th>\n      <td>32</td>\n      <td>Franklin D. Roosevelt</td>\n      <td>Jan 30, 1882</td>\n      <td>51 years, 33 daysMar 4, 1933</td>\n      <td>63 years, 72 daysApr 12, 1945[b]</td>\n      <td>NaN</td>\n      <td>Apr 12, 1945</td>\n      <td>63 years, 72 days</td>\n      <td>Franklin</td>\n      <td>Roosevelt</td>\n    </tr>\n    <tr>\n      <th>32</th>\n      <td>33</td>\n      <td>Harry S. Truman</td>\n      <td>May 8, 1884</td>\n      <td>60 years, 339 daysApr 12, 1945</td>\n      <td>68 years, 257 daysJan 20, 1953</td>\n      <td>19 years, 341 days</td>\n      <td>Dec 26, 1972</td>\n      <td>88 years, 232 days</td>\n      <td>Harry</td>\n      <td>Truman</td>\n    </tr>\n    <tr>\n      <th>33</th>\n      <td>34</td>\n      <td>Dwight D. Eisenhower</td>\n      <td>Oct 14, 1890</td>\n      <td>62 years, 98 daysJan 20, 1953</td>\n      <td>70 years, 98 daysJan 20, 1961</td>\n      <td>8 years, 67 days</td>\n      <td>Mar 28, 1969</td>\n      <td>78 years, 165 days</td>\n      <td>Dwight</td>\n      <td>Eisenhower</td>\n    </tr>\n    <tr>\n      <th>34</th>\n      <td>35</td>\n      <td>John F. Kennedy</td>\n      <td>May 29, 1917</td>\n      <td>43 years, 236 daysJan 20, 1961</td>\n      <td>46 years, 177 daysNov 22, 1963[b]</td>\n      <td>NaN</td>\n      <td>Nov 22, 1963</td>\n      <td>46 years, 177 days</td>\n      <td>John</td>\n      <td>Kennedy</td>\n    </tr>\n    <tr>\n      <th>35</th>\n      <td>36</td>\n      <td>Lyndon B. Johnson</td>\n      <td>Aug 27, 1908</td>\n      <td>55 years, 87 daysNov 22, 1963</td>\n      <td>60 years, 146 daysJan 20, 1969</td>\n      <td>4 years, 2 days</td>\n      <td>Jan 22, 1973</td>\n      <td>64 years, 148 days</td>\n      <td>Lyndon</td>\n      <td>Johnson</td>\n    </tr>\n    <tr>\n      <th>36</th>\n      <td>37</td>\n      <td>Richard Nixon</td>\n      <td>Jan 9, 1913</td>\n      <td>56 years, 11 daysJan 20, 1969</td>\n      <td>61 years, 212 daysAug 9, 1974[e]</td>\n      <td>19 years, 256 days</td>\n      <td>Apr 22, 1994</td>\n      <td>81 years, 103 days</td>\n      <td>Richard</td>\n      <td>Nixon</td>\n    </tr>\n    <tr>\n      <th>37</th>\n      <td>38</td>\n      <td>Gerald Ford</td>\n      <td>Jul 14, 1913</td>\n      <td>61 years, 26 daysAug 9, 1974</td>\n      <td>63 years, 190 daysJan 20, 1977</td>\n      <td>29 years, 340 days</td>\n      <td>Dec 26, 2006</td>\n      <td>93 years, 165 days</td>\n      <td>Gerald</td>\n      <td>Ford</td>\n    </tr>\n    <tr>\n      <th>38</th>\n      <td>39</td>\n      <td>Jimmy Carter</td>\n      <td>Oct 1, 1924</td>\n      <td>52 years, 111 daysJan 20, 1977</td>\n      <td>56 years, 111 daysJan 20, 1981</td>\n      <td>38 years, 175 days</td>\n      <td>(living)</td>\n      <td>94 years, 286 days</td>\n      <td>Jimmy</td>\n      <td>Carter</td>\n    </tr>\n    <tr>\n      <th>39</th>\n      <td>40</td>\n      <td>Ronald Reagan</td>\n      <td>Feb 6, 1911</td>\n      <td>69 years, 349 daysJan 20, 1981</td>\n      <td>77 years, 349 daysJan 20, 1989</td>\n      <td>15 years, 137 days</td>\n      <td>Jun 5, 2004</td>\n      <td>93 years, 120 days</td>\n      <td>Ronald</td>\n      <td>Reagan</td>\n    </tr>\n    <tr>\n      <th>40</th>\n      <td>41</td>\n      <td>George H. W. Bush</td>\n      <td>Jun 12, 1924</td>\n      <td>64 years, 222 daysJan 20, 1989</td>\n      <td>68 years, 222 daysJan 20, 1993</td>\n      <td>25 years, 314 days</td>\n      <td>Nov 30, 2018</td>\n      <td>94 years, 171 days</td>\n      <td>George</td>\n      <td>Bush</td>\n    </tr>\n    <tr>\n      <th>41</th>\n      <td>42</td>\n      <td>Bill Clinton</td>\n      <td>Aug 19, 1946</td>\n      <td>46 years, 154 daysJan 20, 1993</td>\n      <td>54 years, 154 daysJan 20, 2001</td>\n      <td>18 years, 175 days</td>\n      <td>(living)</td>\n      <td>72 years, 329 days</td>\n      <td>Bill</td>\n      <td>Clinton</td>\n    </tr>\n    <tr>\n      <th>42</th>\n      <td>43</td>\n      <td>George W. Bush</td>\n      <td>Jul 6, 1946</td>\n      <td>54 years, 198 daysJan 20, 2001</td>\n      <td>62 years, 198 daysJan 20, 2009</td>\n      <td>10 years, 175 days</td>\n      <td>(living)</td>\n      <td>73 years, 8 days</td>\n      <td>George</td>\n      <td>Bush</td>\n    </tr>\n    <tr>\n      <th>43</th>\n      <td>44</td>\n      <td>Barack Obama</td>\n      <td>Aug 4, 1961</td>\n      <td>47 years, 169 daysJan 20, 2009</td>\n      <td>55 years, 169 daysJan 20, 2017</td>\n      <td>2 years, 175 days</td>\n      <td>(living)</td>\n      <td>57 years, 344 days</td>\n      <td>Barack</td>\n      <td>Obama</td>\n    </tr>\n  </tbody>\n</table>\n</div>"
     },
     "execution_count": 275,
     "metadata": {},
     "output_type": "execute_result"
    }
   ],
   "source": [
    "df['Born'] = df['Born'].str.extract('([\\w]{3} [\\w]{1,2}, [\\w]{4})')\n",
    "df"
   ],
   "metadata": {
    "collapsed": false,
    "pycharm": {
     "name": "#%%\n"
    }
   }
  },
  {
   "cell_type": "code",
   "execution_count": 277,
   "outputs": [
    {
     "data": {
      "text/plain": "     #              President       Born       Age atstart of presidency  \\\n0    1      George Washington 1732-02-22   57 years, 67 daysApr 30, 1789   \n1    2             John Adams 1735-10-30   61 years, 125 daysMar 4, 1797   \n2    3       Thomas Jefferson 1743-04-13   57 years, 325 daysMar 4, 1801   \n3    4          James Madison 1751-03-16   57 years, 353 daysMar 4, 1809   \n4    5           James Monroe 1758-04-28   58 years, 310 daysMar 4, 1817   \n5    6      John Quincy Adams 1767-07-11   57 years, 236 daysMar 4, 1825   \n6    7         Andrew Jackson 1767-03-15   61 years, 354 daysMar 4, 1829   \n7    8       Martin Van Buren 1782-12-05    54 years, 89 daysMar 4, 1837   \n8    9    William H. Harrison 1773-02-09    68 years, 23 daysMar 4, 1841   \n9   10             John Tyler 1790-03-29     51 years, 6 daysApr 4, 1841   \n10  11          James K. Polk 1795-11-02   49 years, 122 daysMar 4, 1845   \n11  12         Zachary Taylor 1784-11-24   64 years, 100 daysMar 4, 1849   \n12  13       Millard Fillmore 1800-01-07   50 years, 183 daysJul 9, 1850   \n13  14        Franklin Pierce 1804-11-23   48 years, 101 daysMar 4, 1853   \n14  15         James Buchanan 1791-04-23   65 years, 315 daysMar 4, 1857   \n15  16        Abraham Lincoln 1809-02-12    52 years, 20 daysMar 4, 1861   \n16  17         Andrew Johnson 1808-12-29  56 years, 107 daysApr 15, 1865   \n17  18       Ulysses S. Grant 1822-04-27   46 years, 311 daysMar 4, 1869   \n18  19    Rutherford B. Hayes 1822-10-04   54 years, 151 daysMar 4, 1877   \n19  20      James A. Garfield 1831-11-19   49 years, 105 daysMar 4, 1881   \n20  21      Chester A. Arthur 1829-10-05  51 years, 349 daysSep 19, 1881   \n21  22       Grover Cleveland 1837-03-18   47 years, 351 daysMar 4, 1885   \n22  23      Benjamin Harrison 1833-08-20   55 years, 196 daysMar 4, 1889   \n23  24       Grover Cleveland 1837-03-18   55 years, 351 daysMar 4, 1893   \n24  25       William McKinley 1843-01-29    54 years, 34 daysMar 4, 1897   \n25  26     Theodore Roosevelt 1858-10-27  42 years, 322 daysSep 14, 1901   \n26  27        William H. Taft 1857-09-15   51 years, 170 daysMar 4, 1909   \n27  28         Woodrow Wilson 1856-12-28    56 years, 66 daysMar 4, 1913   \n28  29      Warren G. Harding 1865-11-02   55 years, 122 daysMar 4, 1921   \n29  30        Calvin Coolidge 1872-07-04    51 years, 29 daysAug 2, 1923   \n30  31         Herbert Hoover 1874-08-10   54 years, 206 daysMar 4, 1929   \n31  32  Franklin D. Roosevelt 1882-01-30    51 years, 33 daysMar 4, 1933   \n32  33        Harry S. Truman 1884-05-08  60 years, 339 daysApr 12, 1945   \n33  34   Dwight D. Eisenhower 1890-10-14   62 years, 98 daysJan 20, 1953   \n34  35        John F. Kennedy 1917-05-29  43 years, 236 daysJan 20, 1961   \n35  36      Lyndon B. Johnson 1908-08-27   55 years, 87 daysNov 22, 1963   \n36  37          Richard Nixon 1913-01-09   56 years, 11 daysJan 20, 1969   \n37  38            Gerald Ford 1913-07-14    61 years, 26 daysAug 9, 1974   \n38  39           Jimmy Carter 1924-10-01  52 years, 111 daysJan 20, 1977   \n39  40          Ronald Reagan 1911-02-06  69 years, 349 daysJan 20, 1981   \n40  41      George H. W. Bush 1924-06-12  64 years, 222 daysJan 20, 1989   \n41  42           Bill Clinton 1946-08-19  46 years, 154 daysJan 20, 1993   \n42  43         George W. Bush 1946-07-06  54 years, 198 daysJan 20, 2001   \n43  44           Barack Obama 1961-08-04  47 years, 169 daysJan 20, 2009   \n\n              Age atend of presidency Post-presidencytimespan          Died  \\\n0        65 years, 10 daysMar 4, 1797       2 years, 285 days  Dec 14, 1799   \n1       65 years, 125 daysMar 4, 1801      25 years, 122 days   Jul 4, 1826   \n2       65 years, 325 daysMar 4, 1809      17 years, 122 days   Jul 4, 1826   \n3       65 years, 353 daysMar 4, 1817      19 years, 116 days  Jun 28, 1836   \n4       66 years, 310 daysMar 4, 1825       6 years, 122 days   Jul 4, 1831   \n5       61 years, 236 daysMar 4, 1829      18 years, 356 days  Feb 23, 1848   \n6       69 years, 354 daysMar 4, 1837        8 years, 96 days   Jun 8, 1845   \n7        58 years, 89 daysMar 4, 1841      21 years, 142 days  Jul 24, 1862   \n8    68 years, 54 days Apr 4, 1841[b]                     NaN   Apr 4, 1841   \n9       54 years, 340 daysMar 4, 1845      16 years, 320 days  Jan 18, 1862   \n10      53 years, 122 daysMar 4, 1849                103 days  Jun 15, 1849   \n11   65 years, 227 daysJul 9, 1850[b]                     NaN   Jul 9, 1850   \n12       53 years, 56 daysMar 4, 1853        21 years, 4 days   Mar 8, 1874   \n13      52 years, 101 daysMar 4, 1857      12 years, 218 days   Oct 8, 1869   \n14      69 years, 315 daysMar 4, 1861        7 years, 89 days   Jun 1, 1868   \n15   56 years, 62 daysApr 15, 1865[b]                     NaN  Apr 15, 1865   \n16       60 years, 65 daysMar 4, 1869       6 years, 149 days  Jul 31, 1875   \n17      54 years, 311 daysMar 4, 1877       8 years, 141 days  Jul 23, 1885   \n18      58 years, 151 daysMar 4, 1881      11 years, 319 days  Jan 17, 1893   \n19  49 years, 304 daysSep 19, 1881[b]                     NaN  Sep 19, 1881   \n20      55 years, 150 daysMar 4, 1885        1 year, 259 days  Nov 18, 1886   \n21      51 years, 351 daysMar 4, 1889      4 years, 0 days[c]  Jun 24, 1908   \n22      59 years, 196 daysMar 4, 1893         8 years, 9 days  Mar 13, 1901   \n23      59 years, 351 daysMar 4, 1897   11 years, 112 days[d]  Jun 24, 1908   \n24  58 years, 228 daysSep 14, 1901[b]                     NaN  Sep 14, 1901   \n25      50 years, 128 daysMar 4, 1909       9 years, 308 days   Jan 6, 1919   \n26      55 years, 170 daysMar 4, 1913        17 years, 4 days   Mar 8, 1930   \n27       64 years, 66 daysMar 4, 1921       2 years, 336 days   Feb 3, 1924   \n28   57 years, 273 daysAug 2, 1923[b]                     NaN   Aug 2, 1923   \n29      56 years, 243 daysMar 4, 1929       3 years, 307 days   Jan 5, 1933   \n30      58 years, 206 daysMar 4, 1933      31 years, 230 days  Oct 20, 1964   \n31   63 years, 72 daysApr 12, 1945[b]                     NaN  Apr 12, 1945   \n32     68 years, 257 daysJan 20, 1953      19 years, 341 days  Dec 26, 1972   \n33      70 years, 98 daysJan 20, 1961        8 years, 67 days  Mar 28, 1969   \n34  46 years, 177 daysNov 22, 1963[b]                     NaN  Nov 22, 1963   \n35     60 years, 146 daysJan 20, 1969         4 years, 2 days  Jan 22, 1973   \n36   61 years, 212 daysAug 9, 1974[e]      19 years, 256 days  Apr 22, 1994   \n37     63 years, 190 daysJan 20, 1977      29 years, 340 days  Dec 26, 2006   \n38     56 years, 111 daysJan 20, 1981      38 years, 175 days      (living)   \n39     77 years, 349 daysJan 20, 1989      15 years, 137 days   Jun 5, 2004   \n40     68 years, 222 daysJan 20, 1993      25 years, 314 days  Nov 30, 2018   \n41     54 years, 154 daysJan 20, 2001      18 years, 175 days      (living)   \n42     62 years, 198 daysJan 20, 2009      10 years, 175 days      (living)   \n43     55 years, 169 daysJan 20, 2017       2 years, 175 days      (living)   \n\n                   Age       First        Last  \n0   67 years, 295 days      George  Washington  \n1   90 years, 247 days        John       Adams  \n2    83 years, 82 days      Thomas   Jefferson  \n3   85 years, 104 days       James     Madison  \n4    73 years, 67 days       James      Monroe  \n5   80 years, 227 days        John       Adams  \n6    78 years, 85 days      Andrew     Jackson  \n7   79 years, 231 days      Martin       Buren  \n8    68 years, 54 days     William    Harrison  \n9   71 years, 295 days        John       Tyler  \n10  53 years, 225 days       James        Polk  \n11  65 years, 227 days     Zachary      Taylor  \n12   74 years, 60 days     Millard    Fillmore  \n13  64 years, 319 days    Franklin      Pierce  \n14   77 years, 39 days       James    Buchanan  \n15   56 years, 62 days     Abraham     Lincoln  \n16  66 years, 214 days      Andrew     Johnson  \n17   63 years, 87 days     Ulysses       Grant  \n18  70 years, 105 days  Rutherford       Hayes  \n19  49 years, 304 days       James    Garfield  \n20   57 years, 44 days     Chester      Arthur  \n21   71 years, 98 days      Grover   Cleveland  \n22  67 years, 205 days    Benjamin    Harrison  \n23   71 years, 98 days      Grover   Cleveland  \n24  58 years, 228 days     William    McKinley  \n25   60 years, 71 days    Theodore   Roosevelt  \n26  72 years, 174 days     William        Taft  \n27   67 years, 37 days     Woodrow      Wilson  \n28  57 years, 273 days      Warren     Harding  \n29  60 years, 185 days      Calvin    Coolidge  \n30   90 years, 71 days     Herbert      Hoover  \n31   63 years, 72 days    Franklin   Roosevelt  \n32  88 years, 232 days       Harry      Truman  \n33  78 years, 165 days      Dwight  Eisenhower  \n34  46 years, 177 days        John     Kennedy  \n35  64 years, 148 days      Lyndon     Johnson  \n36  81 years, 103 days     Richard       Nixon  \n37  93 years, 165 days      Gerald        Ford  \n38  94 years, 286 days       Jimmy      Carter  \n39  93 years, 120 days      Ronald      Reagan  \n40  94 years, 171 days      George        Bush  \n41  72 years, 329 days        Bill     Clinton  \n42    73 years, 8 days      George        Bush  \n43  57 years, 344 days      Barack       Obama  ",
      "text/html": "<div>\n<style scoped>\n    .dataframe tbody tr th:only-of-type {\n        vertical-align: middle;\n    }\n\n    .dataframe tbody tr th {\n        vertical-align: top;\n    }\n\n    .dataframe thead th {\n        text-align: right;\n    }\n</style>\n<table border=\"1\" class=\"dataframe\">\n  <thead>\n    <tr style=\"text-align: right;\">\n      <th></th>\n      <th>#</th>\n      <th>President</th>\n      <th>Born</th>\n      <th>Age atstart of presidency</th>\n      <th>Age atend of presidency</th>\n      <th>Post-presidencytimespan</th>\n      <th>Died</th>\n      <th>Age</th>\n      <th>First</th>\n      <th>Last</th>\n    </tr>\n  </thead>\n  <tbody>\n    <tr>\n      <th>0</th>\n      <td>1</td>\n      <td>George Washington</td>\n      <td>1732-02-22</td>\n      <td>57 years, 67 daysApr 30, 1789</td>\n      <td>65 years, 10 daysMar 4, 1797</td>\n      <td>2 years, 285 days</td>\n      <td>Dec 14, 1799</td>\n      <td>67 years, 295 days</td>\n      <td>George</td>\n      <td>Washington</td>\n    </tr>\n    <tr>\n      <th>1</th>\n      <td>2</td>\n      <td>John Adams</td>\n      <td>1735-10-30</td>\n      <td>61 years, 125 daysMar 4, 1797</td>\n      <td>65 years, 125 daysMar 4, 1801</td>\n      <td>25 years, 122 days</td>\n      <td>Jul 4, 1826</td>\n      <td>90 years, 247 days</td>\n      <td>John</td>\n      <td>Adams</td>\n    </tr>\n    <tr>\n      <th>2</th>\n      <td>3</td>\n      <td>Thomas Jefferson</td>\n      <td>1743-04-13</td>\n      <td>57 years, 325 daysMar 4, 1801</td>\n      <td>65 years, 325 daysMar 4, 1809</td>\n      <td>17 years, 122 days</td>\n      <td>Jul 4, 1826</td>\n      <td>83 years, 82 days</td>\n      <td>Thomas</td>\n      <td>Jefferson</td>\n    </tr>\n    <tr>\n      <th>3</th>\n      <td>4</td>\n      <td>James Madison</td>\n      <td>1751-03-16</td>\n      <td>57 years, 353 daysMar 4, 1809</td>\n      <td>65 years, 353 daysMar 4, 1817</td>\n      <td>19 years, 116 days</td>\n      <td>Jun 28, 1836</td>\n      <td>85 years, 104 days</td>\n      <td>James</td>\n      <td>Madison</td>\n    </tr>\n    <tr>\n      <th>4</th>\n      <td>5</td>\n      <td>James Monroe</td>\n      <td>1758-04-28</td>\n      <td>58 years, 310 daysMar 4, 1817</td>\n      <td>66 years, 310 daysMar 4, 1825</td>\n      <td>6 years, 122 days</td>\n      <td>Jul 4, 1831</td>\n      <td>73 years, 67 days</td>\n      <td>James</td>\n      <td>Monroe</td>\n    </tr>\n    <tr>\n      <th>5</th>\n      <td>6</td>\n      <td>John Quincy Adams</td>\n      <td>1767-07-11</td>\n      <td>57 years, 236 daysMar 4, 1825</td>\n      <td>61 years, 236 daysMar 4, 1829</td>\n      <td>18 years, 356 days</td>\n      <td>Feb 23, 1848</td>\n      <td>80 years, 227 days</td>\n      <td>John</td>\n      <td>Adams</td>\n    </tr>\n    <tr>\n      <th>6</th>\n      <td>7</td>\n      <td>Andrew Jackson</td>\n      <td>1767-03-15</td>\n      <td>61 years, 354 daysMar 4, 1829</td>\n      <td>69 years, 354 daysMar 4, 1837</td>\n      <td>8 years, 96 days</td>\n      <td>Jun 8, 1845</td>\n      <td>78 years, 85 days</td>\n      <td>Andrew</td>\n      <td>Jackson</td>\n    </tr>\n    <tr>\n      <th>7</th>\n      <td>8</td>\n      <td>Martin Van Buren</td>\n      <td>1782-12-05</td>\n      <td>54 years, 89 daysMar 4, 1837</td>\n      <td>58 years, 89 daysMar 4, 1841</td>\n      <td>21 years, 142 days</td>\n      <td>Jul 24, 1862</td>\n      <td>79 years, 231 days</td>\n      <td>Martin</td>\n      <td>Buren</td>\n    </tr>\n    <tr>\n      <th>8</th>\n      <td>9</td>\n      <td>William H. Harrison</td>\n      <td>1773-02-09</td>\n      <td>68 years, 23 daysMar 4, 1841</td>\n      <td>68 years, 54 days Apr 4, 1841[b]</td>\n      <td>NaN</td>\n      <td>Apr 4, 1841</td>\n      <td>68 years, 54 days</td>\n      <td>William</td>\n      <td>Harrison</td>\n    </tr>\n    <tr>\n      <th>9</th>\n      <td>10</td>\n      <td>John Tyler</td>\n      <td>1790-03-29</td>\n      <td>51 years, 6 daysApr 4, 1841</td>\n      <td>54 years, 340 daysMar 4, 1845</td>\n      <td>16 years, 320 days</td>\n      <td>Jan 18, 1862</td>\n      <td>71 years, 295 days</td>\n      <td>John</td>\n      <td>Tyler</td>\n    </tr>\n    <tr>\n      <th>10</th>\n      <td>11</td>\n      <td>James K. Polk</td>\n      <td>1795-11-02</td>\n      <td>49 years, 122 daysMar 4, 1845</td>\n      <td>53 years, 122 daysMar 4, 1849</td>\n      <td>103 days</td>\n      <td>Jun 15, 1849</td>\n      <td>53 years, 225 days</td>\n      <td>James</td>\n      <td>Polk</td>\n    </tr>\n    <tr>\n      <th>11</th>\n      <td>12</td>\n      <td>Zachary Taylor</td>\n      <td>1784-11-24</td>\n      <td>64 years, 100 daysMar 4, 1849</td>\n      <td>65 years, 227 daysJul 9, 1850[b]</td>\n      <td>NaN</td>\n      <td>Jul 9, 1850</td>\n      <td>65 years, 227 days</td>\n      <td>Zachary</td>\n      <td>Taylor</td>\n    </tr>\n    <tr>\n      <th>12</th>\n      <td>13</td>\n      <td>Millard Fillmore</td>\n      <td>1800-01-07</td>\n      <td>50 years, 183 daysJul 9, 1850</td>\n      <td>53 years, 56 daysMar 4, 1853</td>\n      <td>21 years, 4 days</td>\n      <td>Mar 8, 1874</td>\n      <td>74 years, 60 days</td>\n      <td>Millard</td>\n      <td>Fillmore</td>\n    </tr>\n    <tr>\n      <th>13</th>\n      <td>14</td>\n      <td>Franklin Pierce</td>\n      <td>1804-11-23</td>\n      <td>48 years, 101 daysMar 4, 1853</td>\n      <td>52 years, 101 daysMar 4, 1857</td>\n      <td>12 years, 218 days</td>\n      <td>Oct 8, 1869</td>\n      <td>64 years, 319 days</td>\n      <td>Franklin</td>\n      <td>Pierce</td>\n    </tr>\n    <tr>\n      <th>14</th>\n      <td>15</td>\n      <td>James Buchanan</td>\n      <td>1791-04-23</td>\n      <td>65 years, 315 daysMar 4, 1857</td>\n      <td>69 years, 315 daysMar 4, 1861</td>\n      <td>7 years, 89 days</td>\n      <td>Jun 1, 1868</td>\n      <td>77 years, 39 days</td>\n      <td>James</td>\n      <td>Buchanan</td>\n    </tr>\n    <tr>\n      <th>15</th>\n      <td>16</td>\n      <td>Abraham Lincoln</td>\n      <td>1809-02-12</td>\n      <td>52 years, 20 daysMar 4, 1861</td>\n      <td>56 years, 62 daysApr 15, 1865[b]</td>\n      <td>NaN</td>\n      <td>Apr 15, 1865</td>\n      <td>56 years, 62 days</td>\n      <td>Abraham</td>\n      <td>Lincoln</td>\n    </tr>\n    <tr>\n      <th>16</th>\n      <td>17</td>\n      <td>Andrew Johnson</td>\n      <td>1808-12-29</td>\n      <td>56 years, 107 daysApr 15, 1865</td>\n      <td>60 years, 65 daysMar 4, 1869</td>\n      <td>6 years, 149 days</td>\n      <td>Jul 31, 1875</td>\n      <td>66 years, 214 days</td>\n      <td>Andrew</td>\n      <td>Johnson</td>\n    </tr>\n    <tr>\n      <th>17</th>\n      <td>18</td>\n      <td>Ulysses S. Grant</td>\n      <td>1822-04-27</td>\n      <td>46 years, 311 daysMar 4, 1869</td>\n      <td>54 years, 311 daysMar 4, 1877</td>\n      <td>8 years, 141 days</td>\n      <td>Jul 23, 1885</td>\n      <td>63 years, 87 days</td>\n      <td>Ulysses</td>\n      <td>Grant</td>\n    </tr>\n    <tr>\n      <th>18</th>\n      <td>19</td>\n      <td>Rutherford B. Hayes</td>\n      <td>1822-10-04</td>\n      <td>54 years, 151 daysMar 4, 1877</td>\n      <td>58 years, 151 daysMar 4, 1881</td>\n      <td>11 years, 319 days</td>\n      <td>Jan 17, 1893</td>\n      <td>70 years, 105 days</td>\n      <td>Rutherford</td>\n      <td>Hayes</td>\n    </tr>\n    <tr>\n      <th>19</th>\n      <td>20</td>\n      <td>James A. Garfield</td>\n      <td>1831-11-19</td>\n      <td>49 years, 105 daysMar 4, 1881</td>\n      <td>49 years, 304 daysSep 19, 1881[b]</td>\n      <td>NaN</td>\n      <td>Sep 19, 1881</td>\n      <td>49 years, 304 days</td>\n      <td>James</td>\n      <td>Garfield</td>\n    </tr>\n    <tr>\n      <th>20</th>\n      <td>21</td>\n      <td>Chester A. Arthur</td>\n      <td>1829-10-05</td>\n      <td>51 years, 349 daysSep 19, 1881</td>\n      <td>55 years, 150 daysMar 4, 1885</td>\n      <td>1 year, 259 days</td>\n      <td>Nov 18, 1886</td>\n      <td>57 years, 44 days</td>\n      <td>Chester</td>\n      <td>Arthur</td>\n    </tr>\n    <tr>\n      <th>21</th>\n      <td>22</td>\n      <td>Grover Cleveland</td>\n      <td>1837-03-18</td>\n      <td>47 years, 351 daysMar 4, 1885</td>\n      <td>51 years, 351 daysMar 4, 1889</td>\n      <td>4 years, 0 days[c]</td>\n      <td>Jun 24, 1908</td>\n      <td>71 years, 98 days</td>\n      <td>Grover</td>\n      <td>Cleveland</td>\n    </tr>\n    <tr>\n      <th>22</th>\n      <td>23</td>\n      <td>Benjamin Harrison</td>\n      <td>1833-08-20</td>\n      <td>55 years, 196 daysMar 4, 1889</td>\n      <td>59 years, 196 daysMar 4, 1893</td>\n      <td>8 years, 9 days</td>\n      <td>Mar 13, 1901</td>\n      <td>67 years, 205 days</td>\n      <td>Benjamin</td>\n      <td>Harrison</td>\n    </tr>\n    <tr>\n      <th>23</th>\n      <td>24</td>\n      <td>Grover Cleveland</td>\n      <td>1837-03-18</td>\n      <td>55 years, 351 daysMar 4, 1893</td>\n      <td>59 years, 351 daysMar 4, 1897</td>\n      <td>11 years, 112 days[d]</td>\n      <td>Jun 24, 1908</td>\n      <td>71 years, 98 days</td>\n      <td>Grover</td>\n      <td>Cleveland</td>\n    </tr>\n    <tr>\n      <th>24</th>\n      <td>25</td>\n      <td>William McKinley</td>\n      <td>1843-01-29</td>\n      <td>54 years, 34 daysMar 4, 1897</td>\n      <td>58 years, 228 daysSep 14, 1901[b]</td>\n      <td>NaN</td>\n      <td>Sep 14, 1901</td>\n      <td>58 years, 228 days</td>\n      <td>William</td>\n      <td>McKinley</td>\n    </tr>\n    <tr>\n      <th>25</th>\n      <td>26</td>\n      <td>Theodore Roosevelt</td>\n      <td>1858-10-27</td>\n      <td>42 years, 322 daysSep 14, 1901</td>\n      <td>50 years, 128 daysMar 4, 1909</td>\n      <td>9 years, 308 days</td>\n      <td>Jan 6, 1919</td>\n      <td>60 years, 71 days</td>\n      <td>Theodore</td>\n      <td>Roosevelt</td>\n    </tr>\n    <tr>\n      <th>26</th>\n      <td>27</td>\n      <td>William H. Taft</td>\n      <td>1857-09-15</td>\n      <td>51 years, 170 daysMar 4, 1909</td>\n      <td>55 years, 170 daysMar 4, 1913</td>\n      <td>17 years, 4 days</td>\n      <td>Mar 8, 1930</td>\n      <td>72 years, 174 days</td>\n      <td>William</td>\n      <td>Taft</td>\n    </tr>\n    <tr>\n      <th>27</th>\n      <td>28</td>\n      <td>Woodrow Wilson</td>\n      <td>1856-12-28</td>\n      <td>56 years, 66 daysMar 4, 1913</td>\n      <td>64 years, 66 daysMar 4, 1921</td>\n      <td>2 years, 336 days</td>\n      <td>Feb 3, 1924</td>\n      <td>67 years, 37 days</td>\n      <td>Woodrow</td>\n      <td>Wilson</td>\n    </tr>\n    <tr>\n      <th>28</th>\n      <td>29</td>\n      <td>Warren G. Harding</td>\n      <td>1865-11-02</td>\n      <td>55 years, 122 daysMar 4, 1921</td>\n      <td>57 years, 273 daysAug 2, 1923[b]</td>\n      <td>NaN</td>\n      <td>Aug 2, 1923</td>\n      <td>57 years, 273 days</td>\n      <td>Warren</td>\n      <td>Harding</td>\n    </tr>\n    <tr>\n      <th>29</th>\n      <td>30</td>\n      <td>Calvin Coolidge</td>\n      <td>1872-07-04</td>\n      <td>51 years, 29 daysAug 2, 1923</td>\n      <td>56 years, 243 daysMar 4, 1929</td>\n      <td>3 years, 307 days</td>\n      <td>Jan 5, 1933</td>\n      <td>60 years, 185 days</td>\n      <td>Calvin</td>\n      <td>Coolidge</td>\n    </tr>\n    <tr>\n      <th>30</th>\n      <td>31</td>\n      <td>Herbert Hoover</td>\n      <td>1874-08-10</td>\n      <td>54 years, 206 daysMar 4, 1929</td>\n      <td>58 years, 206 daysMar 4, 1933</td>\n      <td>31 years, 230 days</td>\n      <td>Oct 20, 1964</td>\n      <td>90 years, 71 days</td>\n      <td>Herbert</td>\n      <td>Hoover</td>\n    </tr>\n    <tr>\n      <th>31</th>\n      <td>32</td>\n      <td>Franklin D. Roosevelt</td>\n      <td>1882-01-30</td>\n      <td>51 years, 33 daysMar 4, 1933</td>\n      <td>63 years, 72 daysApr 12, 1945[b]</td>\n      <td>NaN</td>\n      <td>Apr 12, 1945</td>\n      <td>63 years, 72 days</td>\n      <td>Franklin</td>\n      <td>Roosevelt</td>\n    </tr>\n    <tr>\n      <th>32</th>\n      <td>33</td>\n      <td>Harry S. Truman</td>\n      <td>1884-05-08</td>\n      <td>60 years, 339 daysApr 12, 1945</td>\n      <td>68 years, 257 daysJan 20, 1953</td>\n      <td>19 years, 341 days</td>\n      <td>Dec 26, 1972</td>\n      <td>88 years, 232 days</td>\n      <td>Harry</td>\n      <td>Truman</td>\n    </tr>\n    <tr>\n      <th>33</th>\n      <td>34</td>\n      <td>Dwight D. Eisenhower</td>\n      <td>1890-10-14</td>\n      <td>62 years, 98 daysJan 20, 1953</td>\n      <td>70 years, 98 daysJan 20, 1961</td>\n      <td>8 years, 67 days</td>\n      <td>Mar 28, 1969</td>\n      <td>78 years, 165 days</td>\n      <td>Dwight</td>\n      <td>Eisenhower</td>\n    </tr>\n    <tr>\n      <th>34</th>\n      <td>35</td>\n      <td>John F. Kennedy</td>\n      <td>1917-05-29</td>\n      <td>43 years, 236 daysJan 20, 1961</td>\n      <td>46 years, 177 daysNov 22, 1963[b]</td>\n      <td>NaN</td>\n      <td>Nov 22, 1963</td>\n      <td>46 years, 177 days</td>\n      <td>John</td>\n      <td>Kennedy</td>\n    </tr>\n    <tr>\n      <th>35</th>\n      <td>36</td>\n      <td>Lyndon B. Johnson</td>\n      <td>1908-08-27</td>\n      <td>55 years, 87 daysNov 22, 1963</td>\n      <td>60 years, 146 daysJan 20, 1969</td>\n      <td>4 years, 2 days</td>\n      <td>Jan 22, 1973</td>\n      <td>64 years, 148 days</td>\n      <td>Lyndon</td>\n      <td>Johnson</td>\n    </tr>\n    <tr>\n      <th>36</th>\n      <td>37</td>\n      <td>Richard Nixon</td>\n      <td>1913-01-09</td>\n      <td>56 years, 11 daysJan 20, 1969</td>\n      <td>61 years, 212 daysAug 9, 1974[e]</td>\n      <td>19 years, 256 days</td>\n      <td>Apr 22, 1994</td>\n      <td>81 years, 103 days</td>\n      <td>Richard</td>\n      <td>Nixon</td>\n    </tr>\n    <tr>\n      <th>37</th>\n      <td>38</td>\n      <td>Gerald Ford</td>\n      <td>1913-07-14</td>\n      <td>61 years, 26 daysAug 9, 1974</td>\n      <td>63 years, 190 daysJan 20, 1977</td>\n      <td>29 years, 340 days</td>\n      <td>Dec 26, 2006</td>\n      <td>93 years, 165 days</td>\n      <td>Gerald</td>\n      <td>Ford</td>\n    </tr>\n    <tr>\n      <th>38</th>\n      <td>39</td>\n      <td>Jimmy Carter</td>\n      <td>1924-10-01</td>\n      <td>52 years, 111 daysJan 20, 1977</td>\n      <td>56 years, 111 daysJan 20, 1981</td>\n      <td>38 years, 175 days</td>\n      <td>(living)</td>\n      <td>94 years, 286 days</td>\n      <td>Jimmy</td>\n      <td>Carter</td>\n    </tr>\n    <tr>\n      <th>39</th>\n      <td>40</td>\n      <td>Ronald Reagan</td>\n      <td>1911-02-06</td>\n      <td>69 years, 349 daysJan 20, 1981</td>\n      <td>77 years, 349 daysJan 20, 1989</td>\n      <td>15 years, 137 days</td>\n      <td>Jun 5, 2004</td>\n      <td>93 years, 120 days</td>\n      <td>Ronald</td>\n      <td>Reagan</td>\n    </tr>\n    <tr>\n      <th>40</th>\n      <td>41</td>\n      <td>George H. W. Bush</td>\n      <td>1924-06-12</td>\n      <td>64 years, 222 daysJan 20, 1989</td>\n      <td>68 years, 222 daysJan 20, 1993</td>\n      <td>25 years, 314 days</td>\n      <td>Nov 30, 2018</td>\n      <td>94 years, 171 days</td>\n      <td>George</td>\n      <td>Bush</td>\n    </tr>\n    <tr>\n      <th>41</th>\n      <td>42</td>\n      <td>Bill Clinton</td>\n      <td>1946-08-19</td>\n      <td>46 years, 154 daysJan 20, 1993</td>\n      <td>54 years, 154 daysJan 20, 2001</td>\n      <td>18 years, 175 days</td>\n      <td>(living)</td>\n      <td>72 years, 329 days</td>\n      <td>Bill</td>\n      <td>Clinton</td>\n    </tr>\n    <tr>\n      <th>42</th>\n      <td>43</td>\n      <td>George W. Bush</td>\n      <td>1946-07-06</td>\n      <td>54 years, 198 daysJan 20, 2001</td>\n      <td>62 years, 198 daysJan 20, 2009</td>\n      <td>10 years, 175 days</td>\n      <td>(living)</td>\n      <td>73 years, 8 days</td>\n      <td>George</td>\n      <td>Bush</td>\n    </tr>\n    <tr>\n      <th>43</th>\n      <td>44</td>\n      <td>Barack Obama</td>\n      <td>1961-08-04</td>\n      <td>47 years, 169 daysJan 20, 2009</td>\n      <td>55 years, 169 daysJan 20, 2017</td>\n      <td>2 years, 175 days</td>\n      <td>(living)</td>\n      <td>57 years, 344 days</td>\n      <td>Barack</td>\n      <td>Obama</td>\n    </tr>\n  </tbody>\n</table>\n</div>"
     },
     "execution_count": 277,
     "metadata": {},
     "output_type": "execute_result"
    }
   ],
   "source": [
    "df['Born'] = pd.to_datetime(df['Born'])\n",
    "df"
   ],
   "metadata": {
    "collapsed": false,
    "pycharm": {
     "name": "#%%\n"
    }
   }
  },
  {
   "cell_type": "code",
   "execution_count": 279,
   "outputs": [],
   "source": [
    "sdata = {'Ohio': 35000, 'Texas': 71000, 'Oregon': 16000, 'Utah': 5000}\n",
    "obj1 = pd.Series(sdata)\n",
    "states = ['California', 'Ohio', 'Oregon', 'Texas']\n",
    "obj2 = pd.Series(sdata, index=states)\n",
    "obj3 = pd.isnull(obj2)"
   ],
   "metadata": {
    "collapsed": false,
    "pycharm": {
     "name": "#%%\n"
    }
   }
  },
  {
   "cell_type": "code",
   "execution_count": 283,
   "outputs": [
    {
     "data": {
      "text/plain": "California        NaN\nOhio          35000.0\nOregon        16000.0\nTexas         71000.0\ndtype: float64"
     },
     "execution_count": 283,
     "metadata": {},
     "output_type": "execute_result"
    }
   ],
   "source": [
    "obj2"
   ],
   "metadata": {
    "collapsed": false,
    "pycharm": {
     "name": "#%%\n"
    }
   }
  }
 ],
 "metadata": {
  "kernelspec": {
   "display_name": "Python 3",
   "language": "python",
   "name": "python3"
  },
  "language_info": {
   "codemirror_mode": {
    "name": "ipython",
    "version": 2
   },
   "file_extension": ".py",
   "mimetype": "text/x-python",
   "name": "python",
   "nbconvert_exporter": "python",
   "pygments_lexer": "ipython2",
   "version": "2.7.6"
  }
 },
 "nbformat": 4,
 "nbformat_minor": 0
}