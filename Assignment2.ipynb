{
 "cells": [
  {
   "cell_type": "markdown",
   "metadata": {
    "collapsed": true,
    "pycharm": {
     "name": "#%% md\n"
    }
   },
   "source": [
    "## Assignment 2\n",
    "For this assignment you'll be looking at 2017 data on immunizations from the CDC.\n",
    "\n",
    "Your datafile for this assignment is in assets/NISPUF17.csv.\n",
    "\n",
    "A data users guide for this, which you'll need to map the variables in the data to the questions being asked, is available at assets/NIS-PUF17-DUG.pdf."
   ]
  },
  {
   "cell_type": "markdown",
   "source": [
    "## Question 1\n",
    "Write a function called `proportion_of_education` which returns the proportion of children in the\n",
    "dataset who had a mother with the education levels equal to less than high school (<12), high school (12),\n",
    "more than high school but not a college graduate (>12) and college degree.\n",
    "\n",
    "*This function should return a dictionary in the form of (use the correct numbers, do not round numbers):*\n",
    "```\n",
    "    {\"less than high school\":0.2,\n",
    "    \"high school\":0.4,\n",
    "    \"more than high school but not college\":0.2,\n",
    "    \"college\":0.2}\n",
    "```"
   ],
   "metadata": {
    "collapsed": false,
    "pycharm": {
     "name": "#%% md\n"
    }
   }
  },
  {
   "cell_type": "code",
   "execution_count": 23,
   "outputs": [
    {
     "data": {
      "text/plain": "   EDUC1  Proportion\n4  13656    0.479747\n3   6999    0.245881\n2   4906    0.172352\n1   2904    0.102020",
      "text/html": "<div>\n<style scoped>\n    .dataframe tbody tr th:only-of-type {\n        vertical-align: middle;\n    }\n\n    .dataframe tbody tr th {\n        vertical-align: top;\n    }\n\n    .dataframe thead th {\n        text-align: right;\n    }\n</style>\n<table border=\"1\" class=\"dataframe\">\n  <thead>\n    <tr style=\"text-align: right;\">\n      <th></th>\n      <th>EDUC1</th>\n      <th>Proportion</th>\n    </tr>\n  </thead>\n  <tbody>\n    <tr>\n      <th>4</th>\n      <td>13656</td>\n      <td>0.479747</td>\n    </tr>\n    <tr>\n      <th>3</th>\n      <td>6999</td>\n      <td>0.245881</td>\n    </tr>\n    <tr>\n      <th>2</th>\n      <td>4906</td>\n      <td>0.172352</td>\n    </tr>\n    <tr>\n      <th>1</th>\n      <td>2904</td>\n      <td>0.102020</td>\n    </tr>\n  </tbody>\n</table>\n</div>"
     },
     "execution_count": 23,
     "metadata": {},
     "output_type": "execute_result"
    }
   ],
   "source": [
    "import pandas as pd\n",
    "\n",
    "ds = pd.read_csv('assets/NISPUF17.csv', index_col=0)\n",
    "ds = ds['EDUC1']\n",
    "rows = ds.count()\n",
    "counts = pd.DataFrame(ds.value_counts())\n",
    "counts['Proportion'] = counts['EDUC1'] / rows\n",
    "counts\n"
   ],
   "metadata": {
    "collapsed": false,
    "pycharm": {
     "name": "#%%\n"
    }
   }
  },
  {
   "cell_type": "code",
   "execution_count": 24,
   "outputs": [],
   "source": [
    "def proportion_of_education():\n",
    "    ds = pd.read_csv('assets/NISPUF17.csv', index_col=0)\n",
    "    ds = ds['EDUC1']\n",
    "    rows = ds.count()\n",
    "    counts = pd.DataFrame(ds.value_counts())\n",
    "    counts['Proportion'] = counts['EDUC1'] / rows\n",
    "\n",
    "    return {\n",
    "        'less than high school': counts.loc[1]['Proportion'],\n",
    "        'high school': counts.loc[2]['Proportion'],\n",
    "        'more than high school but not college': counts.loc[3]['Proportion'],\n",
    "        'college': counts.loc[4]['Proportion']\n",
    "    }"
   ],
   "metadata": {
    "collapsed": false,
    "pycharm": {
     "name": "#%%\n"
    }
   }
  },
  {
   "cell_type": "code",
   "execution_count": 22,
   "outputs": [
    {
     "data": {
      "text/plain": "{'less than high school': 0.10202002459160373,\n 'high school': 0.172352011241876,\n 'more than high school but not college': 0.24588090637625154,\n 'college': 0.47974705779026877}"
     },
     "execution_count": 22,
     "metadata": {},
     "output_type": "execute_result"
    }
   ],
   "source": [
    "proportion_of_education()"
   ],
   "metadata": {
    "collapsed": false,
    "pycharm": {
     "name": "#%%\n"
    }
   }
  },
  {
   "cell_type": "code",
   "execution_count": 25,
   "outputs": [],
   "source": [
    "assert type(proportion_of_education())==type({}), \"You must return a dictionary.\"\n",
    "assert len(proportion_of_education()) == 4, \"You have not returned a dictionary with four items in it.\"\n",
    "assert \"less than high school\" in proportion_of_education().keys(), \"You have not returned a dictionary with the correct keys.\"\n",
    "assert \"high school\" in proportion_of_education().keys(), \"You have not returned a dictionary with the correct keys.\"\n",
    "assert \"more than high school but not college\" in proportion_of_education().keys(), \"You have not returned a dictionary with the correct keys.\"\n",
    "assert \"college\" in proportion_of_education().keys(), \"You have not returned a dictionary with the correct keys.\""
   ],
   "metadata": {
    "collapsed": false,
    "pycharm": {
     "name": "#%%\n"
    }
   }
  },
  {
   "cell_type": "markdown",
   "source": [
    "## Question 2\n",
    "\n",
    "Let's explore the relationship between being fed breastmilk as a child and getting a seasonal influenza\n",
    " vaccine from a healthcare provider.\n",
    "\n",
    "Return a tuple of the average number of influenza vaccines for those children we know received breastmilk\n",
    "as a child and those who know did not.\n",
    "\n",
    "*This function should return a tuple in the form (use the correct numbers:*\n",
    "```\n",
    "(2.5, 0.1)\n",
    "```"
   ],
   "metadata": {
    "collapsed": false,
    "pycharm": {
     "name": "#%% md\n"
    }
   }
  },
  {
   "cell_type": "code",
   "execution_count": 48,
   "outputs": [
    {
     "data": {
      "text/plain": "               Vaccines\nBreastfeeding          \n1                   0.0\n1                   0.0\n1                   2.0\n1                   2.0\n1                   2.0\n...                 ...\n2                   4.0\n2                   2.0\n2                   0.0\n2                   2.0\n2                   3.0\n\n[15288 rows x 1 columns]",
      "text/html": "<div>\n<style scoped>\n    .dataframe tbody tr th:only-of-type {\n        vertical-align: middle;\n    }\n\n    .dataframe tbody tr th {\n        vertical-align: top;\n    }\n\n    .dataframe thead th {\n        text-align: right;\n    }\n</style>\n<table border=\"1\" class=\"dataframe\">\n  <thead>\n    <tr style=\"text-align: right;\">\n      <th></th>\n      <th>Vaccines</th>\n    </tr>\n    <tr>\n      <th>Breastfeeding</th>\n      <th></th>\n    </tr>\n  </thead>\n  <tbody>\n    <tr>\n      <th>1</th>\n      <td>0.0</td>\n    </tr>\n    <tr>\n      <th>1</th>\n      <td>0.0</td>\n    </tr>\n    <tr>\n      <th>1</th>\n      <td>2.0</td>\n    </tr>\n    <tr>\n      <th>1</th>\n      <td>2.0</td>\n    </tr>\n    <tr>\n      <th>1</th>\n      <td>2.0</td>\n    </tr>\n    <tr>\n      <th>...</th>\n      <td>...</td>\n    </tr>\n    <tr>\n      <th>2</th>\n      <td>4.0</td>\n    </tr>\n    <tr>\n      <th>2</th>\n      <td>2.0</td>\n    </tr>\n    <tr>\n      <th>2</th>\n      <td>0.0</td>\n    </tr>\n    <tr>\n      <th>2</th>\n      <td>2.0</td>\n    </tr>\n    <tr>\n      <th>2</th>\n      <td>3.0</td>\n    </tr>\n  </tbody>\n</table>\n<p>15288 rows × 1 columns</p>\n</div>"
     },
     "execution_count": 48,
     "metadata": {},
     "output_type": "execute_result"
    }
   ],
   "source": [
    "ds = pd.read_csv('assets/NISPUF17.csv')\n",
    "\n",
    "#CBF_01 - 1 = Yes, 2 = No\n",
    "ds.rename(columns = {'CBF_01': 'Breastfeeding', 'P_NUMFLU': 'Vaccines'}, inplace=True)\n",
    "\n",
    "# Filter out those who we do not know were breastfed or not\n",
    "ds = ds[ds['Breastfeeding'] <= 2]\n",
    "\n",
    "ds = ds[['Breastfeeding', 'Vaccines']]\n",
    "ds = ds.dropna()\n",
    "\n",
    "ds = ds.set_index('Breastfeeding').sort_index()\n",
    "ds"
   ],
   "metadata": {
    "collapsed": false,
    "pycharm": {
     "name": "#%%\n"
    }
   }
  },
  {
   "cell_type": "code",
   "execution_count": 62,
   "outputs": [],
   "source": [
    "avg = ds.groupby(level='Breastfeeding').mean()"
   ],
   "metadata": {
    "collapsed": false,
    "pycharm": {
     "name": "#%%\n"
    }
   }
  },
  {
   "cell_type": "code",
   "execution_count": 64,
   "outputs": [
    {
     "data": {
      "text/plain": "1.8799187420058687"
     },
     "execution_count": 64,
     "metadata": {},
     "output_type": "execute_result"
    }
   ],
   "source": [
    "avg.loc[1, 'Vaccines']"
   ],
   "metadata": {
    "collapsed": false,
    "pycharm": {
     "name": "#%%\n"
    }
   }
  },
  {
   "cell_type": "code",
   "execution_count": 67,
   "outputs": [],
   "source": [
    "def average_influenza_doses():\n",
    "    df = pd.read_csv('assets/NISPUF17.csv')\n",
    "\n",
    "    #CBF_01 - 1 = Yes, 2 = No\n",
    "    df.rename(columns = {'CBF_01': 'Breastfeeding', 'P_NUMFLU': 'Vaccines'}, inplace=True)\n",
    "\n",
    "    # Filter out those who we do not know were breastfed or not\n",
    "    df = df[df['Breastfeeding'] <= 2]\n",
    "\n",
    "    df = df[['Breastfeeding', 'Vaccines']]\n",
    "    df = df.dropna()\n",
    "\n",
    "    df = df.set_index('Breastfeeding').sort_index()\n",
    "    avg = df.groupby(level='Breastfeeding').mean()\n",
    "\n",
    "    return avg.loc[1, 'Vaccines'], avg.loc[2, 'Vaccines']"
   ],
   "metadata": {
    "collapsed": false,
    "pycharm": {
     "name": "#%%\n"
    }
   }
  },
  {
   "cell_type": "code",
   "execution_count": 68,
   "outputs": [
    {
     "data": {
      "text/plain": "(1.8799187420058687, 1.5963945918878317)"
     },
     "execution_count": 68,
     "metadata": {},
     "output_type": "execute_result"
    }
   ],
   "source": [
    "average_influenza_doses()"
   ],
   "metadata": {
    "collapsed": false,
    "pycharm": {
     "name": "#%%\n"
    }
   }
  },
  {
   "cell_type": "code",
   "execution_count": null,
   "outputs": [],
   "source": [
    "assert len(average_influenza_doses())==2, \"Return two values in a tuple, the first for yes and the second for no.\""
   ],
   "metadata": {
    "collapsed": false,
    "pycharm": {
     "name": "#%%\n"
    }
   }
  }
 ],
 "metadata": {
  "kernelspec": {
   "display_name": "Python 3",
   "language": "python",
   "name": "python3"
  },
  "language_info": {
   "codemirror_mode": {
    "name": "ipython",
    "version": 2
   },
   "file_extension": ".py",
   "mimetype": "text/x-python",
   "name": "python",
   "nbconvert_exporter": "python",
   "pygments_lexer": "ipython2",
   "version": "2.7.6"
  }
 },
 "nbformat": 4,
 "nbformat_minor": 0
}