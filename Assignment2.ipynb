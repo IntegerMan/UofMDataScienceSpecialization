{
 "cells": [
  {
   "cell_type": "markdown",
   "metadata": {
    "collapsed": true,
    "pycharm": {
     "name": "#%% md\n"
    }
   },
   "source": [
    "## Assignment 2\n",
    "For this assignment you'll be looking at 2017 data on immunizations from the CDC.\n",
    "\n",
    "Your datafile for this assignment is in assets/NISPUF17.csv.\n",
    "\n",
    "A data users guide for this, which you'll need to map the variables in the data to the questions being asked, is available at assets/NIS-PUF17-DUG.pdf."
   ]
  },
  {
   "cell_type": "markdown",
   "source": [
    "## Question 1\n",
    "Write a function called `proportion_of_education` which returns the proportion of children in the\n",
    "dataset who had a mother with the education levels equal to less than high school (<12), high school (12),\n",
    "more than high school but not a college graduate (>12) and college degree.\n",
    "\n",
    "*This function should return a dictionary in the form of (use the correct numbers, do not round numbers):*\n",
    "```\n",
    "    {\"less than high school\":0.2,\n",
    "    \"high school\":0.4,\n",
    "    \"more than high school but not college\":0.2,\n",
    "    \"college\":0.2}\n",
    "```"
   ],
   "metadata": {
    "collapsed": false,
    "pycharm": {
     "name": "#%% md\n"
    }
   }
  },
  {
   "cell_type": "code",
   "execution_count": 23,
   "outputs": [
    {
     "data": {
      "text/plain": "   EDUC1  Proportion\n4  13656    0.479747\n3   6999    0.245881\n2   4906    0.172352\n1   2904    0.102020",
      "text/html": "<div>\n<style scoped>\n    .dataframe tbody tr th:only-of-type {\n        vertical-align: middle;\n    }\n\n    .dataframe tbody tr th {\n        vertical-align: top;\n    }\n\n    .dataframe thead th {\n        text-align: right;\n    }\n</style>\n<table border=\"1\" class=\"dataframe\">\n  <thead>\n    <tr style=\"text-align: right;\">\n      <th></th>\n      <th>EDUC1</th>\n      <th>Proportion</th>\n    </tr>\n  </thead>\n  <tbody>\n    <tr>\n      <th>4</th>\n      <td>13656</td>\n      <td>0.479747</td>\n    </tr>\n    <tr>\n      <th>3</th>\n      <td>6999</td>\n      <td>0.245881</td>\n    </tr>\n    <tr>\n      <th>2</th>\n      <td>4906</td>\n      <td>0.172352</td>\n    </tr>\n    <tr>\n      <th>1</th>\n      <td>2904</td>\n      <td>0.102020</td>\n    </tr>\n  </tbody>\n</table>\n</div>"
     },
     "execution_count": 23,
     "metadata": {},
     "output_type": "execute_result"
    }
   ],
   "source": [
    "import pandas as pd\n",
    "\n",
    "ds = pd.read_csv('assets/NISPUF17.csv', index_col=0)\n",
    "ds = ds['EDUC1']\n",
    "rows = ds.count()\n",
    "counts = pd.DataFrame(ds.value_counts())\n",
    "counts['Proportion'] = counts['EDUC1'] / rows\n",
    "counts\n"
   ],
   "metadata": {
    "collapsed": false,
    "pycharm": {
     "name": "#%%\n"
    }
   }
  },
  {
   "cell_type": "code",
   "execution_count": 24,
   "outputs": [],
   "source": [
    "def proportion_of_education():\n",
    "    ds = pd.read_csv('assets/NISPUF17.csv', index_col=0)\n",
    "    ds = ds['EDUC1']\n",
    "    rows = ds.count()\n",
    "    counts = pd.DataFrame(ds.value_counts())\n",
    "    counts['Proportion'] = counts['EDUC1'] / rows\n",
    "\n",
    "    return {\n",
    "        'less than high school': counts.loc[1]['Proportion'],\n",
    "        'high school': counts.loc[2]['Proportion'],\n",
    "        'more than high school but not college': counts.loc[3]['Proportion'],\n",
    "        'college': counts.loc[4]['Proportion']\n",
    "    }"
   ],
   "metadata": {
    "collapsed": false,
    "pycharm": {
     "name": "#%%\n"
    }
   }
  },
  {
   "cell_type": "code",
   "execution_count": 22,
   "outputs": [
    {
     "data": {
      "text/plain": "{'less than high school': 0.10202002459160373,\n 'high school': 0.172352011241876,\n 'more than high school but not college': 0.24588090637625154,\n 'college': 0.47974705779026877}"
     },
     "execution_count": 22,
     "metadata": {},
     "output_type": "execute_result"
    }
   ],
   "source": [
    "proportion_of_education()"
   ],
   "metadata": {
    "collapsed": false,
    "pycharm": {
     "name": "#%%\n"
    }
   }
  },
  {
   "cell_type": "code",
   "execution_count": 25,
   "outputs": [],
   "source": [
    "assert type(proportion_of_education())==type({}), \"You must return a dictionary.\"\n",
    "assert len(proportion_of_education()) == 4, \"You have not returned a dictionary with four items in it.\"\n",
    "assert \"less than high school\" in proportion_of_education().keys(), \"You have not returned a dictionary with the correct keys.\"\n",
    "assert \"high school\" in proportion_of_education().keys(), \"You have not returned a dictionary with the correct keys.\"\n",
    "assert \"more than high school but not college\" in proportion_of_education().keys(), \"You have not returned a dictionary with the correct keys.\"\n",
    "assert \"college\" in proportion_of_education().keys(), \"You have not returned a dictionary with the correct keys.\""
   ],
   "metadata": {
    "collapsed": false,
    "pycharm": {
     "name": "#%%\n"
    }
   }
  },
  {
   "cell_type": "markdown",
   "source": [
    "## Question 2\n",
    "\n",
    "Let's explore the relationship between being fed breastmilk as a child and getting a seasonal influenza\n",
    " vaccine from a healthcare provider.\n",
    "\n",
    "Return a tuple of the average number of influenza vaccines for those children we know received breastmilk\n",
    "as a child and those who know did not.\n",
    "\n",
    "*This function should return a tuple in the form (use the correct numbers:*\n",
    "```\n",
    "(2.5, 0.1)\n",
    "```"
   ],
   "metadata": {
    "collapsed": false,
    "pycharm": {
     "name": "#%% md\n"
    }
   }
  },
  {
   "cell_type": "code",
   "execution_count": 48,
   "outputs": [
    {
     "data": {
      "text/plain": "               Vaccines\nBreastfeeding          \n1                   0.0\n1                   0.0\n1                   2.0\n1                   2.0\n1                   2.0\n...                 ...\n2                   4.0\n2                   2.0\n2                   0.0\n2                   2.0\n2                   3.0\n\n[15288 rows x 1 columns]",
      "text/html": "<div>\n<style scoped>\n    .dataframe tbody tr th:only-of-type {\n        vertical-align: middle;\n    }\n\n    .dataframe tbody tr th {\n        vertical-align: top;\n    }\n\n    .dataframe thead th {\n        text-align: right;\n    }\n</style>\n<table border=\"1\" class=\"dataframe\">\n  <thead>\n    <tr style=\"text-align: right;\">\n      <th></th>\n      <th>Vaccines</th>\n    </tr>\n    <tr>\n      <th>Breastfeeding</th>\n      <th></th>\n    </tr>\n  </thead>\n  <tbody>\n    <tr>\n      <th>1</th>\n      <td>0.0</td>\n    </tr>\n    <tr>\n      <th>1</th>\n      <td>0.0</td>\n    </tr>\n    <tr>\n      <th>1</th>\n      <td>2.0</td>\n    </tr>\n    <tr>\n      <th>1</th>\n      <td>2.0</td>\n    </tr>\n    <tr>\n      <th>1</th>\n      <td>2.0</td>\n    </tr>\n    <tr>\n      <th>...</th>\n      <td>...</td>\n    </tr>\n    <tr>\n      <th>2</th>\n      <td>4.0</td>\n    </tr>\n    <tr>\n      <th>2</th>\n      <td>2.0</td>\n    </tr>\n    <tr>\n      <th>2</th>\n      <td>0.0</td>\n    </tr>\n    <tr>\n      <th>2</th>\n      <td>2.0</td>\n    </tr>\n    <tr>\n      <th>2</th>\n      <td>3.0</td>\n    </tr>\n  </tbody>\n</table>\n<p>15288 rows × 1 columns</p>\n</div>"
     },
     "execution_count": 48,
     "metadata": {},
     "output_type": "execute_result"
    }
   ],
   "source": [
    "ds = pd.read_csv('assets/NISPUF17.csv')\n",
    "\n",
    "#CBF_01 - 1 = Yes, 2 = No\n",
    "ds.rename(columns = {'CBF_01': 'Breastfeeding', 'P_NUMFLU': 'Vaccines'}, inplace=True)\n",
    "\n",
    "# Filter out those who we do not know were breastfed or not\n",
    "ds = ds[ds['Breastfeeding'] <= 2]\n",
    "\n",
    "ds = ds[['Breastfeeding', 'Vaccines']]\n",
    "ds = ds.dropna()\n",
    "\n",
    "ds = ds.set_index('Breastfeeding').sort_index()\n",
    "ds"
   ],
   "metadata": {
    "collapsed": false,
    "pycharm": {
     "name": "#%%\n"
    }
   }
  },
  {
   "cell_type": "code",
   "execution_count": 62,
   "outputs": [],
   "source": [
    "avg = ds.groupby(level='Breastfeeding').mean()"
   ],
   "metadata": {
    "collapsed": false,
    "pycharm": {
     "name": "#%%\n"
    }
   }
  },
  {
   "cell_type": "code",
   "execution_count": 64,
   "outputs": [
    {
     "data": {
      "text/plain": "1.8799187420058687"
     },
     "execution_count": 64,
     "metadata": {},
     "output_type": "execute_result"
    }
   ],
   "source": [
    "avg.loc[1, 'Vaccines']"
   ],
   "metadata": {
    "collapsed": false,
    "pycharm": {
     "name": "#%%\n"
    }
   }
  },
  {
   "cell_type": "code",
   "execution_count": 67,
   "outputs": [],
   "source": [
    "def average_influenza_doses():\n",
    "    df = pd.read_csv('assets/NISPUF17.csv')\n",
    "\n",
    "    #CBF_01 - 1 = Yes, 2 = No\n",
    "    df.rename(columns = {'CBF_01': 'Breastfeeding', 'P_NUMFLU': 'Vaccines'}, inplace=True)\n",
    "\n",
    "    # Filter out those who we do not know were breastfed or not\n",
    "    df = df[df['Breastfeeding'] <= 2]\n",
    "\n",
    "    df = df[['Breastfeeding', 'Vaccines']]\n",
    "    df = df.dropna()\n",
    "\n",
    "    df = df.set_index('Breastfeeding').sort_index()\n",
    "    avg = df.groupby(level='Breastfeeding').mean()\n",
    "\n",
    "    return avg.loc[1, 'Vaccines'], avg.loc[2, 'Vaccines']"
   ],
   "metadata": {
    "collapsed": false,
    "pycharm": {
     "name": "#%%\n"
    }
   }
  },
  {
   "cell_type": "code",
   "execution_count": 68,
   "outputs": [
    {
     "data": {
      "text/plain": "(1.8799187420058687, 1.5963945918878317)"
     },
     "execution_count": 68,
     "metadata": {},
     "output_type": "execute_result"
    }
   ],
   "source": [
    "average_influenza_doses()"
   ],
   "metadata": {
    "collapsed": false,
    "pycharm": {
     "name": "#%%\n"
    }
   }
  },
  {
   "cell_type": "code",
   "execution_count": null,
   "outputs": [],
   "source": [
    "assert len(average_influenza_doses())==2, \"Return two values in a tuple, the first for yes and the second for no.\""
   ],
   "metadata": {
    "collapsed": false,
    "pycharm": {
     "name": "#%%\n"
    }
   }
  },
  {
   "cell_type": "markdown",
   "source": [
    "## Question 3\n",
    "Calculate the ratio of the **number of children who contracted chickenpox but were vaccinated\n",
    " against it** versus those who were **vaccinated but did not contract chicken pox.** Return results by sex.\n",
    "\n",
    "*This function should return a dictionary in the form of (use the correct numbers):*\n",
    "```\n",
    "    {\"male\":0.2,\n",
    "    \"female\":0.4}\n",
    "```\n",
    "\n",
    "Note: To aid in verification, the `chickenpox_by_sex()['female']` value the autograder is looking for\n",
    "starts with the digits `0.0077`."
   ],
   "metadata": {
    "collapsed": false,
    "pycharm": {
     "name": "#%% md\n"
    }
   }
  },
  {
   "cell_type": "code",
   "execution_count": 92,
   "outputs": [
    {
     "data": {
      "text/plain": "              Count\nSEX HAD_CPOX       \n1   False         1\n    False         1\n    False         1\n    False         1\n    False         1\n...             ...\n2   True          1\n    True          1\n    True          1\n    True          1\n    True          1\n\n[13951 rows x 1 columns]",
      "text/html": "<div>\n<style scoped>\n    .dataframe tbody tr th:only-of-type {\n        vertical-align: middle;\n    }\n\n    .dataframe tbody tr th {\n        vertical-align: top;\n    }\n\n    .dataframe thead th {\n        text-align: right;\n    }\n</style>\n<table border=\"1\" class=\"dataframe\">\n  <thead>\n    <tr style=\"text-align: right;\">\n      <th></th>\n      <th></th>\n      <th>Count</th>\n    </tr>\n    <tr>\n      <th>SEX</th>\n      <th>HAD_CPOX</th>\n      <th></th>\n    </tr>\n  </thead>\n  <tbody>\n    <tr>\n      <th rowspan=\"5\" valign=\"top\">1</th>\n      <th>False</th>\n      <td>1</td>\n    </tr>\n    <tr>\n      <th>False</th>\n      <td>1</td>\n    </tr>\n    <tr>\n      <th>False</th>\n      <td>1</td>\n    </tr>\n    <tr>\n      <th>False</th>\n      <td>1</td>\n    </tr>\n    <tr>\n      <th>False</th>\n      <td>1</td>\n    </tr>\n    <tr>\n      <th>...</th>\n      <th>...</th>\n      <td>...</td>\n    </tr>\n    <tr>\n      <th rowspan=\"5\" valign=\"top\">2</th>\n      <th>True</th>\n      <td>1</td>\n    </tr>\n    <tr>\n      <th>True</th>\n      <td>1</td>\n    </tr>\n    <tr>\n      <th>True</th>\n      <td>1</td>\n    </tr>\n    <tr>\n      <th>True</th>\n      <td>1</td>\n    </tr>\n    <tr>\n      <th>True</th>\n      <td>1</td>\n    </tr>\n  </tbody>\n</table>\n<p>13951 rows × 1 columns</p>\n</div>"
     },
     "execution_count": 92,
     "metadata": {},
     "output_type": "execute_result"
    }
   ],
   "source": [
    "df = pd.read_csv('assets/NISPUF17.csv')\n",
    "\n",
    "#CBF_01 - 1 = Yes, 2 = No\n",
    "df.rename(columns = {'P_NUMVRC': 'Vaccines'}, inplace=True)\n",
    "df = df[df['HAD_CPOX'] <= 2] # Filter out unknown chickenpox values\n",
    "df = df[df['Vaccines'] > 0]\n",
    "df['HAD_CPOX'] = df['HAD_CPOX'] == 1\n",
    "df['Count'] = 1\n",
    "df = df[['SEX', 'HAD_CPOX', 'Count']] # 1 = Male, 2 = Female\n",
    "df = df.set_index(['SEX', 'HAD_CPOX']).sort_index()\n",
    "df"
   ],
   "metadata": {
    "collapsed": false,
    "pycharm": {
     "name": "#%%\n"
    }
   }
  },
  {
   "cell_type": "code",
   "execution_count": 99,
   "outputs": [
    {
     "data": {
      "text/plain": "              Count\nSEX HAD_CPOX       \n1   False      7028\n    True         68\n2   False      6802\n    True         53",
      "text/html": "<div>\n<style scoped>\n    .dataframe tbody tr th:only-of-type {\n        vertical-align: middle;\n    }\n\n    .dataframe tbody tr th {\n        vertical-align: top;\n    }\n\n    .dataframe thead th {\n        text-align: right;\n    }\n</style>\n<table border=\"1\" class=\"dataframe\">\n  <thead>\n    <tr style=\"text-align: right;\">\n      <th></th>\n      <th></th>\n      <th>Count</th>\n    </tr>\n    <tr>\n      <th>SEX</th>\n      <th>HAD_CPOX</th>\n      <th></th>\n    </tr>\n  </thead>\n  <tbody>\n    <tr>\n      <th rowspan=\"2\" valign=\"top\">1</th>\n      <th>False</th>\n      <td>7028</td>\n    </tr>\n    <tr>\n      <th>True</th>\n      <td>68</td>\n    </tr>\n    <tr>\n      <th rowspan=\"2\" valign=\"top\">2</th>\n      <th>False</th>\n      <td>6802</td>\n    </tr>\n    <tr>\n      <th>True</th>\n      <td>53</td>\n    </tr>\n  </tbody>\n</table>\n</div>"
     },
     "execution_count": 99,
     "metadata": {},
     "output_type": "execute_result"
    }
   ],
   "source": [
    "grp = df.groupby(['SEX','HAD_CPOX'])\n",
    "count = grp.count()\n",
    "count"
   ],
   "metadata": {
    "collapsed": false,
    "pycharm": {
     "name": "#%%\n"
    }
   }
  },
  {
   "cell_type": "code",
   "execution_count": 111,
   "outputs": [
    {
     "data": {
      "text/plain": "{'male': 0.009582863585118376, 'female': 0.007731582786287381}"
     },
     "execution_count": 111,
     "metadata": {},
     "output_type": "execute_result"
    }
   ],
   "source": [
    "mNone = count['Count'][1, False]\n",
    "mGot = count['Count'][1, True]\n",
    "mRatio = mGot / (mNone + mGot)\n",
    "fNone = count['Count'][2, False]\n",
    "fGot = count['Count'][2, True]\n",
    "fRatio = fGot / (fNone + fGot)\n",
    "ratio = {'male': mRatio, 'female': fRatio}\n",
    "ratio"
   ],
   "metadata": {
    "collapsed": false,
    "pycharm": {
     "name": "#%%\n"
    }
   }
  },
  {
   "cell_type": "code",
   "execution_count": 112,
   "outputs": [],
   "source": [
    "def chickenpox_by_sex():\n",
    "    # Load\n",
    "    df = pd.read_csv('assets/NISPUF17.csv')\n",
    "    df.rename(columns = {'P_NUMVRC': 'Vaccines'}, inplace=True)\n",
    "\n",
    "    # Filter\n",
    "    df = df[df['HAD_CPOX'] <= 2] # Filter out unknown chickenpox values\n",
    "    df = df[df['Vaccines'] > 0]\n",
    "\n",
    "    # Transform Columns\n",
    "    df['HAD_CPOX'] = df['HAD_CPOX'] == 1\n",
    "    df['Count'] = 1\n",
    "\n",
    "    # Form our data\n",
    "    df = df[['SEX', 'HAD_CPOX', 'Count']] # 1 = Male, 2 = Female\n",
    "    df = df.set_index(['SEX', 'HAD_CPOX']).sort_index()\n",
    "\n",
    "    # Collapse down to grouped counts\n",
    "    grp = df.groupby(['SEX','HAD_CPOX'])\n",
    "    count = grp.count()\n",
    "\n",
    "    # Male Ratio\n",
    "    mNone = count['Count'][1, False]\n",
    "    mGot = count['Count'][1, True]\n",
    "    mRatio = mGot / (mNone + mGot)\n",
    "\n",
    "    # Female Ratio\n",
    "    fNone = count['Count'][2, False]\n",
    "    fGot = count['Count'][2, True]\n",
    "    fRatio = fGot / (fNone + fGot)\n",
    "\n",
    "    return {'male': mRatio, 'female': fRatio}"
   ],
   "metadata": {
    "collapsed": false,
    "pycharm": {
     "name": "#%%\n"
    }
   }
  },
  {
   "cell_type": "code",
   "execution_count": 113,
   "outputs": [],
   "source": [
    "assert len(chickenpox_by_sex())==2, \"Return a dictionary with two items, the first for males and the second for females.\""
   ],
   "metadata": {
    "collapsed": false,
    "pycharm": {
     "name": "#%%\n"
    }
   }
  },
  {
   "cell_type": "markdown",
   "source": [
    "## Question 4\n",
    "A correlation is a statistical relationship between two variables. If we wanted to know if vaccines work, we\n",
    "might look at the correlation between the use of the vaccine and whether it results in prevention of the\n",
    "infection or disease [1]. In this question, you are to see if there is a correlation between having had the\n",
    "chicken pox and the number of chickenpox vaccine doses given (varicella).\n",
    "\n",
    "Some notes on interpreting the answer. The `had_chickenpox_column` is either `1` (for yes) or `2` (for no),\n",
    "and the `num_chickenpox_vaccine_column` is the number of doses a child has been given of the varicella\n",
    "vaccine. A positive correlation (e.g., `corr > 0`) means that an increase in `had_chickenpox_column`\n",
    "(which means more no’s) would also increase the values of `num_chickenpox_vaccine_column` (which means more\n",
    " doses of vaccine). If there is a negative correlation (e.g., `corr < 0`), it indicates that having had\n",
    " chickenpox is related to an increase in the number of vaccine doses.\n",
    "\n",
    "Also, `pval` is the probability that we observe a correlation between `had_chickenpox_column` and\n",
    "`num_chickenpox_vaccine_column` which is greater than or equal to a particular value occurred by chance.\n",
    "A small `pval` means that the observed correlation is highly unlikely to occur by chance. In this case,\n",
    " `pval` should be very small (will end in `e-18` indicating a very small number).\n",
    "\n",
    "[1] This isn’t really the full picture, since we are not looking at when the dose was given. It’s possible\n",
    "that children had chickenpox and then their parents went to get them the vaccine. Does this dataset have the\n",
    " data we would need to investigate the timing of the dose?"
   ],
   "metadata": {
    "collapsed": false,
    "pycharm": {
     "name": "#%% md\n"
    }
   }
  },
  {
   "cell_type": "code",
   "execution_count": 16,
   "outputs": [
    {
     "data": {
      "text/plain": "       Vaccines  CPOX_COUNT\n3           1.0         0.0\n4           0.0         0.0\n6           1.0         0.0\n7           0.0         0.0\n8           0.0         1.0\n...         ...         ...\n28446       1.0         0.0\n28447       1.0         0.0\n28449       1.0         0.0\n28452       1.0         0.0\n28454       1.0         0.0\n\n[15286 rows x 2 columns]",
      "text/html": "<div>\n<style scoped>\n    .dataframe tbody tr th:only-of-type {\n        vertical-align: middle;\n    }\n\n    .dataframe tbody tr th {\n        vertical-align: top;\n    }\n\n    .dataframe thead th {\n        text-align: right;\n    }\n</style>\n<table border=\"1\" class=\"dataframe\">\n  <thead>\n    <tr style=\"text-align: right;\">\n      <th></th>\n      <th>Vaccines</th>\n      <th>CPOX_COUNT</th>\n    </tr>\n  </thead>\n  <tbody>\n    <tr>\n      <th>3</th>\n      <td>1.0</td>\n      <td>0.0</td>\n    </tr>\n    <tr>\n      <th>4</th>\n      <td>0.0</td>\n      <td>0.0</td>\n    </tr>\n    <tr>\n      <th>6</th>\n      <td>1.0</td>\n      <td>0.0</td>\n    </tr>\n    <tr>\n      <th>7</th>\n      <td>0.0</td>\n      <td>0.0</td>\n    </tr>\n    <tr>\n      <th>8</th>\n      <td>0.0</td>\n      <td>1.0</td>\n    </tr>\n    <tr>\n      <th>...</th>\n      <td>...</td>\n      <td>...</td>\n    </tr>\n    <tr>\n      <th>28446</th>\n      <td>1.0</td>\n      <td>0.0</td>\n    </tr>\n    <tr>\n      <th>28447</th>\n      <td>1.0</td>\n      <td>0.0</td>\n    </tr>\n    <tr>\n      <th>28449</th>\n      <td>1.0</td>\n      <td>0.0</td>\n    </tr>\n    <tr>\n      <th>28452</th>\n      <td>1.0</td>\n      <td>0.0</td>\n    </tr>\n    <tr>\n      <th>28454</th>\n      <td>1.0</td>\n      <td>0.0</td>\n    </tr>\n  </tbody>\n</table>\n<p>15286 rows × 2 columns</p>\n</div>"
     },
     "execution_count": 16,
     "metadata": {},
     "output_type": "execute_result"
    }
   ],
   "source": [
    "import pandas as pd\n",
    "\n",
    "# Load\n",
    "df = pd.read_csv('assets/NISPUF17.csv')\n",
    "df.rename(columns = {'P_NUMVRC': 'Vaccines'}, inplace=True)\n",
    "\n",
    "# Filter\n",
    "df = df[df['HAD_CPOX'] <= 2] # Filter out unknown chickenpox values\n",
    "\n",
    "# Set Relevant Columns\n",
    "df = df[['HAD_CPOX', 'Vaccines']]\n",
    "df = df.dropna()\n",
    "\n",
    "# Engineer Columns\n",
    "def calcHadCPox(row):\n",
    "    hadCpox = row['HAD_CPOX']\n",
    "    if hadCpox == 1:\n",
    "        row['CPOX_COUNT'] = 1\n",
    "    else:\n",
    "        row['CPOX_COUNT'] = 0\n",
    "    return row\n",
    "df = df.apply(calcHadCPox, axis='columns')\n",
    "\n",
    "df = df[['Vaccines', 'CPOX_COUNT']]\n",
    "df"
   ],
   "metadata": {
    "collapsed": false,
    "pycharm": {
     "name": "#%%\n"
    }
   }
  },
  {
   "cell_type": "code",
   "execution_count": 19,
   "outputs": [
    {
     "data": {
      "text/plain": "Vaccines      14166.0\nCPOX_COUNT      173.0\ndtype: float64"
     },
     "execution_count": 19,
     "metadata": {},
     "output_type": "execute_result"
    }
   ],
   "source": [
    "total = df.sum()\n",
    "vaccines = total['Vaccines']\n",
    "cpoxCount = total['CPOX_COUNT']"
   ],
   "metadata": {
    "collapsed": false,
    "pycharm": {
     "name": "#%%\n"
    }
   }
  },
  {
   "cell_type": "code",
   "execution_count": 25,
   "outputs": [],
   "source": [
    "def corr_chickenpox():\n",
    "    import scipy.stats as stats\n",
    "    import numpy as np\n",
    "    import pandas as pd\n",
    "\n",
    "    # Load\n",
    "    df = pd.read_csv('assets/NISPUF17.csv')\n",
    "    df.rename(columns = {'P_NUMVRC': 'Vaccines'}, inplace=True)\n",
    "\n",
    "    # Filter\n",
    "    df = df[df['HAD_CPOX'] <= 2] # Filter out unknown chickenpox values\n",
    "\n",
    "    # Set Relevant Columns\n",
    "    df = df[['HAD_CPOX', 'Vaccines']]\n",
    "    df = df.dropna()\n",
    "\n",
    "    # Engineer Columns\n",
    "    def calcHadCPox(row):\n",
    "        hadCpox = row['HAD_CPOX']\n",
    "        if hadCpox == 1:\n",
    "            row['CPOX_COUNT'] = 1\n",
    "        else:\n",
    "            row['CPOX_COUNT'] = 0\n",
    "        return row\n",
    "    df = df.apply(calcHadCPox, axis='columns')\n",
    "\n",
    "    # here is some stub code to actually run the correlation\n",
    "    corr, pval=stats.pearsonr(df[\"CPOX_COUNT\"],df[\"Vaccines\"])\n",
    "\n",
    "    # just return the correlation\n",
    "    return corr"
   ],
   "metadata": {
    "collapsed": false,
    "pycharm": {
     "name": "#%%\n"
    }
   }
  },
  {
   "cell_type": "code",
   "execution_count": 26,
   "outputs": [
    {
     "data": {
      "text/plain": "-0.07044873460147978"
     },
     "execution_count": 26,
     "metadata": {},
     "output_type": "execute_result"
    }
   ],
   "source": [
    "corr_chickenpox()"
   ],
   "metadata": {
    "collapsed": false,
    "pycharm": {
     "name": "#%%\n"
    }
   }
  },
  {
   "cell_type": "code",
   "execution_count": 27,
   "outputs": [],
   "source": [
    "assert -1<=corr_chickenpox()<=1, \"You must return a float number between -1.0 and 1.0.\"\n"
   ],
   "metadata": {
    "collapsed": false,
    "pycharm": {
     "name": "#%%\n"
    }
   }
  }
 ],
 "metadata": {
  "kernelspec": {
   "display_name": "Python 3",
   "language": "python",
   "name": "python3"
  },
  "language_info": {
   "codemirror_mode": {
    "name": "ipython",
    "version": 2
   },
   "file_extension": ".py",
   "mimetype": "text/x-python",
   "name": "python",
   "nbconvert_exporter": "python",
   "pygments_lexer": "ipython2",
   "version": "2.7.6"
  }
 },
 "nbformat": 4,
 "nbformat_minor": 0
}